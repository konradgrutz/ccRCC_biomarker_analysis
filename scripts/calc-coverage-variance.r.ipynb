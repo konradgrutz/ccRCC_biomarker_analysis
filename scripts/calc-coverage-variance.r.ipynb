{
 "cells": [
  {
   "cell_type": "code",
   "execution_count": null,
   "id": "0419af30",
   "metadata": {},
   "outputs": [],
   "source": [
    "# calculate coverage variance for each sample\n",
    "#  to decide which sample to keep in discovery cohort"
   ]
  },
  {
   "cell_type": "code",
   "execution_count": null,
   "id": "2572587b",
   "metadata": {},
   "outputs": [],
   "source": [
    "library(GenomicRanges)\n",
    "library(parallel)"
   ]
  },
  {
   "cell_type": "code",
   "execution_count": null,
   "id": "8d901e71",
   "metadata": {},
   "outputs": [],
   "source": [
    "setwd(\"..\")"
   ]
  },
  {
   "cell_type": "markdown",
   "id": "81952a3a",
   "metadata": {},
   "source": [
    "### bam files and sample names"
   ]
  },
  {
   "cell_type": "code",
   "execution_count": null,
   "id": "cd98e2fa",
   "metadata": {
    "scrolled": true
   },
   "outputs": [],
   "source": [
    "bamFiles = list.files(path = \"data/star/\", pattern = \"Aligned.sortedByCoord.out-uniqMap25M10percIDS.bam\", \n",
    "                      full.names = T, recursive = T, include.dirs = T)\n",
    "bamFiles = grep(\"bam$\",bamFiles,value=T)\n",
    "length(bamFiles)\n",
    "bamFiles"
   ]
  },
  {
   "cell_type": "code",
   "execution_count": null,
   "id": "f86dfecd",
   "metadata": {},
   "outputs": [],
   "source": [
    "sampleNames = gsub(\".*(SXR\\\\d+).+\",\"\\\\1\",bamFiles)\n",
    "length(sampleNames)\n",
    "sampleNames"
   ]
  },
  {
   "cell_type": "code",
   "execution_count": null,
   "id": "bc796dc9",
   "metadata": {},
   "outputs": [],
   "source": [
    "# dissect chromosomes into equally sized (1Mb) tiles :\n",
    "chrTileSize = 1e+6 # how big the slices of chr should be\n",
    "chrSizes = read.csv(file = \"annotation/hg19.chrom.sizes\",header = F,sep = \"\\t\",\n",
    "                     stringsAsFactors = F, col.names = c(\"chr\",\"size\"))\n",
    "chrSizes = chrSizes[chrSizes$chr %in% paste0(\"chr\",c(1:22,\"X\")),]\n",
    "o = order(as.numeric(substr(chrSizes$chr,start = 4,5)))\n",
    "chrSizes = chrSizes[o,]\n",
    "tmp = chrSizes$chr; chrSizes = chrSizes$size; names(chrSizes) = tmp"
   ]
  },
  {
   "cell_type": "code",
   "execution_count": null,
   "id": "9b8d36de",
   "metadata": {},
   "outputs": [],
   "source": [
    "chrTilesGR = tileGenome(chrSizes, tilewidth=chrTileSize,cut.last.tile.in.chrom=T)\n",
    "chrTilesGR\n",
    "chrTilesDF = as.data.frame(chrTilesGR)"
   ]
  },
  {
   "cell_type": "code",
   "execution_count": null,
   "id": "7af73911",
   "metadata": {},
   "outputs": [],
   "source": [
    "write.table(x = chrTilesDF[,1:3],file = \"coverage-variance-chromosome-tiles.bed\",\n",
    "            quote = F,sep = \"\\t\",row.names = F,col.names = F)"
   ]
  },
  {
   "cell_type": "code",
   "execution_count": null,
   "id": "1a7874d9",
   "metadata": {},
   "outputs": [],
   "source": [
    "countOnefile = function(bamFile) {\n",
    "  system(command = paste0(\"samtools bedcov coverage-variance-chromosome-tiles.bed \",bamFile),intern = T)\n",
    "}"
   ]
  },
  {
   "cell_type": "code",
   "execution_count": null,
   "id": "6fd8de53",
   "metadata": {},
   "outputs": [],
   "source": [
    "nbCPUs = 20\n",
    "results = mclapply(bamFiles, countOnefile, mc.cores = nbCPUs)"
   ]
  },
  {
   "cell_type": "code",
   "execution_count": null,
   "id": "48023dcc",
   "metadata": {},
   "outputs": [],
   "source": [
    "length(results[[1]])"
   ]
  },
  {
   "cell_type": "code",
   "execution_count": null,
   "id": "13a3ec2d",
   "metadata": {
    "scrolled": true
   },
   "outputs": [],
   "source": [
    "sapply(results,head,3)"
   ]
  },
  {
   "cell_type": "code",
   "execution_count": null,
   "id": "959b9d2d",
   "metadata": {},
   "outputs": [],
   "source": [
    "resultsMat = sapply(results, function(res) as.numeric(matrix(unlist(strsplit(res, \"\\t\",fixed=T) ),ncol=4,byrow=T)[,4]))\n",
    "head(resultsMat)\n",
    "dim(resultsMat)"
   ]
  },
  {
   "cell_type": "code",
   "execution_count": null,
   "id": "aa9e3ed8",
   "metadata": {},
   "outputs": [],
   "source": [
    "resultsDF = data.frame(sample=as.vector(sapply(sampleNames,rep,nrow(resultsMat))),\n",
    "           coverage=matrix(data = resultsMat,ncol = 1,byrow = T),\n",
    "           chr=rep(chrTilesDF$seqnames,ncol(resultsMat)),\n",
    "           pos=rep(chrTilesDF$start,ncol(resultsMat)) )\n",
    "tail(resultsDF)"
   ]
  },
  {
   "cell_type": "code",
   "execution_count": null,
   "id": "27b23452",
   "metadata": {},
   "outputs": [],
   "source": [
    "# for each sample, calc sd, variance, inter-quatile range of coverage for each chromosome\n",
    "variances = data.frame(matrix(data = 0, nrow = length(sampleNames),ncol=4,\n",
    "                               dimnames = c(list(sampleNames),list(c(\"var\",\"sd\",\"iqr\",\"mean\")))) )\n",
    "#head(variances)\n",
    "for (sample in sampleNames) {\n",
    "  var = 0; sd = 0; iqr = 0; mean = 0 # average over all chromosomes\n",
    "  for (chr in unique(resultsDF$chr)) {\n",
    "    dat = resultsDF[resultsDF$sample==sample & resultsDF$chr == chr, \"coverage\"]\n",
    "    var = c(var,var(dat))\n",
    "    sd = c(sd,sd(dat))\n",
    "    iqr = c(iqr,IQR(dat))\n",
    "    mean = c(mean,mean(dat))\n",
    "  }\n",
    "  variances[sample,\"var\"] = median(var)\n",
    "  variances[sample,\"sd\"] = median(sd)\n",
    "  variances[sample,\"iqr\"] = median(iqr)\n",
    "  variances[sample,\"mean\"] = median(mean)\n",
    "}\n",
    "variances$sd_per_mean <- variances$sd / variances$mean\n",
    "head(variances)"
   ]
  },
  {
   "cell_type": "code",
   "execution_count": null,
   "id": "f49137f9",
   "metadata": {},
   "outputs": [],
   "source": [
    "write.table(x = data.frame(IDs = rownames(variances),sd_mean = variances[,5]),\n",
    "            file = \"coverage-variance.csv\", quote = F,sep = \"\\t\", row.names = F)"
   ]
  }
 ],
 "metadata": {
  "kernelspec": {
   "display_name": "R",
   "language": "R",
   "name": "ir"
  },
  "language_info": {
   "codemirror_mode": "r",
   "file_extension": ".r",
   "mimetype": "text/x-r-source",
   "name": "R",
   "pygments_lexer": "r",
   "version": "4.2.0"
  }
 },
 "nbformat": 4,
 "nbformat_minor": 5
}
