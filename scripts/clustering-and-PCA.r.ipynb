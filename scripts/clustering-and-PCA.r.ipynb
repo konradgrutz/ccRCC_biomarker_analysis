{
 "cells": [
  {
   "cell_type": "code",
   "execution_count": 2,
   "id": "productive-burlington",
   "metadata": {
    "scrolled": true
   },
   "outputs": [
    {
     "name": "stderr",
     "output_type": "stream",
     "text": [
      "Warning message:\n",
      "“package ‘ComplexHeatmap’ was built under R version 4.2.1”\n",
      "Loading required package: grid\n",
      "\n",
      "========================================\n",
      "ComplexHeatmap version 2.14.0\n",
      "Bioconductor page: http://bioconductor.org/packages/ComplexHeatmap/\n",
      "Github page: https://github.com/jokergoo/ComplexHeatmap\n",
      "Documentation: http://jokergoo.github.io/ComplexHeatmap-reference\n",
      "\n",
      "If you use it in published research, please cite either one:\n",
      "- Gu, Z. Complex Heatmap Visualization. iMeta 2022.\n",
      "- Gu, Z. Complex heatmaps reveal patterns and correlations in multidimensional \n",
      "    genomic data. Bioinformatics 2016.\n",
      "\n",
      "\n",
      "The new InteractiveComplexHeatmap package can directly export static \n",
      "complex heatmaps into an interactive Shiny app with zero effort. Have a try!\n",
      "\n",
      "This message can be suppressed by:\n",
      "  suppressPackageStartupMessages(library(ComplexHeatmap))\n",
      "========================================\n",
      "\n",
      "\n",
      "Warning message:\n",
      "“package ‘ggplot2’ was built under R version 4.2.3”\n",
      "Warning message:\n",
      "“package ‘xlsx’ was built under R version 4.2.3”\n",
      "Warning message:\n",
      "“package ‘DESeq2’ was built under R version 4.2.3”\n",
      "Loading required package: S4Vectors\n",
      "\n",
      "Warning message:\n",
      "“package ‘S4Vectors’ was built under R version 4.2.3”\n",
      "Loading required package: stats4\n",
      "\n",
      "Loading required package: BiocGenerics\n",
      "\n",
      "Warning message:\n",
      "“package ‘BiocGenerics’ was built under R version 4.2.1”\n",
      "\n",
      "Attaching package: ‘BiocGenerics’\n",
      "\n",
      "\n",
      "The following objects are masked from ‘package:stats’:\n",
      "\n",
      "    IQR, mad, sd, var, xtabs\n",
      "\n",
      "\n",
      "The following objects are masked from ‘package:base’:\n",
      "\n",
      "    anyDuplicated, aperm, append, as.data.frame, basename, cbind,\n",
      "    colnames, dirname, do.call, duplicated, eval, evalq, Filter, Find,\n",
      "    get, grep, grepl, intersect, is.unsorted, lapply, Map, mapply,\n",
      "    match, mget, order, paste, pmax, pmax.int, pmin, pmin.int,\n",
      "    Position, rank, rbind, Reduce, rownames, sapply, setdiff, sort,\n",
      "    table, tapply, union, unique, unsplit, which.max, which.min\n",
      "\n",
      "\n",
      "\n",
      "Attaching package: ‘S4Vectors’\n",
      "\n",
      "\n",
      "The following objects are masked from ‘package:base’:\n",
      "\n",
      "    expand.grid, I, unname\n",
      "\n",
      "\n",
      "Loading required package: IRanges\n",
      "\n",
      "Warning message:\n",
      "“package ‘IRanges’ was built under R version 4.2.3”\n",
      "Loading required package: GenomicRanges\n",
      "\n",
      "Warning message:\n",
      "“package ‘GenomicRanges’ was built under R version 4.2.3”\n",
      "Loading required package: GenomeInfoDb\n",
      "\n",
      "Warning message:\n",
      "“package ‘GenomeInfoDb’ was built under R version 4.2.3”\n",
      "Loading required package: SummarizedExperiment\n",
      "\n",
      "Warning message:\n",
      "“package ‘SummarizedExperiment’ was built under R version 4.2.2”\n",
      "Loading required package: MatrixGenerics\n",
      "\n",
      "Warning message:\n",
      "“package ‘MatrixGenerics’ was built under R version 4.2.1”\n",
      "Loading required package: matrixStats\n",
      "\n",
      "Warning message:\n",
      "“package ‘matrixStats’ was built under R version 4.2.3”\n",
      "\n",
      "Attaching package: ‘MatrixGenerics’\n",
      "\n",
      "\n",
      "The following objects are masked from ‘package:matrixStats’:\n",
      "\n",
      "    colAlls, colAnyNAs, colAnys, colAvgsPerRowSet, colCollapse,\n",
      "    colCounts, colCummaxs, colCummins, colCumprods, colCumsums,\n",
      "    colDiffs, colIQRDiffs, colIQRs, colLogSumExps, colMadDiffs,\n",
      "    colMads, colMaxs, colMeans2, colMedians, colMins, colOrderStats,\n",
      "    colProds, colQuantiles, colRanges, colRanks, colSdDiffs, colSds,\n",
      "    colSums2, colTabulates, colVarDiffs, colVars, colWeightedMads,\n",
      "    colWeightedMeans, colWeightedMedians, colWeightedSds,\n",
      "    colWeightedVars, rowAlls, rowAnyNAs, rowAnys, rowAvgsPerColSet,\n",
      "    rowCollapse, rowCounts, rowCummaxs, rowCummins, rowCumprods,\n",
      "    rowCumsums, rowDiffs, rowIQRDiffs, rowIQRs, rowLogSumExps,\n",
      "    rowMadDiffs, rowMads, rowMaxs, rowMeans2, rowMedians, rowMins,\n",
      "    rowOrderStats, rowProds, rowQuantiles, rowRanges, rowRanks,\n",
      "    rowSdDiffs, rowSds, rowSums2, rowTabulates, rowVarDiffs, rowVars,\n",
      "    rowWeightedMads, rowWeightedMeans, rowWeightedMedians,\n",
      "    rowWeightedSds, rowWeightedVars\n",
      "\n",
      "\n",
      "Loading required package: Biobase\n",
      "\n",
      "Warning message:\n",
      "“package ‘Biobase’ was built under R version 4.2.3”\n",
      "Welcome to Bioconductor\n",
      "\n",
      "    Vignettes contain introductory material; view with\n",
      "    'browseVignettes()'. To cite Bioconductor, see\n",
      "    'citation(\"Biobase\")', and for packages 'citation(\"pkgname\")'.\n",
      "\n",
      "\n",
      "\n",
      "Attaching package: ‘Biobase’\n",
      "\n",
      "\n",
      "The following object is masked from ‘package:MatrixGenerics’:\n",
      "\n",
      "    rowMedians\n",
      "\n",
      "\n",
      "The following objects are masked from ‘package:matrixStats’:\n",
      "\n",
      "    anyMissing, rowMedians\n",
      "\n",
      "\n",
      "Warning message:\n",
      "“package ‘gridExtra’ was built under R version 4.2.3”\n",
      "\n",
      "Attaching package: ‘gridExtra’\n",
      "\n",
      "\n",
      "The following object is masked from ‘package:Biobase’:\n",
      "\n",
      "    combine\n",
      "\n",
      "\n",
      "The following object is masked from ‘package:BiocGenerics’:\n",
      "\n",
      "    combine\n",
      "\n",
      "\n",
      "Warning message:\n",
      "“package ‘circlize’ was built under R version 4.2.3”\n",
      "========================================\n",
      "circlize version 0.4.15\n",
      "CRAN page: https://cran.r-project.org/package=circlize\n",
      "Github page: https://github.com/jokergoo/circlize\n",
      "Documentation: https://jokergoo.github.io/circlize_book/book/\n",
      "\n",
      "If you use it in published research, please cite:\n",
      "Gu, Z. circlize implements and enhances circular visualization\n",
      "  in R. Bioinformatics 2014.\n",
      "\n",
      "This message can be suppressed by:\n",
      "  suppressPackageStartupMessages(library(circlize))\n",
      "========================================\n",
      "\n",
      "\n",
      "Warning message:\n",
      "“package ‘scales’ was built under R version 4.2.3”\n"
     ]
    }
   ],
   "source": [
    "library(\"ComplexHeatmap\")\n",
    "library(\"ggplot2\")\n",
    "library(\"stats\") # for PCA\n",
    "library(\"xlsx\")\n",
    "library(\"DESeq2\") # for rlog transformation\n",
    "library(\"gridExtra\") # several ggplots in one pdf\n",
    "library(\"circlize\") # colorRamp2\n",
    "library(\"scales\")"
   ]
  },
  {
   "cell_type": "code",
   "execution_count": 1,
   "id": "b0c5d01a",
   "metadata": {},
   "outputs": [],
   "source": [
    "setwd(\"..\") # change to main directory"
   ]
  },
  {
   "cell_type": "code",
   "execution_count": 36,
   "id": "functioning-fishing",
   "metadata": {},
   "outputs": [],
   "source": [
    "outDir = \"Figures-and-Tables/\"\n",
    "sampleAnnotFile = \"annotation/annotation-63.csv\"\n",
    "featureCountFile = \"data/expressedTiles-featureCounts-25M10percIDS-min5reads20percent.RData\"\n",
    "geneAnnotFile = \"annotation/Homo_sapiens.GRCh37.75-chrRename-noHaplo.RData\"\n",
    "rpkmOutfile = paste0(outDir,\"gene-expression.xls\") # will be produced, all gene expr values\n",
    "genetypeRemove = c(\"rRNA\",\"Mt_rRNA\")\n",
    "nbGenesForClustering = 500\n",
    "annotAttrib = c(\"group\",\"gender\",\"age\") # first two shown in PCA"
   ]
  },
  {
   "cell_type": "code",
   "execution_count": 37,
   "id": "artificial-warning",
   "metadata": {},
   "outputs": [
    {
     "data": {
      "text/html": [
       "<table class=\"dataframe\">\n",
       "<caption>A matrix: 6 × 63 of type int</caption>\n",
       "<thead>\n",
       "\t<tr><th></th><th scope=col>SXR0002</th><th scope=col>SXR0004</th><th scope=col>SXR0006</th><th scope=col>SXR0010</th><th scope=col>SXR0014</th><th scope=col>SXR0016</th><th scope=col>SXR0018</th><th scope=col>SXR0028</th><th scope=col>SXR0029</th><th scope=col>SXR0030</th><th scope=col>⋯</th><th scope=col>SXR0105</th><th scope=col>SXR0111</th><th scope=col>SXR0112</th><th scope=col>SXR0113</th><th scope=col>SXR0114</th><th scope=col>SXR0115</th><th scope=col>SXR0117</th><th scope=col>SXR0118</th><th scope=col>SXR0121</th><th scope=col>SXR0122</th></tr>\n",
       "</thead>\n",
       "<tbody>\n",
       "\t<tr><th scope=row>chr1_1337301_1337400</th><td>0</td><td>0</td><td>3</td><td>3</td><td>10</td><td>1</td><td>6</td><td>14</td><td> 7</td><td> 6</td><td>⋯</td><td>9</td><td>19</td><td>23</td><td>9</td><td>0</td><td>0</td><td>5</td><td>0</td><td>8</td><td>19</td></tr>\n",
       "\t<tr><th scope=row>chr1_1477001_1477100</th><td>0</td><td>1</td><td>3</td><td>2</td><td> 7</td><td>2</td><td>4</td><td> 0</td><td> 3</td><td> 4</td><td>⋯</td><td>3</td><td> 5</td><td> 3</td><td>4</td><td>0</td><td>0</td><td>2</td><td>0</td><td>3</td><td> 3</td></tr>\n",
       "\t<tr><th scope=row>chr1_1477101_1477200</th><td>0</td><td>0</td><td>0</td><td>0</td><td> 2</td><td>0</td><td>7</td><td> 0</td><td> 4</td><td> 3</td><td>⋯</td><td>2</td><td>10</td><td> 5</td><td>3</td><td>3</td><td>0</td><td>3</td><td>0</td><td>2</td><td> 5</td></tr>\n",
       "\t<tr><th scope=row>chr1_1716701_1716800</th><td>0</td><td>0</td><td>0</td><td>4</td><td> 6</td><td>1</td><td>7</td><td> 6</td><td>11</td><td>10</td><td>⋯</td><td>1</td><td> 6</td><td>16</td><td>3</td><td>0</td><td>0</td><td>3</td><td>0</td><td>4</td><td> 9</td></tr>\n",
       "\t<tr><th scope=row>chr1_1716801_1716900</th><td>0</td><td>0</td><td>0</td><td>3</td><td> 5</td><td>0</td><td>8</td><td> 3</td><td> 4</td><td> 1</td><td>⋯</td><td>1</td><td>10</td><td> 5</td><td>5</td><td>0</td><td>0</td><td>1</td><td>0</td><td>4</td><td>14</td></tr>\n",
       "\t<tr><th scope=row>chr1_1717201_1717300</th><td>0</td><td>1</td><td>1</td><td>4</td><td> 2</td><td>2</td><td>4</td><td> 2</td><td> 9</td><td> 1</td><td>⋯</td><td>0</td><td> 4</td><td> 2</td><td>4</td><td>0</td><td>0</td><td>2</td><td>0</td><td>0</td><td> 6</td></tr>\n",
       "</tbody>\n",
       "</table>\n"
      ],
      "text/latex": [
       "A matrix: 6 × 63 of type int\n",
       "\\begin{tabular}{r|lllllllllllllllllllll}\n",
       "  & SXR0002 & SXR0004 & SXR0006 & SXR0010 & SXR0014 & SXR0016 & SXR0018 & SXR0028 & SXR0029 & SXR0030 & ⋯ & SXR0105 & SXR0111 & SXR0112 & SXR0113 & SXR0114 & SXR0115 & SXR0117 & SXR0118 & SXR0121 & SXR0122\\\\\n",
       "\\hline\n",
       "\tchr1\\_1337301\\_1337400 & 0 & 0 & 3 & 3 & 10 & 1 & 6 & 14 &  7 &  6 & ⋯ & 9 & 19 & 23 & 9 & 0 & 0 & 5 & 0 & 8 & 19\\\\\n",
       "\tchr1\\_1477001\\_1477100 & 0 & 1 & 3 & 2 &  7 & 2 & 4 &  0 &  3 &  4 & ⋯ & 3 &  5 &  3 & 4 & 0 & 0 & 2 & 0 & 3 &  3\\\\\n",
       "\tchr1\\_1477101\\_1477200 & 0 & 0 & 0 & 0 &  2 & 0 & 7 &  0 &  4 &  3 & ⋯ & 2 & 10 &  5 & 3 & 3 & 0 & 3 & 0 & 2 &  5\\\\\n",
       "\tchr1\\_1716701\\_1716800 & 0 & 0 & 0 & 4 &  6 & 1 & 7 &  6 & 11 & 10 & ⋯ & 1 &  6 & 16 & 3 & 0 & 0 & 3 & 0 & 4 &  9\\\\\n",
       "\tchr1\\_1716801\\_1716900 & 0 & 0 & 0 & 3 &  5 & 0 & 8 &  3 &  4 &  1 & ⋯ & 1 & 10 &  5 & 5 & 0 & 0 & 1 & 0 & 4 & 14\\\\\n",
       "\tchr1\\_1717201\\_1717300 & 0 & 1 & 1 & 4 &  2 & 2 & 4 &  2 &  9 &  1 & ⋯ & 0 &  4 &  2 & 4 & 0 & 0 & 2 & 0 & 0 &  6\\\\\n",
       "\\end{tabular}\n"
      ],
      "text/markdown": [
       "\n",
       "A matrix: 6 × 63 of type int\n",
       "\n",
       "| <!--/--> | SXR0002 | SXR0004 | SXR0006 | SXR0010 | SXR0014 | SXR0016 | SXR0018 | SXR0028 | SXR0029 | SXR0030 | ⋯ | SXR0105 | SXR0111 | SXR0112 | SXR0113 | SXR0114 | SXR0115 | SXR0117 | SXR0118 | SXR0121 | SXR0122 |\n",
       "|---|---|---|---|---|---|---|---|---|---|---|---|---|---|---|---|---|---|---|---|---|---|\n",
       "| chr1_1337301_1337400 | 0 | 0 | 3 | 3 | 10 | 1 | 6 | 14 |  7 |  6 | ⋯ | 9 | 19 | 23 | 9 | 0 | 0 | 5 | 0 | 8 | 19 |\n",
       "| chr1_1477001_1477100 | 0 | 1 | 3 | 2 |  7 | 2 | 4 |  0 |  3 |  4 | ⋯ | 3 |  5 |  3 | 4 | 0 | 0 | 2 | 0 | 3 |  3 |\n",
       "| chr1_1477101_1477200 | 0 | 0 | 0 | 0 |  2 | 0 | 7 |  0 |  4 |  3 | ⋯ | 2 | 10 |  5 | 3 | 3 | 0 | 3 | 0 | 2 |  5 |\n",
       "| chr1_1716701_1716800 | 0 | 0 | 0 | 4 |  6 | 1 | 7 |  6 | 11 | 10 | ⋯ | 1 |  6 | 16 | 3 | 0 | 0 | 3 | 0 | 4 |  9 |\n",
       "| chr1_1716801_1716900 | 0 | 0 | 0 | 3 |  5 | 0 | 8 |  3 |  4 |  1 | ⋯ | 1 | 10 |  5 | 5 | 0 | 0 | 1 | 0 | 4 | 14 |\n",
       "| chr1_1717201_1717300 | 0 | 1 | 1 | 4 |  2 | 2 | 4 |  2 |  9 |  1 | ⋯ | 0 |  4 |  2 | 4 | 0 | 0 | 2 | 0 | 0 |  6 |\n",
       "\n"
      ],
      "text/plain": [
       "                     SXR0002 SXR0004 SXR0006 SXR0010 SXR0014 SXR0016 SXR0018\n",
       "chr1_1337301_1337400 0       0       3       3       10      1       6      \n",
       "chr1_1477001_1477100 0       1       3       2        7      2       4      \n",
       "chr1_1477101_1477200 0       0       0       0        2      0       7      \n",
       "chr1_1716701_1716800 0       0       0       4        6      1       7      \n",
       "chr1_1716801_1716900 0       0       0       3        5      0       8      \n",
       "chr1_1717201_1717300 0       1       1       4        2      2       4      \n",
       "                     SXR0028 SXR0029 SXR0030 ⋯ SXR0105 SXR0111 SXR0112 SXR0113\n",
       "chr1_1337301_1337400 14       7       6      ⋯ 9       19      23      9      \n",
       "chr1_1477001_1477100  0       3       4      ⋯ 3        5       3      4      \n",
       "chr1_1477101_1477200  0       4       3      ⋯ 2       10       5      3      \n",
       "chr1_1716701_1716800  6      11      10      ⋯ 1        6      16      3      \n",
       "chr1_1716801_1716900  3       4       1      ⋯ 1       10       5      5      \n",
       "chr1_1717201_1717300  2       9       1      ⋯ 0        4       2      4      \n",
       "                     SXR0114 SXR0115 SXR0117 SXR0118 SXR0121 SXR0122\n",
       "chr1_1337301_1337400 0       0       5       0       8       19     \n",
       "chr1_1477001_1477100 0       0       2       0       3        3     \n",
       "chr1_1477101_1477200 3       0       3       0       2        5     \n",
       "chr1_1716701_1716800 0       0       3       0       4        9     \n",
       "chr1_1716801_1716900 0       0       1       0       4       14     \n",
       "chr1_1717201_1717300 0       0       2       0       0        6     "
      ]
     },
     "metadata": {},
     "output_type": "display_data"
    },
    {
     "data": {
      "text/html": [
       "<style>\n",
       ".list-inline {list-style: none; margin:0; padding: 0}\n",
       ".list-inline>li {display: inline-block}\n",
       ".list-inline>li:not(:last-child)::after {content: \"\\00b7\"; padding: 0 .5ex}\n",
       "</style>\n",
       "<ol class=list-inline><li>6242</li><li>63</li></ol>\n"
      ],
      "text/latex": [
       "\\begin{enumerate*}\n",
       "\\item 6242\n",
       "\\item 63\n",
       "\\end{enumerate*}\n"
      ],
      "text/markdown": [
       "1. 6242\n",
       "2. 63\n",
       "\n",
       "\n"
      ],
      "text/plain": [
       "[1] 6242   63"
      ]
     },
     "metadata": {},
     "output_type": "display_data"
    }
   ],
   "source": [
    "load(file = featureCountFile)\n",
    "counts <- as.matrix(fcountGenes$counts)\n",
    "head(counts)\n",
    "dim(counts)"
   ]
  },
  {
   "cell_type": "code",
   "execution_count": 38,
   "id": "existing-beaver",
   "metadata": {
    "scrolled": true
   },
   "outputs": [
    {
     "data": {
      "text/html": [
       "<table class=\"dataframe\">\n",
       "<caption>A data.frame: 3 × 3</caption>\n",
       "<thead>\n",
       "\t<tr><th></th><th scope=col>chr</th><th scope=col>start</th><th scope=col>end</th></tr>\n",
       "\t<tr><th></th><th scope=col>&lt;chr&gt;</th><th scope=col>&lt;dbl&gt;</th><th scope=col>&lt;dbl&gt;</th></tr>\n",
       "</thead>\n",
       "<tbody>\n",
       "\t<tr><th scope=row>1</th><td>chr1</td><td>1337301</td><td>1337400</td></tr>\n",
       "\t<tr><th scope=row>2</th><td>chr1</td><td>1477001</td><td>1477100</td></tr>\n",
       "\t<tr><th scope=row>3</th><td>chr1</td><td>1477101</td><td>1477200</td></tr>\n",
       "</tbody>\n",
       "</table>\n"
      ],
      "text/latex": [
       "A data.frame: 3 × 3\n",
       "\\begin{tabular}{r|lll}\n",
       "  & chr & start & end\\\\\n",
       "  & <chr> & <dbl> & <dbl>\\\\\n",
       "\\hline\n",
       "\t1 & chr1 & 1337301 & 1337400\\\\\n",
       "\t2 & chr1 & 1477001 & 1477100\\\\\n",
       "\t3 & chr1 & 1477101 & 1477200\\\\\n",
       "\\end{tabular}\n"
      ],
      "text/markdown": [
       "\n",
       "A data.frame: 3 × 3\n",
       "\n",
       "| <!--/--> | chr &lt;chr&gt; | start &lt;dbl&gt; | end &lt;dbl&gt; |\n",
       "|---|---|---|---|\n",
       "| 1 | chr1 | 1337301 | 1337400 |\n",
       "| 2 | chr1 | 1477001 | 1477100 |\n",
       "| 3 | chr1 | 1477101 | 1477200 |\n",
       "\n"
      ],
      "text/plain": [
       "  chr  start   end    \n",
       "1 chr1 1337301 1337400\n",
       "2 chr1 1477001 1477100\n",
       "3 chr1 1477101 1477200"
      ]
     },
     "metadata": {},
     "output_type": "display_data"
    }
   ],
   "source": [
    "rn = rownames(counts)\n",
    "regionsCoord <- data.frame(\n",
    "    chr = gsub(\"(chr[^_]+).+\",\"\\\\1\",rn),\n",
    "    start = as.numeric(gsub(\"chr[^_]+_([^_]+).+\",\"\\\\1\",rn)),\n",
    "    end = as.numeric(gsub(\"chr[^_]+_[^_]+_([^_]+)\",\"\\\\1\",rn))\n",
    ")\n",
    "head(regionsCoord,3)"
   ]
  },
  {
   "cell_type": "code",
   "execution_count": 39,
   "id": "textile-series",
   "metadata": {},
   "outputs": [
    {
     "data": {
      "text/html": [
       "<table class=\"dataframe\">\n",
       "<caption>A data.frame: 6 × 4</caption>\n",
       "<thead>\n",
       "\t<tr><th></th><th scope=col>ID</th><th scope=col>gender</th><th scope=col>age</th><th scope=col>group</th></tr>\n",
       "\t<tr><th></th><th scope=col>&lt;chr&gt;</th><th scope=col>&lt;chr&gt;</th><th scope=col>&lt;int&gt;</th><th scope=col>&lt;chr&gt;</th></tr>\n",
       "</thead>\n",
       "<tbody>\n",
       "\t<tr><th scope=row>1</th><td>SXR0002</td><td>female</td><td>80</td><td>ccRCC       </td></tr>\n",
       "\t<tr><th scope=row>2</th><td>SXR0004</td><td>male  </td><td>50</td><td>ccRCC       </td></tr>\n",
       "\t<tr><th scope=row>3</th><td>SXR0006</td><td>male  </td><td>68</td><td>ccRCC       </td></tr>\n",
       "\t<tr><th scope=row>4</th><td>SXR0010</td><td>male  </td><td>65</td><td>urolithiasis</td></tr>\n",
       "\t<tr><th scope=row>5</th><td>SXR0014</td><td>male  </td><td>57</td><td>ccRCC       </td></tr>\n",
       "\t<tr><th scope=row>6</th><td>SXR0016</td><td>male  </td><td>59</td><td>ccRCC       </td></tr>\n",
       "</tbody>\n",
       "</table>\n"
      ],
      "text/latex": [
       "A data.frame: 6 × 4\n",
       "\\begin{tabular}{r|llll}\n",
       "  & ID & gender & age & group\\\\\n",
       "  & <chr> & <chr> & <int> & <chr>\\\\\n",
       "\\hline\n",
       "\t1 & SXR0002 & female & 80 & ccRCC       \\\\\n",
       "\t2 & SXR0004 & male   & 50 & ccRCC       \\\\\n",
       "\t3 & SXR0006 & male   & 68 & ccRCC       \\\\\n",
       "\t4 & SXR0010 & male   & 65 & urolithiasis\\\\\n",
       "\t5 & SXR0014 & male   & 57 & ccRCC       \\\\\n",
       "\t6 & SXR0016 & male   & 59 & ccRCC       \\\\\n",
       "\\end{tabular}\n"
      ],
      "text/markdown": [
       "\n",
       "A data.frame: 6 × 4\n",
       "\n",
       "| <!--/--> | ID &lt;chr&gt; | gender &lt;chr&gt; | age &lt;int&gt; | group &lt;chr&gt; |\n",
       "|---|---|---|---|---|\n",
       "| 1 | SXR0002 | female | 80 | ccRCC        |\n",
       "| 2 | SXR0004 | male   | 50 | ccRCC        |\n",
       "| 3 | SXR0006 | male   | 68 | ccRCC        |\n",
       "| 4 | SXR0010 | male   | 65 | urolithiasis |\n",
       "| 5 | SXR0014 | male   | 57 | ccRCC        |\n",
       "| 6 | SXR0016 | male   | 59 | ccRCC        |\n",
       "\n"
      ],
      "text/plain": [
       "  ID      gender age group       \n",
       "1 SXR0002 female 80  ccRCC       \n",
       "2 SXR0004 male   50  ccRCC       \n",
       "3 SXR0006 male   68  ccRCC       \n",
       "4 SXR0010 male   65  urolithiasis\n",
       "5 SXR0014 male   57  ccRCC       \n",
       "6 SXR0016 male   59  ccRCC       "
      ]
     },
     "metadata": {},
     "output_type": "display_data"
    }
   ],
   "source": [
    "# load sample annotation:\n",
    "sampleAnnot = read.csv(file = sampleAnnotFile,sep = \"\\t\", dec=\".\", stringsAsFactors = F )\n",
    "sampleAnnot$gender = ifelse(sampleAnnot$gender==\"f\",\"female\",\"male\")\n",
    "head(sampleAnnot)"
   ]
  },
  {
   "cell_type": "code",
   "execution_count": 40,
   "id": "scientific-engine",
   "metadata": {},
   "outputs": [],
   "source": [
    "rownames(sampleAnnot) = sampleAnnot$ID"
   ]
  },
  {
   "cell_type": "code",
   "execution_count": 41,
   "id": "53009b09",
   "metadata": {},
   "outputs": [
    {
     "data": {
      "text/html": [
       "<style>\n",
       ".list-inline {list-style: none; margin:0; padding: 0}\n",
       ".list-inline>li {display: inline-block}\n",
       ".list-inline>li:not(:last-child)::after {content: \"\\00b7\"; padding: 0 .5ex}\n",
       "</style>\n",
       "<ol class=list-inline><li>'DDX11L1'</li><li>'WASH7P'</li><li>'MIR1302-10'</li><li>'FAM138A'</li><li>'OR4G4P'</li><li>'OR4G11P'</li></ol>\n"
      ],
      "text/latex": [
       "\\begin{enumerate*}\n",
       "\\item 'DDX11L1'\n",
       "\\item 'WASH7P'\n",
       "\\item 'MIR1302-10'\n",
       "\\item 'FAM138A'\n",
       "\\item 'OR4G4P'\n",
       "\\item 'OR4G11P'\n",
       "\\end{enumerate*}\n"
      ],
      "text/markdown": [
       "1. 'DDX11L1'\n",
       "2. 'WASH7P'\n",
       "3. 'MIR1302-10'\n",
       "4. 'FAM138A'\n",
       "5. 'OR4G4P'\n",
       "6. 'OR4G11P'\n",
       "\n",
       "\n"
      ],
      "text/plain": [
       "[1] \"DDX11L1\"    \"WASH7P\"     \"MIR1302-10\" \"FAM138A\"    \"OR4G4P\"    \n",
       "[6] \"OR4G11P\"   "
      ]
     },
     "metadata": {},
     "output_type": "display_data"
    }
   ],
   "source": [
    "load(geneAnnotFile)\n",
    "geneAnnot = geneAnnot[which(geneAnnot$V3==\"gene\"),]\n",
    "geneAnnot$EnsID = gsub(\".*gene_id ([^;]+).*\",\"\\\\1\",geneAnnot$V9)\n",
    "geneAnnot$type = gsub(\".*gene_biotype ([^;]+).*\",\"\\\\1\",geneAnnot$V9)\n",
    "geneAnnot$symbol = gsub(\".*gene_name ([^;]+).*\",\"\\\\1\",geneAnnot$V9)\n",
    "head(geneAnnot$symbol)"
   ]
  },
  {
   "cell_type": "code",
   "execution_count": 42,
   "id": "0f1aa3c1",
   "metadata": {},
   "outputs": [],
   "source": [
    "geneAnnotGR = GRanges(seqnames = geneAnnot$V1,\n",
    "                  ranges = IRanges(start = geneAnnot$V4,end = geneAnnot$V5))"
   ]
  },
  {
   "cell_type": "code",
   "execution_count": 43,
   "id": "bf7e7bf9",
   "metadata": {
    "scrolled": true
   },
   "outputs": [
    {
     "data": {
      "text/html": [
       "<table class=\"dataframe\">\n",
       "<caption>A matrix: 2 × 4 of type dbl</caption>\n",
       "<thead>\n",
       "\t<tr><th></th><th scope=col>SXR0002</th><th scope=col>SXR0004</th><th scope=col>SXR0006</th><th scope=col>SXR0010</th></tr>\n",
       "</thead>\n",
       "<tbody>\n",
       "\t<tr><th scope=row>chr1_1337301_1337400</th><td>0</td><td> 0</td><td>30</td><td>30</td></tr>\n",
       "\t<tr><th scope=row>chr1_1477001_1477100</th><td>0</td><td>10</td><td>30</td><td>20</td></tr>\n",
       "</tbody>\n",
       "</table>\n"
      ],
      "text/latex": [
       "A matrix: 2 × 4 of type dbl\n",
       "\\begin{tabular}{r|llll}\n",
       "  & SXR0002 & SXR0004 & SXR0006 & SXR0010\\\\\n",
       "\\hline\n",
       "\tchr1\\_1337301\\_1337400 & 0 &  0 & 30 & 30\\\\\n",
       "\tchr1\\_1477001\\_1477100 & 0 & 10 & 30 & 20\\\\\n",
       "\\end{tabular}\n"
      ],
      "text/markdown": [
       "\n",
       "A matrix: 2 × 4 of type dbl\n",
       "\n",
       "| <!--/--> | SXR0002 | SXR0004 | SXR0006 | SXR0010 |\n",
       "|---|---|---|---|---|\n",
       "| chr1_1337301_1337400 | 0 |  0 | 30 | 30 |\n",
       "| chr1_1477001_1477100 | 0 | 10 | 30 | 20 |\n",
       "\n"
      ],
      "text/plain": [
       "                     SXR0002 SXR0004 SXR0006 SXR0010\n",
       "chr1_1337301_1337400 0        0      30      30     \n",
       "chr1_1477001_1477100 0       10      30      20     "
      ]
     },
     "metadata": {},
     "output_type": "display_data"
    },
    {
     "data": {
      "text/html": [
       "<table class=\"dataframe\">\n",
       "<caption>A matrix: 2 × 4 of type int</caption>\n",
       "<thead>\n",
       "\t<tr><th></th><th scope=col>SXR0002</th><th scope=col>SXR0004</th><th scope=col>SXR0006</th><th scope=col>SXR0010</th></tr>\n",
       "</thead>\n",
       "<tbody>\n",
       "\t<tr><th scope=row>chr1_1337301_1337400</th><td>0</td><td>0</td><td>3</td><td>3</td></tr>\n",
       "\t<tr><th scope=row>chr1_1477001_1477100</th><td>0</td><td>1</td><td>3</td><td>2</td></tr>\n",
       "</tbody>\n",
       "</table>\n"
      ],
      "text/latex": [
       "A matrix: 2 × 4 of type int\n",
       "\\begin{tabular}{r|llll}\n",
       "  & SXR0002 & SXR0004 & SXR0006 & SXR0010\\\\\n",
       "\\hline\n",
       "\tchr1\\_1337301\\_1337400 & 0 & 0 & 3 & 3\\\\\n",
       "\tchr1\\_1477001\\_1477100 & 0 & 1 & 3 & 2\\\\\n",
       "\\end{tabular}\n"
      ],
      "text/markdown": [
       "\n",
       "A matrix: 2 × 4 of type int\n",
       "\n",
       "| <!--/--> | SXR0002 | SXR0004 | SXR0006 | SXR0010 |\n",
       "|---|---|---|---|---|\n",
       "| chr1_1337301_1337400 | 0 | 0 | 3 | 3 |\n",
       "| chr1_1477001_1477100 | 0 | 1 | 3 | 2 |\n",
       "\n"
      ],
      "text/plain": [
       "                     SXR0002 SXR0004 SXR0006 SXR0010\n",
       "chr1_1337301_1337400 0       0       3       3      \n",
       "chr1_1477001_1477100 0       1       3       2      "
      ]
     },
     "metadata": {},
     "output_type": "display_data"
    },
    {
     "data": {
      "text/html": [
       "<table class=\"dataframe\">\n",
       "<caption>A matrix: 2 × 4 of type dbl</caption>\n",
       "<thead>\n",
       "\t<tr><th></th><th scope=col>SXR0002</th><th scope=col>SXR0004</th><th scope=col>SXR0006</th><th scope=col>SXR0010</th></tr>\n",
       "</thead>\n",
       "<tbody>\n",
       "\t<tr><th scope=row>chr1_1337301_1337400</th><td>0</td><td>0.000000</td><td>43.5262</td><td>16.14683</td></tr>\n",
       "\t<tr><th scope=row>chr1_1477001_1477100</th><td>0</td><td>4.154791</td><td>43.5262</td><td>10.76455</td></tr>\n",
       "</tbody>\n",
       "</table>\n"
      ],
      "text/latex": [
       "A matrix: 2 × 4 of type dbl\n",
       "\\begin{tabular}{r|llll}\n",
       "  & SXR0002 & SXR0004 & SXR0006 & SXR0010\\\\\n",
       "\\hline\n",
       "\tchr1\\_1337301\\_1337400 & 0 & 0.000000 & 43.5262 & 16.14683\\\\\n",
       "\tchr1\\_1477001\\_1477100 & 0 & 4.154791 & 43.5262 & 10.76455\\\\\n",
       "\\end{tabular}\n"
      ],
      "text/markdown": [
       "\n",
       "A matrix: 2 × 4 of type dbl\n",
       "\n",
       "| <!--/--> | SXR0002 | SXR0004 | SXR0006 | SXR0010 |\n",
       "|---|---|---|---|---|\n",
       "| chr1_1337301_1337400 | 0 | 0.000000 | 43.5262 | 16.14683 |\n",
       "| chr1_1477001_1477100 | 0 | 4.154791 | 43.5262 | 10.76455 |\n",
       "\n"
      ],
      "text/plain": [
       "                     SXR0002 SXR0004  SXR0006 SXR0010 \n",
       "chr1_1337301_1337400 0       0.000000 43.5262 16.14683\n",
       "chr1_1477001_1477100 0       4.154791 43.5262 10.76455"
      ]
     },
     "metadata": {},
     "output_type": "display_data"
    }
   ],
   "source": [
    "geneLength = 100\n",
    "TPMs = counts\n",
    "TPMs[,names(totalReads)] <- sapply(names(totalReads),function(x) TPMs[,x]/(geneLength/10^3) )\n",
    "head(TPMs[,1:4],2)\n",
    "TPMsums <- colSums(TPMs)\n",
    "TPMs[,names(totalReads)] <- sapply(names(TPMsums),function(x) TPMs[,x]/(TPMsums[x]/10^6))\n",
    "head(counts[,1:4],2)\n",
    "head(TPMs[,1:4],2)"
   ]
  },
  {
   "cell_type": "code",
   "execution_count": 44,
   "id": "76f23959",
   "metadata": {},
   "outputs": [
    {
     "data": {
      "text/html": [
       "<table class=\"dataframe\">\n",
       "<caption>A data.frame: 2 × 2</caption>\n",
       "<thead>\n",
       "\t<tr><th></th><th scope=col>queryHits</th><th scope=col>subjectHits</th></tr>\n",
       "\t<tr><th></th><th scope=col>&lt;int&gt;</th><th scope=col>&lt;int&gt;</th></tr>\n",
       "</thead>\n",
       "<tbody>\n",
       "\t<tr><th scope=row>1</th><td>109</td><td>1</td></tr>\n",
       "\t<tr><th scope=row>2</th><td>110</td><td>1</td></tr>\n",
       "</tbody>\n",
       "</table>\n"
      ],
      "text/latex": [
       "A data.frame: 2 × 2\n",
       "\\begin{tabular}{r|ll}\n",
       "  & queryHits & subjectHits\\\\\n",
       "  & <int> & <int>\\\\\n",
       "\\hline\n",
       "\t1 & 109 & 1\\\\\n",
       "\t2 & 110 & 1\\\\\n",
       "\\end{tabular}\n"
      ],
      "text/markdown": [
       "\n",
       "A data.frame: 2 × 2\n",
       "\n",
       "| <!--/--> | queryHits &lt;int&gt; | subjectHits &lt;int&gt; |\n",
       "|---|---|---|\n",
       "| 1 | 109 | 1 |\n",
       "| 2 | 110 | 1 |\n",
       "\n"
      ],
      "text/plain": [
       "  queryHits subjectHits\n",
       "1 109       1          \n",
       "2 110       1          "
      ]
     },
     "metadata": {},
     "output_type": "display_data"
    },
    {
     "data": {
      "text/html": [
       "<table class=\"dataframe\">\n",
       "<caption>A data.frame: 3 × 4</caption>\n",
       "<thead>\n",
       "\t<tr><th></th><th scope=col>name</th><th scope=col>chr</th><th scope=col>start</th><th scope=col>end</th></tr>\n",
       "\t<tr><th></th><th scope=col>&lt;chr&gt;</th><th scope=col>&lt;chr&gt;</th><th scope=col>&lt;dbl&gt;</th><th scope=col>&lt;dbl&gt;</th></tr>\n",
       "</thead>\n",
       "<tbody>\n",
       "\t<tr><th scope=row>1</th><td>chr1_1337301_1337400</td><td>chr1</td><td>1337301</td><td>1337400</td></tr>\n",
       "\t<tr><th scope=row>2</th><td>chr1_1477001_1477100</td><td>chr1</td><td>1477001</td><td>1477100</td></tr>\n",
       "\t<tr><th scope=row>3</th><td>chr1_1477101_1477200</td><td>chr1</td><td>1477101</td><td>1477200</td></tr>\n",
       "</tbody>\n",
       "</table>\n"
      ],
      "text/latex": [
       "A data.frame: 3 × 4\n",
       "\\begin{tabular}{r|llll}\n",
       "  & name & chr & start & end\\\\\n",
       "  & <chr> & <chr> & <dbl> & <dbl>\\\\\n",
       "\\hline\n",
       "\t1 & chr1\\_1337301\\_1337400 & chr1 & 1337301 & 1337400\\\\\n",
       "\t2 & chr1\\_1477001\\_1477100 & chr1 & 1477001 & 1477100\\\\\n",
       "\t3 & chr1\\_1477101\\_1477200 & chr1 & 1477101 & 1477200\\\\\n",
       "\\end{tabular}\n"
      ],
      "text/markdown": [
       "\n",
       "A data.frame: 3 × 4\n",
       "\n",
       "| <!--/--> | name &lt;chr&gt; | chr &lt;chr&gt; | start &lt;dbl&gt; | end &lt;dbl&gt; |\n",
       "|---|---|---|---|---|\n",
       "| 1 | chr1_1337301_1337400 | chr1 | 1337301 | 1337400 |\n",
       "| 2 | chr1_1477001_1477100 | chr1 | 1477001 | 1477100 |\n",
       "| 3 | chr1_1477101_1477200 | chr1 | 1477101 | 1477200 |\n",
       "\n"
      ],
      "text/plain": [
       "  name                 chr  start   end    \n",
       "1 chr1_1337301_1337400 chr1 1337301 1337400\n",
       "2 chr1_1477001_1477100 chr1 1477001 1477100\n",
       "3 chr1_1477101_1477200 chr1 1477101 1477200"
      ]
     },
     "metadata": {},
     "output_type": "display_data"
    },
    {
     "data": {
      "text/html": [
       "<table class=\"dataframe\">\n",
       "<caption>A data.frame: 2 × 7</caption>\n",
       "<thead>\n",
       "\t<tr><th></th><th scope=col>name</th><th scope=col>chr</th><th scope=col>start</th><th scope=col>end</th><th scope=col>gene</th><th scope=col>EnsgID</th><th scope=col>geneType</th></tr>\n",
       "\t<tr><th></th><th scope=col>&lt;chr&gt;</th><th scope=col>&lt;chr&gt;</th><th scope=col>&lt;dbl&gt;</th><th scope=col>&lt;dbl&gt;</th><th scope=col>&lt;chr&gt;</th><th scope=col>&lt;chr&gt;</th><th scope=col>&lt;chr&gt;</th></tr>\n",
       "</thead>\n",
       "<tbody>\n",
       "\t<tr><th scope=row>1</th><td>chr1_1337301_1337400</td><td>chr1</td><td>1337301</td><td>1337400</td><td>RP4-758J18.2;MRPL20</td><td>ENSG00000224870;ENSG00000242485</td><td>protein_coding;protein_coding</td></tr>\n",
       "\t<tr><th scope=row>2</th><td>chr1_1477001_1477100</td><td>chr1</td><td>1477001</td><td>1477100</td><td>SSU72              </td><td>ENSG00000160075                </td><td>protein_coding               </td></tr>\n",
       "</tbody>\n",
       "</table>\n"
      ],
      "text/latex": [
       "A data.frame: 2 × 7\n",
       "\\begin{tabular}{r|lllllll}\n",
       "  & name & chr & start & end & gene & EnsgID & geneType\\\\\n",
       "  & <chr> & <chr> & <dbl> & <dbl> & <chr> & <chr> & <chr>\\\\\n",
       "\\hline\n",
       "\t1 & chr1\\_1337301\\_1337400 & chr1 & 1337301 & 1337400 & RP4-758J18.2;MRPL20 & ENSG00000224870;ENSG00000242485 & protein\\_coding;protein\\_coding\\\\\n",
       "\t2 & chr1\\_1477001\\_1477100 & chr1 & 1477001 & 1477100 & SSU72               & ENSG00000160075                 & protein\\_coding               \\\\\n",
       "\\end{tabular}\n"
      ],
      "text/markdown": [
       "\n",
       "A data.frame: 2 × 7\n",
       "\n",
       "| <!--/--> | name &lt;chr&gt; | chr &lt;chr&gt; | start &lt;dbl&gt; | end &lt;dbl&gt; | gene &lt;chr&gt; | EnsgID &lt;chr&gt; | geneType &lt;chr&gt; |\n",
       "|---|---|---|---|---|---|---|---|\n",
       "| 1 | chr1_1337301_1337400 | chr1 | 1337301 | 1337400 | RP4-758J18.2;MRPL20 | ENSG00000224870;ENSG00000242485 | protein_coding;protein_coding |\n",
       "| 2 | chr1_1477001_1477100 | chr1 | 1477001 | 1477100 | SSU72               | ENSG00000160075                 | protein_coding                |\n",
       "\n"
      ],
      "text/plain": [
       "  name                 chr  start   end     gene               \n",
       "1 chr1_1337301_1337400 chr1 1337301 1337400 RP4-758J18.2;MRPL20\n",
       "2 chr1_1477001_1477100 chr1 1477001 1477100 SSU72              \n",
       "  EnsgID                          geneType                     \n",
       "1 ENSG00000224870;ENSG00000242485 protein_coding;protein_coding\n",
       "2 ENSG00000160075                 protein_coding               "
      ]
     },
     "metadata": {},
     "output_type": "display_data"
    }
   ],
   "source": [
    "# map region coordinates to genes and descr.:\n",
    "regionsGR = GRanges(seqnames = regionsCoord$chr, \n",
    "                ranges = IRanges(start = regionsCoord$start, end = regionsCoord$end) )\n",
    "# overlapping gene annot, neglect strand\n",
    "ovlp = as.data.frame(findOverlaps(query = geneAnnotGR,subject = regionsGR))\n",
    "head(ovlp,2)\n",
    "\n",
    "regionAnnot = data.frame(name=rownames(counts),regionsCoord)\n",
    "head(regionAnnot,3)\n",
    "\n",
    "# add gene symbols and annot:\n",
    "regionIdx <- unique(ovlp$subjectHits)\n",
    "for(r in regionIdx) {\n",
    "  regionAnnot$gene[r] = paste0(\n",
    "      geneAnnot$symbol[ovlp$queryHits[ovlp$subjectHits == r]],collapse=\";\")\n",
    "  regionAnnot$EnsgID[r] = paste0(\n",
    "      geneAnnot$EnsID[ovlp$queryHits[ovlp$subjectHits == r]],collapse=\";\")\n",
    "  regionAnnot$geneType[r] = paste0(\n",
    "      geneAnnot$type[ovlp$queryHits[ovlp$subjectHits == r]],collapse=\";\")\n",
    "}\n",
    "head(regionAnnot,2)"
   ]
  },
  {
   "cell_type": "code",
   "execution_count": 45,
   "id": "naval-irrigation",
   "metadata": {
    "scrolled": true
   },
   "outputs": [
    {
     "data": {
      "text/html": [
       "<style>\n",
       ".list-inline {list-style: none; margin:0; padding: 0}\n",
       ".list-inline>li {display: inline-block}\n",
       ".list-inline>li:not(:last-child)::after {content: \"\\00b7\"; padding: 0 .5ex}\n",
       "</style>\n",
       "<ol class=list-inline><li>6242</li><li>70</li></ol>\n"
      ],
      "text/latex": [
       "\\begin{enumerate*}\n",
       "\\item 6242\n",
       "\\item 70\n",
       "\\end{enumerate*}\n"
      ],
      "text/markdown": [
       "1. 6242\n",
       "2. 70\n",
       "\n",
       "\n"
      ],
      "text/plain": [
       "[1] 6242   70"
      ]
     },
     "metadata": {},
     "output_type": "display_data"
    },
    {
     "data": {
      "text/html": [
       "<table class=\"dataframe\">\n",
       "<caption>A data.frame: 3 × 70</caption>\n",
       "<thead>\n",
       "\t<tr><th></th><th scope=col>name</th><th scope=col>chr</th><th scope=col>start</th><th scope=col>end</th><th scope=col>gene</th><th scope=col>EnsgID</th><th scope=col>geneType</th><th scope=col>SXR0002</th><th scope=col>SXR0004</th><th scope=col>SXR0006</th><th scope=col>⋯</th><th scope=col>SXR0105</th><th scope=col>SXR0111</th><th scope=col>SXR0112</th><th scope=col>SXR0113</th><th scope=col>SXR0114</th><th scope=col>SXR0115</th><th scope=col>SXR0117</th><th scope=col>SXR0118</th><th scope=col>SXR0121</th><th scope=col>SXR0122</th></tr>\n",
       "\t<tr><th></th><th scope=col>&lt;chr&gt;</th><th scope=col>&lt;chr&gt;</th><th scope=col>&lt;dbl&gt;</th><th scope=col>&lt;dbl&gt;</th><th scope=col>&lt;chr&gt;</th><th scope=col>&lt;chr&gt;</th><th scope=col>&lt;chr&gt;</th><th scope=col>&lt;int&gt;</th><th scope=col>&lt;int&gt;</th><th scope=col>&lt;int&gt;</th><th scope=col>⋯</th><th scope=col>&lt;int&gt;</th><th scope=col>&lt;int&gt;</th><th scope=col>&lt;int&gt;</th><th scope=col>&lt;int&gt;</th><th scope=col>&lt;int&gt;</th><th scope=col>&lt;int&gt;</th><th scope=col>&lt;int&gt;</th><th scope=col>&lt;int&gt;</th><th scope=col>&lt;int&gt;</th><th scope=col>&lt;int&gt;</th></tr>\n",
       "</thead>\n",
       "<tbody>\n",
       "\t<tr><th scope=row>chr1_1337301_1337400</th><td>chr1_1337301_1337400</td><td>chr1</td><td>1337301</td><td>1337400</td><td>RP4-758J18.2;MRPL20</td><td>ENSG00000224870;ENSG00000242485</td><td>protein_coding;protein_coding</td><td>0</td><td>0</td><td>3</td><td>⋯</td><td>9</td><td>19</td><td>23</td><td>9</td><td>0</td><td>0</td><td>5</td><td>0</td><td>8</td><td>19</td></tr>\n",
       "\t<tr><th scope=row>chr1_1477001_1477100</th><td>chr1_1477001_1477100</td><td>chr1</td><td>1477001</td><td>1477100</td><td>SSU72              </td><td>ENSG00000160075                </td><td>protein_coding               </td><td>0</td><td>1</td><td>3</td><td>⋯</td><td>3</td><td> 5</td><td> 3</td><td>4</td><td>0</td><td>0</td><td>2</td><td>0</td><td>3</td><td> 3</td></tr>\n",
       "\t<tr><th scope=row>chr1_1477101_1477200</th><td>chr1_1477101_1477200</td><td>chr1</td><td>1477101</td><td>1477200</td><td>SSU72              </td><td>ENSG00000160075                </td><td>protein_coding               </td><td>0</td><td>0</td><td>0</td><td>⋯</td><td>2</td><td>10</td><td> 5</td><td>3</td><td>3</td><td>0</td><td>3</td><td>0</td><td>2</td><td> 5</td></tr>\n",
       "</tbody>\n",
       "</table>\n"
      ],
      "text/latex": [
       "A data.frame: 3 × 70\n",
       "\\begin{tabular}{r|lllllllllllllllllllll}\n",
       "  & name & chr & start & end & gene & EnsgID & geneType & SXR0002 & SXR0004 & SXR0006 & ⋯ & SXR0105 & SXR0111 & SXR0112 & SXR0113 & SXR0114 & SXR0115 & SXR0117 & SXR0118 & SXR0121 & SXR0122\\\\\n",
       "  & <chr> & <chr> & <dbl> & <dbl> & <chr> & <chr> & <chr> & <int> & <int> & <int> & ⋯ & <int> & <int> & <int> & <int> & <int> & <int> & <int> & <int> & <int> & <int>\\\\\n",
       "\\hline\n",
       "\tchr1\\_1337301\\_1337400 & chr1\\_1337301\\_1337400 & chr1 & 1337301 & 1337400 & RP4-758J18.2;MRPL20 & ENSG00000224870;ENSG00000242485 & protein\\_coding;protein\\_coding & 0 & 0 & 3 & ⋯ & 9 & 19 & 23 & 9 & 0 & 0 & 5 & 0 & 8 & 19\\\\\n",
       "\tchr1\\_1477001\\_1477100 & chr1\\_1477001\\_1477100 & chr1 & 1477001 & 1477100 & SSU72               & ENSG00000160075                 & protein\\_coding                & 0 & 1 & 3 & ⋯ & 3 &  5 &  3 & 4 & 0 & 0 & 2 & 0 & 3 &  3\\\\\n",
       "\tchr1\\_1477101\\_1477200 & chr1\\_1477101\\_1477200 & chr1 & 1477101 & 1477200 & SSU72               & ENSG00000160075                 & protein\\_coding                & 0 & 0 & 0 & ⋯ & 2 & 10 &  5 & 3 & 3 & 0 & 3 & 0 & 2 &  5\\\\\n",
       "\\end{tabular}\n"
      ],
      "text/markdown": [
       "\n",
       "A data.frame: 3 × 70\n",
       "\n",
       "| <!--/--> | name &lt;chr&gt; | chr &lt;chr&gt; | start &lt;dbl&gt; | end &lt;dbl&gt; | gene &lt;chr&gt; | EnsgID &lt;chr&gt; | geneType &lt;chr&gt; | SXR0002 &lt;int&gt; | SXR0004 &lt;int&gt; | SXR0006 &lt;int&gt; | ⋯ ⋯ | SXR0105 &lt;int&gt; | SXR0111 &lt;int&gt; | SXR0112 &lt;int&gt; | SXR0113 &lt;int&gt; | SXR0114 &lt;int&gt; | SXR0115 &lt;int&gt; | SXR0117 &lt;int&gt; | SXR0118 &lt;int&gt; | SXR0121 &lt;int&gt; | SXR0122 &lt;int&gt; |\n",
       "|---|---|---|---|---|---|---|---|---|---|---|---|---|---|---|---|---|---|---|---|---|---|\n",
       "| chr1_1337301_1337400 | chr1_1337301_1337400 | chr1 | 1337301 | 1337400 | RP4-758J18.2;MRPL20 | ENSG00000224870;ENSG00000242485 | protein_coding;protein_coding | 0 | 0 | 3 | ⋯ | 9 | 19 | 23 | 9 | 0 | 0 | 5 | 0 | 8 | 19 |\n",
       "| chr1_1477001_1477100 | chr1_1477001_1477100 | chr1 | 1477001 | 1477100 | SSU72               | ENSG00000160075                 | protein_coding                | 0 | 1 | 3 | ⋯ | 3 |  5 |  3 | 4 | 0 | 0 | 2 | 0 | 3 |  3 |\n",
       "| chr1_1477101_1477200 | chr1_1477101_1477200 | chr1 | 1477101 | 1477200 | SSU72               | ENSG00000160075                 | protein_coding                | 0 | 0 | 0 | ⋯ | 2 | 10 |  5 | 3 | 3 | 0 | 3 | 0 | 2 |  5 |\n",
       "\n"
      ],
      "text/plain": [
       "                     name                 chr  start   end    \n",
       "chr1_1337301_1337400 chr1_1337301_1337400 chr1 1337301 1337400\n",
       "chr1_1477001_1477100 chr1_1477001_1477100 chr1 1477001 1477100\n",
       "chr1_1477101_1477200 chr1_1477101_1477200 chr1 1477101 1477200\n",
       "                     gene                EnsgID                         \n",
       "chr1_1337301_1337400 RP4-758J18.2;MRPL20 ENSG00000224870;ENSG00000242485\n",
       "chr1_1477001_1477100 SSU72               ENSG00000160075                \n",
       "chr1_1477101_1477200 SSU72               ENSG00000160075                \n",
       "                     geneType                      SXR0002 SXR0004 SXR0006 ⋯\n",
       "chr1_1337301_1337400 protein_coding;protein_coding 0       0       3       ⋯\n",
       "chr1_1477001_1477100 protein_coding                0       1       3       ⋯\n",
       "chr1_1477101_1477200 protein_coding                0       0       0       ⋯\n",
       "                     SXR0105 SXR0111 SXR0112 SXR0113 SXR0114 SXR0115 SXR0117\n",
       "chr1_1337301_1337400 9       19      23      9       0       0       5      \n",
       "chr1_1477001_1477100 3        5       3      4       0       0       2      \n",
       "chr1_1477101_1477200 2       10       5      3       3       0       3      \n",
       "                     SXR0118 SXR0121 SXR0122\n",
       "chr1_1337301_1337400 0       8       19     \n",
       "chr1_1477001_1477100 0       3        3     \n",
       "chr1_1477101_1477200 0       2        5     "
      ]
     },
     "metadata": {},
     "output_type": "display_data"
    },
    {
     "data": {
      "text/html": [
       "<style>\n",
       ".list-inline {list-style: none; margin:0; padding: 0}\n",
       ".list-inline>li {display: inline-block}\n",
       ".list-inline>li:not(:last-child)::after {content: \"\\00b7\"; padding: 0 .5ex}\n",
       "</style>\n",
       "<ol class=list-inline><li>12.33</li><li>6.98</li><li>5.65</li><li>5.13</li><li>3.96</li><li>2.68</li></ol>\n"
      ],
      "text/latex": [
       "\\begin{enumerate*}\n",
       "\\item 12.33\n",
       "\\item 6.98\n",
       "\\item 5.65\n",
       "\\item 5.13\n",
       "\\item 3.96\n",
       "\\item 2.68\n",
       "\\end{enumerate*}\n"
      ],
      "text/markdown": [
       "1. 12.33\n",
       "2. 6.98\n",
       "3. 5.65\n",
       "4. 5.13\n",
       "5. 3.96\n",
       "6. 2.68\n",
       "\n",
       "\n"
      ],
      "text/plain": [
       "[1] 12.33  6.98  5.65  5.13  3.96  2.68"
      ]
     },
     "metadata": {},
     "output_type": "display_data"
    }
   ],
   "source": [
    "# save total all reads/TPM/rlog TPM values:\n",
    "\n",
    "countsDF = as.data.frame(counts)\n",
    "countsDF = cbind(regionAnnot,countsDF)\n",
    "dim(countsDF)\n",
    "head(countsDF,3)\n",
    "\n",
    "countsDF$sum = rowSums(countsDF[,sampleAnnot$ID],na.rm = T)\n",
    "countsDF$sd = round(apply(X = countsDF[,sampleAnnot$ID],1, function(x) sd(x,na.rm = T)),1)\n",
    "countsDF = countsDF[order(countsDF$sum,decreasing = T),]\n",
    "total = sum(countsDF$sum)\n",
    "countsDF$percentOfTotal <- round(countsDF$sum/total*100,2)\n",
    "head(countsDF$percentOfTotal)\n",
    "colnames(countsDF)[which(colnames(countsDF)==\"percentOfTotal\")] = \"% of total\""
   ]
  },
  {
   "cell_type": "code",
   "execution_count": 46,
   "id": "mexican-bikini",
   "metadata": {
    "scrolled": true
   },
   "outputs": [
    {
     "data": {
      "text/html": [
       "<table class=\"dataframe\">\n",
       "<caption>A data.frame: 3 × 70</caption>\n",
       "<thead>\n",
       "\t<tr><th></th><th scope=col>name</th><th scope=col>chr</th><th scope=col>start</th><th scope=col>end</th><th scope=col>gene</th><th scope=col>EnsgID</th><th scope=col>geneType</th><th scope=col>SXR0002</th><th scope=col>SXR0004</th><th scope=col>SXR0006</th><th scope=col>⋯</th><th scope=col>SXR0105</th><th scope=col>SXR0111</th><th scope=col>SXR0112</th><th scope=col>SXR0113</th><th scope=col>SXR0114</th><th scope=col>SXR0115</th><th scope=col>SXR0117</th><th scope=col>SXR0118</th><th scope=col>SXR0121</th><th scope=col>SXR0122</th></tr>\n",
       "\t<tr><th></th><th scope=col>&lt;chr&gt;</th><th scope=col>&lt;chr&gt;</th><th scope=col>&lt;dbl&gt;</th><th scope=col>&lt;dbl&gt;</th><th scope=col>&lt;chr&gt;</th><th scope=col>&lt;chr&gt;</th><th scope=col>&lt;chr&gt;</th><th scope=col>&lt;dbl&gt;</th><th scope=col>&lt;dbl&gt;</th><th scope=col>&lt;dbl&gt;</th><th scope=col>⋯</th><th scope=col>&lt;dbl&gt;</th><th scope=col>&lt;dbl&gt;</th><th scope=col>&lt;dbl&gt;</th><th scope=col>&lt;dbl&gt;</th><th scope=col>&lt;dbl&gt;</th><th scope=col>&lt;dbl&gt;</th><th scope=col>&lt;dbl&gt;</th><th scope=col>&lt;dbl&gt;</th><th scope=col>&lt;dbl&gt;</th><th scope=col>&lt;dbl&gt;</th></tr>\n",
       "</thead>\n",
       "<tbody>\n",
       "\t<tr><th scope=row>chr1_1337301_1337400</th><td>chr1_1337301_1337400</td><td>chr1</td><td>1337301</td><td>1337400</td><td>RP4-758J18.2;MRPL20</td><td>ENSG00000224870;ENSG00000242485</td><td>protein_coding;protein_coding</td><td>0</td><td>0.000000</td><td>43.5262</td><td>⋯</td><td>47.30866</td><td>39.61626</td><td>69.175429</td><td>44.81045</td><td> 0.00000</td><td>0</td><td>14.280532</td><td>0</td><td>22.132157</td><td>14.901552</td></tr>\n",
       "\t<tr><th scope=row>chr1_1477001_1477100</th><td>chr1_1477001_1477100</td><td>chr1</td><td>1477001</td><td>1477100</td><td>SSU72              </td><td>ENSG00000160075                </td><td>protein_coding               </td><td>0</td><td>4.154791</td><td>43.5262</td><td>⋯</td><td>15.76955</td><td>10.42533</td><td> 9.022882</td><td>19.91576</td><td> 0.00000</td><td>0</td><td> 5.712213</td><td>0</td><td> 8.299559</td><td> 2.352877</td></tr>\n",
       "\t<tr><th scope=row>chr1_1477101_1477200</th><td>chr1_1477101_1477200</td><td>chr1</td><td>1477101</td><td>1477200</td><td>SSU72              </td><td>ENSG00000160075                </td><td>protein_coding               </td><td>0</td><td>0.000000</td><td> 0.0000</td><td>⋯</td><td>10.51304</td><td>20.85067</td><td>15.038137</td><td>14.93682</td><td>90.30976</td><td>0</td><td> 8.568319</td><td>0</td><td> 5.533039</td><td> 3.921461</td></tr>\n",
       "</tbody>\n",
       "</table>\n"
      ],
      "text/latex": [
       "A data.frame: 3 × 70\n",
       "\\begin{tabular}{r|lllllllllllllllllllll}\n",
       "  & name & chr & start & end & gene & EnsgID & geneType & SXR0002 & SXR0004 & SXR0006 & ⋯ & SXR0105 & SXR0111 & SXR0112 & SXR0113 & SXR0114 & SXR0115 & SXR0117 & SXR0118 & SXR0121 & SXR0122\\\\\n",
       "  & <chr> & <chr> & <dbl> & <dbl> & <chr> & <chr> & <chr> & <dbl> & <dbl> & <dbl> & ⋯ & <dbl> & <dbl> & <dbl> & <dbl> & <dbl> & <dbl> & <dbl> & <dbl> & <dbl> & <dbl>\\\\\n",
       "\\hline\n",
       "\tchr1\\_1337301\\_1337400 & chr1\\_1337301\\_1337400 & chr1 & 1337301 & 1337400 & RP4-758J18.2;MRPL20 & ENSG00000224870;ENSG00000242485 & protein\\_coding;protein\\_coding & 0 & 0.000000 & 43.5262 & ⋯ & 47.30866 & 39.61626 & 69.175429 & 44.81045 &  0.00000 & 0 & 14.280532 & 0 & 22.132157 & 14.901552\\\\\n",
       "\tchr1\\_1477001\\_1477100 & chr1\\_1477001\\_1477100 & chr1 & 1477001 & 1477100 & SSU72               & ENSG00000160075                 & protein\\_coding                & 0 & 4.154791 & 43.5262 & ⋯ & 15.76955 & 10.42533 &  9.022882 & 19.91576 &  0.00000 & 0 &  5.712213 & 0 &  8.299559 &  2.352877\\\\\n",
       "\tchr1\\_1477101\\_1477200 & chr1\\_1477101\\_1477200 & chr1 & 1477101 & 1477200 & SSU72               & ENSG00000160075                 & protein\\_coding                & 0 & 0.000000 &  0.0000 & ⋯ & 10.51304 & 20.85067 & 15.038137 & 14.93682 & 90.30976 & 0 &  8.568319 & 0 &  5.533039 &  3.921461\\\\\n",
       "\\end{tabular}\n"
      ],
      "text/markdown": [
       "\n",
       "A data.frame: 3 × 70\n",
       "\n",
       "| <!--/--> | name &lt;chr&gt; | chr &lt;chr&gt; | start &lt;dbl&gt; | end &lt;dbl&gt; | gene &lt;chr&gt; | EnsgID &lt;chr&gt; | geneType &lt;chr&gt; | SXR0002 &lt;dbl&gt; | SXR0004 &lt;dbl&gt; | SXR0006 &lt;dbl&gt; | ⋯ ⋯ | SXR0105 &lt;dbl&gt; | SXR0111 &lt;dbl&gt; | SXR0112 &lt;dbl&gt; | SXR0113 &lt;dbl&gt; | SXR0114 &lt;dbl&gt; | SXR0115 &lt;dbl&gt; | SXR0117 &lt;dbl&gt; | SXR0118 &lt;dbl&gt; | SXR0121 &lt;dbl&gt; | SXR0122 &lt;dbl&gt; |\n",
       "|---|---|---|---|---|---|---|---|---|---|---|---|---|---|---|---|---|---|---|---|---|---|\n",
       "| chr1_1337301_1337400 | chr1_1337301_1337400 | chr1 | 1337301 | 1337400 | RP4-758J18.2;MRPL20 | ENSG00000224870;ENSG00000242485 | protein_coding;protein_coding | 0 | 0.000000 | 43.5262 | ⋯ | 47.30866 | 39.61626 | 69.175429 | 44.81045 |  0.00000 | 0 | 14.280532 | 0 | 22.132157 | 14.901552 |\n",
       "| chr1_1477001_1477100 | chr1_1477001_1477100 | chr1 | 1477001 | 1477100 | SSU72               | ENSG00000160075                 | protein_coding                | 0 | 4.154791 | 43.5262 | ⋯ | 15.76955 | 10.42533 |  9.022882 | 19.91576 |  0.00000 | 0 |  5.712213 | 0 |  8.299559 |  2.352877 |\n",
       "| chr1_1477101_1477200 | chr1_1477101_1477200 | chr1 | 1477101 | 1477200 | SSU72               | ENSG00000160075                 | protein_coding                | 0 | 0.000000 |  0.0000 | ⋯ | 10.51304 | 20.85067 | 15.038137 | 14.93682 | 90.30976 | 0 |  8.568319 | 0 |  5.533039 |  3.921461 |\n",
       "\n"
      ],
      "text/plain": [
       "                     name                 chr  start   end    \n",
       "chr1_1337301_1337400 chr1_1337301_1337400 chr1 1337301 1337400\n",
       "chr1_1477001_1477100 chr1_1477001_1477100 chr1 1477001 1477100\n",
       "chr1_1477101_1477200 chr1_1477101_1477200 chr1 1477101 1477200\n",
       "                     gene                EnsgID                         \n",
       "chr1_1337301_1337400 RP4-758J18.2;MRPL20 ENSG00000224870;ENSG00000242485\n",
       "chr1_1477001_1477100 SSU72               ENSG00000160075                \n",
       "chr1_1477101_1477200 SSU72               ENSG00000160075                \n",
       "                     geneType                      SXR0002 SXR0004  SXR0006 ⋯\n",
       "chr1_1337301_1337400 protein_coding;protein_coding 0       0.000000 43.5262 ⋯\n",
       "chr1_1477001_1477100 protein_coding                0       4.154791 43.5262 ⋯\n",
       "chr1_1477101_1477200 protein_coding                0       0.000000  0.0000 ⋯\n",
       "                     SXR0105  SXR0111  SXR0112   SXR0113  SXR0114  SXR0115\n",
       "chr1_1337301_1337400 47.30866 39.61626 69.175429 44.81045  0.00000 0      \n",
       "chr1_1477001_1477100 15.76955 10.42533  9.022882 19.91576  0.00000 0      \n",
       "chr1_1477101_1477200 10.51304 20.85067 15.038137 14.93682 90.30976 0      \n",
       "                     SXR0117   SXR0118 SXR0121   SXR0122  \n",
       "chr1_1337301_1337400 14.280532 0       22.132157 14.901552\n",
       "chr1_1477001_1477100  5.712213 0        8.299559  2.352877\n",
       "chr1_1477101_1477200  8.568319 0        5.533039  3.921461"
      ]
     },
     "metadata": {},
     "output_type": "display_data"
    },
    {
     "data": {
      "text/html": [
       "<style>\n",
       ".list-inline {list-style: none; margin:0; padding: 0}\n",
       ".list-inline>li {display: inline-block}\n",
       ".list-inline>li:not(:last-child)::after {content: \"\\00b7\"; padding: 0 .5ex}\n",
       "</style>\n",
       "<ol class=list-inline><li>11.68</li><li>6.74</li><li>5.45</li><li>4.96</li><li>3.32</li><li>3.31</li></ol>\n"
      ],
      "text/latex": [
       "\\begin{enumerate*}\n",
       "\\item 11.68\n",
       "\\item 6.74\n",
       "\\item 5.45\n",
       "\\item 4.96\n",
       "\\item 3.32\n",
       "\\item 3.31\n",
       "\\end{enumerate*}\n"
      ],
      "text/markdown": [
       "1. 11.68\n",
       "2. 6.74\n",
       "3. 5.45\n",
       "4. 4.96\n",
       "5. 3.32\n",
       "6. 3.31\n",
       "\n",
       "\n"
      ],
      "text/plain": [
       "[1] 11.68  6.74  5.45  4.96  3.32  3.31"
      ]
     },
     "metadata": {},
     "output_type": "display_data"
    }
   ],
   "source": [
    "TPMsDF = as.data.frame(TPMs)\n",
    "TPMsDF = cbind(regionAnnot,TPMsDF)\n",
    "head(TPMsDF,3)\n",
    "TPMsDF$sum =rowSums(TPMsDF[,sampleAnnot$ID],na.rm = T)\n",
    "TPMsDF$sd = round(apply(X = TPMsDF[,sampleAnnot$ID],1, function(x) sd(x,na.rm = T)),1)\n",
    "TPMsDF = TPMsDF[order(TPMsDF$sum,decreasing = T),]\n",
    "total = sum(TPMsDF$sum)\n",
    "TPMsDF$percentOfTotal = round(TPMsDF$sum/total*100,2)\n",
    "head(TPMsDF$percentOfTotal)\n",
    "colnames(TPMsDF)[which(colnames(TPMsDF)==\"percentOfTotal\")] = \"% of total\""
   ]
  },
  {
   "cell_type": "code",
   "execution_count": 47,
   "id": "d026545b",
   "metadata": {},
   "outputs": [],
   "source": [
    "totalReadsDF = data.frame(sample=names(totalReads),non_unique_counts=totalReads)"
   ]
  },
  {
   "cell_type": "markdown",
   "id": "0c3433f5",
   "metadata": {
    "scrolled": true
   },
   "source": [
    "### regularized logarithmic transformation of TPMs:"
   ]
  },
  {
   "cell_type": "code",
   "execution_count": 48,
   "id": "beneficial-visibility",
   "metadata": {
    "scrolled": true
   },
   "outputs": [
    {
     "name": "stderr",
     "output_type": "stream",
     "text": [
      "rlog() may take a long time with 50 or more samples,\n",
      "vst() is a much faster transformation\n",
      "\n",
      "converting counts to integer mode\n",
      "\n",
      "-- note: fitType='parametric', but the dispersion trend was not well captured by the\n",
      "   function: y = a/x + b, and a local regression fit was automatically substituted.\n",
      "   specify fitType='local' or 'mean' to avoid this message next time.\n",
      "\n"
     ]
    },
    {
     "data": {
      "text/html": [
       "TRUE"
      ],
      "text/latex": [
       "TRUE"
      ],
      "text/markdown": [
       "TRUE"
      ],
      "text/plain": [
       "[1] TRUE"
      ]
     },
     "metadata": {},
     "output_type": "display_data"
    },
    {
     "data": {
      "text/html": [
       "<table class=\"dataframe\">\n",
       "<caption>A matrix: 3 × 63 of type dbl</caption>\n",
       "<thead>\n",
       "\t<tr><th></th><th scope=col>SXR0002</th><th scope=col>SXR0004</th><th scope=col>SXR0006</th><th scope=col>SXR0010</th><th scope=col>SXR0014</th><th scope=col>SXR0016</th><th scope=col>SXR0018</th><th scope=col>SXR0028</th><th scope=col>SXR0029</th><th scope=col>SXR0030</th><th scope=col>⋯</th><th scope=col>SXR0105</th><th scope=col>SXR0111</th><th scope=col>SXR0112</th><th scope=col>SXR0113</th><th scope=col>SXR0114</th><th scope=col>SXR0115</th><th scope=col>SXR0117</th><th scope=col>SXR0118</th><th scope=col>SXR0121</th><th scope=col>SXR0122</th></tr>\n",
       "</thead>\n",
       "<tbody>\n",
       "\t<tr><th scope=row>chr1_1337301_1337400</th><td>2.123631</td><td>1.800643</td><td>2.461518</td><td>2.179159</td><td>2.377046</td><td>2.057256</td><td>2.232788</td><td>2.555575</td><td>2.312829</td><td>2.205442</td><td>⋯</td><td>2.548749</td><td>2.388191</td><td>2.464161</td><td>2.414404</td><td>2.067634</td><td>2.022713</td><td>2.343868</td><td>2.147383</td><td>2.363445</td><td>2.398100</td></tr>\n",
       "\t<tr><th scope=row>chr1_1477001_1477100</th><td>1.983648</td><td>2.029845</td><td>2.380671</td><td>1.937125</td><td>2.167609</td><td>2.107247</td><td>2.002109</td><td>1.206736</td><td>1.939013</td><td>1.970228</td><td>⋯</td><td>2.109202</td><td>1.878512</td><td>1.747937</td><td>2.060209</td><td>1.916125</td><td>1.860831</td><td>1.972645</td><td>2.011892</td><td>1.966296</td><td>1.806975</td></tr>\n",
       "\t<tr><th scope=row>chr1_1477101_1477200</th><td>1.970076</td><td>1.597760</td><td>1.406514</td><td>1.408062</td><td>1.810822</td><td>1.465409</td><td>2.136680</td><td>1.329892</td><td>2.012175</td><td>1.884863</td><td>⋯</td><td>1.971988</td><td>2.065737</td><td>1.884898</td><td>1.959659</td><td>3.223372</td><td>1.859096</td><td>2.067522</td><td>1.995850</td><td>1.854515</td><td>1.910907</td></tr>\n",
       "</tbody>\n",
       "</table>\n"
      ],
      "text/latex": [
       "A matrix: 3 × 63 of type dbl\n",
       "\\begin{tabular}{r|lllllllllllllllllllll}\n",
       "  & SXR0002 & SXR0004 & SXR0006 & SXR0010 & SXR0014 & SXR0016 & SXR0018 & SXR0028 & SXR0029 & SXR0030 & ⋯ & SXR0105 & SXR0111 & SXR0112 & SXR0113 & SXR0114 & SXR0115 & SXR0117 & SXR0118 & SXR0121 & SXR0122\\\\\n",
       "\\hline\n",
       "\tchr1\\_1337301\\_1337400 & 2.123631 & 1.800643 & 2.461518 & 2.179159 & 2.377046 & 2.057256 & 2.232788 & 2.555575 & 2.312829 & 2.205442 & ⋯ & 2.548749 & 2.388191 & 2.464161 & 2.414404 & 2.067634 & 2.022713 & 2.343868 & 2.147383 & 2.363445 & 2.398100\\\\\n",
       "\tchr1\\_1477001\\_1477100 & 1.983648 & 2.029845 & 2.380671 & 1.937125 & 2.167609 & 2.107247 & 2.002109 & 1.206736 & 1.939013 & 1.970228 & ⋯ & 2.109202 & 1.878512 & 1.747937 & 2.060209 & 1.916125 & 1.860831 & 1.972645 & 2.011892 & 1.966296 & 1.806975\\\\\n",
       "\tchr1\\_1477101\\_1477200 & 1.970076 & 1.597760 & 1.406514 & 1.408062 & 1.810822 & 1.465409 & 2.136680 & 1.329892 & 2.012175 & 1.884863 & ⋯ & 1.971988 & 2.065737 & 1.884898 & 1.959659 & 3.223372 & 1.859096 & 2.067522 & 1.995850 & 1.854515 & 1.910907\\\\\n",
       "\\end{tabular}\n"
      ],
      "text/markdown": [
       "\n",
       "A matrix: 3 × 63 of type dbl\n",
       "\n",
       "| <!--/--> | SXR0002 | SXR0004 | SXR0006 | SXR0010 | SXR0014 | SXR0016 | SXR0018 | SXR0028 | SXR0029 | SXR0030 | ⋯ | SXR0105 | SXR0111 | SXR0112 | SXR0113 | SXR0114 | SXR0115 | SXR0117 | SXR0118 | SXR0121 | SXR0122 |\n",
       "|---|---|---|---|---|---|---|---|---|---|---|---|---|---|---|---|---|---|---|---|---|---|\n",
       "| chr1_1337301_1337400 | 2.123631 | 1.800643 | 2.461518 | 2.179159 | 2.377046 | 2.057256 | 2.232788 | 2.555575 | 2.312829 | 2.205442 | ⋯ | 2.548749 | 2.388191 | 2.464161 | 2.414404 | 2.067634 | 2.022713 | 2.343868 | 2.147383 | 2.363445 | 2.398100 |\n",
       "| chr1_1477001_1477100 | 1.983648 | 2.029845 | 2.380671 | 1.937125 | 2.167609 | 2.107247 | 2.002109 | 1.206736 | 1.939013 | 1.970228 | ⋯ | 2.109202 | 1.878512 | 1.747937 | 2.060209 | 1.916125 | 1.860831 | 1.972645 | 2.011892 | 1.966296 | 1.806975 |\n",
       "| chr1_1477101_1477200 | 1.970076 | 1.597760 | 1.406514 | 1.408062 | 1.810822 | 1.465409 | 2.136680 | 1.329892 | 2.012175 | 1.884863 | ⋯ | 1.971988 | 2.065737 | 1.884898 | 1.959659 | 3.223372 | 1.859096 | 2.067522 | 1.995850 | 1.854515 | 1.910907 |\n",
       "\n"
      ],
      "text/plain": [
       "                     SXR0002  SXR0004  SXR0006  SXR0010  SXR0014  SXR0016 \n",
       "chr1_1337301_1337400 2.123631 1.800643 2.461518 2.179159 2.377046 2.057256\n",
       "chr1_1477001_1477100 1.983648 2.029845 2.380671 1.937125 2.167609 2.107247\n",
       "chr1_1477101_1477200 1.970076 1.597760 1.406514 1.408062 1.810822 1.465409\n",
       "                     SXR0018  SXR0028  SXR0029  SXR0030  ⋯ SXR0105  SXR0111 \n",
       "chr1_1337301_1337400 2.232788 2.555575 2.312829 2.205442 ⋯ 2.548749 2.388191\n",
       "chr1_1477001_1477100 2.002109 1.206736 1.939013 1.970228 ⋯ 2.109202 1.878512\n",
       "chr1_1477101_1477200 2.136680 1.329892 2.012175 1.884863 ⋯ 1.971988 2.065737\n",
       "                     SXR0112  SXR0113  SXR0114  SXR0115  SXR0117  SXR0118 \n",
       "chr1_1337301_1337400 2.464161 2.414404 2.067634 2.022713 2.343868 2.147383\n",
       "chr1_1477001_1477100 1.747937 2.060209 1.916125 1.860831 1.972645 2.011892\n",
       "chr1_1477101_1477200 1.884898 1.959659 3.223372 1.859096 2.067522 1.995850\n",
       "                     SXR0121  SXR0122 \n",
       "chr1_1337301_1337400 2.363445 2.398100\n",
       "chr1_1477001_1477100 1.966296 1.806975\n",
       "chr1_1477101_1477200 1.854515 1.910907"
      ]
     },
     "metadata": {},
     "output_type": "display_data"
    },
    {
     "data": {
      "text/html": [
       "<table class=\"dataframe\">\n",
       "<caption>A matrix: 3 × 63 of type dbl</caption>\n",
       "<thead>\n",
       "\t<tr><th></th><th scope=col>SXR0002</th><th scope=col>SXR0004</th><th scope=col>SXR0006</th><th scope=col>SXR0010</th><th scope=col>SXR0014</th><th scope=col>SXR0016</th><th scope=col>SXR0018</th><th scope=col>SXR0028</th><th scope=col>SXR0029</th><th scope=col>SXR0030</th><th scope=col>⋯</th><th scope=col>SXR0105</th><th scope=col>SXR0111</th><th scope=col>SXR0112</th><th scope=col>SXR0113</th><th scope=col>SXR0114</th><th scope=col>SXR0115</th><th scope=col>SXR0117</th><th scope=col>SXR0118</th><th scope=col>SXR0121</th><th scope=col>SXR0122</th></tr>\n",
       "</thead>\n",
       "<tbody>\n",
       "\t<tr><th scope=row>chr1_1337301_1337400</th><td>1</td><td>1.000000</td><td>44.5262</td><td>17.14683</td><td>29.319627</td><td> 7.273447</td><td> 8.978883</td><td>118.6263</td><td>65.69023</td><td>11.898569</td><td>⋯</td><td>48.30866</td><td>40.61626</td><td>70.17543</td><td>45.81045</td><td> 1.00000</td><td>1</td><td>15.280532</td><td>1</td><td>23.132157</td><td>15.901552</td></tr>\n",
       "\t<tr><th scope=row>chr1_1477001_1477100</th><td>1</td><td>5.154791</td><td>44.5262</td><td>11.76455</td><td>20.823739</td><td>13.546894</td><td> 6.319255</td><td>  1.0000</td><td>28.72438</td><td> 8.265713</td><td>⋯</td><td>16.76955</td><td>11.42533</td><td>10.02288</td><td>20.91576</td><td> 1.00000</td><td>1</td><td> 6.712213</td><td>1</td><td> 9.299559</td><td> 3.352877</td></tr>\n",
       "\t<tr><th scope=row>chr1_1477101_1477200</th><td>1</td><td>1.000000</td><td> 1.0000</td><td> 1.00000</td><td> 6.663925</td><td> 1.000000</td><td>10.308696</td><td>  1.0000</td><td>37.96584</td><td> 6.449284</td><td>⋯</td><td>11.51304</td><td>21.85067</td><td>16.03814</td><td>15.93682</td><td>91.30976</td><td>1</td><td> 9.568319</td><td>1</td><td> 6.533039</td><td> 4.921461</td></tr>\n",
       "</tbody>\n",
       "</table>\n"
      ],
      "text/latex": [
       "A matrix: 3 × 63 of type dbl\n",
       "\\begin{tabular}{r|lllllllllllllllllllll}\n",
       "  & SXR0002 & SXR0004 & SXR0006 & SXR0010 & SXR0014 & SXR0016 & SXR0018 & SXR0028 & SXR0029 & SXR0030 & ⋯ & SXR0105 & SXR0111 & SXR0112 & SXR0113 & SXR0114 & SXR0115 & SXR0117 & SXR0118 & SXR0121 & SXR0122\\\\\n",
       "\\hline\n",
       "\tchr1\\_1337301\\_1337400 & 1 & 1.000000 & 44.5262 & 17.14683 & 29.319627 &  7.273447 &  8.978883 & 118.6263 & 65.69023 & 11.898569 & ⋯ & 48.30866 & 40.61626 & 70.17543 & 45.81045 &  1.00000 & 1 & 15.280532 & 1 & 23.132157 & 15.901552\\\\\n",
       "\tchr1\\_1477001\\_1477100 & 1 & 5.154791 & 44.5262 & 11.76455 & 20.823739 & 13.546894 &  6.319255 &   1.0000 & 28.72438 &  8.265713 & ⋯ & 16.76955 & 11.42533 & 10.02288 & 20.91576 &  1.00000 & 1 &  6.712213 & 1 &  9.299559 &  3.352877\\\\\n",
       "\tchr1\\_1477101\\_1477200 & 1 & 1.000000 &  1.0000 &  1.00000 &  6.663925 &  1.000000 & 10.308696 &   1.0000 & 37.96584 &  6.449284 & ⋯ & 11.51304 & 21.85067 & 16.03814 & 15.93682 & 91.30976 & 1 &  9.568319 & 1 &  6.533039 &  4.921461\\\\\n",
       "\\end{tabular}\n"
      ],
      "text/markdown": [
       "\n",
       "A matrix: 3 × 63 of type dbl\n",
       "\n",
       "| <!--/--> | SXR0002 | SXR0004 | SXR0006 | SXR0010 | SXR0014 | SXR0016 | SXR0018 | SXR0028 | SXR0029 | SXR0030 | ⋯ | SXR0105 | SXR0111 | SXR0112 | SXR0113 | SXR0114 | SXR0115 | SXR0117 | SXR0118 | SXR0121 | SXR0122 |\n",
       "|---|---|---|---|---|---|---|---|---|---|---|---|---|---|---|---|---|---|---|---|---|---|\n",
       "| chr1_1337301_1337400 | 1 | 1.000000 | 44.5262 | 17.14683 | 29.319627 |  7.273447 |  8.978883 | 118.6263 | 65.69023 | 11.898569 | ⋯ | 48.30866 | 40.61626 | 70.17543 | 45.81045 |  1.00000 | 1 | 15.280532 | 1 | 23.132157 | 15.901552 |\n",
       "| chr1_1477001_1477100 | 1 | 5.154791 | 44.5262 | 11.76455 | 20.823739 | 13.546894 |  6.319255 |   1.0000 | 28.72438 |  8.265713 | ⋯ | 16.76955 | 11.42533 | 10.02288 | 20.91576 |  1.00000 | 1 |  6.712213 | 1 |  9.299559 |  3.352877 |\n",
       "| chr1_1477101_1477200 | 1 | 1.000000 |  1.0000 |  1.00000 |  6.663925 |  1.000000 | 10.308696 |   1.0000 | 37.96584 |  6.449284 | ⋯ | 11.51304 | 21.85067 | 16.03814 | 15.93682 | 91.30976 | 1 |  9.568319 | 1 |  6.533039 |  4.921461 |\n",
       "\n"
      ],
      "text/plain": [
       "                     SXR0002 SXR0004  SXR0006 SXR0010  SXR0014   SXR0016  \n",
       "chr1_1337301_1337400 1       1.000000 44.5262 17.14683 29.319627  7.273447\n",
       "chr1_1477001_1477100 1       5.154791 44.5262 11.76455 20.823739 13.546894\n",
       "chr1_1477101_1477200 1       1.000000  1.0000  1.00000  6.663925  1.000000\n",
       "                     SXR0018   SXR0028  SXR0029  SXR0030   ⋯ SXR0105  SXR0111 \n",
       "chr1_1337301_1337400  8.978883 118.6263 65.69023 11.898569 ⋯ 48.30866 40.61626\n",
       "chr1_1477001_1477100  6.319255   1.0000 28.72438  8.265713 ⋯ 16.76955 11.42533\n",
       "chr1_1477101_1477200 10.308696   1.0000 37.96584  6.449284 ⋯ 11.51304 21.85067\n",
       "                     SXR0112  SXR0113  SXR0114  SXR0115 SXR0117   SXR0118\n",
       "chr1_1337301_1337400 70.17543 45.81045  1.00000 1       15.280532 1      \n",
       "chr1_1477001_1477100 10.02288 20.91576  1.00000 1        6.712213 1      \n",
       "chr1_1477101_1477200 16.03814 15.93682 91.30976 1        9.568319 1      \n",
       "                     SXR0121   SXR0122  \n",
       "chr1_1337301_1337400 23.132157 15.901552\n",
       "chr1_1477001_1477100  9.299559  3.352877\n",
       "chr1_1477101_1477200  6.533039  4.921461"
      ]
     },
     "metadata": {},
     "output_type": "display_data"
    },
    {
     "data": {
      "text/html": [
       "<table class=\"dataframe\">\n",
       "<caption>A matrix: 3 × 63 of type int</caption>\n",
       "<thead>\n",
       "\t<tr><th></th><th scope=col>SXR0002</th><th scope=col>SXR0004</th><th scope=col>SXR0006</th><th scope=col>SXR0010</th><th scope=col>SXR0014</th><th scope=col>SXR0016</th><th scope=col>SXR0018</th><th scope=col>SXR0028</th><th scope=col>SXR0029</th><th scope=col>SXR0030</th><th scope=col>⋯</th><th scope=col>SXR0105</th><th scope=col>SXR0111</th><th scope=col>SXR0112</th><th scope=col>SXR0113</th><th scope=col>SXR0114</th><th scope=col>SXR0115</th><th scope=col>SXR0117</th><th scope=col>SXR0118</th><th scope=col>SXR0121</th><th scope=col>SXR0122</th></tr>\n",
       "</thead>\n",
       "<tbody>\n",
       "\t<tr><th scope=row>chr1_1337301_1337400</th><td>0</td><td>0</td><td>3</td><td>3</td><td>10</td><td>1</td><td>6</td><td>14</td><td>7</td><td>6</td><td>⋯</td><td>9</td><td>19</td><td>23</td><td>9</td><td>0</td><td>0</td><td>5</td><td>0</td><td>8</td><td>19</td></tr>\n",
       "\t<tr><th scope=row>chr1_1477001_1477100</th><td>0</td><td>1</td><td>3</td><td>2</td><td> 7</td><td>2</td><td>4</td><td> 0</td><td>3</td><td>4</td><td>⋯</td><td>3</td><td> 5</td><td> 3</td><td>4</td><td>0</td><td>0</td><td>2</td><td>0</td><td>3</td><td> 3</td></tr>\n",
       "\t<tr><th scope=row>chr1_1477101_1477200</th><td>0</td><td>0</td><td>0</td><td>0</td><td> 2</td><td>0</td><td>7</td><td> 0</td><td>4</td><td>3</td><td>⋯</td><td>2</td><td>10</td><td> 5</td><td>3</td><td>3</td><td>0</td><td>3</td><td>0</td><td>2</td><td> 5</td></tr>\n",
       "</tbody>\n",
       "</table>\n"
      ],
      "text/latex": [
       "A matrix: 3 × 63 of type int\n",
       "\\begin{tabular}{r|lllllllllllllllllllll}\n",
       "  & SXR0002 & SXR0004 & SXR0006 & SXR0010 & SXR0014 & SXR0016 & SXR0018 & SXR0028 & SXR0029 & SXR0030 & ⋯ & SXR0105 & SXR0111 & SXR0112 & SXR0113 & SXR0114 & SXR0115 & SXR0117 & SXR0118 & SXR0121 & SXR0122\\\\\n",
       "\\hline\n",
       "\tchr1\\_1337301\\_1337400 & 0 & 0 & 3 & 3 & 10 & 1 & 6 & 14 & 7 & 6 & ⋯ & 9 & 19 & 23 & 9 & 0 & 0 & 5 & 0 & 8 & 19\\\\\n",
       "\tchr1\\_1477001\\_1477100 & 0 & 1 & 3 & 2 &  7 & 2 & 4 &  0 & 3 & 4 & ⋯ & 3 &  5 &  3 & 4 & 0 & 0 & 2 & 0 & 3 &  3\\\\\n",
       "\tchr1\\_1477101\\_1477200 & 0 & 0 & 0 & 0 &  2 & 0 & 7 &  0 & 4 & 3 & ⋯ & 2 & 10 &  5 & 3 & 3 & 0 & 3 & 0 & 2 &  5\\\\\n",
       "\\end{tabular}\n"
      ],
      "text/markdown": [
       "\n",
       "A matrix: 3 × 63 of type int\n",
       "\n",
       "| <!--/--> | SXR0002 | SXR0004 | SXR0006 | SXR0010 | SXR0014 | SXR0016 | SXR0018 | SXR0028 | SXR0029 | SXR0030 | ⋯ | SXR0105 | SXR0111 | SXR0112 | SXR0113 | SXR0114 | SXR0115 | SXR0117 | SXR0118 | SXR0121 | SXR0122 |\n",
       "|---|---|---|---|---|---|---|---|---|---|---|---|---|---|---|---|---|---|---|---|---|---|\n",
       "| chr1_1337301_1337400 | 0 | 0 | 3 | 3 | 10 | 1 | 6 | 14 | 7 | 6 | ⋯ | 9 | 19 | 23 | 9 | 0 | 0 | 5 | 0 | 8 | 19 |\n",
       "| chr1_1477001_1477100 | 0 | 1 | 3 | 2 |  7 | 2 | 4 |  0 | 3 | 4 | ⋯ | 3 |  5 |  3 | 4 | 0 | 0 | 2 | 0 | 3 |  3 |\n",
       "| chr1_1477101_1477200 | 0 | 0 | 0 | 0 |  2 | 0 | 7 |  0 | 4 | 3 | ⋯ | 2 | 10 |  5 | 3 | 3 | 0 | 3 | 0 | 2 |  5 |\n",
       "\n"
      ],
      "text/plain": [
       "                     SXR0002 SXR0004 SXR0006 SXR0010 SXR0014 SXR0016 SXR0018\n",
       "chr1_1337301_1337400 0       0       3       3       10      1       6      \n",
       "chr1_1477001_1477100 0       1       3       2        7      2       4      \n",
       "chr1_1477101_1477200 0       0       0       0        2      0       7      \n",
       "                     SXR0028 SXR0029 SXR0030 ⋯ SXR0105 SXR0111 SXR0112 SXR0113\n",
       "chr1_1337301_1337400 14      7       6       ⋯ 9       19      23      9      \n",
       "chr1_1477001_1477100  0      3       4       ⋯ 3        5       3      4      \n",
       "chr1_1477101_1477200  0      4       3       ⋯ 2       10       5      3      \n",
       "                     SXR0114 SXR0115 SXR0117 SXR0118 SXR0121 SXR0122\n",
       "chr1_1337301_1337400 0       0       5       0       8       19     \n",
       "chr1_1477001_1477100 0       0       2       0       3        3     \n",
       "chr1_1477101_1477200 3       0       3       0       2        5     "
      ]
     },
     "metadata": {},
     "output_type": "display_data"
    }
   ],
   "source": [
    "# must be converted to integer first\n",
    "TPMs[,names(totalReads)] = TPMs[,names(totalReads)] + 1 # to avoid log(0)\n",
    "TPMsRlog = rlog(round(as.matrix(TPMs[,names(totalReads)]) *10))/3\n",
    "all(rownames(TPMs) == rownames(counts))\n",
    "rownames(TPMsRlog) = rownames(counts)\n",
    "head(TPMsRlog,3)\n",
    "head(TPMs,3)\n",
    "head(counts,3)"
   ]
  },
  {
   "cell_type": "code",
   "execution_count": 49,
   "id": "regulated-jason",
   "metadata": {
    "scrolled": true
   },
   "outputs": [
    {
     "data": {
      "text/html": [
       "100.058"
      ],
      "text/latex": [
       "100.058"
      ],
      "text/markdown": [
       "100.058"
      ],
      "text/plain": [
       "[1] 100.058"
      ]
     },
     "metadata": {},
     "output_type": "display_data"
    },
    {
     "data": {
      "text/html": [
       "100.058"
      ],
      "text/latex": [
       "100.058"
      ],
      "text/markdown": [
       "100.058"
      ],
      "text/plain": [
       "[1] 100.058"
      ]
     },
     "metadata": {},
     "output_type": "display_data"
    },
    {
     "data": {
      "text/html": [
       "<table class=\"dataframe\">\n",
       "<caption>A data.frame: 3 × 73</caption>\n",
       "<thead>\n",
       "\t<tr><th></th><th scope=col>name</th><th scope=col>chr</th><th scope=col>start</th><th scope=col>end</th><th scope=col>gene</th><th scope=col>EnsgID</th><th scope=col>geneType</th><th scope=col>SXR0002</th><th scope=col>SXR0004</th><th scope=col>SXR0006</th><th scope=col>⋯</th><th scope=col>SXR0113</th><th scope=col>SXR0114</th><th scope=col>SXR0115</th><th scope=col>SXR0117</th><th scope=col>SXR0118</th><th scope=col>SXR0121</th><th scope=col>SXR0122</th><th scope=col>sum</th><th scope=col>sd</th><th scope=col>% of total</th></tr>\n",
       "\t<tr><th></th><th scope=col>&lt;chr&gt;</th><th scope=col>&lt;chr&gt;</th><th scope=col>&lt;dbl&gt;</th><th scope=col>&lt;dbl&gt;</th><th scope=col>&lt;chr&gt;</th><th scope=col>&lt;chr&gt;</th><th scope=col>&lt;chr&gt;</th><th scope=col>&lt;dbl&gt;</th><th scope=col>&lt;dbl&gt;</th><th scope=col>&lt;dbl&gt;</th><th scope=col>⋯</th><th scope=col>&lt;dbl&gt;</th><th scope=col>&lt;dbl&gt;</th><th scope=col>&lt;dbl&gt;</th><th scope=col>&lt;dbl&gt;</th><th scope=col>&lt;dbl&gt;</th><th scope=col>&lt;dbl&gt;</th><th scope=col>&lt;dbl&gt;</th><th scope=col>&lt;dbl&gt;</th><th scope=col>&lt;dbl&gt;</th><th scope=col>&lt;dbl&gt;</th></tr>\n",
       "</thead>\n",
       "<tbody>\n",
       "\t<tr><th scope=row>chr17_66016001_66016100</th><td>chr17_66016001_66016100</td><td>chr17</td><td>66016001</td><td>66016100</td><td>RP4-758J18.2;MRPL20</td><td>ENSG00000224870;ENSG00000242485</td><td>protein_coding;protein_coding</td><td>7.348876</td><td>6.853805</td><td>6.592829</td><td>⋯</td><td>6.482551</td><td>7.168025</td><td>7.088977</td><td>6.734167</td><td>7.356240</td><td>6.574805</td><td>6.825713</td><td>425.9435</td><td>0.2</td><td>0.048</td></tr>\n",
       "\t<tr><th scope=row>chr19_45981901_45982000</th><td>chr19_45981901_45982000</td><td>chr19</td><td>45981901</td><td>45982000</td><td>ERCC1              </td><td>ENSG00000012061                </td><td>protein_coding               </td><td>7.092479</td><td>6.584624</td><td>6.183415</td><td>⋯</td><td>6.252242</td><td>6.922968</td><td>6.802854</td><td>6.489725</td><td>7.061517</td><td>6.432612</td><td>6.479043</td><td>408.6097</td><td>0.2</td><td>0.046</td></tr>\n",
       "\t<tr><th scope=row>chr19_45981801_45981900</th><td>chr19_45981801_45981900</td><td>chr19</td><td>45981801</td><td>45981900</td><td>ERCC1              </td><td>ENSG00000012061                </td><td>protein_coding               </td><td>6.926371</td><td>6.477220</td><td>6.121954</td><td>⋯</td><td>6.145730</td><td>6.829128</td><td>6.717482</td><td>6.389897</td><td>6.959546</td><td>6.323565</td><td>6.377113</td><td>401.9262</td><td>0.2</td><td>0.045</td></tr>\n",
       "</tbody>\n",
       "</table>\n"
      ],
      "text/latex": [
       "A data.frame: 3 × 73\n",
       "\\begin{tabular}{r|lllllllllllllllllllll}\n",
       "  & name & chr & start & end & gene & EnsgID & geneType & SXR0002 & SXR0004 & SXR0006 & ⋯ & SXR0113 & SXR0114 & SXR0115 & SXR0117 & SXR0118 & SXR0121 & SXR0122 & sum & sd & \\% of total\\\\\n",
       "  & <chr> & <chr> & <dbl> & <dbl> & <chr> & <chr> & <chr> & <dbl> & <dbl> & <dbl> & ⋯ & <dbl> & <dbl> & <dbl> & <dbl> & <dbl> & <dbl> & <dbl> & <dbl> & <dbl> & <dbl>\\\\\n",
       "\\hline\n",
       "\tchr17\\_66016001\\_66016100 & chr17\\_66016001\\_66016100 & chr17 & 66016001 & 66016100 & RP4-758J18.2;MRPL20 & ENSG00000224870;ENSG00000242485 & protein\\_coding;protein\\_coding & 7.348876 & 6.853805 & 6.592829 & ⋯ & 6.482551 & 7.168025 & 7.088977 & 6.734167 & 7.356240 & 6.574805 & 6.825713 & 425.9435 & 0.2 & 0.048\\\\\n",
       "\tchr19\\_45981901\\_45982000 & chr19\\_45981901\\_45982000 & chr19 & 45981901 & 45982000 & ERCC1               & ENSG00000012061                 & protein\\_coding                & 7.092479 & 6.584624 & 6.183415 & ⋯ & 6.252242 & 6.922968 & 6.802854 & 6.489725 & 7.061517 & 6.432612 & 6.479043 & 408.6097 & 0.2 & 0.046\\\\\n",
       "\tchr19\\_45981801\\_45981900 & chr19\\_45981801\\_45981900 & chr19 & 45981801 & 45981900 & ERCC1               & ENSG00000012061                 & protein\\_coding                & 6.926371 & 6.477220 & 6.121954 & ⋯ & 6.145730 & 6.829128 & 6.717482 & 6.389897 & 6.959546 & 6.323565 & 6.377113 & 401.9262 & 0.2 & 0.045\\\\\n",
       "\\end{tabular}\n"
      ],
      "text/markdown": [
       "\n",
       "A data.frame: 3 × 73\n",
       "\n",
       "| <!--/--> | name &lt;chr&gt; | chr &lt;chr&gt; | start &lt;dbl&gt; | end &lt;dbl&gt; | gene &lt;chr&gt; | EnsgID &lt;chr&gt; | geneType &lt;chr&gt; | SXR0002 &lt;dbl&gt; | SXR0004 &lt;dbl&gt; | SXR0006 &lt;dbl&gt; | ⋯ ⋯ | SXR0113 &lt;dbl&gt; | SXR0114 &lt;dbl&gt; | SXR0115 &lt;dbl&gt; | SXR0117 &lt;dbl&gt; | SXR0118 &lt;dbl&gt; | SXR0121 &lt;dbl&gt; | SXR0122 &lt;dbl&gt; | sum &lt;dbl&gt; | sd &lt;dbl&gt; | % of total &lt;dbl&gt; |\n",
       "|---|---|---|---|---|---|---|---|---|---|---|---|---|---|---|---|---|---|---|---|---|---|\n",
       "| chr17_66016001_66016100 | chr17_66016001_66016100 | chr17 | 66016001 | 66016100 | RP4-758J18.2;MRPL20 | ENSG00000224870;ENSG00000242485 | protein_coding;protein_coding | 7.348876 | 6.853805 | 6.592829 | ⋯ | 6.482551 | 7.168025 | 7.088977 | 6.734167 | 7.356240 | 6.574805 | 6.825713 | 425.9435 | 0.2 | 0.048 |\n",
       "| chr19_45981901_45982000 | chr19_45981901_45982000 | chr19 | 45981901 | 45982000 | ERCC1               | ENSG00000012061                 | protein_coding                | 7.092479 | 6.584624 | 6.183415 | ⋯ | 6.252242 | 6.922968 | 6.802854 | 6.489725 | 7.061517 | 6.432612 | 6.479043 | 408.6097 | 0.2 | 0.046 |\n",
       "| chr19_45981801_45981900 | chr19_45981801_45981900 | chr19 | 45981801 | 45981900 | ERCC1               | ENSG00000012061                 | protein_coding                | 6.926371 | 6.477220 | 6.121954 | ⋯ | 6.145730 | 6.829128 | 6.717482 | 6.389897 | 6.959546 | 6.323565 | 6.377113 | 401.9262 | 0.2 | 0.045 |\n",
       "\n"
      ],
      "text/plain": [
       "                        name                    chr   start    end     \n",
       "chr17_66016001_66016100 chr17_66016001_66016100 chr17 66016001 66016100\n",
       "chr19_45981901_45982000 chr19_45981901_45982000 chr19 45981901 45982000\n",
       "chr19_45981801_45981900 chr19_45981801_45981900 chr19 45981801 45981900\n",
       "                        gene                EnsgID                         \n",
       "chr17_66016001_66016100 RP4-758J18.2;MRPL20 ENSG00000224870;ENSG00000242485\n",
       "chr19_45981901_45982000 ERCC1               ENSG00000012061                \n",
       "chr19_45981801_45981900 ERCC1               ENSG00000012061                \n",
       "                        geneType                      SXR0002  SXR0004 \n",
       "chr17_66016001_66016100 protein_coding;protein_coding 7.348876 6.853805\n",
       "chr19_45981901_45982000 protein_coding                7.092479 6.584624\n",
       "chr19_45981801_45981900 protein_coding                6.926371 6.477220\n",
       "                        SXR0006  ⋯ SXR0113  SXR0114  SXR0115  SXR0117  SXR0118 \n",
       "chr17_66016001_66016100 6.592829 ⋯ 6.482551 7.168025 7.088977 6.734167 7.356240\n",
       "chr19_45981901_45982000 6.183415 ⋯ 6.252242 6.922968 6.802854 6.489725 7.061517\n",
       "chr19_45981801_45981900 6.121954 ⋯ 6.145730 6.829128 6.717482 6.389897 6.959546\n",
       "                        SXR0121  SXR0122  sum      sd  % of total\n",
       "chr17_66016001_66016100 6.574805 6.825713 425.9435 0.2 0.048     \n",
       "chr19_45981901_45982000 6.432612 6.479043 408.6097 0.2 0.046     \n",
       "chr19_45981801_45981900 6.323565 6.377113 401.9262 0.2 0.045     "
      ]
     },
     "metadata": {},
     "output_type": "display_data"
    }
   ],
   "source": [
    "TPMsRlogDF = as.data.frame(TPMsRlog)\n",
    "TPMsRlogDF = cbind(regionAnnot,TPMsRlogDF)\n",
    "TPMsRlogDF$sum = rowSums(TPMsRlogDF[,sampleAnnot$ID],na.rm = T)\n",
    "TPMsRlogDF$sd = round(apply(X = TPMsRlogDF[,sampleAnnot$ID],1,  function(x) sd(x,na.rm = T)),1)\n",
    "TPMsRlogDF = TPMsRlogDF[order(TPMsRlogDF$sum,decreasing = T),]\n",
    "total = sum(TPMsRlogDF$sum)\n",
    "TPMsRlogDF$percentOfTotal = round(TPMsRlogDF$sum/total*100,3)\n",
    "sum(TPMsRlogDF$percentOfTotal)\n",
    "colnames(TPMsRlogDF)[which(colnames(TPMsRlogDF)==\"percentOfTotal\")] = \"% of total\"\n",
    "sum(TPMsRlogDF$\"% of total\")\n",
    "head(TPMsRlogDF,3)"
   ]
  },
  {
   "cell_type": "markdown",
   "id": "c1762ef7",
   "metadata": {},
   "source": [
    "### save expression data to file"
   ]
  },
  {
   "cell_type": "code",
   "execution_count": 50,
   "id": "858afb36",
   "metadata": {},
   "outputs": [],
   "source": [
    "# get sample order by group:\n",
    "sampleIDsGroupOrder = order(sampleAnnot$group, sampleAnnot$ID)\n",
    "sampleIDsGroupOrdered = names(totalReads)[sampleIDsGroupOrder]\n",
    "totalReadsDF = totalReadsDF[sampleIDsGroupOrder,]\n",
    "otherColumnNames = setdiff(colnames(countsDF),sampleIDsGroupOrdered)"
   ]
  },
  {
   "cell_type": "code",
   "execution_count": 51,
   "id": "ee046353",
   "metadata": {},
   "outputs": [],
   "source": [
    "groupAnnotationDF = as.data.frame(t(c(rep(\"\",length(otherColumnNames)),\n",
    "                                     sampleAnnot[sampleIDsGroupOrdered,\"group\"]) ))\n",
    "colnames(groupAnnotationDF) = c(otherColumnNames,sampleIDsGroupOrdered)"
   ]
  },
  {
   "cell_type": "code",
   "execution_count": 52,
   "id": "ede95ef8",
   "metadata": {},
   "outputs": [],
   "source": [
    "write.xlsx2(x = cbind(group = sampleAnnot[sampleIDsGroupOrdered,\"group\"],totalReadsDF), \n",
    "            file = rpkmOutfile, sheetName = \"total reads\", row.names = F )"
   ]
  },
  {
   "cell_type": "code",
   "execution_count": 53,
   "id": "bf6ccddf",
   "metadata": {},
   "outputs": [],
   "source": [
    "out = countsDF[,c(otherColumnNames,sampleIDsGroupOrdered)]\n",
    "out = apply(out,2,as.character)\n",
    "out = rbind(groupAnnotationDF,colnames(out),out) # merge column annotation\n",
    "write.xlsx2(x = out, file = rpkmOutfile, sheetName = \"counts\", row.names = F, col.names = F, append = T )"
   ]
  },
  {
   "cell_type": "code",
   "execution_count": 54,
   "id": "1c831e57",
   "metadata": {},
   "outputs": [],
   "source": [
    "out = TPMsDF[,c(otherColumnNames,sampleIDsGroupOrdered)]\n",
    "out[,sampleIDsGroupOrdered] = round(out[,sampleIDsGroupOrdered],2)\n",
    "out = apply(out,2,as.character)\n",
    "out = rbind(groupAnnotationDF,colnames(out),out) # merge column annotation\n",
    "write.xlsx2(x = out, file = rpkmOutfile, sheetName = \"TPMs\", row.names = F, col.names = F, append = T )"
   ]
  },
  {
   "cell_type": "code",
   "execution_count": 55,
   "id": "25825ded",
   "metadata": {},
   "outputs": [],
   "source": [
    "out = TPMsRlogDF[,c(otherColumnNames,sampleIDsGroupOrdered)]\n",
    "out[,sampleIDsGroupOrdered] = round(out[,sampleIDsGroupOrdered],2)\n",
    "out = apply(out,2,as.character)\n",
    "out = rbind(groupAnnotationDF,colnames(out),out) # merge column annotation\n",
    "write.xlsx2(x = out, file = rpkmOutfile, sheetName = \"rlogTPMs\", row.names = F, col.names = F, append = T )"
   ]
  },
  {
   "cell_type": "markdown",
   "id": "3840e9ce",
   "metadata": {},
   "source": [
    "#### remove genes of unwanted gene types from TPMsRlog:"
   ]
  },
  {
   "cell_type": "code",
   "execution_count": 56,
   "id": "bbaae7d1",
   "metadata": {},
   "outputs": [
    {
     "data": {
      "text/html": [
       "7"
      ],
      "text/latex": [
       "7"
      ],
      "text/markdown": [
       "7"
      ],
      "text/plain": [
       "[1] 7"
      ]
     },
     "metadata": {},
     "output_type": "display_data"
    }
   ],
   "source": [
    "geneIdsToRemove = geneAnnot$EnsID[which(geneAnnot$type %in% genetypeRemove)]\n",
    "regionsRemove = rownames(TPMsRlogDF[ TPMsRlogDF$EnsgID %in% geneIdsToRemove,])\n",
    "length(regionsRemove)\n",
    "TPMsRlog = TPMsRlog[ setdiff(rownames(TPMsRlog),regionsRemove),]"
   ]
  },
  {
   "cell_type": "markdown",
   "id": "ea5a6bba",
   "metadata": {},
   "source": [
    "### produce annotation colors:"
   ]
  },
  {
   "cell_type": "code",
   "execution_count": 57,
   "id": "indian-parking",
   "metadata": {},
   "outputs": [
    {
     "name": "stdout",
     "output_type": "stream",
     "text": [
      "group is discrete\n",
      "used 3 \n",
      "gender is discrete\n",
      "used 4 \n",
      "age  is numeric\n",
      "color ramp over:  #ff99ff #6666ff #000099 to breaks 40 64 80 \n"
     ]
    }
   ],
   "source": [
    "sampleAnnotForPlot = sampleAnnot[colnames(TPMsRlog),annotAttrib] \n",
    "\n",
    "# define color ramps for diff variables:\n",
    "myColrRamps <- matrix(data = c(\"#66ff99\",\"#009999\",\"#000099\",\n",
    "                               \"blue4\",\"azure\",\"brown1\",\n",
    "                               \"#ffd000\",\"#669900\",\"#006600\",\n",
    "                               \"#ff99ff\",\"#6666ff\",\"#000099\",\n",
    "                               \"#f1e0c5\",\"#71816d\",\"#342a21\"),ncol = 3, byrow = T)\n",
    "hues <- 0:8/8\n",
    "usedHueStart <- 1\n",
    "\n",
    "annotColor <- list()\n",
    "i<-1\n",
    "useRamp <- 2\n",
    "\n",
    "for(i in 1:ncol(sampleAnnotForPlot)) {\n",
    "  if (is.numeric(sampleAnnotForPlot[,i])) {    # color ramp  when continuous variable\n",
    "    cat(colnames(sampleAnnotForPlot)[i],\" is numeric\\n\")\n",
    "    breaks <- quantile(sampleAnnotForPlot[,i],c(0,0.5,1), na.rm = T)\n",
    "    names(breaks) <- NULL\n",
    "    annotColor <- c(annotColor, list(colorRamp2(breaks = breaks,myColrRamps[useRamp,])))\n",
    "    cat(\"color ramp over: \",myColrRamps[useRamp,],\"to breaks\",breaks,\"\\n\")\n",
    "    useRamp <- ifelse(useRamp==nrow(myColrRamps),1,useRamp+1)\n",
    "  } else {     # discrete variable -> fixed colors\n",
    "    cat(colnames(sampleAnnotForPlot)[i],\"is discrete\\n\")\n",
    "    usedHueStart <- (usedHueStart+1) %% length(hues) + 1\n",
    "    # the more colors we need, the further away\n",
    "    usedHueEnd <- (usedHueStart + floor(length(unique(sampleAnnotForPlot[,i])))) %% length(hues) + 1\n",
    "    annotColor <- c(annotColor,list(\n",
    "        rainbow(s=0.7,v=0.85,n = length(unique(sampleAnnotForPlot[,i])),\n",
    "                start=hues[usedHueStart], end=hues[usedHueEnd])\n",
    "    ))\n",
    "    useRamp <- ifelse(useRamp==nrow(myColrRamps),1,useRamp+1)\n",
    "    cat(\"used\",useRamp,\"\\n\")\n",
    "    names(annotColor[[i]]) <- unique(sampleAnnotForPlot[,i])\n",
    "\n",
    "    # sort by annot attrib name:\n",
    "    annotColor[[i]] <- annotColor[[i]][order(names(annotColor[[i]]))]\n",
    "  }\n",
    "}\n",
    "\n",
    "names(annotColor) <- colnames(sampleAnnotForPlot)"
   ]
  },
  {
   "cell_type": "markdown",
   "id": "fc563a39",
   "metadata": {},
   "source": [
    "## PCA & Clustering"
   ]
  },
  {
   "cell_type": "markdown",
   "id": "under-watch",
   "metadata": {
    "scrolled": true
   },
   "source": [
    "### PCA"
   ]
  },
  {
   "cell_type": "code",
   "execution_count": 58,
   "id": "loaded-scotland",
   "metadata": {
    "scrolled": true
   },
   "outputs": [
    {
     "data": {
      "text/html": [
       "<style>\n",
       ".list-inline {list-style: none; margin:0; padding: 0}\n",
       ".list-inline>li {display: inline-block}\n",
       ".list-inline>li:not(:last-child)::after {content: \"\\00b7\"; padding: 0 .5ex}\n",
       "</style>\n",
       "<ol class=list-inline><li>63</li><li>67</li></ol>\n"
      ],
      "text/latex": [
       "\\begin{enumerate*}\n",
       "\\item 63\n",
       "\\item 67\n",
       "\\end{enumerate*}\n"
      ],
      "text/markdown": [
       "1. 63\n",
       "2. 67\n",
       "\n",
       "\n"
      ],
      "text/plain": [
       "[1] 63 67"
      ]
     },
     "metadata": {},
     "output_type": "display_data"
    },
    {
     "data": {
      "text/html": [
       "<table class=\"dataframe\">\n",
       "<caption>A data.frame: 6 × 67</caption>\n",
       "<thead>\n",
       "\t<tr><th></th><th scope=col>PC1</th><th scope=col>PC2</th><th scope=col>PC3</th><th scope=col>PC4</th><th scope=col>PC5</th><th scope=col>PC6</th><th scope=col>PC7</th><th scope=col>PC8</th><th scope=col>PC9</th><th scope=col>PC10</th><th scope=col>⋯</th><th scope=col>PC58</th><th scope=col>PC59</th><th scope=col>PC60</th><th scope=col>PC61</th><th scope=col>PC62</th><th scope=col>PC63</th><th scope=col>attrib1</th><th scope=col>attrib2</th><th scope=col>attrib3</th><th scope=col>sampleID</th></tr>\n",
       "\t<tr><th></th><th scope=col>&lt;dbl&gt;</th><th scope=col>&lt;dbl&gt;</th><th scope=col>&lt;dbl&gt;</th><th scope=col>&lt;dbl&gt;</th><th scope=col>&lt;dbl&gt;</th><th scope=col>&lt;dbl&gt;</th><th scope=col>&lt;dbl&gt;</th><th scope=col>&lt;dbl&gt;</th><th scope=col>&lt;dbl&gt;</th><th scope=col>&lt;dbl&gt;</th><th scope=col>⋯</th><th scope=col>&lt;dbl&gt;</th><th scope=col>&lt;dbl&gt;</th><th scope=col>&lt;dbl&gt;</th><th scope=col>&lt;dbl&gt;</th><th scope=col>&lt;dbl&gt;</th><th scope=col>&lt;dbl&gt;</th><th scope=col>&lt;chr&gt;</th><th scope=col>&lt;chr&gt;</th><th scope=col>&lt;int&gt;</th><th scope=col>&lt;chr&gt;</th></tr>\n",
       "</thead>\n",
       "<tbody>\n",
       "\t<tr><th scope=row>SXR0002</th><td>-8.218646</td><td>-8.7820967</td><td> 7.6936122</td><td> 0.74905949</td><td>-0.08936547</td><td> 2.28170219</td><td>-1.080580</td><td> 5.7875387</td><td>-14.24956038</td><td> 3.7514979</td><td>⋯</td><td> 0.06957035</td><td> 0.09924610</td><td>-0.03361885</td><td>-0.0486562641</td><td> 0.01092218</td><td>3.885781e-15</td><td>ccRCC       </td><td>female</td><td>80</td><td>SXR0002</td></tr>\n",
       "\t<tr><th scope=row>SXR0004</th><td> 3.178502</td><td>-1.7056351</td><td>-2.5023829</td><td>-4.58429575</td><td>-5.09028778</td><td> 0.08883844</td><td> 1.432220</td><td> 4.2538911</td><td> -1.82122950</td><td> 5.2391384</td><td>⋯</td><td>-0.10494894</td><td>-0.06842265</td><td>-0.17986148</td><td>-0.4656310363</td><td>-0.08555382</td><td>1.088019e-14</td><td>ccRCC       </td><td>male  </td><td>50</td><td>SXR0004</td></tr>\n",
       "\t<tr><th scope=row>SXR0006</th><td> 9.757080</td><td> 6.5087193</td><td>-0.2543117</td><td>-3.94206301</td><td>-7.22685494</td><td>-1.14271366</td><td> 8.972354</td><td> 0.3812244</td><td>  8.16542910</td><td> 7.4601039</td><td>⋯</td><td> 0.14941272</td><td> 0.23987087</td><td> 0.06505093</td><td> 0.1176783017</td><td> 0.05639998</td><td>9.978129e-15</td><td>ccRCC       </td><td>male  </td><td>68</td><td>SXR0006</td></tr>\n",
       "\t<tr><th scope=row>SXR0010</th><td> 6.775026</td><td>-1.1321847</td><td>-1.6357908</td><td>-0.89998401</td><td>-2.30180896</td><td>-2.05763869</td><td> 3.271629</td><td>-1.0042016</td><td>  1.54203168</td><td> 5.1737254</td><td>⋯</td><td>-0.32103127</td><td>-0.62898663</td><td>-0.26852560</td><td> 0.1342073509</td><td> 0.09335252</td><td>1.750683e-14</td><td>urolithiasis</td><td>male  </td><td>65</td><td>SXR0010</td></tr>\n",
       "\t<tr><th scope=row>SXR0014</th><td> 7.643429</td><td>-0.1805346</td><td>-2.5787455</td><td>-0.01805559</td><td>-1.18573342</td><td>-0.08363302</td><td>-0.384962</td><td>-1.1281151</td><td>  0.06439449</td><td>-0.2805813</td><td>⋯</td><td> 0.60379201</td><td> 0.56849573</td><td>-0.10511131</td><td>-0.6253513769</td><td>-0.22687287</td><td>8.146261e-15</td><td>ccRCC       </td><td>male  </td><td>57</td><td>SXR0014</td></tr>\n",
       "\t<tr><th scope=row>SXR0016</th><td> 2.318183</td><td> 6.8291909</td><td> 1.5190020</td><td> 0.06040541</td><td> 1.28851498</td><td> 2.07974863</td><td>-1.230017</td><td> 2.2253503</td><td> -0.18744005</td><td>-7.8036095</td><td>⋯</td><td>-0.29979582</td><td> 0.18161707</td><td>-0.07210889</td><td>-0.0002813511</td><td> 0.04449116</td><td>6.467049e-15</td><td>ccRCC       </td><td>male  </td><td>59</td><td>SXR0016</td></tr>\n",
       "</tbody>\n",
       "</table>\n"
      ],
      "text/latex": [
       "A data.frame: 6 × 67\n",
       "\\begin{tabular}{r|lllllllllllllllllllll}\n",
       "  & PC1 & PC2 & PC3 & PC4 & PC5 & PC6 & PC7 & PC8 & PC9 & PC10 & ⋯ & PC58 & PC59 & PC60 & PC61 & PC62 & PC63 & attrib1 & attrib2 & attrib3 & sampleID\\\\\n",
       "  & <dbl> & <dbl> & <dbl> & <dbl> & <dbl> & <dbl> & <dbl> & <dbl> & <dbl> & <dbl> & ⋯ & <dbl> & <dbl> & <dbl> & <dbl> & <dbl> & <dbl> & <chr> & <chr> & <int> & <chr>\\\\\n",
       "\\hline\n",
       "\tSXR0002 & -8.218646 & -8.7820967 &  7.6936122 &  0.74905949 & -0.08936547 &  2.28170219 & -1.080580 &  5.7875387 & -14.24956038 &  3.7514979 & ⋯ &  0.06957035 &  0.09924610 & -0.03361885 & -0.0486562641 &  0.01092218 & 3.885781e-15 & ccRCC        & female & 80 & SXR0002\\\\\n",
       "\tSXR0004 &  3.178502 & -1.7056351 & -2.5023829 & -4.58429575 & -5.09028778 &  0.08883844 &  1.432220 &  4.2538911 &  -1.82122950 &  5.2391384 & ⋯ & -0.10494894 & -0.06842265 & -0.17986148 & -0.4656310363 & -0.08555382 & 1.088019e-14 & ccRCC        & male   & 50 & SXR0004\\\\\n",
       "\tSXR0006 &  9.757080 &  6.5087193 & -0.2543117 & -3.94206301 & -7.22685494 & -1.14271366 &  8.972354 &  0.3812244 &   8.16542910 &  7.4601039 & ⋯ &  0.14941272 &  0.23987087 &  0.06505093 &  0.1176783017 &  0.05639998 & 9.978129e-15 & ccRCC        & male   & 68 & SXR0006\\\\\n",
       "\tSXR0010 &  6.775026 & -1.1321847 & -1.6357908 & -0.89998401 & -2.30180896 & -2.05763869 &  3.271629 & -1.0042016 &   1.54203168 &  5.1737254 & ⋯ & -0.32103127 & -0.62898663 & -0.26852560 &  0.1342073509 &  0.09335252 & 1.750683e-14 & urolithiasis & male   & 65 & SXR0010\\\\\n",
       "\tSXR0014 &  7.643429 & -0.1805346 & -2.5787455 & -0.01805559 & -1.18573342 & -0.08363302 & -0.384962 & -1.1281151 &   0.06439449 & -0.2805813 & ⋯ &  0.60379201 &  0.56849573 & -0.10511131 & -0.6253513769 & -0.22687287 & 8.146261e-15 & ccRCC        & male   & 57 & SXR0014\\\\\n",
       "\tSXR0016 &  2.318183 &  6.8291909 &  1.5190020 &  0.06040541 &  1.28851498 &  2.07974863 & -1.230017 &  2.2253503 &  -0.18744005 & -7.8036095 & ⋯ & -0.29979582 &  0.18161707 & -0.07210889 & -0.0002813511 &  0.04449116 & 6.467049e-15 & ccRCC        & male   & 59 & SXR0016\\\\\n",
       "\\end{tabular}\n"
      ],
      "text/markdown": [
       "\n",
       "A data.frame: 6 × 67\n",
       "\n",
       "| <!--/--> | PC1 &lt;dbl&gt; | PC2 &lt;dbl&gt; | PC3 &lt;dbl&gt; | PC4 &lt;dbl&gt; | PC5 &lt;dbl&gt; | PC6 &lt;dbl&gt; | PC7 &lt;dbl&gt; | PC8 &lt;dbl&gt; | PC9 &lt;dbl&gt; | PC10 &lt;dbl&gt; | ⋯ ⋯ | PC58 &lt;dbl&gt; | PC59 &lt;dbl&gt; | PC60 &lt;dbl&gt; | PC61 &lt;dbl&gt; | PC62 &lt;dbl&gt; | PC63 &lt;dbl&gt; | attrib1 &lt;chr&gt; | attrib2 &lt;chr&gt; | attrib3 &lt;int&gt; | sampleID &lt;chr&gt; |\n",
       "|---|---|---|---|---|---|---|---|---|---|---|---|---|---|---|---|---|---|---|---|---|---|\n",
       "| SXR0002 | -8.218646 | -8.7820967 |  7.6936122 |  0.74905949 | -0.08936547 |  2.28170219 | -1.080580 |  5.7875387 | -14.24956038 |  3.7514979 | ⋯ |  0.06957035 |  0.09924610 | -0.03361885 | -0.0486562641 |  0.01092218 | 3.885781e-15 | ccRCC        | female | 80 | SXR0002 |\n",
       "| SXR0004 |  3.178502 | -1.7056351 | -2.5023829 | -4.58429575 | -5.09028778 |  0.08883844 |  1.432220 |  4.2538911 |  -1.82122950 |  5.2391384 | ⋯ | -0.10494894 | -0.06842265 | -0.17986148 | -0.4656310363 | -0.08555382 | 1.088019e-14 | ccRCC        | male   | 50 | SXR0004 |\n",
       "| SXR0006 |  9.757080 |  6.5087193 | -0.2543117 | -3.94206301 | -7.22685494 | -1.14271366 |  8.972354 |  0.3812244 |   8.16542910 |  7.4601039 | ⋯ |  0.14941272 |  0.23987087 |  0.06505093 |  0.1176783017 |  0.05639998 | 9.978129e-15 | ccRCC        | male   | 68 | SXR0006 |\n",
       "| SXR0010 |  6.775026 | -1.1321847 | -1.6357908 | -0.89998401 | -2.30180896 | -2.05763869 |  3.271629 | -1.0042016 |   1.54203168 |  5.1737254 | ⋯ | -0.32103127 | -0.62898663 | -0.26852560 |  0.1342073509 |  0.09335252 | 1.750683e-14 | urolithiasis | male   | 65 | SXR0010 |\n",
       "| SXR0014 |  7.643429 | -0.1805346 | -2.5787455 | -0.01805559 | -1.18573342 | -0.08363302 | -0.384962 | -1.1281151 |   0.06439449 | -0.2805813 | ⋯ |  0.60379201 |  0.56849573 | -0.10511131 | -0.6253513769 | -0.22687287 | 8.146261e-15 | ccRCC        | male   | 57 | SXR0014 |\n",
       "| SXR0016 |  2.318183 |  6.8291909 |  1.5190020 |  0.06040541 |  1.28851498 |  2.07974863 | -1.230017 |  2.2253503 |  -0.18744005 | -7.8036095 | ⋯ | -0.29979582 |  0.18161707 | -0.07210889 | -0.0002813511 |  0.04449116 | 6.467049e-15 | ccRCC        | male   | 59 | SXR0016 |\n",
       "\n"
      ],
      "text/plain": [
       "        PC1       PC2        PC3        PC4         PC5         PC6        \n",
       "SXR0002 -8.218646 -8.7820967  7.6936122  0.74905949 -0.08936547  2.28170219\n",
       "SXR0004  3.178502 -1.7056351 -2.5023829 -4.58429575 -5.09028778  0.08883844\n",
       "SXR0006  9.757080  6.5087193 -0.2543117 -3.94206301 -7.22685494 -1.14271366\n",
       "SXR0010  6.775026 -1.1321847 -1.6357908 -0.89998401 -2.30180896 -2.05763869\n",
       "SXR0014  7.643429 -0.1805346 -2.5787455 -0.01805559 -1.18573342 -0.08363302\n",
       "SXR0016  2.318183  6.8291909  1.5190020  0.06040541  1.28851498  2.07974863\n",
       "        PC7       PC8        PC9          PC10       ⋯ PC58        PC59       \n",
       "SXR0002 -1.080580  5.7875387 -14.24956038  3.7514979 ⋯  0.06957035  0.09924610\n",
       "SXR0004  1.432220  4.2538911  -1.82122950  5.2391384 ⋯ -0.10494894 -0.06842265\n",
       "SXR0006  8.972354  0.3812244   8.16542910  7.4601039 ⋯  0.14941272  0.23987087\n",
       "SXR0010  3.271629 -1.0042016   1.54203168  5.1737254 ⋯ -0.32103127 -0.62898663\n",
       "SXR0014 -0.384962 -1.1281151   0.06439449 -0.2805813 ⋯  0.60379201  0.56849573\n",
       "SXR0016 -1.230017  2.2253503  -0.18744005 -7.8036095 ⋯ -0.29979582  0.18161707\n",
       "        PC60        PC61          PC62        PC63         attrib1      attrib2\n",
       "SXR0002 -0.03361885 -0.0486562641  0.01092218 3.885781e-15 ccRCC        female \n",
       "SXR0004 -0.17986148 -0.4656310363 -0.08555382 1.088019e-14 ccRCC        male   \n",
       "SXR0006  0.06505093  0.1176783017  0.05639998 9.978129e-15 ccRCC        male   \n",
       "SXR0010 -0.26852560  0.1342073509  0.09335252 1.750683e-14 urolithiasis male   \n",
       "SXR0014 -0.10511131 -0.6253513769 -0.22687287 8.146261e-15 ccRCC        male   \n",
       "SXR0016 -0.07210889 -0.0002813511  0.04449116 6.467049e-15 ccRCC        male   \n",
       "        attrib3 sampleID\n",
       "SXR0002 80      SXR0002 \n",
       "SXR0004 50      SXR0004 \n",
       "SXR0006 68      SXR0006 \n",
       "SXR0010 65      SXR0010 \n",
       "SXR0014 57      SXR0014 \n",
       "SXR0016 59      SXR0016 "
      ]
     },
     "metadata": {},
     "output_type": "display_data"
    }
   ],
   "source": [
    "# PCA rlog RPKM:\n",
    "pc <- prcomp(t(TPMsRlog)) # samples must be rows of the data\n",
    "pcs_plot <- as.data.frame(pc$x)\n",
    "pcs_plot[,annotAttrib] <- sampleAnnotForPlot[rownames(pcs_plot),annotAttrib]\n",
    "for (i in 1:length(annotAttrib)) {\n",
    "  colnames(pcs_plot)[which(colnames(pcs_plot)==annotAttrib[i])] <- as.character(paste0(\"attrib\",i))\n",
    "}\n",
    "pcs_plot[,\"sampleID\"] <- rownames(pcs_plot)\n",
    "\n",
    "dim(pcs_plot)\n",
    "head(pcs_plot)\n",
    "pcaOutFile <- paste0(\"pca-\",paste(annotAttrib[1:2],collapse=\"-\"),\".pdf\")\n",
    "maxNameLength <- max(nchar(pcs_plot[,\"sampleID\"]))"
   ]
  },
  {
   "cell_type": "code",
   "execution_count": 59,
   "id": "valid-manner",
   "metadata": {},
   "outputs": [
    {
     "data": {
      "text/html": [
       "<style>\n",
       ".list-inline {list-style: none; margin:0; padding: 0}\n",
       ".list-inline>li {display: inline-block}\n",
       ".list-inline>li:not(:last-child)::after {content: \"\\00b7\"; padding: 0 .5ex}\n",
       "</style>\n",
       "<ol class=list-inline><li>17.2</li><li>6.6</li><li>5.3</li><li>4.3</li><li>4</li><li>3.7</li></ol>\n"
      ],
      "text/latex": [
       "\\begin{enumerate*}\n",
       "\\item 17.2\n",
       "\\item 6.6\n",
       "\\item 5.3\n",
       "\\item 4.3\n",
       "\\item 4\n",
       "\\item 3.7\n",
       "\\end{enumerate*}\n"
      ],
      "text/markdown": [
       "1. 17.2\n",
       "2. 6.6\n",
       "3. 5.3\n",
       "4. 4.3\n",
       "5. 4\n",
       "6. 3.7\n",
       "\n",
       "\n"
      ],
      "text/plain": [
       "[1] 17.2  6.6  5.3  4.3  4.0  3.7"
      ]
     },
     "metadata": {},
     "output_type": "display_data"
    },
    {
     "data": {
      "text/html": [
       "<style>\n",
       ".list-inline {list-style: none; margin:0; padding: 0}\n",
       ".list-inline>li {display: inline-block}\n",
       ".list-inline>li:not(:last-child)::after {content: \"\\00b7\"; padding: 0 .5ex}\n",
       "</style>\n",
       "<ol class=list-inline><li>'17.2%'</li><li>'6.6%'</li><li>'5.3%'</li><li>'4.3%'</li><li>'4%'</li><li>'3.7%'</li><li>'3.5%'</li><li>'3.5%'</li><li>'3.2%'</li><li>'3%'</li><li>'2.8%'</li><li>'2.5%'</li><li>'2.4%'</li><li>'2.3%'</li><li>'2%'</li><li>'1.9%'</li><li>'1.8%'</li><li>'1.7%'</li><li>'1.6%'</li><li>'1.4%'</li><li>'1.3%'</li><li>'1.3%'</li><li>'1.2%'</li><li>'1.2%'</li><li>'1.1%'</li><li>'1%'</li><li>'1%'</li><li>'0.9%'</li><li>'0.9%'</li><li>'0.8%'</li><li>'0.8%'</li><li>'0.8%'</li><li>'0.8%'</li><li>'0.7%'</li><li>'0.7%'</li><li>'0.7%'</li><li>'0.6%'</li><li>'0.6%'</li><li>'0.6%'</li><li>'0.5%'</li><li>'0.5%'</li><li>'0.5%'</li><li>'0.5%'</li><li>'0.5%'</li><li>'0.5%'</li><li>'0.4%'</li><li>'0.4%'</li><li>'0.4%'</li><li>'0.4%'</li><li>'0.4%'</li><li>'0.3%'</li><li>'0.3%'</li><li>'0.3%'</li><li>'0.3%'</li><li>'0.3%'</li><li>'0.3%'</li><li>'0.3%'</li><li>'0.2%'</li><li>'0.2%'</li><li>'0.2%'</li><li>'0.2%'</li><li>'0.2%'</li><li>'0%'</li></ol>\n"
      ],
      "text/latex": [
       "\\begin{enumerate*}\n",
       "\\item '17.2\\%'\n",
       "\\item '6.6\\%'\n",
       "\\item '5.3\\%'\n",
       "\\item '4.3\\%'\n",
       "\\item '4\\%'\n",
       "\\item '3.7\\%'\n",
       "\\item '3.5\\%'\n",
       "\\item '3.5\\%'\n",
       "\\item '3.2\\%'\n",
       "\\item '3\\%'\n",
       "\\item '2.8\\%'\n",
       "\\item '2.5\\%'\n",
       "\\item '2.4\\%'\n",
       "\\item '2.3\\%'\n",
       "\\item '2\\%'\n",
       "\\item '1.9\\%'\n",
       "\\item '1.8\\%'\n",
       "\\item '1.7\\%'\n",
       "\\item '1.6\\%'\n",
       "\\item '1.4\\%'\n",
       "\\item '1.3\\%'\n",
       "\\item '1.3\\%'\n",
       "\\item '1.2\\%'\n",
       "\\item '1.2\\%'\n",
       "\\item '1.1\\%'\n",
       "\\item '1\\%'\n",
       "\\item '1\\%'\n",
       "\\item '0.9\\%'\n",
       "\\item '0.9\\%'\n",
       "\\item '0.8\\%'\n",
       "\\item '0.8\\%'\n",
       "\\item '0.8\\%'\n",
       "\\item '0.8\\%'\n",
       "\\item '0.7\\%'\n",
       "\\item '0.7\\%'\n",
       "\\item '0.7\\%'\n",
       "\\item '0.6\\%'\n",
       "\\item '0.6\\%'\n",
       "\\item '0.6\\%'\n",
       "\\item '0.5\\%'\n",
       "\\item '0.5\\%'\n",
       "\\item '0.5\\%'\n",
       "\\item '0.5\\%'\n",
       "\\item '0.5\\%'\n",
       "\\item '0.5\\%'\n",
       "\\item '0.4\\%'\n",
       "\\item '0.4\\%'\n",
       "\\item '0.4\\%'\n",
       "\\item '0.4\\%'\n",
       "\\item '0.4\\%'\n",
       "\\item '0.3\\%'\n",
       "\\item '0.3\\%'\n",
       "\\item '0.3\\%'\n",
       "\\item '0.3\\%'\n",
       "\\item '0.3\\%'\n",
       "\\item '0.3\\%'\n",
       "\\item '0.3\\%'\n",
       "\\item '0.2\\%'\n",
       "\\item '0.2\\%'\n",
       "\\item '0.2\\%'\n",
       "\\item '0.2\\%'\n",
       "\\item '0.2\\%'\n",
       "\\item '0\\%'\n",
       "\\end{enumerate*}\n"
      ],
      "text/markdown": [
       "1. '17.2%'\n",
       "2. '6.6%'\n",
       "3. '5.3%'\n",
       "4. '4.3%'\n",
       "5. '4%'\n",
       "6. '3.7%'\n",
       "7. '3.5%'\n",
       "8. '3.5%'\n",
       "9. '3.2%'\n",
       "10. '3%'\n",
       "11. '2.8%'\n",
       "12. '2.5%'\n",
       "13. '2.4%'\n",
       "14. '2.3%'\n",
       "15. '2%'\n",
       "16. '1.9%'\n",
       "17. '1.8%'\n",
       "18. '1.7%'\n",
       "19. '1.6%'\n",
       "20. '1.4%'\n",
       "21. '1.3%'\n",
       "22. '1.3%'\n",
       "23. '1.2%'\n",
       "24. '1.2%'\n",
       "25. '1.1%'\n",
       "26. '1%'\n",
       "27. '1%'\n",
       "28. '0.9%'\n",
       "29. '0.9%'\n",
       "30. '0.8%'\n",
       "31. '0.8%'\n",
       "32. '0.8%'\n",
       "33. '0.8%'\n",
       "34. '0.7%'\n",
       "35. '0.7%'\n",
       "36. '0.7%'\n",
       "37. '0.6%'\n",
       "38. '0.6%'\n",
       "39. '0.6%'\n",
       "40. '0.5%'\n",
       "41. '0.5%'\n",
       "42. '0.5%'\n",
       "43. '0.5%'\n",
       "44. '0.5%'\n",
       "45. '0.5%'\n",
       "46. '0.4%'\n",
       "47. '0.4%'\n",
       "48. '0.4%'\n",
       "49. '0.4%'\n",
       "50. '0.4%'\n",
       "51. '0.3%'\n",
       "52. '0.3%'\n",
       "53. '0.3%'\n",
       "54. '0.3%'\n",
       "55. '0.3%'\n",
       "56. '0.3%'\n",
       "57. '0.3%'\n",
       "58. '0.2%'\n",
       "59. '0.2%'\n",
       "60. '0.2%'\n",
       "61. '0.2%'\n",
       "62. '0.2%'\n",
       "63. '0%'\n",
       "\n",
       "\n"
      ],
      "text/plain": [
       " [1] \"17.2%\" \"6.6%\"  \"5.3%\"  \"4.3%\"  \"4%\"    \"3.7%\"  \"3.5%\"  \"3.5%\"  \"3.2%\" \n",
       "[10] \"3%\"    \"2.8%\"  \"2.5%\"  \"2.4%\"  \"2.3%\"  \"2%\"    \"1.9%\"  \"1.8%\"  \"1.7%\" \n",
       "[19] \"1.6%\"  \"1.4%\"  \"1.3%\"  \"1.3%\"  \"1.2%\"  \"1.2%\"  \"1.1%\"  \"1%\"    \"1%\"   \n",
       "[28] \"0.9%\"  \"0.9%\"  \"0.8%\"  \"0.8%\"  \"0.8%\"  \"0.8%\"  \"0.7%\"  \"0.7%\"  \"0.7%\" \n",
       "[37] \"0.6%\"  \"0.6%\"  \"0.6%\"  \"0.5%\"  \"0.5%\"  \"0.5%\"  \"0.5%\"  \"0.5%\"  \"0.5%\" \n",
       "[46] \"0.4%\"  \"0.4%\"  \"0.4%\"  \"0.4%\"  \"0.4%\"  \"0.3%\"  \"0.3%\"  \"0.3%\"  \"0.3%\" \n",
       "[55] \"0.3%\"  \"0.3%\"  \"0.3%\"  \"0.2%\"  \"0.2%\"  \"0.2%\"  \"0.2%\"  \"0.2%\"  \"0%\"   "
      ]
     },
     "metadata": {},
     "output_type": "display_data"
    }
   ],
   "source": [
    "# variance explained by PCs:\n",
    "# https://www.geo.fu-berlin.de/en/v/soga/Geodata-analysis/Principal-Component-Analysis/Principal-component-analysis-in-R/index.html\n",
    "pc$var= pc$sdev**2\n",
    "pc$varPercExpl = round(pc$var/sum(pc$var)*100,1)\n",
    "head(pc$varPercExpl)\n",
    "varPercExplString = paste0(pc$varPercExpl,\"%\")\n",
    "varPercExplString"
   ]
  },
  {
   "cell_type": "code",
   "execution_count": 60,
   "id": "analyzed-landscape",
   "metadata": {},
   "outputs": [
    {
     "data": {
      "text/html": [
       "<style>\n",
       ".list-inline {list-style: none; margin:0; padding: 0}\n",
       ".list-inline>li {display: inline-block}\n",
       ".list-inline>li:not(:last-child)::after {content: \"\\00b7\"; padding: 0 .5ex}\n",
       "</style>\n",
       "<ol class=list-inline><li>'PC1'</li><li>'PC2'</li><li>'PC3'</li><li>'PC4'</li><li>'PC5'</li><li>'PC6'</li><li>'PC7'</li><li>'PC8'</li><li>'PC9'</li><li>'PC10'</li></ol>\n"
      ],
      "text/latex": [
       "\\begin{enumerate*}\n",
       "\\item 'PC1'\n",
       "\\item 'PC2'\n",
       "\\item 'PC3'\n",
       "\\item 'PC4'\n",
       "\\item 'PC5'\n",
       "\\item 'PC6'\n",
       "\\item 'PC7'\n",
       "\\item 'PC8'\n",
       "\\item 'PC9'\n",
       "\\item 'PC10'\n",
       "\\end{enumerate*}\n"
      ],
      "text/markdown": [
       "1. 'PC1'\n",
       "2. 'PC2'\n",
       "3. 'PC3'\n",
       "4. 'PC4'\n",
       "5. 'PC5'\n",
       "6. 'PC6'\n",
       "7. 'PC7'\n",
       "8. 'PC8'\n",
       "9. 'PC9'\n",
       "10. 'PC10'\n",
       "\n",
       "\n"
      ],
      "text/plain": [
       " [1] \"PC1\"  \"PC2\"  \"PC3\"  \"PC4\"  \"PC5\"  \"PC6\"  \"PC7\"  \"PC8\"  \"PC9\"  \"PC10\""
      ]
     },
     "metadata": {},
     "output_type": "display_data"
    }
   ],
   "source": [
    "PCnames = paste0(\"PC\",1:10)\n",
    "PCnames"
   ]
  },
  {
   "cell_type": "markdown",
   "id": "champion-boost",
   "metadata": {},
   "source": [
    "### PCA plots for paper\n",
    "Figure 2, SuppleFigure S3"
   ]
  },
  {
   "cell_type": "code",
   "execution_count": 61,
   "id": "separated-annotation",
   "metadata": {},
   "outputs": [],
   "source": [
    "plots = NULL\n",
    "for(pcNb in 1:4) {\n",
    "   p = ggplot(data = pcs_plot, \n",
    "              aes_string(x = PCnames[pcNb], y = PCnames[pcNb+1],\n",
    "                         shape=\"attrib1\",fill=\"attrib2\", color=\"attrib2\")) + \n",
    "          geom_point( size=4,alpha=0.6) + \n",
    "          labs(#title=expression(\"PCA of regularized \"~log[2]~\"(TPMs)\"),\n",
    "               x=paste0(PCnames[pcNb],\", \",varPercExplString[pcNb], \" variance\"),\n",
    "               y=paste0(PCnames[pcNb+1],\", \",varPercExplString[pcNb+1], \" variance\"), \n",
    "               shape=annotAttrib[1], color=annotAttrib[2])  + guides(fill=F)  +\n",
    "          geom_text(aes(label=sampleID),hjust=-0.3, vjust=0.5,size = 1.4, color=\"#555555\") + \n",
    "          scale_x_continuous(limits = c(min(pcs_plot$PC1), max(pcs_plot$PC1)*1.5)) +\n",
    "          scale_shape_manual(values=unique(as.numeric(as.factor(pcs_plot$attrib1)))+20)\n",
    "    plots = append(plots,list(p))\n",
    "    p\n",
    "}"
   ]
  },
  {
   "cell_type": "code",
   "execution_count": 62,
   "id": "functional-mistake",
   "metadata": {
    "scrolled": true
   },
   "outputs": [
    {
     "name": "stderr",
     "output_type": "stream",
     "text": [
      "Warning message:\n",
      "“\u001b[1m\u001b[22mRemoved 3 rows containing missing values (`geom_point()`).”\n",
      "Warning message:\n",
      "“\u001b[1m\u001b[22mRemoved 3 rows containing missing values (`geom_text()`).”\n",
      "Warning message:\n",
      "“\u001b[1m\u001b[22mRemoved 1 rows containing missing values (`geom_point()`).”\n",
      "Warning message:\n",
      "“\u001b[1m\u001b[22mRemoved 1 rows containing missing values (`geom_text()`).”\n"
     ]
    },
    {
     "data": {
      "text/html": [
       "<strong>png:</strong> 2"
      ],
      "text/latex": [
       "\\textbf{png:} 2"
      ],
      "text/markdown": [
       "**png:** 2"
      ],
      "text/plain": [
       "png \n",
       "  2 "
      ]
     },
     "metadata": {},
     "output_type": "display_data"
    }
   ],
   "source": [
    "margin = theme(plot.margin = unit(c(0.5,0.5,0.5,0.5), \"cm\"))\n",
    "png(filename = paste0(outDir,\"SupplFigure-S3-pca-gender-group.png\"), width=3000, height=2400, res=300)\n",
    "grid.arrange(grobs = lapply(plots, \"+\", margin),nrow=2)\n",
    "dev.off()"
   ]
  },
  {
   "cell_type": "code",
   "execution_count": 63,
   "id": "nearby-stereo",
   "metadata": {},
   "outputs": [
    {
     "data": {
      "text/html": [
       "<strong>png:</strong> 2"
      ],
      "text/latex": [
       "\\textbf{png:} 2"
      ],
      "text/markdown": [
       "**png:** 2"
      ],
      "text/plain": [
       "png \n",
       "  2 "
      ]
     },
     "metadata": {},
     "output_type": "display_data"
    }
   ],
   "source": [
    "png(filename = paste0(outDir,\"Figure-2-pca-gender-group.png\"), width=1600, height=1200, res=300)\n",
    "plots[[1]]\n",
    "dev.off()"
   ]
  },
  {
   "cell_type": "markdown",
   "id": "criminal-progress",
   "metadata": {},
   "source": [
    "### sample distance clustering heatmap"
   ]
  },
  {
   "cell_type": "code",
   "execution_count": 64,
   "id": "radical-barrier",
   "metadata": {},
   "outputs": [
    {
     "name": "stdout",
     "output_type": "stream",
     "text": [
      "[1] \"sample distance...\"\n"
     ]
    },
    {
     "data": {
      "text/html": [
       "<table class=\"dataframe\">\n",
       "<caption>A matrix: 4 × 4 of type dbl</caption>\n",
       "<thead>\n",
       "\t<tr><th></th><th scope=col>SXR0002</th><th scope=col>SXR0004</th><th scope=col>SXR0006</th><th scope=col>SXR0010</th></tr>\n",
       "</thead>\n",
       "<tbody>\n",
       "\t<tr><th scope=row>SXR0002</th><td> 0.00000</td><td>40.75535</td><td>48.77871</td><td>41.01392</td></tr>\n",
       "\t<tr><th scope=row>SXR0004</th><td>40.75535</td><td> 0.00000</td><td>37.88004</td><td>30.74493</td></tr>\n",
       "\t<tr><th scope=row>SXR0006</th><td>48.77871</td><td>37.88004</td><td> 0.00000</td><td>36.46403</td></tr>\n",
       "\t<tr><th scope=row>SXR0010</th><td>41.01392</td><td>30.74493</td><td>36.46403</td><td> 0.00000</td></tr>\n",
       "</tbody>\n",
       "</table>\n"
      ],
      "text/latex": [
       "A matrix: 4 × 4 of type dbl\n",
       "\\begin{tabular}{r|llll}\n",
       "  & SXR0002 & SXR0004 & SXR0006 & SXR0010\\\\\n",
       "\\hline\n",
       "\tSXR0002 &  0.00000 & 40.75535 & 48.77871 & 41.01392\\\\\n",
       "\tSXR0004 & 40.75535 &  0.00000 & 37.88004 & 30.74493\\\\\n",
       "\tSXR0006 & 48.77871 & 37.88004 &  0.00000 & 36.46403\\\\\n",
       "\tSXR0010 & 41.01392 & 30.74493 & 36.46403 &  0.00000\\\\\n",
       "\\end{tabular}\n"
      ],
      "text/markdown": [
       "\n",
       "A matrix: 4 × 4 of type dbl\n",
       "\n",
       "| <!--/--> | SXR0002 | SXR0004 | SXR0006 | SXR0010 |\n",
       "|---|---|---|---|---|\n",
       "| SXR0002 |  0.00000 | 40.75535 | 48.77871 | 41.01392 |\n",
       "| SXR0004 | 40.75535 |  0.00000 | 37.88004 | 30.74493 |\n",
       "| SXR0006 | 48.77871 | 37.88004 |  0.00000 | 36.46403 |\n",
       "| SXR0010 | 41.01392 | 30.74493 | 36.46403 |  0.00000 |\n",
       "\n"
      ],
      "text/plain": [
       "        SXR0002  SXR0004  SXR0006  SXR0010 \n",
       "SXR0002  0.00000 40.75535 48.77871 41.01392\n",
       "SXR0004 40.75535  0.00000 37.88004 30.74493\n",
       "SXR0006 48.77871 37.88004  0.00000 36.46403\n",
       "SXR0010 41.01392 30.74493 36.46403  0.00000"
      ]
     },
     "metadata": {},
     "output_type": "display_data"
    },
    {
     "data": {
      "text/html": [
       "TRUE"
      ],
      "text/latex": [
       "TRUE"
      ],
      "text/markdown": [
       "TRUE"
      ],
      "text/plain": [
       "[1] TRUE"
      ]
     },
     "metadata": {},
     "output_type": "display_data"
    },
    {
     "data": {
      "text/html": [
       "<strong>png:</strong> 2"
      ],
      "text/latex": [
       "\\textbf{png:} 2"
      ],
      "text/markdown": [
       "**png:** 2"
      ],
      "text/plain": [
       "png \n",
       "  2 "
      ]
     },
     "metadata": {},
     "output_type": "display_data"
    }
   ],
   "source": [
    "print(\"sample distance...\")\n",
    "# sample distance rlog RPKM:\n",
    "sampleDists <- dist( t( TPMsRlog ) )\n",
    "as.matrix( sampleDists )[1:4,1:4]\n",
    "sampleDistMatrix <- as.matrix( sampleDists )\n",
    "\n",
    "maxRowWidth <- max(nchar(rownames(sampleDistMatrix)))/3\n",
    "\n",
    "quant <- quantile(as.numeric(sampleDistMatrix),0:20/20, na.rm=T)\n",
    "col = colorRamp2(quant, colorRampPalette(c(\"#0000b3\", \"white\", \"#cc0000\"))(21))\n",
    "\n",
    "all(rownames(sampleDistMatrix) == rownames(sampleAnnotForPlot))\n",
    "maxNameLength <- max(nchar(rownames(sampleDistMatrix)))\n",
    "\n",
    "outf <- paste(outDir,\"SupplFigure-S4-sampleDist-heatmap.png\",sep=\"\")\n",
    "\n",
    "png(width = 3000,height = 3000,file = outf, res = 250)\n",
    "par(oma=c(2,5,2,2))\n",
    "ha <- HeatmapAnnotation(df=sampleAnnotForPlot,col=annotColor,na_col = \"grey\", show_legend = T, \n",
    "                        show_annotation_name = T)\n",
    "\n",
    "Heatmap(sampleDistMatrix, col=col, bottom_annotation = ha, \n",
    "        name=\"distance\",#column_title = \"sample distance - rlog(TPM)\",\n",
    "        show_column_names=T, column_names_max_height = unit(maxNameLength/4,\"cm\"), \n",
    "        column_names_gp = gpar(fontsize = 10),row_names_gp = gpar(fontsize = 10),\n",
    "        row_names_max_width = unit(maxNameLength/4, \"cm\"), column_dend_height = unit(30, \"mm\"))\n",
    "dev.off()"
   ]
  }
 ],
 "metadata": {
  "kernelspec": {
   "display_name": "R",
   "language": "R",
   "name": "ir"
  },
  "language_info": {
   "codemirror_mode": "r",
   "file_extension": ".r",
   "mimetype": "text/x-r-source",
   "name": "R",
   "pygments_lexer": "r",
   "version": "4.2.0"
  }
 },
 "nbformat": 4,
 "nbformat_minor": 5
}
