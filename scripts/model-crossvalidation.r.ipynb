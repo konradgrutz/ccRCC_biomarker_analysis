{
 "cells": [
  {
   "cell_type": "code",
   "execution_count": 2,
   "id": "18e1456f",
   "metadata": {},
   "outputs": [],
   "source": [
    "library(pROC)\n",
    "library(readxl)\n",
    "library(xlsx)\n",
    "library(gridExtra)\n",
    "library(ggplot2)\n",
    "library(parallel)"
   ]
  },
  {
   "cell_type": "code",
   "execution_count": 3,
   "id": "c36e9c24",
   "metadata": {},
   "outputs": [],
   "source": [
    "setwd(\"..\")"
   ]
  },
  {
   "cell_type": "code",
   "execution_count": 4,
   "id": "126f5397",
   "metadata": {},
   "outputs": [],
   "source": [
    "sampleAnnotFile = \"annotation/annotation-78.csv\"\n",
    "pcrValueFile = \"data/PCR/PCR-measurement_78.xlsx\"\n",
    "outDir = \"Figures-and-Tables/\"\n",
    "tableS6outfile = \"Table-S6-model-crossvalidation-results.csv\""
   ]
  },
  {
   "cell_type": "code",
   "execution_count": 5,
   "id": "2cec626a",
   "metadata": {},
   "outputs": [
    {
     "data": {
      "text/html": [
       "<table class=\"dataframe\">\n",
       "<caption>A data.frame: 3 × 4</caption>\n",
       "<thead>\n",
       "\t<tr><th></th><th scope=col>ID</th><th scope=col>gender</th><th scope=col>age</th><th scope=col>group</th></tr>\n",
       "\t<tr><th></th><th scope=col>&lt;chr&gt;</th><th scope=col>&lt;chr&gt;</th><th scope=col>&lt;int&gt;</th><th scope=col>&lt;chr&gt;</th></tr>\n",
       "</thead>\n",
       "<tbody>\n",
       "\t<tr><th scope=row>1</th><td>SXR0002</td><td>female</td><td>80</td><td>ccRCC</td></tr>\n",
       "\t<tr><th scope=row>2</th><td>SXR0004</td><td>male  </td><td>50</td><td>ccRCC</td></tr>\n",
       "\t<tr><th scope=row>3</th><td>SXR0006</td><td>male  </td><td>68</td><td>ccRCC</td></tr>\n",
       "</tbody>\n",
       "</table>\n"
      ],
      "text/latex": [
       "A data.frame: 3 × 4\n",
       "\\begin{tabular}{r|llll}\n",
       "  & ID & gender & age & group\\\\\n",
       "  & <chr> & <chr> & <int> & <chr>\\\\\n",
       "\\hline\n",
       "\t1 & SXR0002 & female & 80 & ccRCC\\\\\n",
       "\t2 & SXR0004 & male   & 50 & ccRCC\\\\\n",
       "\t3 & SXR0006 & male   & 68 & ccRCC\\\\\n",
       "\\end{tabular}\n"
      ],
      "text/markdown": [
       "\n",
       "A data.frame: 3 × 4\n",
       "\n",
       "| <!--/--> | ID &lt;chr&gt; | gender &lt;chr&gt; | age &lt;int&gt; | group &lt;chr&gt; |\n",
       "|---|---|---|---|---|\n",
       "| 1 | SXR0002 | female | 80 | ccRCC |\n",
       "| 2 | SXR0004 | male   | 50 | ccRCC |\n",
       "| 3 | SXR0006 | male   | 68 | ccRCC |\n",
       "\n"
      ],
      "text/plain": [
       "  ID      gender age group\n",
       "1 SXR0002 female 80  ccRCC\n",
       "2 SXR0004 male   50  ccRCC\n",
       "3 SXR0006 male   68  ccRCC"
      ]
     },
     "metadata": {},
     "output_type": "display_data"
    }
   ],
   "source": [
    "# sample annotation\n",
    "annot = read.csv(file = sampleAnnotFile ,header = T,sep = \"\\t\",stringsAsFactors = F)\n",
    "annot$gender = ifelse(annot$gender==\"f\",\"female\",\"male\")\n",
    "head(annot,3)"
   ]
  },
  {
   "cell_type": "markdown",
   "id": "070c8af3",
   "metadata": {},
   "source": [
    "### read in PCR data\n",
    "and normalize molec. counts to house keeping gene"
   ]
  },
  {
   "cell_type": "code",
   "execution_count": 6,
   "id": "4410770e",
   "metadata": {},
   "outputs": [
    {
     "data": {
      "text/html": [
       "<table class=\"dataframe\">\n",
       "<caption>A data.frame: 2 × 2</caption>\n",
       "<thead>\n",
       "\t<tr><th></th><th scope=col>ID</th><th scope=col>SNORD99_ACTB_mol</th></tr>\n",
       "\t<tr><th></th><th scope=col>&lt;chr&gt;</th><th scope=col>&lt;dbl&gt;</th></tr>\n",
       "</thead>\n",
       "<tbody>\n",
       "\t<tr><th scope=row>1</th><td>SXR0002</td><td>0.25324223</td></tr>\n",
       "\t<tr><th scope=row>2</th><td>SXR0004</td><td>0.09088467</td></tr>\n",
       "</tbody>\n",
       "</table>\n"
      ],
      "text/latex": [
       "A data.frame: 2 × 2\n",
       "\\begin{tabular}{r|ll}\n",
       "  & ID & SNORD99\\_ACTB\\_mol\\\\\n",
       "  & <chr> & <dbl>\\\\\n",
       "\\hline\n",
       "\t1 & SXR0002 & 0.25324223\\\\\n",
       "\t2 & SXR0004 & 0.09088467\\\\\n",
       "\\end{tabular}\n"
      ],
      "text/markdown": [
       "\n",
       "A data.frame: 2 × 2\n",
       "\n",
       "| <!--/--> | ID &lt;chr&gt; | SNORD99_ACTB_mol &lt;dbl&gt; |\n",
       "|---|---|---|\n",
       "| 1 | SXR0002 | 0.25324223 |\n",
       "| 2 | SXR0004 | 0.09088467 |\n",
       "\n"
      ],
      "text/plain": [
       "  ID      SNORD99_ACTB_mol\n",
       "1 SXR0002 0.25324223      \n",
       "2 SXR0004 0.09088467      "
      ]
     },
     "metadata": {},
     "output_type": "display_data"
    }
   ],
   "source": [
    "pcr = as.data.frame(read_excel(path = pcrValueFile, sheet = 1))\n",
    "pcr$SNORD99_ACTB_mol = pcr$SNORD99_molec_count/pcr$ACTB_molec_count\n",
    "pcr = pcr[,c(\"ID\",\"SNORD99_ACTB_mol\")]\n",
    "head(pcr,2)"
   ]
  },
  {
   "cell_type": "code",
   "execution_count": 7,
   "id": "8357f827",
   "metadata": {},
   "outputs": [
    {
     "data": {
      "text/html": [
       "<table class=\"dataframe\">\n",
       "<caption>A data.frame: 2 × 4</caption>\n",
       "<thead>\n",
       "\t<tr><th></th><th scope=col>ID</th><th scope=col>SNORD99_ACTB_mol</th><th scope=col>SNORD22_RNY3_mol</th><th scope=col>SNORD26_RNY3_mol</th></tr>\n",
       "\t<tr><th></th><th scope=col>&lt;chr&gt;</th><th scope=col>&lt;dbl&gt;</th><th scope=col>&lt;dbl&gt;</th><th scope=col>&lt;dbl&gt;</th></tr>\n",
       "</thead>\n",
       "<tbody>\n",
       "\t<tr><th scope=row>1</th><td>SXR0002</td><td>0.25324223</td><td>       Inf</td><td>       NaN</td></tr>\n",
       "\t<tr><th scope=row>2</th><td>SXR0004</td><td>0.09088467</td><td>0.06216743</td><td>0.01914862</td></tr>\n",
       "</tbody>\n",
       "</table>\n"
      ],
      "text/latex": [
       "A data.frame: 2 × 4\n",
       "\\begin{tabular}{r|llll}\n",
       "  & ID & SNORD99\\_ACTB\\_mol & SNORD22\\_RNY3\\_mol & SNORD26\\_RNY3\\_mol\\\\\n",
       "  & <chr> & <dbl> & <dbl> & <dbl>\\\\\n",
       "\\hline\n",
       "\t1 & SXR0002 & 0.25324223 &        Inf &        NaN\\\\\n",
       "\t2 & SXR0004 & 0.09088467 & 0.06216743 & 0.01914862\\\\\n",
       "\\end{tabular}\n"
      ],
      "text/markdown": [
       "\n",
       "A data.frame: 2 × 4\n",
       "\n",
       "| <!--/--> | ID &lt;chr&gt; | SNORD99_ACTB_mol &lt;dbl&gt; | SNORD22_RNY3_mol &lt;dbl&gt; | SNORD26_RNY3_mol &lt;dbl&gt; |\n",
       "|---|---|---|---|---|\n",
       "| 1 | SXR0002 | 0.25324223 |        Inf |        NaN |\n",
       "| 2 | SXR0004 | 0.09088467 | 0.06216743 | 0.01914862 |\n",
       "\n"
      ],
      "text/plain": [
       "  ID      SNORD99_ACTB_mol SNORD22_RNY3_mol SNORD26_RNY3_mol\n",
       "1 SXR0002 0.25324223              Inf              NaN      \n",
       "2 SXR0004 0.09088467       0.06216743       0.01914862      "
      ]
     },
     "metadata": {},
     "output_type": "display_data"
    }
   ],
   "source": [
    "tmp = as.data.frame(read_excel(path = pcrValueFile, sheet = 2))\n",
    "tmp$SNORD22_RNY3_mol = tmp$SNORD22_molec_count/tmp$RNY3_molec_count\n",
    "tmp$SNORD26_RNY3_mol = tmp$SNORD26_molec_count/tmp$RNY3_molec_count\n",
    "tmp = tmp[,c(\"ID\",\"SNORD22_RNY3_mol\",\"SNORD26_RNY3_mol\")]\n",
    "pcr = merge(pcr,tmp,by=\"ID\")\n",
    "head(pcr,2)"
   ]
  },
  {
   "cell_type": "code",
   "execution_count": 8,
   "id": "85a6f934",
   "metadata": {},
   "outputs": [
    {
     "data": {
      "text/html": [
       "<table class=\"dataframe\">\n",
       "<caption>A data.frame: 3 × 5</caption>\n",
       "<thead>\n",
       "\t<tr><th></th><th scope=col>ID</th><th scope=col>SNORD99_ACTB_mol</th><th scope=col>SNORD22_RNY3_mol</th><th scope=col>SNORD26_RNY3_mol</th><th scope=col>SNORA50C_ACTB_mol</th></tr>\n",
       "\t<tr><th></th><th scope=col>&lt;chr&gt;</th><th scope=col>&lt;dbl&gt;</th><th scope=col>&lt;dbl&gt;</th><th scope=col>&lt;dbl&gt;</th><th scope=col>&lt;dbl&gt;</th></tr>\n",
       "</thead>\n",
       "<tbody>\n",
       "\t<tr><th scope=row>1</th><td>SXR0002</td><td>0.25324223</td><td>       Inf</td><td>       NaN</td><td>0.021118913</td></tr>\n",
       "\t<tr><th scope=row>2</th><td>SXR0004</td><td>0.09088467</td><td>0.06216743</td><td>0.01914862</td><td>0.004867978</td></tr>\n",
       "\t<tr><th scope=row>3</th><td>SXR0006</td><td>0.02808557</td><td>0.03330643</td><td>0.01758783</td><td>0.012005747</td></tr>\n",
       "</tbody>\n",
       "</table>\n"
      ],
      "text/latex": [
       "A data.frame: 3 × 5\n",
       "\\begin{tabular}{r|lllll}\n",
       "  & ID & SNORD99\\_ACTB\\_mol & SNORD22\\_RNY3\\_mol & SNORD26\\_RNY3\\_mol & SNORA50C\\_ACTB\\_mol\\\\\n",
       "  & <chr> & <dbl> & <dbl> & <dbl> & <dbl>\\\\\n",
       "\\hline\n",
       "\t1 & SXR0002 & 0.25324223 &        Inf &        NaN & 0.021118913\\\\\n",
       "\t2 & SXR0004 & 0.09088467 & 0.06216743 & 0.01914862 & 0.004867978\\\\\n",
       "\t3 & SXR0006 & 0.02808557 & 0.03330643 & 0.01758783 & 0.012005747\\\\\n",
       "\\end{tabular}\n"
      ],
      "text/markdown": [
       "\n",
       "A data.frame: 3 × 5\n",
       "\n",
       "| <!--/--> | ID &lt;chr&gt; | SNORD99_ACTB_mol &lt;dbl&gt; | SNORD22_RNY3_mol &lt;dbl&gt; | SNORD26_RNY3_mol &lt;dbl&gt; | SNORA50C_ACTB_mol &lt;dbl&gt; |\n",
       "|---|---|---|---|---|---|\n",
       "| 1 | SXR0002 | 0.25324223 |        Inf |        NaN | 0.021118913 |\n",
       "| 2 | SXR0004 | 0.09088467 | 0.06216743 | 0.01914862 | 0.004867978 |\n",
       "| 3 | SXR0006 | 0.02808557 | 0.03330643 | 0.01758783 | 0.012005747 |\n",
       "\n"
      ],
      "text/plain": [
       "  ID      SNORD99_ACTB_mol SNORD22_RNY3_mol SNORD26_RNY3_mol SNORA50C_ACTB_mol\n",
       "1 SXR0002 0.25324223              Inf              NaN       0.021118913      \n",
       "2 SXR0004 0.09088467       0.06216743       0.01914862       0.004867978      \n",
       "3 SXR0006 0.02808557       0.03330643       0.01758783       0.012005747      "
      ]
     },
     "metadata": {},
     "output_type": "display_data"
    }
   ],
   "source": [
    "tmp = as.data.frame(read_excel(path = pcrValueFile, sheet = 3))\n",
    "tmp$SNORA50C_ACTB_mol = tmp$SNORA50C_molec_count / tmp$ACTB_molec_count\n",
    "tmp = tmp[,c(\"ID\",\"SNORA50C_ACTB_mol\")]\n",
    "pcr = merge(pcr,tmp,by=\"ID\")\n",
    "head(pcr,3)"
   ]
  },
  {
   "cell_type": "code",
   "execution_count": 9,
   "id": "78a8729d",
   "metadata": {},
   "outputs": [
    {
     "data": {
      "text/html": [
       "<table class=\"dataframe\">\n",
       "<caption>A data.frame: 3 × 8</caption>\n",
       "<thead>\n",
       "\t<tr><th></th><th scope=col>ID</th><th scope=col>SNORD99_ACTB_mol</th><th scope=col>SNORD22_RNY3_mol</th><th scope=col>SNORD26_RNY3_mol</th><th scope=col>SNORA50C_ACTB_mol</th><th scope=col>gender</th><th scope=col>age</th><th scope=col>group</th></tr>\n",
       "\t<tr><th></th><th scope=col>&lt;chr&gt;</th><th scope=col>&lt;dbl&gt;</th><th scope=col>&lt;dbl&gt;</th><th scope=col>&lt;dbl&gt;</th><th scope=col>&lt;dbl&gt;</th><th scope=col>&lt;chr&gt;</th><th scope=col>&lt;int&gt;</th><th scope=col>&lt;chr&gt;</th></tr>\n",
       "</thead>\n",
       "<tbody>\n",
       "\t<tr><th scope=row>1</th><td>SXR0002</td><td>0.25324223</td><td>        NA</td><td>        NA</td><td>0.021118913</td><td>female</td><td>80</td><td>ccRCC</td></tr>\n",
       "\t<tr><th scope=row>2</th><td>SXR0004</td><td>0.09088467</td><td>0.06216743</td><td>0.01914862</td><td>0.004867978</td><td>male  </td><td>50</td><td>ccRCC</td></tr>\n",
       "\t<tr><th scope=row>3</th><td>SXR0006</td><td>0.02808557</td><td>0.03330643</td><td>0.01758783</td><td>0.012005747</td><td>male  </td><td>68</td><td>ccRCC</td></tr>\n",
       "</tbody>\n",
       "</table>\n"
      ],
      "text/latex": [
       "A data.frame: 3 × 8\n",
       "\\begin{tabular}{r|llllllll}\n",
       "  & ID & SNORD99\\_ACTB\\_mol & SNORD22\\_RNY3\\_mol & SNORD26\\_RNY3\\_mol & SNORA50C\\_ACTB\\_mol & gender & age & group\\\\\n",
       "  & <chr> & <dbl> & <dbl> & <dbl> & <dbl> & <chr> & <int> & <chr>\\\\\n",
       "\\hline\n",
       "\t1 & SXR0002 & 0.25324223 &         NA &         NA & 0.021118913 & female & 80 & ccRCC\\\\\n",
       "\t2 & SXR0004 & 0.09088467 & 0.06216743 & 0.01914862 & 0.004867978 & male   & 50 & ccRCC\\\\\n",
       "\t3 & SXR0006 & 0.02808557 & 0.03330643 & 0.01758783 & 0.012005747 & male   & 68 & ccRCC\\\\\n",
       "\\end{tabular}\n"
      ],
      "text/markdown": [
       "\n",
       "A data.frame: 3 × 8\n",
       "\n",
       "| <!--/--> | ID &lt;chr&gt; | SNORD99_ACTB_mol &lt;dbl&gt; | SNORD22_RNY3_mol &lt;dbl&gt; | SNORD26_RNY3_mol &lt;dbl&gt; | SNORA50C_ACTB_mol &lt;dbl&gt; | gender &lt;chr&gt; | age &lt;int&gt; | group &lt;chr&gt; |\n",
       "|---|---|---|---|---|---|---|---|---|\n",
       "| 1 | SXR0002 | 0.25324223 |         NA |         NA | 0.021118913 | female | 80 | ccRCC |\n",
       "| 2 | SXR0004 | 0.09088467 | 0.06216743 | 0.01914862 | 0.004867978 | male   | 50 | ccRCC |\n",
       "| 3 | SXR0006 | 0.02808557 | 0.03330643 | 0.01758783 | 0.012005747 | male   | 68 | ccRCC |\n",
       "\n"
      ],
      "text/plain": [
       "  ID      SNORD99_ACTB_mol SNORD22_RNY3_mol SNORD26_RNY3_mol SNORA50C_ACTB_mol\n",
       "1 SXR0002 0.25324223               NA               NA       0.021118913      \n",
       "2 SXR0004 0.09088467       0.06216743       0.01914862       0.004867978      \n",
       "3 SXR0006 0.02808557       0.03330643       0.01758783       0.012005747      \n",
       "  gender age group\n",
       "1 female 80  ccRCC\n",
       "2 male   50  ccRCC\n",
       "3 male   68  ccRCC"
      ]
     },
     "metadata": {},
     "output_type": "display_data"
    }
   ],
   "source": [
    "pcr = merge(x = pcr,y=annot, by = \"ID\", all.y=F)\n",
    "pcr$SNORD99_ACTB_mol[which(is.infinite(pcr$SNORD99_ACTB_mol) | is.nan(pcr$SNORD99_ACTB_mol))] = NA\n",
    "pcr$SNORD22_RNY3_mol[which(is.infinite(pcr$SNORD22_RNY3_mol) | is.nan(pcr$SNORD22_RNY3_mol))] = NA\n",
    "pcr$SNORD26_RNY3_mol[which(is.infinite(pcr$SNORD26_RNY3_mol) | is.nan(pcr$SNORD26_RNY3_mol))] = NA\n",
    "pcr$SNORA50C_ACTB_mol[which(is.infinite(pcr$SNORA50C_ACTB_mol) | is.nan(pcr$SNORA50C_ACTB_mol))] = NA\n",
    "head(pcr,3)"
   ]
  },
  {
   "cell_type": "code",
   "execution_count": 10,
   "id": "f90277f3",
   "metadata": {},
   "outputs": [],
   "source": [
    "pcr$group_binary = factor(x = pcr$group, levels = c(\"urolithiasis\",\"ccRCC\"))\n",
    "rownames(pcr) = pcr$ID"
   ]
  },
  {
   "cell_type": "code",
   "execution_count": 11,
   "id": "aee54549",
   "metadata": {},
   "outputs": [],
   "source": [
    "allGeneVars = c(\"SNORD99_ACTB_mol\",\"SNORD22_RNY3_mol\",\"SNORD26_RNY3_mol\",\"SNORA50C_ACTB_mol\")\n",
    "names(allGeneVars) = c(\"SNORD99\",\"SNORD22\",\"SNORD26\",\"SNORA50C\")"
   ]
  },
  {
   "cell_type": "markdown",
   "id": "8157817d",
   "metadata": {},
   "source": [
    "### find valuable random partition of data"
   ]
  },
  {
   "cell_type": "code",
   "execution_count": 12,
   "id": "611123f1",
   "metadata": {},
   "outputs": [],
   "source": [
    "# create a random partition of the data\n",
    "createPartition = function(k=5, dat) {\n",
    "    partLen = nrow(dat)/k # 5 partitions of ca 16 samples each\n",
    "    idx = 1:nrow(dat)\n",
    "    idxShuffPart = split(sample(idx,length(idx)),ceiling(seq_along(idx) / partLen))\n",
    "    return(unname(idxShuffPart))\n",
    "}"
   ]
  },
  {
   "cell_type": "code",
   "execution_count": 13,
   "id": "520c1ebb",
   "metadata": {},
   "outputs": [],
   "source": [
    "# for a partition of data, print the number of each group (ccRCC, uro)\n",
    "printGroupPartition = function(dat, partition, var=\"group\") {\n",
    "    for (part in partition) {\n",
    "        t = table(dat[part,var])\n",
    "        print(t)\n",
    "    }\n",
    "}"
   ]
  },
  {
   "cell_type": "code",
   "execution_count": 14,
   "id": "9bad6031",
   "metadata": {},
   "outputs": [],
   "source": [
    "# check that in each partition there are at least minA and minB samples\n",
    "#   in the groups of variable var\n",
    "#   groupA and groupB are the names of the groups in var\n",
    "checkPartition = function(dat, partition, var=\"group\",groupA,groupB,minA, minB) {\n",
    "    isOK = T\n",
    "    for (part in partition) {\n",
    "        lengthA = length(which(dat[part,var] == groupA))\n",
    "        lengthB = length(which(dat[part,var] == groupB))\n",
    "        goodOne = lengthA >= minA & lengthB >= minB\n",
    "        isOK = isOK & goodOne\n",
    "    }\n",
    "    return(isOK)\n",
    "}"
   ]
  },
  {
   "cell_type": "code",
   "execution_count": 15,
   "id": "9b213f8d",
   "metadata": {},
   "outputs": [],
   "source": [
    "# call functions above: create random partitions until a right one is found\n",
    "findPartition = function(maxIter,k,dat=dat,var = \"group\",groupA,groupB,minA,minB) {\n",
    "    end = F; i = 0;\n",
    "    partition=NULL\n",
    "    while(!end) {\n",
    "        partition = createPartition(k = k, dat = dat)\n",
    "        check = checkPartition(dat = pcr, partition = partition, var=var,\n",
    "                   groupA = groupA,groupB = groupB,minA = minA,minB = minB)\n",
    "        i = i + 1\n",
    "        end = i > maxIter | check\n",
    "    }\n",
    "    return(partition)\n",
    "}"
   ]
  },
  {
   "cell_type": "code",
   "execution_count": 16,
   "id": "7ddc17cf",
   "metadata": {},
   "outputs": [],
   "source": [
    "# create and evaluate regression model from/with training and test data\n",
    "\n",
    "glmFlexible = function(trainDat, testDat, variables = c(\"SNORD99_ACTB_mol\",\"SNORD22_RNY3_mol\"),\n",
    "                             confounders = c(\"age\",\"gender\")) {\n",
    "    varValuesTrain = sapply(variables, function(var) \n",
    "        log(trainDat[,var] + min(setdiff(trainDat[,var],0), na.rm = T)/2))\n",
    "    varValuesTest = sapply(variables, function(var) \n",
    "        log(testDat[,var] + min(setdiff(testDat[,var],0), na.rm = T)/2))\n",
    "    colnames(varValuesTrain) = paste0(\"var_\",1:length(variables))\n",
    "    trainDat = cbind(trainDat, varValuesTrain)\n",
    "    colnames(varValuesTest) = paste0(\"var_\",1:length(variables))\n",
    "    testDat = cbind(testDat, varValuesTest)\n",
    "    \n",
    "    # don't run if there are not both ccRCC and controls present in either test or training data:\n",
    "    if(length(table(testDat[,\"group_binary\"]))==1 |\n",
    "      length(table(trainDat[,\"group_binary\"]))==1 ) {\n",
    "        return(NULL)\n",
    "    }\n",
    "    formula = as.formula(paste0(\"group_binary ~ \",paste0(colnames(varValuesTrain),collapse=\" + \"),\" + \",\n",
    "           paste0(confounders,collapse=\" + \")))\n",
    "    # remove rows where any variable is NA\n",
    "    wh = which(!apply(trainDat[,c(colnames(varValuesTrain),confounders), drop=F],1, function(l) any(is.na(l))))\n",
    "    trainDat = trainDat[wh,,drop=F]\n",
    "    wh = which(!apply(testDat[,c(colnames(varValuesTest),confounders), drop=F],1, function(l) any(is.na(l))))\n",
    "    testDat = testDat[wh,,drop=F]\n",
    "    \n",
    "    glmModel = glm(data = trainDat,formula = formula, family = \"binomial\")   \n",
    "    # p-value of whole model, i.e. better than a null model?\n",
    "    # from https://stats.stackexchange.com/questions/129958/glm-in-r-which-pvalue-represents-the-goodness-of-fit-of-entire-model\n",
    "                      \n",
    "    nullModel = glm(formula = \"group_binary ~ 1\",data = trainDat, family = \"binomial\")   \n",
    "    p_model = with(anova(nullModel,glmModel),pchisq(Deviance,Df,lower.tail=FALSE)[2]) \n",
    "\n",
    "    testProb = predict(glmModel, newdata = testDat, type = \"response\") \n",
    "    label = paste0(paste0(names(variables),collapse=\" + \"),\" + \",paste0(confounders,collapse=\" + \"))\n",
    "    testRoc = roc(group_binary ~ testProb, data = testDat , plot = F, print.auc = TRUE, \n",
    "                      print.auc.cex=1.2, main = label, cex.main=0.9, quiet=T)\n",
    "\n",
    "    # best cutoff:\n",
    "    wh = which.max(testRoc$sensitivities + testRoc$specificities)\n",
    "    cutoff = testRoc$thresholds[wh]\n",
    "    confusion = table(ifelse(testProb>cutoff, 1, 0), ifelse(testDat$group_binary==\"ccRCC\",1,0))\n",
    "    confusion = confusion[c(\"1\",\"0\"),c(\"1\",\"0\")]\n",
    "                      \n",
    "    D = confusion[2,2]; C = confusion[2,1]; B = confusion[1,2]; A = confusion[1,1]\n",
    "    accuracy = (A+D)/(A+B+C+D)\n",
    "    sens = A / (A + C)\n",
    "    spec = D / (D + B)\n",
    "                      \n",
    "                      \n",
    "    stats = data.frame(p_model = p_model, sens = sens, spec=spec, acc=accuracy, AUC=testRoc$auc, \n",
    "            stringsAsFactors = F)\n",
    "    rownames(stats) = label\n",
    "\n",
    "    return(stats)\n",
    "}"
   ]
  },
  {
   "cell_type": "code",
   "execution_count": 17,
   "id": "4cde3174",
   "metadata": {},
   "outputs": [],
   "source": [
    "# for a given data partition, calculate all models/metrics of all possible partitions of the training/test data\n",
    "#  that is, cycle through the 5 partition bins \n",
    "callGlmPermutations = function(dat, partition, variables, confounders) {\n",
    "    allStats = NULL\n",
    "    for (i in 1:length(partition)) {\n",
    "        testIdx = partition[[i]]\n",
    "        testDat = dat[testIdx,]\n",
    "        trainIdx = setdiff(unlist(partition),partition[[i]])\n",
    "        trainDat = dat[trainIdx,]\n",
    "        stat = glmFlexible(trainDat = trainDat, testDat = testDat,variables = variables,\n",
    "                      confounders = confounders)\n",
    "        if(is.null(stat)) {next}\n",
    "        pNames = grep(\"p_\\\\d+\",colnames(stat),value = T)\n",
    "        allStats = rbind(allStats, data.frame( row.names = rownames(stat), stringsAsFactors = F,\n",
    "            Sensitivity=stat$sens, Specificity=stat$spec,\n",
    "            Accuracy=stat$acc, AUC=stat$AUC, p_model=stat$p_model))\n",
    "    }    \n",
    "    return(allStats)\n",
    "}"
   ]
  },
  {
   "cell_type": "code",
   "execution_count": 18,
   "id": "961e3af9",
   "metadata": {},
   "outputs": [],
   "source": [
    "# parallelized calling repeatedly the function for calculation of all permutations of a given partition\n",
    "callGlmPermutationsRepeatedlyParallel = function(\n",
    "    nbCPUs = 40, nbRepeats = 1000, dat, variables, confounders, \n",
    "    k = 5, var = \"group\", groupA = \"ccRCC\", groupB = \"urolithiasis\",\n",
    "    minA = 10,minB = 4) {\n",
    "    \n",
    "    maxIterPartition = 3000 # how often do we try until we give up finding a partition\n",
    "    \n",
    "    oneCall = function(maxIter,k,dat, var, groupA, groupB,minA,minB) {\n",
    "        partition = findPartition(maxIter = maxIter,k = k,dat = dat, var = var, \n",
    "                          groupA = groupA, groupB = groupB,minA = minA,minB = minB)\n",
    "        if(!is.null(partition)) {\n",
    "            stats  = callGlmPermutations(dat = dat, partition = partition, \n",
    "                            variables = variables, confounders = confounders)\n",
    "        } else {\n",
    "            stats = NULL\n",
    "        }\n",
    "        return(stats)\n",
    "    }\n",
    "    \n",
    "    stats = mclapply(X = 1:nbRepeats, mc.cores = nbCPUs,\n",
    "             FUN = function(x) oneCall(maxIter = maxIterPartition,k = k,dat = dat, var = var, \n",
    "                          groupA = groupA, groupB = groupB,minA = minA,minB = minB))\n",
    "    stats = do.call(rbind,stats) # do.call omits NULL automatically\n",
    "    message(nrow(stats),\" iterations managed\")\n",
    "    m = apply(stats,2,function(c) mean(c,na.rm=T))\n",
    "    s = apply(stats,2,function(c) sd(c,na.rm=T))\n",
    "    rbind(m,s)\n",
    "    stats = data.frame(formula = rownames(stats)[1],t(as.vector(rbind(m,s))))\n",
    "\n",
    "    colnames(stats) = c(\"formula\", \"sens_mean\",\"sens_SD\",\"spec_mean\",\"spec_SD\",\n",
    "                        \"ACC_mean\",\"ACC_SD\",\"ACU_mean\",\"ACU_SD\",\"p_model_mean\",\"p_model_SD\")\n",
    "    stats\n",
    "}"
   ]
  },
  {
   "cell_type": "markdown",
   "id": "9b36b16b",
   "metadata": {},
   "source": [
    "# 1 gene models"
   ]
  },
  {
   "cell_type": "code",
   "execution_count": 19,
   "id": "4cc9141e",
   "metadata": {
    "scrolled": true
   },
   "outputs": [
    {
     "name": "stderr",
     "output_type": "stream",
     "text": [
      "5000 iterations managed\n",
      "\n"
     ]
    }
   ],
   "source": [
    "allStats = NULL\n",
    "allStats = rbind(allStats,\n",
    "                 callGlmPermutationsRepeatedlyParallel(# nbCPUs = 40, nbRepeats = 100,\n",
    "                       dat = pcr, variables = allGeneVars[c(\"SNORD99\")], confounders = c(\"age\",\"gender\"), \n",
    "                       k = 5, var = \"group\",groupA = \"ccRCC\", groupB = \"urolithiasis\",minA = 10,minB = 4))"
   ]
  },
  {
   "cell_type": "code",
   "execution_count": 20,
   "id": "96687a33",
   "metadata": {},
   "outputs": [
    {
     "name": "stderr",
     "output_type": "stream",
     "text": [
      "5000 iterations managed\n",
      "\n"
     ]
    }
   ],
   "source": [
    "allStats = rbind(allStats,\n",
    "                 callGlmPermutationsRepeatedlyParallel(#nbCPUs = 60, nbRepeats = 100,\n",
    "                       dat = pcr, variables = allGeneVars[c(\"SNORD22\")], confounders = c(\"age\",\"gender\"), \n",
    "                       k = 5, var = \"group\",groupA = \"ccRCC\", groupB = \"urolithiasis\",minA = 10,minB = 4))"
   ]
  },
  {
   "cell_type": "code",
   "execution_count": 21,
   "id": "1cd94d9b",
   "metadata": {},
   "outputs": [
    {
     "name": "stderr",
     "output_type": "stream",
     "text": [
      "5000 iterations managed\n",
      "\n"
     ]
    }
   ],
   "source": [
    "allStats = rbind(allStats,\n",
    "                 callGlmPermutationsRepeatedlyParallel(#nbCPUs = 60, nbRepeats = 100,\n",
    "                       dat = pcr, variables = allGeneVars[c(\"SNORD26\")], confounders = c(\"age\",\"gender\"), \n",
    "                       k = 5, var = \"group\",groupA = \"ccRCC\", groupB = \"urolithiasis\",minA = 10,minB = 4))"
   ]
  },
  {
   "cell_type": "code",
   "execution_count": 22,
   "id": "e9432ade",
   "metadata": {},
   "outputs": [
    {
     "name": "stderr",
     "output_type": "stream",
     "text": [
      "5000 iterations managed\n",
      "\n"
     ]
    }
   ],
   "source": [
    "allStats = rbind(allStats,\n",
    "                 callGlmPermutationsRepeatedlyParallel(#nbCPUs = 60, nbRepeats = 100,\n",
    "                       dat = pcr, variables = allGeneVars[c(\"SNORA50C\")], confounders = c(\"age\",\"gender\"), \n",
    "                       k = 5, var = \"group\",groupA = \"ccRCC\", groupB = \"urolithiasis\",minA = 10,minB = 4))"
   ]
  },
  {
   "cell_type": "markdown",
   "id": "84848cbb",
   "metadata": {},
   "source": [
    "# 2 gene models"
   ]
  },
  {
   "cell_type": "code",
   "execution_count": 23,
   "id": "1193cad7",
   "metadata": {},
   "outputs": [
    {
     "name": "stderr",
     "output_type": "stream",
     "text": [
      "5000 iterations managed\n",
      "\n"
     ]
    }
   ],
   "source": [
    "allStats = rbind(allStats,\n",
    "                 callGlmPermutationsRepeatedlyParallel(#nbCPUs = 60, nbRepeats = 100,\n",
    "                       dat = pcr, variables = allGeneVars[c(\"SNORD99\",\"SNORD22\")], confounders = c(\"age\",\"gender\"), \n",
    "                       k = 5, var = \"group\",groupA = \"ccRCC\", groupB = \"urolithiasis\",minA = 10,minB = 4))"
   ]
  },
  {
   "cell_type": "code",
   "execution_count": 24,
   "id": "c0dd6a7c",
   "metadata": {},
   "outputs": [
    {
     "name": "stderr",
     "output_type": "stream",
     "text": [
      "5000 iterations managed\n",
      "\n"
     ]
    }
   ],
   "source": [
    "allStats = rbind(allStats,\n",
    "                 callGlmPermutationsRepeatedlyParallel(#nbCPUs = 60, nbRepeats = 100,\n",
    "                       dat = pcr, variables = allGeneVars[c(\"SNORD99\",\"SNORD26\")], confounders = c(\"age\",\"gender\"), \n",
    "                       k = 5, var = \"group\",groupA = \"ccRCC\", groupB = \"urolithiasis\",minA = 10,minB = 4))"
   ]
  },
  {
   "cell_type": "code",
   "execution_count": 25,
   "id": "0c811d52",
   "metadata": {},
   "outputs": [
    {
     "name": "stderr",
     "output_type": "stream",
     "text": [
      "5000 iterations managed\n",
      "\n"
     ]
    }
   ],
   "source": [
    "allStats = rbind(allStats,\n",
    "                 callGlmPermutationsRepeatedlyParallel(#nbCPUs = 60, nbRepeats = 100,\n",
    "                       dat = pcr, variables = allGeneVars[c(\"SNORD99\",\"SNORA50C\")], confounders = c(\"age\",\"gender\"), \n",
    "                       k = 5, var = \"group\",groupA = \"ccRCC\", groupB = \"urolithiasis\",minA = 10,minB = 4))"
   ]
  },
  {
   "cell_type": "code",
   "execution_count": 26,
   "id": "5845abde",
   "metadata": {},
   "outputs": [
    {
     "name": "stderr",
     "output_type": "stream",
     "text": [
      "5000 iterations managed\n",
      "\n"
     ]
    }
   ],
   "source": [
    "allStats = rbind(allStats,\n",
    "                 callGlmPermutationsRepeatedlyParallel(#nbCPUs = 60, nbRepeats = 100,\n",
    "                       dat = pcr, variables = allGeneVars[c(\"SNORD22\",\"SNORD26\")], confounders = c(\"age\",\"gender\"), \n",
    "                       k = 5, var = \"group\",groupA = \"ccRCC\", groupB = \"urolithiasis\",minA = 10,minB = 4))"
   ]
  },
  {
   "cell_type": "code",
   "execution_count": 27,
   "id": "f75052cc",
   "metadata": {},
   "outputs": [
    {
     "name": "stderr",
     "output_type": "stream",
     "text": [
      "5000 iterations managed\n",
      "\n"
     ]
    }
   ],
   "source": [
    "allStats = rbind(allStats,\n",
    "                 callGlmPermutationsRepeatedlyParallel(#nbCPUs = 60, nbRepeats = 100,\n",
    "                       dat = pcr, variables = allGeneVars[c(\"SNORD22\",\"SNORA50C\")], confounders = c(\"age\",\"gender\"), \n",
    "                       k = 5, var = \"group\",groupA = \"ccRCC\", groupB = \"urolithiasis\",minA = 10,minB = 4))"
   ]
  },
  {
   "cell_type": "code",
   "execution_count": 28,
   "id": "14512e43",
   "metadata": {},
   "outputs": [
    {
     "name": "stderr",
     "output_type": "stream",
     "text": [
      "5000 iterations managed\n",
      "\n"
     ]
    }
   ],
   "source": [
    "allStats = rbind(allStats,\n",
    "                 callGlmPermutationsRepeatedlyParallel(#nbCPUs = 60, nbRepeats = 100,\n",
    "                       dat = pcr, variables = allGeneVars[c(\"SNORD26\",\"SNORA50C\")], confounders = c(\"age\",\"gender\"), \n",
    "                       k = 5, var = \"group\",groupA = \"ccRCC\", groupB = \"urolithiasis\",minA = 10,minB = 4))"
   ]
  },
  {
   "cell_type": "markdown",
   "id": "335af11e",
   "metadata": {},
   "source": [
    "# 3 gene models"
   ]
  },
  {
   "cell_type": "code",
   "execution_count": 29,
   "id": "0756cd40",
   "metadata": {},
   "outputs": [
    {
     "name": "stderr",
     "output_type": "stream",
     "text": [
      "5000 iterations managed\n",
      "\n"
     ]
    }
   ],
   "source": [
    "allStats = rbind(allStats,\n",
    "                 callGlmPermutationsRepeatedlyParallel(#nbCPUs = 60, nbRepeats = 100,\n",
    "                       dat = pcr, variables = allGeneVars[c(\"SNORD99\",\"SNORD22\",\"SNORD26\")], confounders = c(\"age\",\"gender\"), \n",
    "                       k = 5, var = \"group\",groupA = \"ccRCC\", groupB = \"urolithiasis\",minA = 10,minB = 4))"
   ]
  },
  {
   "cell_type": "code",
   "execution_count": 30,
   "id": "afa7d77a",
   "metadata": {},
   "outputs": [
    {
     "name": "stderr",
     "output_type": "stream",
     "text": [
      "5000 iterations managed\n",
      "\n"
     ]
    }
   ],
   "source": [
    "allStats = rbind(allStats,\n",
    "                 callGlmPermutationsRepeatedlyParallel(#nbCPUs = 60, nbRepeats = 100,\n",
    "                       dat = pcr, variables = allGeneVars[c(\"SNORD99\",\"SNORD22\",\"SNORA50C\")], confounders = c(\"age\",\"gender\"), \n",
    "                       k = 5, var = \"group\",groupA = \"ccRCC\", groupB = \"urolithiasis\",minA = 10,minB = 4))"
   ]
  },
  {
   "cell_type": "code",
   "execution_count": 31,
   "id": "3c607c86",
   "metadata": {},
   "outputs": [
    {
     "name": "stderr",
     "output_type": "stream",
     "text": [
      "5000 iterations managed\n",
      "\n"
     ]
    }
   ],
   "source": [
    "allStats = rbind(allStats,\n",
    "                 callGlmPermutationsRepeatedlyParallel(#nbCPUs = 60, nbRepeats = 100,\n",
    "                       dat = pcr, variables = allGeneVars[c(\"SNORD99\",\"SNORD26\",\"SNORA50C\")], confounders = c(\"age\",\"gender\"), \n",
    "                       k = 5, var = \"group\",groupA = \"ccRCC\", groupB = \"urolithiasis\",minA = 10,minB = 4))"
   ]
  },
  {
   "cell_type": "code",
   "execution_count": 32,
   "id": "dc4bd77c",
   "metadata": {},
   "outputs": [
    {
     "name": "stderr",
     "output_type": "stream",
     "text": [
      "5000 iterations managed\n",
      "\n"
     ]
    }
   ],
   "source": [
    "allStats = rbind(allStats,\n",
    "                 callGlmPermutationsRepeatedlyParallel(#nbCPUs = 60, nbRepeats = 100,\n",
    "                       dat = pcr, variables = allGeneVars[c(\"SNORD22\",\"SNORD26\",\"SNORA50C\")], confounders = c(\"age\",\"gender\"), \n",
    "                       k = 5, var = \"group\",groupA = \"ccRCC\", groupB = \"urolithiasis\",minA = 10,minB = 4))"
   ]
  },
  {
   "cell_type": "markdown",
   "id": "550c4bdf",
   "metadata": {},
   "source": [
    "# 4 gene model"
   ]
  },
  {
   "cell_type": "code",
   "execution_count": 33,
   "id": "0ae2e3fb",
   "metadata": {},
   "outputs": [
    {
     "name": "stderr",
     "output_type": "stream",
     "text": [
      "5000 iterations managed\n",
      "\n"
     ]
    }
   ],
   "source": [
    "allStats = rbind(allStats,\n",
    "                 callGlmPermutationsRepeatedlyParallel(#nbCPUs = 60, nbRepeats = 100,\n",
    "                       dat = pcr, variables = allGeneVars[c(\"SNORD99\",\"SNORD22\",\"SNORD26\",\"SNORA50C\")], confounders = c(\"age\",\"gender\"), \n",
    "                       k = 5, var = \"group\",groupA = \"ccRCC\", groupB = \"urolithiasis\",minA = 10,minB = 4))"
   ]
  },
  {
   "cell_type": "code",
   "execution_count": 34,
   "id": "88c3a3cd",
   "metadata": {},
   "outputs": [
    {
     "data": {
      "text/html": [
       "<table class=\"dataframe\">\n",
       "<caption>A data.frame: 15 × 11</caption>\n",
       "<thead>\n",
       "\t<tr><th scope=col>formula</th><th scope=col>sens_mean</th><th scope=col>sens_SD</th><th scope=col>spec_mean</th><th scope=col>spec_SD</th><th scope=col>ACC_mean</th><th scope=col>ACC_SD</th><th scope=col>ACU_mean</th><th scope=col>ACU_SD</th><th scope=col>p_model_mean</th><th scope=col>p_model_SD</th></tr>\n",
       "\t<tr><th scope=col>&lt;chr&gt;</th><th scope=col>&lt;dbl&gt;</th><th scope=col>&lt;dbl&gt;</th><th scope=col>&lt;dbl&gt;</th><th scope=col>&lt;dbl&gt;</th><th scope=col>&lt;dbl&gt;</th><th scope=col>&lt;dbl&gt;</th><th scope=col>&lt;dbl&gt;</th><th scope=col>&lt;dbl&gt;</th><th scope=col>&lt;dbl&gt;</th><th scope=col>&lt;dbl&gt;</th></tr>\n",
       "</thead>\n",
       "<tbody>\n",
       "\t<tr><td>SNORD99 + age + gender                               </td><td>0.6464391</td><td>0.2695536</td><td>0.6205267</td><td>0.2689612</td><td>0.6381150</td><td>0.2006236</td><td>0.6493684</td><td>0.1198119</td><td>0.08192688</td><td>0.08190804</td></tr>\n",
       "\t<tr><td>SNORD22 + age + gender                               </td><td>0.6584364</td><td>0.2585946</td><td>0.6666800</td><td>0.2712829</td><td>0.6605614</td><td>0.1891324</td><td>0.6632008</td><td>0.1238483</td><td>0.11934673</td><td>0.10859599</td></tr>\n",
       "\t<tr><td>SNORD26 + age + gender                               </td><td>0.6596755</td><td>0.2825902</td><td>0.6188133</td><td>0.2495259</td><td>0.6449299</td><td>0.2103540</td><td>0.6499003</td><td>0.1200608</td><td>0.14484891</td><td>0.11960608</td></tr>\n",
       "\t<tr><td>SNORA50C + age + gender                              </td><td>0.7321909</td><td>0.2306254</td><td>0.6994533</td><td>0.2286998</td><td>0.7216333</td><td>0.1689294</td><td>0.7023139</td><td>0.1263403</td><td>0.01911011</td><td>0.02460023</td></tr>\n",
       "\t<tr><td>SNORD99 + SNORD22 + age + gender                     </td><td>0.6484494</td><td>0.2760701</td><td>0.6260233</td><td>0.2745516</td><td>0.6399347</td><td>0.2019171</td><td>0.6484732</td><td>0.1213352</td><td>0.12678067</td><td>0.11559698</td></tr>\n",
       "\t<tr><td>SNORD99 + SNORD26 + age + gender                     </td><td>0.6545997</td><td>0.3086018</td><td>0.5750467</td><td>0.2355407</td><td>0.6264555</td><td>0.2285751</td><td>0.6427436</td><td>0.1216194</td><td>0.13886990</td><td>0.12039499</td></tr>\n",
       "\t<tr><td>SNORD99 + SNORA50C + age + gender                    </td><td>0.7172079</td><td>0.2353600</td><td>0.6851333</td><td>0.2360492</td><td>0.7070158</td><td>0.1744832</td><td>0.6883508</td><td>0.1274113</td><td>0.03600384</td><td>0.04455280</td></tr>\n",
       "\t<tr><td>SNORD22 + SNORD26 + age + gender                     </td><td>0.6593769</td><td>0.2838945</td><td>0.6372333</td><td>0.2569604</td><td>0.6512688</td><td>0.2042592</td><td>0.6548757</td><td>0.1241972</td><td>0.12402268</td><td>0.11613991</td></tr>\n",
       "\t<tr><td>SNORD22 + SNORA50C + age + gender                    </td><td>0.7023180</td><td>0.2632412</td><td>0.6646767</td><td>0.2427793</td><td>0.6888127</td><td>0.1883857</td><td>0.6761093</td><td>0.1282387</td><td>0.05166399</td><td>0.06013000</td></tr>\n",
       "\t<tr><td>SNORD26 + SNORA50C + age + gender                    </td><td>0.7019905</td><td>0.2693824</td><td>0.6468633</td><td>0.2453178</td><td>0.6827885</td><td>0.1922752</td><td>0.6717581</td><td>0.1262572</td><td>0.06360997</td><td>0.06896025</td></tr>\n",
       "\t<tr><td>SNORD99 + SNORD22 + SNORD26 + age + gender           </td><td>0.6468314</td><td>0.3022020</td><td>0.5879667</td><td>0.2541222</td><td>0.6262987</td><td>0.2203181</td><td>0.6423110</td><td>0.1202352</td><td>0.14912181</td><td>0.13194744</td></tr>\n",
       "\t<tr><td>SNORD99 + SNORD22 + SNORA50C + age + gender          </td><td>0.6965200</td><td>0.2701205</td><td>0.6399900</td><td>0.2446011</td><td>0.6764014</td><td>0.1937421</td><td>0.6641758</td><td>0.1241642</td><td>0.07989557</td><td>0.08585690</td></tr>\n",
       "\t<tr><td>SNORD99 + SNORD26 + SNORA50C + age + gender          </td><td>0.6838726</td><td>0.2770879</td><td>0.6248533</td><td>0.2484751</td><td>0.6629870</td><td>0.2028720</td><td>0.6609584</td><td>0.1270079</td><td>0.09856909</td><td>0.09772892</td></tr>\n",
       "\t<tr><td>SNORD22 + SNORD26 + SNORA50C + age + gender          </td><td>0.6936207</td><td>0.2789315</td><td>0.6319800</td><td>0.2434388</td><td>0.6721236</td><td>0.2003703</td><td>0.6640663</td><td>0.1244305</td><td>0.07719470</td><td>0.08198128</td></tr>\n",
       "\t<tr><td>SNORD99 + SNORD22 + SNORD26 + SNORA50C + age + gender</td><td>0.6701729</td><td>0.2949623</td><td>0.6103033</td><td>0.2514776</td><td>0.6492476</td><td>0.2123657</td><td>0.6532727</td><td>0.1237773</td><td>0.11068734</td><td>0.11216281</td></tr>\n",
       "</tbody>\n",
       "</table>\n"
      ],
      "text/latex": [
       "A data.frame: 15 × 11\n",
       "\\begin{tabular}{lllllllllll}\n",
       " formula & sens\\_mean & sens\\_SD & spec\\_mean & spec\\_SD & ACC\\_mean & ACC\\_SD & ACU\\_mean & ACU\\_SD & p\\_model\\_mean & p\\_model\\_SD\\\\\n",
       " <chr> & <dbl> & <dbl> & <dbl> & <dbl> & <dbl> & <dbl> & <dbl> & <dbl> & <dbl> & <dbl>\\\\\n",
       "\\hline\n",
       "\t SNORD99 + age + gender                                & 0.6464391 & 0.2695536 & 0.6205267 & 0.2689612 & 0.6381150 & 0.2006236 & 0.6493684 & 0.1198119 & 0.08192688 & 0.08190804\\\\\n",
       "\t SNORD22 + age + gender                                & 0.6584364 & 0.2585946 & 0.6666800 & 0.2712829 & 0.6605614 & 0.1891324 & 0.6632008 & 0.1238483 & 0.11934673 & 0.10859599\\\\\n",
       "\t SNORD26 + age + gender                                & 0.6596755 & 0.2825902 & 0.6188133 & 0.2495259 & 0.6449299 & 0.2103540 & 0.6499003 & 0.1200608 & 0.14484891 & 0.11960608\\\\\n",
       "\t SNORA50C + age + gender                               & 0.7321909 & 0.2306254 & 0.6994533 & 0.2286998 & 0.7216333 & 0.1689294 & 0.7023139 & 0.1263403 & 0.01911011 & 0.02460023\\\\\n",
       "\t SNORD99 + SNORD22 + age + gender                      & 0.6484494 & 0.2760701 & 0.6260233 & 0.2745516 & 0.6399347 & 0.2019171 & 0.6484732 & 0.1213352 & 0.12678067 & 0.11559698\\\\\n",
       "\t SNORD99 + SNORD26 + age + gender                      & 0.6545997 & 0.3086018 & 0.5750467 & 0.2355407 & 0.6264555 & 0.2285751 & 0.6427436 & 0.1216194 & 0.13886990 & 0.12039499\\\\\n",
       "\t SNORD99 + SNORA50C + age + gender                     & 0.7172079 & 0.2353600 & 0.6851333 & 0.2360492 & 0.7070158 & 0.1744832 & 0.6883508 & 0.1274113 & 0.03600384 & 0.04455280\\\\\n",
       "\t SNORD22 + SNORD26 + age + gender                      & 0.6593769 & 0.2838945 & 0.6372333 & 0.2569604 & 0.6512688 & 0.2042592 & 0.6548757 & 0.1241972 & 0.12402268 & 0.11613991\\\\\n",
       "\t SNORD22 + SNORA50C + age + gender                     & 0.7023180 & 0.2632412 & 0.6646767 & 0.2427793 & 0.6888127 & 0.1883857 & 0.6761093 & 0.1282387 & 0.05166399 & 0.06013000\\\\\n",
       "\t SNORD26 + SNORA50C + age + gender                     & 0.7019905 & 0.2693824 & 0.6468633 & 0.2453178 & 0.6827885 & 0.1922752 & 0.6717581 & 0.1262572 & 0.06360997 & 0.06896025\\\\\n",
       "\t SNORD99 + SNORD22 + SNORD26 + age + gender            & 0.6468314 & 0.3022020 & 0.5879667 & 0.2541222 & 0.6262987 & 0.2203181 & 0.6423110 & 0.1202352 & 0.14912181 & 0.13194744\\\\\n",
       "\t SNORD99 + SNORD22 + SNORA50C + age + gender           & 0.6965200 & 0.2701205 & 0.6399900 & 0.2446011 & 0.6764014 & 0.1937421 & 0.6641758 & 0.1241642 & 0.07989557 & 0.08585690\\\\\n",
       "\t SNORD99 + SNORD26 + SNORA50C + age + gender           & 0.6838726 & 0.2770879 & 0.6248533 & 0.2484751 & 0.6629870 & 0.2028720 & 0.6609584 & 0.1270079 & 0.09856909 & 0.09772892\\\\\n",
       "\t SNORD22 + SNORD26 + SNORA50C + age + gender           & 0.6936207 & 0.2789315 & 0.6319800 & 0.2434388 & 0.6721236 & 0.2003703 & 0.6640663 & 0.1244305 & 0.07719470 & 0.08198128\\\\\n",
       "\t SNORD99 + SNORD22 + SNORD26 + SNORA50C + age + gender & 0.6701729 & 0.2949623 & 0.6103033 & 0.2514776 & 0.6492476 & 0.2123657 & 0.6532727 & 0.1237773 & 0.11068734 & 0.11216281\\\\\n",
       "\\end{tabular}\n"
      ],
      "text/markdown": [
       "\n",
       "A data.frame: 15 × 11\n",
       "\n",
       "| formula &lt;chr&gt; | sens_mean &lt;dbl&gt; | sens_SD &lt;dbl&gt; | spec_mean &lt;dbl&gt; | spec_SD &lt;dbl&gt; | ACC_mean &lt;dbl&gt; | ACC_SD &lt;dbl&gt; | ACU_mean &lt;dbl&gt; | ACU_SD &lt;dbl&gt; | p_model_mean &lt;dbl&gt; | p_model_SD &lt;dbl&gt; |\n",
       "|---|---|---|---|---|---|---|---|---|---|---|\n",
       "| SNORD99 + age + gender                                | 0.6464391 | 0.2695536 | 0.6205267 | 0.2689612 | 0.6381150 | 0.2006236 | 0.6493684 | 0.1198119 | 0.08192688 | 0.08190804 |\n",
       "| SNORD22 + age + gender                                | 0.6584364 | 0.2585946 | 0.6666800 | 0.2712829 | 0.6605614 | 0.1891324 | 0.6632008 | 0.1238483 | 0.11934673 | 0.10859599 |\n",
       "| SNORD26 + age + gender                                | 0.6596755 | 0.2825902 | 0.6188133 | 0.2495259 | 0.6449299 | 0.2103540 | 0.6499003 | 0.1200608 | 0.14484891 | 0.11960608 |\n",
       "| SNORA50C + age + gender                               | 0.7321909 | 0.2306254 | 0.6994533 | 0.2286998 | 0.7216333 | 0.1689294 | 0.7023139 | 0.1263403 | 0.01911011 | 0.02460023 |\n",
       "| SNORD99 + SNORD22 + age + gender                      | 0.6484494 | 0.2760701 | 0.6260233 | 0.2745516 | 0.6399347 | 0.2019171 | 0.6484732 | 0.1213352 | 0.12678067 | 0.11559698 |\n",
       "| SNORD99 + SNORD26 + age + gender                      | 0.6545997 | 0.3086018 | 0.5750467 | 0.2355407 | 0.6264555 | 0.2285751 | 0.6427436 | 0.1216194 | 0.13886990 | 0.12039499 |\n",
       "| SNORD99 + SNORA50C + age + gender                     | 0.7172079 | 0.2353600 | 0.6851333 | 0.2360492 | 0.7070158 | 0.1744832 | 0.6883508 | 0.1274113 | 0.03600384 | 0.04455280 |\n",
       "| SNORD22 + SNORD26 + age + gender                      | 0.6593769 | 0.2838945 | 0.6372333 | 0.2569604 | 0.6512688 | 0.2042592 | 0.6548757 | 0.1241972 | 0.12402268 | 0.11613991 |\n",
       "| SNORD22 + SNORA50C + age + gender                     | 0.7023180 | 0.2632412 | 0.6646767 | 0.2427793 | 0.6888127 | 0.1883857 | 0.6761093 | 0.1282387 | 0.05166399 | 0.06013000 |\n",
       "| SNORD26 + SNORA50C + age + gender                     | 0.7019905 | 0.2693824 | 0.6468633 | 0.2453178 | 0.6827885 | 0.1922752 | 0.6717581 | 0.1262572 | 0.06360997 | 0.06896025 |\n",
       "| SNORD99 + SNORD22 + SNORD26 + age + gender            | 0.6468314 | 0.3022020 | 0.5879667 | 0.2541222 | 0.6262987 | 0.2203181 | 0.6423110 | 0.1202352 | 0.14912181 | 0.13194744 |\n",
       "| SNORD99 + SNORD22 + SNORA50C + age + gender           | 0.6965200 | 0.2701205 | 0.6399900 | 0.2446011 | 0.6764014 | 0.1937421 | 0.6641758 | 0.1241642 | 0.07989557 | 0.08585690 |\n",
       "| SNORD99 + SNORD26 + SNORA50C + age + gender           | 0.6838726 | 0.2770879 | 0.6248533 | 0.2484751 | 0.6629870 | 0.2028720 | 0.6609584 | 0.1270079 | 0.09856909 | 0.09772892 |\n",
       "| SNORD22 + SNORD26 + SNORA50C + age + gender           | 0.6936207 | 0.2789315 | 0.6319800 | 0.2434388 | 0.6721236 | 0.2003703 | 0.6640663 | 0.1244305 | 0.07719470 | 0.08198128 |\n",
       "| SNORD99 + SNORD22 + SNORD26 + SNORA50C + age + gender | 0.6701729 | 0.2949623 | 0.6103033 | 0.2514776 | 0.6492476 | 0.2123657 | 0.6532727 | 0.1237773 | 0.11068734 | 0.11216281 |\n",
       "\n"
      ],
      "text/plain": [
       "   formula                                               sens_mean sens_SD  \n",
       "1  SNORD99 + age + gender                                0.6464391 0.2695536\n",
       "2  SNORD22 + age + gender                                0.6584364 0.2585946\n",
       "3  SNORD26 + age + gender                                0.6596755 0.2825902\n",
       "4  SNORA50C + age + gender                               0.7321909 0.2306254\n",
       "5  SNORD99 + SNORD22 + age + gender                      0.6484494 0.2760701\n",
       "6  SNORD99 + SNORD26 + age + gender                      0.6545997 0.3086018\n",
       "7  SNORD99 + SNORA50C + age + gender                     0.7172079 0.2353600\n",
       "8  SNORD22 + SNORD26 + age + gender                      0.6593769 0.2838945\n",
       "9  SNORD22 + SNORA50C + age + gender                     0.7023180 0.2632412\n",
       "10 SNORD26 + SNORA50C + age + gender                     0.7019905 0.2693824\n",
       "11 SNORD99 + SNORD22 + SNORD26 + age + gender            0.6468314 0.3022020\n",
       "12 SNORD99 + SNORD22 + SNORA50C + age + gender           0.6965200 0.2701205\n",
       "13 SNORD99 + SNORD26 + SNORA50C + age + gender           0.6838726 0.2770879\n",
       "14 SNORD22 + SNORD26 + SNORA50C + age + gender           0.6936207 0.2789315\n",
       "15 SNORD99 + SNORD22 + SNORD26 + SNORA50C + age + gender 0.6701729 0.2949623\n",
       "   spec_mean spec_SD   ACC_mean  ACC_SD    ACU_mean  ACU_SD    p_model_mean\n",
       "1  0.6205267 0.2689612 0.6381150 0.2006236 0.6493684 0.1198119 0.08192688  \n",
       "2  0.6666800 0.2712829 0.6605614 0.1891324 0.6632008 0.1238483 0.11934673  \n",
       "3  0.6188133 0.2495259 0.6449299 0.2103540 0.6499003 0.1200608 0.14484891  \n",
       "4  0.6994533 0.2286998 0.7216333 0.1689294 0.7023139 0.1263403 0.01911011  \n",
       "5  0.6260233 0.2745516 0.6399347 0.2019171 0.6484732 0.1213352 0.12678067  \n",
       "6  0.5750467 0.2355407 0.6264555 0.2285751 0.6427436 0.1216194 0.13886990  \n",
       "7  0.6851333 0.2360492 0.7070158 0.1744832 0.6883508 0.1274113 0.03600384  \n",
       "8  0.6372333 0.2569604 0.6512688 0.2042592 0.6548757 0.1241972 0.12402268  \n",
       "9  0.6646767 0.2427793 0.6888127 0.1883857 0.6761093 0.1282387 0.05166399  \n",
       "10 0.6468633 0.2453178 0.6827885 0.1922752 0.6717581 0.1262572 0.06360997  \n",
       "11 0.5879667 0.2541222 0.6262987 0.2203181 0.6423110 0.1202352 0.14912181  \n",
       "12 0.6399900 0.2446011 0.6764014 0.1937421 0.6641758 0.1241642 0.07989557  \n",
       "13 0.6248533 0.2484751 0.6629870 0.2028720 0.6609584 0.1270079 0.09856909  \n",
       "14 0.6319800 0.2434388 0.6721236 0.2003703 0.6640663 0.1244305 0.07719470  \n",
       "15 0.6103033 0.2514776 0.6492476 0.2123657 0.6532727 0.1237773 0.11068734  \n",
       "   p_model_SD\n",
       "1  0.08190804\n",
       "2  0.10859599\n",
       "3  0.11960608\n",
       "4  0.02460023\n",
       "5  0.11559698\n",
       "6  0.12039499\n",
       "7  0.04455280\n",
       "8  0.11613991\n",
       "9  0.06013000\n",
       "10 0.06896025\n",
       "11 0.13194744\n",
       "12 0.08585690\n",
       "13 0.09772892\n",
       "14 0.08198128\n",
       "15 0.11216281"
      ]
     },
     "metadata": {},
     "output_type": "display_data"
    }
   ],
   "source": [
    "allStats"
   ]
  },
  {
   "cell_type": "code",
   "execution_count": 35,
   "id": "fb8132d2",
   "metadata": {},
   "outputs": [
    {
     "data": {
      "text/html": [
       "'Figures-and-Tables/Table-S6-model-crossvalidation-results.csv'"
      ],
      "text/latex": [
       "'Figures-and-Tables/Table-S6-model-crossvalidation-results.csv'"
      ],
      "text/markdown": [
       "'Figures-and-Tables/Table-S6-model-crossvalidation-results.csv'"
      ],
      "text/plain": [
       "[1] \"Figures-and-Tables/Table-S6-model-crossvalidation-results.csv\""
      ]
     },
     "metadata": {},
     "output_type": "display_data"
    }
   ],
   "source": [
    "outf = paste0(outDir,tableS6outfile)\n",
    "outf\n",
    "write.table(x = allStats, file = outf, quote = F, sep = \"\\t\", row.names = F)"
   ]
  }
 ],
 "metadata": {
  "kernelspec": {
   "display_name": "R",
   "language": "R",
   "name": "ir"
  },
  "language_info": {
   "codemirror_mode": "r",
   "file_extension": ".r",
   "mimetype": "text/x-r-source",
   "name": "R",
   "pygments_lexer": "r",
   "version": "4.2.3"
  }
 },
 "nbformat": 4,
 "nbformat_minor": 5
}
