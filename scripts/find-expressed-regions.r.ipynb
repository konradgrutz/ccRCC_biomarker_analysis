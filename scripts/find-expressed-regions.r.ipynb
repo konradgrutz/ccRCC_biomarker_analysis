{
 "cells": [
  {
   "cell_type": "code",
   "execution_count": 9,
   "id": "existing-artist",
   "metadata": {
    "scrolled": true
   },
   "outputs": [
    {
     "name": "stderr",
     "output_type": "stream",
     "text": [
      "Warning message:\n",
      "“package ‘Rsamtools’ was built under R version 4.2.3”\n",
      "Loading required package: GenomeInfoDb\n",
      "\n",
      "Warning message:\n",
      "“package ‘GenomeInfoDb’ was built under R version 4.2.3”\n",
      "Loading required package: BiocGenerics\n",
      "\n",
      "Warning message:\n",
      "“package ‘BiocGenerics’ was built under R version 4.2.1”\n",
      "\n",
      "Attaching package: ‘BiocGenerics’\n",
      "\n",
      "\n",
      "The following objects are masked from ‘package:stats’:\n",
      "\n",
      "    IQR, mad, sd, var, xtabs\n",
      "\n",
      "\n",
      "The following objects are masked from ‘package:base’:\n",
      "\n",
      "    anyDuplicated, aperm, append, as.data.frame, basename, cbind,\n",
      "    colnames, dirname, do.call, duplicated, eval, evalq, Filter, Find,\n",
      "    get, grep, grepl, intersect, is.unsorted, lapply, Map, mapply,\n",
      "    match, mget, order, paste, pmax, pmax.int, pmin, pmin.int,\n",
      "    Position, rank, rbind, Reduce, rownames, sapply, setdiff, sort,\n",
      "    table, tapply, union, unique, unsplit, which.max, which.min\n",
      "\n",
      "\n",
      "Loading required package: S4Vectors\n",
      "\n",
      "Warning message:\n",
      "“package ‘S4Vectors’ was built under R version 4.2.3”\n",
      "Loading required package: stats4\n",
      "\n",
      "\n",
      "Attaching package: ‘S4Vectors’\n",
      "\n",
      "\n",
      "The following objects are masked from ‘package:base’:\n",
      "\n",
      "    expand.grid, I, unname\n",
      "\n",
      "\n",
      "Loading required package: IRanges\n",
      "\n",
      "Warning message:\n",
      "“package ‘IRanges’ was built under R version 4.2.3”\n",
      "Loading required package: GenomicRanges\n",
      "\n",
      "Warning message:\n",
      "“package ‘GenomicRanges’ was built under R version 4.2.3”\n",
      "Loading required package: Biostrings\n",
      "\n",
      "Warning message:\n",
      "“package ‘Biostrings’ was built under R version 4.2.3”\n",
      "Loading required package: XVector\n",
      "\n",
      "Warning message:\n",
      "“package ‘XVector’ was built under R version 4.2.3”\n",
      "\n",
      "Attaching package: ‘Biostrings’\n",
      "\n",
      "\n",
      "The following object is masked from ‘package:base’:\n",
      "\n",
      "    strsplit\n",
      "\n",
      "\n"
     ]
    }
   ],
   "source": [
    "# given a set of csv files from bedtools coverage\n",
    "# find spots throughout the genome (maybe intergenic)\n",
    "# where there are at least 5 reads in at least 20% of the bams\n",
    "\n",
    "library(Rsamtools)\n",
    "library(GenomicRanges)\n",
    "library(parallel) "
   ]
  },
  {
   "cell_type": "code",
   "execution_count": 1,
   "id": "a7233be7",
   "metadata": {},
   "outputs": [],
   "source": [
    "setwd(\"..\")"
   ]
  },
  {
   "cell_type": "code",
   "execution_count": 7,
   "id": "042a66de",
   "metadata": {},
   "outputs": [],
   "source": [
    "coverageDir = \"data/coverage/\"\n",
    "sampleIDfile = \"annotation/sample-ids-63.txt\"\n",
    "covgFileSuffix = \"-bedcov-uniqMap25M10percIDS.csv\"\n",
    "featureCountFile = \"data/expressedTiles-featureCounts-25M10percIDS-min5reads20percent.RData\"\n",
    "\n",
    "leastNumReads = 5 # at least 5 reads in a region to be called \"expressed\" in a samples\n",
    "leastPercSamples = 20 # least percentage of samples with this expression\n",
    "nbCPUs = 6 "
   ]
  },
  {
   "cell_type": "code",
   "execution_count": 4,
   "id": "ae5348bd",
   "metadata": {},
   "outputs": [
    {
     "data": {
      "text/html": [
       "<style>\n",
       ".list-inline {list-style: none; margin:0; padding: 0}\n",
       ".list-inline>li {display: inline-block}\n",
       ".list-inline>li:not(:last-child)::after {content: \"\\00b7\"; padding: 0 .5ex}\n",
       "</style>\n",
       "<ol class=list-inline><li>'SXR0002'</li><li>'SXR0004'</li><li>'SXR0006'</li><li>'SXR0010'</li><li>'SXR0014'</li><li>'SXR0016'</li></ol>\n"
      ],
      "text/latex": [
       "\\begin{enumerate*}\n",
       "\\item 'SXR0002'\n",
       "\\item 'SXR0004'\n",
       "\\item 'SXR0006'\n",
       "\\item 'SXR0010'\n",
       "\\item 'SXR0014'\n",
       "\\item 'SXR0016'\n",
       "\\end{enumerate*}\n"
      ],
      "text/markdown": [
       "1. 'SXR0002'\n",
       "2. 'SXR0004'\n",
       "3. 'SXR0006'\n",
       "4. 'SXR0010'\n",
       "5. 'SXR0014'\n",
       "6. 'SXR0016'\n",
       "\n",
       "\n"
      ],
      "text/plain": [
       "[1] \"SXR0002\" \"SXR0004\" \"SXR0006\" \"SXR0010\" \"SXR0014\" \"SXR0016\""
      ]
     },
     "metadata": {},
     "output_type": "display_data"
    },
    {
     "data": {
      "text/html": [
       "63"
      ],
      "text/latex": [
       "63"
      ],
      "text/markdown": [
       "63"
      ],
      "text/plain": [
       "[1] 63"
      ]
     },
     "metadata": {},
     "output_type": "display_data"
    },
    {
     "data": {
      "text/html": [
       "<style>\n",
       ".list-inline {list-style: none; margin:0; padding: 0}\n",
       ".list-inline>li {display: inline-block}\n",
       ".list-inline>li:not(:last-child)::after {content: \"\\00b7\"; padding: 0 .5ex}\n",
       "</style>\n",
       "<ol class=list-inline><li>'data/coverage/SXR0002-bedcov-uniqMap25M10percIDS.csv'</li><li>'data/coverage/SXR0004-bedcov-uniqMap25M10percIDS.csv'</li><li>'data/coverage/SXR0006-bedcov-uniqMap25M10percIDS.csv'</li><li>'data/coverage/SXR0010-bedcov-uniqMap25M10percIDS.csv'</li><li>'data/coverage/SXR0014-bedcov-uniqMap25M10percIDS.csv'</li><li>'data/coverage/SXR0016-bedcov-uniqMap25M10percIDS.csv'</li></ol>\n"
      ],
      "text/latex": [
       "\\begin{enumerate*}\n",
       "\\item 'data/coverage/SXR0002-bedcov-uniqMap25M10percIDS.csv'\n",
       "\\item 'data/coverage/SXR0004-bedcov-uniqMap25M10percIDS.csv'\n",
       "\\item 'data/coverage/SXR0006-bedcov-uniqMap25M10percIDS.csv'\n",
       "\\item 'data/coverage/SXR0010-bedcov-uniqMap25M10percIDS.csv'\n",
       "\\item 'data/coverage/SXR0014-bedcov-uniqMap25M10percIDS.csv'\n",
       "\\item 'data/coverage/SXR0016-bedcov-uniqMap25M10percIDS.csv'\n",
       "\\end{enumerate*}\n"
      ],
      "text/markdown": [
       "1. 'data/coverage/SXR0002-bedcov-uniqMap25M10percIDS.csv'\n",
       "2. 'data/coverage/SXR0004-bedcov-uniqMap25M10percIDS.csv'\n",
       "3. 'data/coverage/SXR0006-bedcov-uniqMap25M10percIDS.csv'\n",
       "4. 'data/coverage/SXR0010-bedcov-uniqMap25M10percIDS.csv'\n",
       "5. 'data/coverage/SXR0014-bedcov-uniqMap25M10percIDS.csv'\n",
       "6. 'data/coverage/SXR0016-bedcov-uniqMap25M10percIDS.csv'\n",
       "\n",
       "\n"
      ],
      "text/plain": [
       "[1] \"data/coverage/SXR0002-bedcov-uniqMap25M10percIDS.csv\"\n",
       "[2] \"data/coverage/SXR0004-bedcov-uniqMap25M10percIDS.csv\"\n",
       "[3] \"data/coverage/SXR0006-bedcov-uniqMap25M10percIDS.csv\"\n",
       "[4] \"data/coverage/SXR0010-bedcov-uniqMap25M10percIDS.csv\"\n",
       "[5] \"data/coverage/SXR0014-bedcov-uniqMap25M10percIDS.csv\"\n",
       "[6] \"data/coverage/SXR0016-bedcov-uniqMap25M10percIDS.csv\""
      ]
     },
     "metadata": {},
     "output_type": "display_data"
    },
    {
     "name": "stdout",
     "output_type": "stream",
     "text": [
      "all needed files exist?  TRUE \n"
     ]
    }
   ],
   "source": [
    "neededSamples = readLines(con = sampleIDfile)\n",
    "head(neededSamples); length(neededSamples)\n",
    "csvFiles = paste0(coverageDir,neededSamples, covgFileSuffix)\n",
    "head(csvFiles)\n",
    "cat(\"all needed files exist? \",all(file.exists(csvFiles)),\"\\n\")"
   ]
  },
  {
   "cell_type": "code",
   "execution_count": 5,
   "id": "interested-survey",
   "metadata": {
    "scrolled": true
   },
   "outputs": [
    {
     "data": {
      "text/plain": [
       "Time difference of 56.09442 secs"
      ]
     },
     "metadata": {},
     "output_type": "display_data"
    },
    {
     "data": {
      "text/html": [
       "<table class=\"dataframe\">\n",
       "<caption>A data.frame: 6 × 4</caption>\n",
       "<thead>\n",
       "\t<tr><th></th><th scope=col>V1</th><th scope=col>V2</th><th scope=col>V3</th><th scope=col>V4</th></tr>\n",
       "\t<tr><th></th><th scope=col>&lt;chr&gt;</th><th scope=col>&lt;int&gt;</th><th scope=col>&lt;int&gt;</th><th scope=col>&lt;int&gt;</th></tr>\n",
       "</thead>\n",
       "<tbody>\n",
       "\t<tr><th scope=row>1</th><td>chr1</td><td>  1</td><td>100</td><td>0</td></tr>\n",
       "\t<tr><th scope=row>2</th><td>chr1</td><td>101</td><td>200</td><td>0</td></tr>\n",
       "\t<tr><th scope=row>3</th><td>chr1</td><td>201</td><td>300</td><td>0</td></tr>\n",
       "\t<tr><th scope=row>4</th><td>chr1</td><td>301</td><td>400</td><td>0</td></tr>\n",
       "\t<tr><th scope=row>5</th><td>chr1</td><td>401</td><td>500</td><td>0</td></tr>\n",
       "\t<tr><th scope=row>6</th><td>chr1</td><td>501</td><td>600</td><td>0</td></tr>\n",
       "</tbody>\n",
       "</table>\n"
      ],
      "text/latex": [
       "A data.frame: 6 × 4\n",
       "\\begin{tabular}{r|llll}\n",
       "  & V1 & V2 & V3 & V4\\\\\n",
       "  & <chr> & <int> & <int> & <int>\\\\\n",
       "\\hline\n",
       "\t1 & chr1 &   1 & 100 & 0\\\\\n",
       "\t2 & chr1 & 101 & 200 & 0\\\\\n",
       "\t3 & chr1 & 201 & 300 & 0\\\\\n",
       "\t4 & chr1 & 301 & 400 & 0\\\\\n",
       "\t5 & chr1 & 401 & 500 & 0\\\\\n",
       "\t6 & chr1 & 501 & 600 & 0\\\\\n",
       "\\end{tabular}\n"
      ],
      "text/markdown": [
       "\n",
       "A data.frame: 6 × 4\n",
       "\n",
       "| <!--/--> | V1 &lt;chr&gt; | V2 &lt;int&gt; | V3 &lt;int&gt; | V4 &lt;int&gt; |\n",
       "|---|---|---|---|---|\n",
       "| 1 | chr1 |   1 | 100 | 0 |\n",
       "| 2 | chr1 | 101 | 200 | 0 |\n",
       "| 3 | chr1 | 201 | 300 | 0 |\n",
       "| 4 | chr1 | 301 | 400 | 0 |\n",
       "| 5 | chr1 | 401 | 500 | 0 |\n",
       "| 6 | chr1 | 501 | 600 | 0 |\n",
       "\n"
      ],
      "text/plain": [
       "  V1   V2  V3  V4\n",
       "1 chr1   1 100 0 \n",
       "2 chr1 101 200 0 \n",
       "3 chr1 201 300 0 \n",
       "4 chr1 301 400 0 \n",
       "5 chr1 401 500 0 \n",
       "6 chr1 501 600 0 "
      ]
     },
     "metadata": {},
     "output_type": "display_data"
    },
    {
     "data": {
      "text/html": [
       "<table class=\"dataframe\">\n",
       "<caption>A data.frame: 6 × 3</caption>\n",
       "<thead>\n",
       "\t<tr><th></th><th scope=col>V1</th><th scope=col>V2</th><th scope=col>V3</th></tr>\n",
       "\t<tr><th></th><th scope=col>&lt;chr&gt;</th><th scope=col>&lt;int&gt;</th><th scope=col>&lt;int&gt;</th></tr>\n",
       "</thead>\n",
       "<tbody>\n",
       "\t<tr><th scope=row>1</th><td>chr1</td><td>  1</td><td>100</td></tr>\n",
       "\t<tr><th scope=row>2</th><td>chr1</td><td>101</td><td>200</td></tr>\n",
       "\t<tr><th scope=row>3</th><td>chr1</td><td>201</td><td>300</td></tr>\n",
       "\t<tr><th scope=row>4</th><td>chr1</td><td>301</td><td>400</td></tr>\n",
       "\t<tr><th scope=row>5</th><td>chr1</td><td>401</td><td>500</td></tr>\n",
       "\t<tr><th scope=row>6</th><td>chr1</td><td>501</td><td>600</td></tr>\n",
       "</tbody>\n",
       "</table>\n"
      ],
      "text/latex": [
       "A data.frame: 6 × 3\n",
       "\\begin{tabular}{r|lll}\n",
       "  & V1 & V2 & V3\\\\\n",
       "  & <chr> & <int> & <int>\\\\\n",
       "\\hline\n",
       "\t1 & chr1 &   1 & 100\\\\\n",
       "\t2 & chr1 & 101 & 200\\\\\n",
       "\t3 & chr1 & 201 & 300\\\\\n",
       "\t4 & chr1 & 301 & 400\\\\\n",
       "\t5 & chr1 & 401 & 500\\\\\n",
       "\t6 & chr1 & 501 & 600\\\\\n",
       "\\end{tabular}\n"
      ],
      "text/markdown": [
       "\n",
       "A data.frame: 6 × 3\n",
       "\n",
       "| <!--/--> | V1 &lt;chr&gt; | V2 &lt;int&gt; | V3 &lt;int&gt; |\n",
       "|---|---|---|---|\n",
       "| 1 | chr1 |   1 | 100 |\n",
       "| 2 | chr1 | 101 | 200 |\n",
       "| 3 | chr1 | 201 | 300 |\n",
       "| 4 | chr1 | 301 | 400 |\n",
       "| 5 | chr1 | 401 | 500 |\n",
       "| 6 | chr1 | 501 | 600 |\n",
       "\n"
      ],
      "text/plain": [
       "  V1   V2  V3 \n",
       "1 chr1   1 100\n",
       "2 chr1 101 200\n",
       "3 chr1 201 300\n",
       "4 chr1 301 400\n",
       "5 chr1 401 500\n",
       "6 chr1 501 600"
      ]
     },
     "metadata": {},
     "output_type": "display_data"
    },
    {
     "data": {
      "text/html": [
       "<style>\n",
       ".list-inline {list-style: none; margin:0; padding: 0}\n",
       ".list-inline>li {display: inline-block}\n",
       ".list-inline>li:not(:last-child)::after {content: \"\\00b7\"; padding: 0 .5ex}\n",
       "</style>\n",
       "<ol class=list-inline><li>30363049</li><li>1</li></ol>\n"
      ],
      "text/latex": [
       "\\begin{enumerate*}\n",
       "\\item 30363049\n",
       "\\item 1\n",
       "\\end{enumerate*}\n"
      ],
      "text/markdown": [
       "1. 30363049\n",
       "2. 1\n",
       "\n",
       "\n"
      ],
      "text/plain": [
       "[1] 30363049        1"
      ]
     },
     "metadata": {},
     "output_type": "display_data"
    },
    {
     "data": {
      "text/html": [
       "<table class=\"dataframe\">\n",
       "<caption>A matrix: 6 × 1 of type int</caption>\n",
       "<thead>\n",
       "\t<tr><th></th><th scope=col>SXR0002</th></tr>\n",
       "</thead>\n",
       "<tbody>\n",
       "\t<tr><th scope=row>chr1:1-100</th><td>0</td></tr>\n",
       "\t<tr><th scope=row>chr1:101-200</th><td>0</td></tr>\n",
       "\t<tr><th scope=row>chr1:201-300</th><td>0</td></tr>\n",
       "\t<tr><th scope=row>chr1:301-400</th><td>0</td></tr>\n",
       "\t<tr><th scope=row>chr1:401-500</th><td>0</td></tr>\n",
       "\t<tr><th scope=row>chr1:501-600</th><td>0</td></tr>\n",
       "</tbody>\n",
       "</table>\n"
      ],
      "text/latex": [
       "A matrix: 6 × 1 of type int\n",
       "\\begin{tabular}{r|l}\n",
       "  & SXR0002\\\\\n",
       "\\hline\n",
       "\tchr1:1-100 & 0\\\\\n",
       "\tchr1:101-200 & 0\\\\\n",
       "\tchr1:201-300 & 0\\\\\n",
       "\tchr1:301-400 & 0\\\\\n",
       "\tchr1:401-500 & 0\\\\\n",
       "\tchr1:501-600 & 0\\\\\n",
       "\\end{tabular}\n"
      ],
      "text/markdown": [
       "\n",
       "A matrix: 6 × 1 of type int\n",
       "\n",
       "| <!--/--> | SXR0002 |\n",
       "|---|---|\n",
       "| chr1:1-100 | 0 |\n",
       "| chr1:101-200 | 0 |\n",
       "| chr1:201-300 | 0 |\n",
       "| chr1:301-400 | 0 |\n",
       "| chr1:401-500 | 0 |\n",
       "| chr1:501-600 | 0 |\n",
       "\n"
      ],
      "text/plain": [
       "             SXR0002\n",
       "chr1:1-100   0      \n",
       "chr1:101-200 0      \n",
       "chr1:201-300 0      \n",
       "chr1:301-400 0      \n",
       "chr1:401-500 0      \n",
       "chr1:501-600 0      "
      ]
     },
     "metadata": {},
     "output_type": "display_data"
    },
    {
     "data": {
      "text/html": [
       "<strong>SXR0002:</strong> 211019"
      ],
      "text/latex": [
       "\\textbf{SXR0002:} 211019"
      ],
      "text/markdown": [
       "**SXR0002:** 211019"
      ],
      "text/plain": [
       "SXR0002 \n",
       " 211019 "
      ]
     },
     "metadata": {},
     "output_type": "display_data"
    },
    {
     "data": {
      "text/html": [
       "0"
      ],
      "text/latex": [
       "0"
      ],
      "text/markdown": [
       "0"
      ],
      "text/plain": [
       "[1] 0"
      ]
     },
     "metadata": {},
     "output_type": "display_data"
    }
   ],
   "source": [
    "# read in 1st sample to get the rownames (coordinates of genome slices)\n",
    "startt = Sys.time()\n",
    "tab = read.csv(file = csvFiles[1],header = F,stringsAsFactors = F,sep=\"\\t\")\n",
    "endt = Sys.time()\n",
    "difftime(endt, startt) # 1.1min for 1 sample\n",
    "head(tab)\n",
    "coo = tab[,1:3]\n",
    "head(coo)\n",
    "resultMat = matrix(tab$V4,ncol = 1)\n",
    "base = neededSamples[1]\n",
    "colnames(resultMat) = base\n",
    "rownames(resultMat) = paste0(coo[,1],\":\",coo[,2],\"-\",coo[,3])\n",
    "dim(resultMat)\n",
    "head(resultMat)\n",
    "colSums(resultMat)\n",
    "length(which(is.na(resultMat[,1])))\n",
    "# 0 NAs"
   ]
  },
  {
   "cell_type": "code",
   "execution_count": 6,
   "id": "asian-meditation",
   "metadata": {},
   "outputs": [],
   "source": [
    "readIn1file = function(fileName) {\n",
    "    tab = read.csv(file = fileName, header=F, stringsAsFactors = F,sep=\"\\t\")\n",
    "    f  = file(description = \"log-findHotsp.txt\",open=\"a\")\n",
    "    writeLines(text=paste0(fileName,\" .. done\"),con=f)\n",
    "    close(f)\n",
    "    v = matrix(data = tab$V4, ncol=1)\n",
    "    colnames(v) = fileName\n",
    "    return(v)\n",
    "}"
   ]
  },
  {
   "cell_type": "code",
   "execution_count": 10,
   "id": "competent-liberal",
   "metadata": {},
   "outputs": [
    {
     "data": {
      "text/plain": [
       "Time difference of 10 mins"
      ]
     },
     "metadata": {},
     "output_type": "display_data"
    }
   ],
   "source": [
    "f = file(description = \"log-findHotsp.txt\", open = \"w\")\n",
    "writeLines(text=\"\", con=f)\n",
    "close(f)\n",
    "startt = Sys.time()\n",
    "resultList = mclapply(X=csvFiles[-1],FUN = readIn1file, mc.cores = nbCPUs)\n",
    "resultMatAll = cbind(resultMat, do.call(cbind,resultList))\n",
    "endt = Sys.time()\n",
    "\n",
    "round(difftime(endt, startt, units=\"min\"))\n",
    "# about 10 min with 6 cpus"
   ]
  },
  {
   "cell_type": "code",
   "execution_count": 11,
   "id": "respective-badge",
   "metadata": {},
   "outputs": [],
   "source": [
    "resultMat = resultMatAll\n",
    "rm(resultMatAll)"
   ]
  },
  {
   "cell_type": "code",
   "execution_count": 12,
   "id": "e04a8f56",
   "metadata": {},
   "outputs": [
    {
     "data": {
      "text/html": [
       "<table class=\"dataframe\">\n",
       "<caption>A matrix: 6 × 63 of type int</caption>\n",
       "<thead>\n",
       "\t<tr><th></th><th scope=col>SXR0002</th><th scope=col>data/coverage/SXR0004-bedcov-uniqMap25M10percIDS.csv</th><th scope=col>data/coverage/SXR0006-bedcov-uniqMap25M10percIDS.csv</th><th scope=col>data/coverage/SXR0010-bedcov-uniqMap25M10percIDS.csv</th><th scope=col>data/coverage/SXR0014-bedcov-uniqMap25M10percIDS.csv</th><th scope=col>data/coverage/SXR0016-bedcov-uniqMap25M10percIDS.csv</th><th scope=col>data/coverage/SXR0018-bedcov-uniqMap25M10percIDS.csv</th><th scope=col>data/coverage/SXR0028-bedcov-uniqMap25M10percIDS.csv</th><th scope=col>data/coverage/SXR0029-bedcov-uniqMap25M10percIDS.csv</th><th scope=col>data/coverage/SXR0030-bedcov-uniqMap25M10percIDS.csv</th><th scope=col>⋯</th><th scope=col>data/coverage/SXR0105-bedcov-uniqMap25M10percIDS.csv</th><th scope=col>data/coverage/SXR0111-bedcov-uniqMap25M10percIDS.csv</th><th scope=col>data/coverage/SXR0112-bedcov-uniqMap25M10percIDS.csv</th><th scope=col>data/coverage/SXR0113-bedcov-uniqMap25M10percIDS.csv</th><th scope=col>data/coverage/SXR0114-bedcov-uniqMap25M10percIDS.csv</th><th scope=col>data/coverage/SXR0115-bedcov-uniqMap25M10percIDS.csv</th><th scope=col>data/coverage/SXR0117-bedcov-uniqMap25M10percIDS.csv</th><th scope=col>data/coverage/SXR0118-bedcov-uniqMap25M10percIDS.csv</th><th scope=col>data/coverage/SXR0121-bedcov-uniqMap25M10percIDS.csv</th><th scope=col>data/coverage/SXR0122-bedcov-uniqMap25M10percIDS.csv</th></tr>\n",
       "</thead>\n",
       "<tbody>\n",
       "\t<tr><th scope=row>chr1:1-100</th><td>0</td><td>0</td><td>0</td><td>0</td><td>0</td><td>0</td><td>0</td><td>0</td><td>0</td><td>0</td><td>⋯</td><td>0</td><td>0</td><td>0</td><td>0</td><td>0</td><td>0</td><td>0</td><td>0</td><td>0</td><td>0</td></tr>\n",
       "\t<tr><th scope=row>chr1:101-200</th><td>0</td><td>0</td><td>0</td><td>0</td><td>0</td><td>0</td><td>0</td><td>0</td><td>0</td><td>0</td><td>⋯</td><td>0</td><td>0</td><td>0</td><td>0</td><td>0</td><td>0</td><td>0</td><td>0</td><td>0</td><td>0</td></tr>\n",
       "\t<tr><th scope=row>chr1:201-300</th><td>0</td><td>0</td><td>0</td><td>0</td><td>0</td><td>0</td><td>0</td><td>0</td><td>0</td><td>0</td><td>⋯</td><td>0</td><td>0</td><td>0</td><td>0</td><td>0</td><td>0</td><td>0</td><td>0</td><td>0</td><td>0</td></tr>\n",
       "\t<tr><th scope=row>chr1:301-400</th><td>0</td><td>0</td><td>0</td><td>0</td><td>0</td><td>0</td><td>0</td><td>0</td><td>0</td><td>0</td><td>⋯</td><td>0</td><td>0</td><td>0</td><td>0</td><td>0</td><td>0</td><td>0</td><td>0</td><td>0</td><td>0</td></tr>\n",
       "\t<tr><th scope=row>chr1:401-500</th><td>0</td><td>0</td><td>0</td><td>0</td><td>0</td><td>0</td><td>0</td><td>0</td><td>0</td><td>0</td><td>⋯</td><td>0</td><td>0</td><td>0</td><td>0</td><td>0</td><td>0</td><td>0</td><td>0</td><td>0</td><td>0</td></tr>\n",
       "\t<tr><th scope=row>chr1:501-600</th><td>0</td><td>0</td><td>0</td><td>0</td><td>0</td><td>0</td><td>0</td><td>0</td><td>0</td><td>0</td><td>⋯</td><td>0</td><td>0</td><td>0</td><td>0</td><td>0</td><td>0</td><td>0</td><td>0</td><td>0</td><td>0</td></tr>\n",
       "</tbody>\n",
       "</table>\n"
      ],
      "text/latex": [
       "A matrix: 6 × 63 of type int\n",
       "\\begin{tabular}{r|lllllllllllllllllllll}\n",
       "  & SXR0002 & data/coverage/SXR0004-bedcov-uniqMap25M10percIDS.csv & data/coverage/SXR0006-bedcov-uniqMap25M10percIDS.csv & data/coverage/SXR0010-bedcov-uniqMap25M10percIDS.csv & data/coverage/SXR0014-bedcov-uniqMap25M10percIDS.csv & data/coverage/SXR0016-bedcov-uniqMap25M10percIDS.csv & data/coverage/SXR0018-bedcov-uniqMap25M10percIDS.csv & data/coverage/SXR0028-bedcov-uniqMap25M10percIDS.csv & data/coverage/SXR0029-bedcov-uniqMap25M10percIDS.csv & data/coverage/SXR0030-bedcov-uniqMap25M10percIDS.csv & ⋯ & data/coverage/SXR0105-bedcov-uniqMap25M10percIDS.csv & data/coverage/SXR0111-bedcov-uniqMap25M10percIDS.csv & data/coverage/SXR0112-bedcov-uniqMap25M10percIDS.csv & data/coverage/SXR0113-bedcov-uniqMap25M10percIDS.csv & data/coverage/SXR0114-bedcov-uniqMap25M10percIDS.csv & data/coverage/SXR0115-bedcov-uniqMap25M10percIDS.csv & data/coverage/SXR0117-bedcov-uniqMap25M10percIDS.csv & data/coverage/SXR0118-bedcov-uniqMap25M10percIDS.csv & data/coverage/SXR0121-bedcov-uniqMap25M10percIDS.csv & data/coverage/SXR0122-bedcov-uniqMap25M10percIDS.csv\\\\\n",
       "\\hline\n",
       "\tchr1:1-100 & 0 & 0 & 0 & 0 & 0 & 0 & 0 & 0 & 0 & 0 & ⋯ & 0 & 0 & 0 & 0 & 0 & 0 & 0 & 0 & 0 & 0\\\\\n",
       "\tchr1:101-200 & 0 & 0 & 0 & 0 & 0 & 0 & 0 & 0 & 0 & 0 & ⋯ & 0 & 0 & 0 & 0 & 0 & 0 & 0 & 0 & 0 & 0\\\\\n",
       "\tchr1:201-300 & 0 & 0 & 0 & 0 & 0 & 0 & 0 & 0 & 0 & 0 & ⋯ & 0 & 0 & 0 & 0 & 0 & 0 & 0 & 0 & 0 & 0\\\\\n",
       "\tchr1:301-400 & 0 & 0 & 0 & 0 & 0 & 0 & 0 & 0 & 0 & 0 & ⋯ & 0 & 0 & 0 & 0 & 0 & 0 & 0 & 0 & 0 & 0\\\\\n",
       "\tchr1:401-500 & 0 & 0 & 0 & 0 & 0 & 0 & 0 & 0 & 0 & 0 & ⋯ & 0 & 0 & 0 & 0 & 0 & 0 & 0 & 0 & 0 & 0\\\\\n",
       "\tchr1:501-600 & 0 & 0 & 0 & 0 & 0 & 0 & 0 & 0 & 0 & 0 & ⋯ & 0 & 0 & 0 & 0 & 0 & 0 & 0 & 0 & 0 & 0\\\\\n",
       "\\end{tabular}\n"
      ],
      "text/markdown": [
       "\n",
       "A matrix: 6 × 63 of type int\n",
       "\n",
       "| <!--/--> | SXR0002 | data/coverage/SXR0004-bedcov-uniqMap25M10percIDS.csv | data/coverage/SXR0006-bedcov-uniqMap25M10percIDS.csv | data/coverage/SXR0010-bedcov-uniqMap25M10percIDS.csv | data/coverage/SXR0014-bedcov-uniqMap25M10percIDS.csv | data/coverage/SXR0016-bedcov-uniqMap25M10percIDS.csv | data/coverage/SXR0018-bedcov-uniqMap25M10percIDS.csv | data/coverage/SXR0028-bedcov-uniqMap25M10percIDS.csv | data/coverage/SXR0029-bedcov-uniqMap25M10percIDS.csv | data/coverage/SXR0030-bedcov-uniqMap25M10percIDS.csv | ⋯ | data/coverage/SXR0105-bedcov-uniqMap25M10percIDS.csv | data/coverage/SXR0111-bedcov-uniqMap25M10percIDS.csv | data/coverage/SXR0112-bedcov-uniqMap25M10percIDS.csv | data/coverage/SXR0113-bedcov-uniqMap25M10percIDS.csv | data/coverage/SXR0114-bedcov-uniqMap25M10percIDS.csv | data/coverage/SXR0115-bedcov-uniqMap25M10percIDS.csv | data/coverage/SXR0117-bedcov-uniqMap25M10percIDS.csv | data/coverage/SXR0118-bedcov-uniqMap25M10percIDS.csv | data/coverage/SXR0121-bedcov-uniqMap25M10percIDS.csv | data/coverage/SXR0122-bedcov-uniqMap25M10percIDS.csv |\n",
       "|---|---|---|---|---|---|---|---|---|---|---|---|---|---|---|---|---|---|---|---|---|---|\n",
       "| chr1:1-100 | 0 | 0 | 0 | 0 | 0 | 0 | 0 | 0 | 0 | 0 | ⋯ | 0 | 0 | 0 | 0 | 0 | 0 | 0 | 0 | 0 | 0 |\n",
       "| chr1:101-200 | 0 | 0 | 0 | 0 | 0 | 0 | 0 | 0 | 0 | 0 | ⋯ | 0 | 0 | 0 | 0 | 0 | 0 | 0 | 0 | 0 | 0 |\n",
       "| chr1:201-300 | 0 | 0 | 0 | 0 | 0 | 0 | 0 | 0 | 0 | 0 | ⋯ | 0 | 0 | 0 | 0 | 0 | 0 | 0 | 0 | 0 | 0 |\n",
       "| chr1:301-400 | 0 | 0 | 0 | 0 | 0 | 0 | 0 | 0 | 0 | 0 | ⋯ | 0 | 0 | 0 | 0 | 0 | 0 | 0 | 0 | 0 | 0 |\n",
       "| chr1:401-500 | 0 | 0 | 0 | 0 | 0 | 0 | 0 | 0 | 0 | 0 | ⋯ | 0 | 0 | 0 | 0 | 0 | 0 | 0 | 0 | 0 | 0 |\n",
       "| chr1:501-600 | 0 | 0 | 0 | 0 | 0 | 0 | 0 | 0 | 0 | 0 | ⋯ | 0 | 0 | 0 | 0 | 0 | 0 | 0 | 0 | 0 | 0 |\n",
       "\n"
      ],
      "text/plain": [
       "             SXR0002 data/coverage/SXR0004-bedcov-uniqMap25M10percIDS.csv\n",
       "chr1:1-100   0       0                                                   \n",
       "chr1:101-200 0       0                                                   \n",
       "chr1:201-300 0       0                                                   \n",
       "chr1:301-400 0       0                                                   \n",
       "chr1:401-500 0       0                                                   \n",
       "chr1:501-600 0       0                                                   \n",
       "             data/coverage/SXR0006-bedcov-uniqMap25M10percIDS.csv\n",
       "chr1:1-100   0                                                   \n",
       "chr1:101-200 0                                                   \n",
       "chr1:201-300 0                                                   \n",
       "chr1:301-400 0                                                   \n",
       "chr1:401-500 0                                                   \n",
       "chr1:501-600 0                                                   \n",
       "             data/coverage/SXR0010-bedcov-uniqMap25M10percIDS.csv\n",
       "chr1:1-100   0                                                   \n",
       "chr1:101-200 0                                                   \n",
       "chr1:201-300 0                                                   \n",
       "chr1:301-400 0                                                   \n",
       "chr1:401-500 0                                                   \n",
       "chr1:501-600 0                                                   \n",
       "             data/coverage/SXR0014-bedcov-uniqMap25M10percIDS.csv\n",
       "chr1:1-100   0                                                   \n",
       "chr1:101-200 0                                                   \n",
       "chr1:201-300 0                                                   \n",
       "chr1:301-400 0                                                   \n",
       "chr1:401-500 0                                                   \n",
       "chr1:501-600 0                                                   \n",
       "             data/coverage/SXR0016-bedcov-uniqMap25M10percIDS.csv\n",
       "chr1:1-100   0                                                   \n",
       "chr1:101-200 0                                                   \n",
       "chr1:201-300 0                                                   \n",
       "chr1:301-400 0                                                   \n",
       "chr1:401-500 0                                                   \n",
       "chr1:501-600 0                                                   \n",
       "             data/coverage/SXR0018-bedcov-uniqMap25M10percIDS.csv\n",
       "chr1:1-100   0                                                   \n",
       "chr1:101-200 0                                                   \n",
       "chr1:201-300 0                                                   \n",
       "chr1:301-400 0                                                   \n",
       "chr1:401-500 0                                                   \n",
       "chr1:501-600 0                                                   \n",
       "             data/coverage/SXR0028-bedcov-uniqMap25M10percIDS.csv\n",
       "chr1:1-100   0                                                   \n",
       "chr1:101-200 0                                                   \n",
       "chr1:201-300 0                                                   \n",
       "chr1:301-400 0                                                   \n",
       "chr1:401-500 0                                                   \n",
       "chr1:501-600 0                                                   \n",
       "             data/coverage/SXR0029-bedcov-uniqMap25M10percIDS.csv\n",
       "chr1:1-100   0                                                   \n",
       "chr1:101-200 0                                                   \n",
       "chr1:201-300 0                                                   \n",
       "chr1:301-400 0                                                   \n",
       "chr1:401-500 0                                                   \n",
       "chr1:501-600 0                                                   \n",
       "             data/coverage/SXR0030-bedcov-uniqMap25M10percIDS.csv ⋯\n",
       "chr1:1-100   0                                                    ⋯\n",
       "chr1:101-200 0                                                    ⋯\n",
       "chr1:201-300 0                                                    ⋯\n",
       "chr1:301-400 0                                                    ⋯\n",
       "chr1:401-500 0                                                    ⋯\n",
       "chr1:501-600 0                                                    ⋯\n",
       "             data/coverage/SXR0105-bedcov-uniqMap25M10percIDS.csv\n",
       "chr1:1-100   0                                                   \n",
       "chr1:101-200 0                                                   \n",
       "chr1:201-300 0                                                   \n",
       "chr1:301-400 0                                                   \n",
       "chr1:401-500 0                                                   \n",
       "chr1:501-600 0                                                   \n",
       "             data/coverage/SXR0111-bedcov-uniqMap25M10percIDS.csv\n",
       "chr1:1-100   0                                                   \n",
       "chr1:101-200 0                                                   \n",
       "chr1:201-300 0                                                   \n",
       "chr1:301-400 0                                                   \n",
       "chr1:401-500 0                                                   \n",
       "chr1:501-600 0                                                   \n",
       "             data/coverage/SXR0112-bedcov-uniqMap25M10percIDS.csv\n",
       "chr1:1-100   0                                                   \n",
       "chr1:101-200 0                                                   \n",
       "chr1:201-300 0                                                   \n",
       "chr1:301-400 0                                                   \n",
       "chr1:401-500 0                                                   \n",
       "chr1:501-600 0                                                   \n",
       "             data/coverage/SXR0113-bedcov-uniqMap25M10percIDS.csv\n",
       "chr1:1-100   0                                                   \n",
       "chr1:101-200 0                                                   \n",
       "chr1:201-300 0                                                   \n",
       "chr1:301-400 0                                                   \n",
       "chr1:401-500 0                                                   \n",
       "chr1:501-600 0                                                   \n",
       "             data/coverage/SXR0114-bedcov-uniqMap25M10percIDS.csv\n",
       "chr1:1-100   0                                                   \n",
       "chr1:101-200 0                                                   \n",
       "chr1:201-300 0                                                   \n",
       "chr1:301-400 0                                                   \n",
       "chr1:401-500 0                                                   \n",
       "chr1:501-600 0                                                   \n",
       "             data/coverage/SXR0115-bedcov-uniqMap25M10percIDS.csv\n",
       "chr1:1-100   0                                                   \n",
       "chr1:101-200 0                                                   \n",
       "chr1:201-300 0                                                   \n",
       "chr1:301-400 0                                                   \n",
       "chr1:401-500 0                                                   \n",
       "chr1:501-600 0                                                   \n",
       "             data/coverage/SXR0117-bedcov-uniqMap25M10percIDS.csv\n",
       "chr1:1-100   0                                                   \n",
       "chr1:101-200 0                                                   \n",
       "chr1:201-300 0                                                   \n",
       "chr1:301-400 0                                                   \n",
       "chr1:401-500 0                                                   \n",
       "chr1:501-600 0                                                   \n",
       "             data/coverage/SXR0118-bedcov-uniqMap25M10percIDS.csv\n",
       "chr1:1-100   0                                                   \n",
       "chr1:101-200 0                                                   \n",
       "chr1:201-300 0                                                   \n",
       "chr1:301-400 0                                                   \n",
       "chr1:401-500 0                                                   \n",
       "chr1:501-600 0                                                   \n",
       "             data/coverage/SXR0121-bedcov-uniqMap25M10percIDS.csv\n",
       "chr1:1-100   0                                                   \n",
       "chr1:101-200 0                                                   \n",
       "chr1:201-300 0                                                   \n",
       "chr1:301-400 0                                                   \n",
       "chr1:401-500 0                                                   \n",
       "chr1:501-600 0                                                   \n",
       "             data/coverage/SXR0122-bedcov-uniqMap25M10percIDS.csv\n",
       "chr1:1-100   0                                                   \n",
       "chr1:101-200 0                                                   \n",
       "chr1:201-300 0                                                   \n",
       "chr1:301-400 0                                                   \n",
       "chr1:401-500 0                                                   \n",
       "chr1:501-600 0                                                   "
      ]
     },
     "metadata": {},
     "output_type": "display_data"
    }
   ],
   "source": [
    "head(resultMat)"
   ]
  },
  {
   "cell_type": "code",
   "execution_count": 13,
   "id": "deluxe-milan",
   "metadata": {},
   "outputs": [],
   "source": [
    "colnames(resultMat) = gsub(\".*(SXR\\\\d+)\\\\-?.*\",\"\\\\1\",colnames(resultMat))"
   ]
  },
  {
   "cell_type": "code",
   "execution_count": 14,
   "id": "adjusted-intellectual",
   "metadata": {},
   "outputs": [
    {
     "data": {
      "text/html": [
       "<style>\n",
       ".dl-inline {width: auto; margin:0; padding: 0}\n",
       ".dl-inline>dt, .dl-inline>dd {float: none; width: auto; display: inline-block}\n",
       ".dl-inline>dt::after {content: \":\\0020\"; padding-right: .5ex}\n",
       ".dl-inline>dt:not(:first-of-type) {padding-left: .5ex}\n",
       "</style><dl class=dl-inline><dt>SXR0002</dt><dd>17</dd><dt>SXR0004</dt><dd>34</dd><dt>SXR0006</dt><dd>11</dd></dl>\n"
      ],
      "text/latex": [
       "\\begin{description*}\n",
       "\\item[SXR0002] 17\n",
       "\\item[SXR0004] 34\n",
       "\\item[SXR0006] 11\n",
       "\\end{description*}\n"
      ],
      "text/markdown": [
       "SXR0002\n",
       ":   17SXR0004\n",
       ":   34SXR0006\n",
       ":   11\n",
       "\n"
      ],
      "text/plain": [
       "SXR0002 SXR0004 SXR0006 \n",
       "     17      34      11 "
      ]
     },
     "metadata": {},
     "output_type": "display_data"
    }
   ],
   "source": [
    "colSums(resultMat[1:10000,1:3]) # sneak peek how many reads in sum"
   ]
  },
  {
   "cell_type": "code",
   "execution_count": 15,
   "id": "compliant-picture",
   "metadata": {
    "scrolled": true
   },
   "outputs": [
    {
     "data": {
      "text/html": [
       "<style>\n",
       ".dl-inline {width: auto; margin:0; padding: 0}\n",
       ".dl-inline>dt, .dl-inline>dd {float: none; width: auto; display: inline-block}\n",
       ".dl-inline>dt::after {content: \":\\0020\"; padding-right: .5ex}\n",
       ".dl-inline>dt:not(:first-of-type) {padding-left: .5ex}\n",
       "</style><dl class=dl-inline><dt>0%</dt><dd>0</dd><dt>10%</dt><dd>0</dd><dt>25%</dt><dd>0</dd><dt>50%</dt><dd>0</dd><dt>75%</dt><dd>2</dd><dt>90%</dt><dd>4</dd><dt>100%</dt><dd>3265397</dd></dl>\n"
      ],
      "text/latex": [
       "\\begin{description*}\n",
       "\\item[0\\textbackslash{}\\%] 0\n",
       "\\item[10\\textbackslash{}\\%] 0\n",
       "\\item[25\\textbackslash{}\\%] 0\n",
       "\\item[50\\textbackslash{}\\%] 0\n",
       "\\item[75\\textbackslash{}\\%] 2\n",
       "\\item[90\\textbackslash{}\\%] 4\n",
       "\\item[100\\textbackslash{}\\%] 3265397\n",
       "\\end{description*}\n"
      ],
      "text/markdown": [
       "0%\n",
       ":   010%\n",
       ":   025%\n",
       ":   050%\n",
       ":   075%\n",
       ":   290%\n",
       ":   4100%\n",
       ":   3265397\n",
       "\n"
      ],
      "text/plain": [
       "     0%     10%     25%     50%     75%     90%    100% \n",
       "      0       0       0       0       2       4 3265397 "
      ]
     },
     "metadata": {},
     "output_type": "display_data"
    }
   ],
   "source": [
    "quantile(rowSums(resultMat),c(0,0.1,0.25,0.5,0.75,0.9,1))"
   ]
  },
  {
   "cell_type": "code",
   "execution_count": 16,
   "id": "allied-checkout",
   "metadata": {},
   "outputs": [
    {
     "data": {
      "text/html": [
       "<table class=\"dataframe\">\n",
       "<caption>A matrix: 2 × 3 of type int</caption>\n",
       "<thead>\n",
       "\t<tr><th></th><th scope=col>SXR0002</th><th scope=col>SXR0004</th><th scope=col>SXR0006</th></tr>\n",
       "</thead>\n",
       "<tbody>\n",
       "\t<tr><th scope=row>chr1_1_100</th><td>0</td><td>0</td><td>0</td></tr>\n",
       "\t<tr><th scope=row>chr1_101_200</th><td>0</td><td>0</td><td>0</td></tr>\n",
       "</tbody>\n",
       "</table>\n"
      ],
      "text/latex": [
       "A matrix: 2 × 3 of type int\n",
       "\\begin{tabular}{r|lll}\n",
       "  & SXR0002 & SXR0004 & SXR0006\\\\\n",
       "\\hline\n",
       "\tchr1\\_1\\_100 & 0 & 0 & 0\\\\\n",
       "\tchr1\\_101\\_200 & 0 & 0 & 0\\\\\n",
       "\\end{tabular}\n"
      ],
      "text/markdown": [
       "\n",
       "A matrix: 2 × 3 of type int\n",
       "\n",
       "| <!--/--> | SXR0002 | SXR0004 | SXR0006 |\n",
       "|---|---|---|---|\n",
       "| chr1_1_100 | 0 | 0 | 0 |\n",
       "| chr1_101_200 | 0 | 0 | 0 |\n",
       "\n"
      ],
      "text/plain": [
       "             SXR0002 SXR0004 SXR0006\n",
       "chr1_1_100   0       0       0      \n",
       "chr1_101_200 0       0       0      "
      ]
     },
     "metadata": {},
     "output_type": "display_data"
    },
    {
     "data": {
      "text/html": [
       "<style>\n",
       ".list-inline {list-style: none; margin:0; padding: 0}\n",
       ".list-inline>li {display: inline-block}\n",
       ".list-inline>li:not(:last-child)::after {content: \"\\00b7\"; padding: 0 .5ex}\n",
       "</style>\n",
       "<ol class=list-inline><li>'chr1_1_100'</li><li>'chr1_101_200'</li><li>'chr1_201_300'</li><li>'chr1_301_400'</li><li>'chr1_401_500'</li><li>'chr1_501_600'</li></ol>\n"
      ],
      "text/latex": [
       "\\begin{enumerate*}\n",
       "\\item 'chr1\\_1\\_100'\n",
       "\\item 'chr1\\_101\\_200'\n",
       "\\item 'chr1\\_201\\_300'\n",
       "\\item 'chr1\\_301\\_400'\n",
       "\\item 'chr1\\_401\\_500'\n",
       "\\item 'chr1\\_501\\_600'\n",
       "\\end{enumerate*}\n"
      ],
      "text/markdown": [
       "1. 'chr1_1_100'\n",
       "2. 'chr1_101_200'\n",
       "3. 'chr1_201_300'\n",
       "4. 'chr1_301_400'\n",
       "5. 'chr1_401_500'\n",
       "6. 'chr1_501_600'\n",
       "\n",
       "\n"
      ],
      "text/plain": [
       "[1] \"chr1_1_100\"   \"chr1_101_200\" \"chr1_201_300\" \"chr1_301_400\" \"chr1_401_500\"\n",
       "[6] \"chr1_501_600\""
      ]
     },
     "metadata": {},
     "output_type": "display_data"
    },
    {
     "data": {
      "text/html": [
       "<style>\n",
       ".dl-inline {width: auto; margin:0; padding: 0}\n",
       ".dl-inline>dt, .dl-inline>dd {float: none; width: auto; display: inline-block}\n",
       ".dl-inline>dt::after {content: \":\\0020\"; padding-right: .5ex}\n",
       ".dl-inline>dt:not(:first-of-type) {padding-left: .5ex}\n",
       "</style><dl class=dl-inline><dt>0%</dt><dd>1</dd><dt>25%</dt><dd>33003301</dd><dt>50%</dt><dd>68240101</dd><dt>75%</dt><dd>114009301</dd><dt>100%</dt><dd>249250601</dd></dl>\n"
      ],
      "text/latex": [
       "\\begin{description*}\n",
       "\\item[0\\textbackslash{}\\%] 1\n",
       "\\item[25\\textbackslash{}\\%] 33003301\n",
       "\\item[50\\textbackslash{}\\%] 68240101\n",
       "\\item[75\\textbackslash{}\\%] 114009301\n",
       "\\item[100\\textbackslash{}\\%] 249250601\n",
       "\\end{description*}\n"
      ],
      "text/markdown": [
       "0%\n",
       ":   125%\n",
       ":   3300330150%\n",
       ":   6824010175%\n",
       ":   114009301100%\n",
       ":   249250601\n",
       "\n"
      ],
      "text/plain": [
       "       0%       25%       50%       75%      100% \n",
       "        1  33003301  68240101 114009301 249250601 "
      ]
     },
     "metadata": {},
     "output_type": "display_data"
    },
    {
     "data": {
      "text/html": [
       "<table class=\"dataframe\">\n",
       "<caption>A data.frame: 3 × 4</caption>\n",
       "<thead>\n",
       "\t<tr><th></th><th scope=col>GeneID</th><th scope=col>Chr</th><th scope=col>Start</th><th scope=col>Length</th></tr>\n",
       "\t<tr><th></th><th scope=col>&lt;chr&gt;</th><th scope=col>&lt;chr&gt;</th><th scope=col>&lt;dbl&gt;</th><th scope=col>&lt;dbl&gt;</th></tr>\n",
       "</thead>\n",
       "<tbody>\n",
       "\t<tr><th scope=row>1</th><td>chr1_1_100  </td><td>chr1</td><td>  1</td><td>100</td></tr>\n",
       "\t<tr><th scope=row>2</th><td>chr1_101_200</td><td>chr1</td><td>101</td><td>100</td></tr>\n",
       "\t<tr><th scope=row>3</th><td>chr1_201_300</td><td>chr1</td><td>201</td><td>100</td></tr>\n",
       "</tbody>\n",
       "</table>\n"
      ],
      "text/latex": [
       "A data.frame: 3 × 4\n",
       "\\begin{tabular}{r|llll}\n",
       "  & GeneID & Chr & Start & Length\\\\\n",
       "  & <chr> & <chr> & <dbl> & <dbl>\\\\\n",
       "\\hline\n",
       "\t1 & chr1\\_1\\_100   & chr1 &   1 & 100\\\\\n",
       "\t2 & chr1\\_101\\_200 & chr1 & 101 & 100\\\\\n",
       "\t3 & chr1\\_201\\_300 & chr1 & 201 & 100\\\\\n",
       "\\end{tabular}\n"
      ],
      "text/markdown": [
       "\n",
       "A data.frame: 3 × 4\n",
       "\n",
       "| <!--/--> | GeneID &lt;chr&gt; | Chr &lt;chr&gt; | Start &lt;dbl&gt; | Length &lt;dbl&gt; |\n",
       "|---|---|---|---|---|\n",
       "| 1 | chr1_1_100   | chr1 |   1 | 100 |\n",
       "| 2 | chr1_101_200 | chr1 | 101 | 100 |\n",
       "| 3 | chr1_201_300 | chr1 | 201 | 100 |\n",
       "\n"
      ],
      "text/plain": [
       "  GeneID       Chr  Start Length\n",
       "1 chr1_1_100   chr1   1   100   \n",
       "2 chr1_101_200 chr1 101   100   \n",
       "3 chr1_201_300 chr1 201   100   "
      ]
     },
     "metadata": {},
     "output_type": "display_data"
    },
    {
     "data": {
      "text/html": [
       "<style>\n",
       ".dl-inline {width: auto; margin:0; padding: 0}\n",
       ".dl-inline>dt, .dl-inline>dd {float: none; width: auto; display: inline-block}\n",
       ".dl-inline>dt::after {content: \":\\0020\"; padding-right: .5ex}\n",
       ".dl-inline>dt:not(:first-of-type) {padding-left: .5ex}\n",
       "</style><dl class=dl-inline><dt>SXR0002</dt><dd>211019</dd><dt>SXR0004</dt><dd>695790</dd><dt>SXR0006</dt><dd>362602</dd><dt>SXR0010</dt><dd>406812</dd><dt>SXR0014</dt><dd>642963</dd><dt>SXR0016</dt><dd>647732</dd></dl>\n"
      ],
      "text/latex": [
       "\\begin{description*}\n",
       "\\item[SXR0002] 211019\n",
       "\\item[SXR0004] 695790\n",
       "\\item[SXR0006] 362602\n",
       "\\item[SXR0010] 406812\n",
       "\\item[SXR0014] 642963\n",
       "\\item[SXR0016] 647732\n",
       "\\end{description*}\n"
      ],
      "text/markdown": [
       "SXR0002\n",
       ":   211019SXR0004\n",
       ":   695790SXR0006\n",
       ":   362602SXR0010\n",
       ":   406812SXR0014\n",
       ":   642963SXR0016\n",
       ":   647732\n",
       "\n"
      ],
      "text/plain": [
       "SXR0002 SXR0004 SXR0006 SXR0010 SXR0014 SXR0016 \n",
       " 211019  695790  362602  406812  642963  647732 "
      ]
     },
     "metadata": {},
     "output_type": "display_data"
    }
   ],
   "source": [
    "# save whole matrix as feature counts:\n",
    "fcountGenes = list()\n",
    "fcountGenes$counts <- resultMat\n",
    "rownames(fcountGenes$counts) =  gsub(\":|-\",\"_\",rownames(fcountGenes$counts))\n",
    "fcountGenes$counts[1:2,1:3]\n",
    "fcountGenes$annotation = \n",
    "  data.frame(GeneID = rownames(fcountGenes$counts), stringsAsFactors = F)\n",
    "#fcountGenes$annotation$GeneID = gsub(\":|-\",\"_\",fcountGenes$annotation$GeneID)\n",
    "head(fcountGenes$annotation$GeneID)\n",
    "fcountGenes$annotation$Chr = gsub(\"(chr\\\\w+)_\\\\d+_\\\\d+\",\"\\\\1\",fcountGenes$annotation$GeneID)\n",
    "fcountGenes$annotation$Start =\n",
    "  as.numeric(gsub(\"chr\\\\w+_(\\\\d+)_.+\",\"\\\\1\",fcountGenes$annotation$GeneID))\n",
    "quantile(fcountGenes$annotation$Start)\n",
    "fcountGenes$annotation$Length = 100\n",
    "head(fcountGenes$annotation,3)\n",
    "totalReads = colSums(fcountGenes$counts)\n",
    "head(totalReads)"
   ]
  },
  {
   "cell_type": "code",
   "execution_count": 17,
   "id": "premium-rolling",
   "metadata": {},
   "outputs": [
    {
     "data": {
      "text/html": [
       "<style>\n",
       ".dl-inline {width: auto; margin:0; padding: 0}\n",
       ".dl-inline>dt, .dl-inline>dd {float: none; width: auto; display: inline-block}\n",
       ".dl-inline>dt::after {content: \":\\0020\"; padding-right: .5ex}\n",
       ".dl-inline>dt:not(:first-of-type) {padding-left: .5ex}\n",
       "</style><dl class=dl-inline><dt>0%</dt><dd>211019</dd><dt>10%</dt><dd>401168</dd><dt>25%</dt><dd>645347.5</dd><dt>50%</dt><dd>1043091</dd><dt>75%</dt><dd>1632179.5</dd><dt>90%</dt><dd>2140427</dd><dt>100%</dt><dd>4777116</dd></dl>\n"
      ],
      "text/latex": [
       "\\begin{description*}\n",
       "\\item[0\\textbackslash{}\\%] 211019\n",
       "\\item[10\\textbackslash{}\\%] 401168\n",
       "\\item[25\\textbackslash{}\\%] 645347.5\n",
       "\\item[50\\textbackslash{}\\%] 1043091\n",
       "\\item[75\\textbackslash{}\\%] 1632179.5\n",
       "\\item[90\\textbackslash{}\\%] 2140427\n",
       "\\item[100\\textbackslash{}\\%] 4777116\n",
       "\\end{description*}\n"
      ],
      "text/markdown": [
       "0%\n",
       ":   21101910%\n",
       ":   40116825%\n",
       ":   645347.550%\n",
       ":   104309175%\n",
       ":   1632179.590%\n",
       ":   2140427100%\n",
       ":   4777116\n",
       "\n"
      ],
      "text/plain": [
       "       0%       10%       25%       50%       75%       90%      100% \n",
       " 211019.0  401168.0  645347.5 1043091.0 1632179.5 2140427.0 4777116.0 "
      ]
     },
     "metadata": {},
     "output_type": "display_data"
    }
   ],
   "source": [
    "quantile(totalReads,c(0,0.1,0.25,0.5,0.75,0.9,1))"
   ]
  },
  {
   "cell_type": "code",
   "execution_count": 18,
   "id": "d414afa6",
   "metadata": {},
   "outputs": [],
   "source": [
    "# screen: for each region, how many samples have at least 5 reads\n",
    "#   caution: needs a lot of RAM, maybe only split into 4-10 parallel processes\n",
    "# nbCPUs = 6\n",
    "idx = 1:nrow(resultMat)\n",
    "idxList = split(idx, sort(idx %% nbCPUs))\n",
    "\n",
    "nbHiCovSamplesPerSlice = mclapply(mc.cores = nbCPUs, X = 1:nbCPUs, \n",
    "        function(i) {\n",
    "            apply(resultMat[ idxList[[i]],],1,function(r) length(which(r >= leastNumReads)) )\n",
    "        }\n",
    "    )"
   ]
  },
  {
   "cell_type": "code",
   "execution_count": 19,
   "id": "0062f1bb",
   "metadata": {},
   "outputs": [],
   "source": [
    "nbHiCovSamplesPerSlice = do.call(c,nbHiCovSamplesPerSlice)"
   ]
  },
  {
   "cell_type": "code",
   "execution_count": 20,
   "id": "c29ed5f1",
   "metadata": {},
   "outputs": [
    {
     "data": {
      "text/html": [
       "30363049"
      ],
      "text/latex": [
       "30363049"
      ],
      "text/markdown": [
       "30363049"
      ],
      "text/plain": [
       "[1] 30363049"
      ]
     },
     "metadata": {},
     "output_type": "display_data"
    },
    {
     "data": {
      "text/html": [
       "<style>\n",
       ".dl-inline {width: auto; margin:0; padding: 0}\n",
       ".dl-inline>dt, .dl-inline>dd {float: none; width: auto; display: inline-block}\n",
       ".dl-inline>dt::after {content: \":\\0020\"; padding-right: .5ex}\n",
       ".dl-inline>dt:not(:first-of-type) {padding-left: .5ex}\n",
       "</style><dl class=dl-inline><dt>chr1:1-100</dt><dd>0</dd><dt>chr1:101-200</dt><dd>0</dd><dt>chr1:201-300</dt><dd>0</dd><dt>chr1:301-400</dt><dd>0</dd><dt>chr1:401-500</dt><dd>0</dd><dt>chr1:501-600</dt><dd>0</dd></dl>\n"
      ],
      "text/latex": [
       "\\begin{description*}\n",
       "\\item[chr1:1-100] 0\n",
       "\\item[chr1:101-200] 0\n",
       "\\item[chr1:201-300] 0\n",
       "\\item[chr1:301-400] 0\n",
       "\\item[chr1:401-500] 0\n",
       "\\item[chr1:501-600] 0\n",
       "\\end{description*}\n"
      ],
      "text/markdown": [
       "chr1:1-100\n",
       ":   0chr1:101-200\n",
       ":   0chr1:201-300\n",
       ":   0chr1:301-400\n",
       ":   0chr1:401-500\n",
       ":   0chr1:501-600\n",
       ":   0\n",
       "\n"
      ],
      "text/plain": [
       "  chr1:1-100 chr1:101-200 chr1:201-300 chr1:301-400 chr1:401-500 chr1:501-600 \n",
       "           0            0            0            0            0            0 "
      ]
     },
     "metadata": {},
     "output_type": "display_data"
    },
    {
     "data": {
      "text/html": [
       "<style>\n",
       ".dl-inline {width: auto; margin:0; padding: 0}\n",
       ".dl-inline>dt, .dl-inline>dd {float: none; width: auto; display: inline-block}\n",
       ".dl-inline>dt::after {content: \":\\0020\"; padding-right: .5ex}\n",
       ".dl-inline>dt:not(:first-of-type) {padding-left: .5ex}\n",
       "</style><dl class=dl-inline><dt>0%</dt><dd>0</dd><dt>25%</dt><dd>0</dd><dt>50%</dt><dd>0</dd><dt>75%</dt><dd>0</dd><dt>100%</dt><dd>63</dd></dl>\n"
      ],
      "text/latex": [
       "\\begin{description*}\n",
       "\\item[0\\textbackslash{}\\%] 0\n",
       "\\item[25\\textbackslash{}\\%] 0\n",
       "\\item[50\\textbackslash{}\\%] 0\n",
       "\\item[75\\textbackslash{}\\%] 0\n",
       "\\item[100\\textbackslash{}\\%] 63\n",
       "\\end{description*}\n"
      ],
      "text/markdown": [
       "0%\n",
       ":   025%\n",
       ":   050%\n",
       ":   075%\n",
       ":   0100%\n",
       ":   63\n",
       "\n"
      ],
      "text/plain": [
       "  0%  25%  50%  75% 100% \n",
       "   0    0    0    0   63 "
      ]
     },
     "metadata": {},
     "output_type": "display_data"
    }
   ],
   "source": [
    "length(nbHiCovSamplesPerSlice)\n",
    "head(nbHiCovSamplesPerSlice)\n",
    "quantile(nbHiCovSamplesPerSlice)"
   ]
  },
  {
   "cell_type": "code",
   "execution_count": 21,
   "id": "dbf62a00",
   "metadata": {},
   "outputs": [
    {
     "data": {
      "text/html": [
       "12"
      ],
      "text/latex": [
       "12"
      ],
      "text/markdown": [
       "12"
      ],
      "text/plain": [
       "[1] 12"
      ]
     },
     "metadata": {},
     "output_type": "display_data"
    }
   ],
   "source": [
    "floor(length(csvFiles)/5)"
   ]
  },
  {
   "cell_type": "code",
   "execution_count": 22,
   "id": "coral-candle",
   "metadata": {},
   "outputs": [
    {
     "data": {
      "text/html": [
       "12"
      ],
      "text/latex": [
       "12"
      ],
      "text/markdown": [
       "12"
      ],
      "text/plain": [
       "[1] 12"
      ]
     },
     "metadata": {},
     "output_type": "display_data"
    },
    {
     "data": {
      "text/html": [
       "6234"
      ],
      "text/latex": [
       "6234"
      ],
      "text/markdown": [
       "6234"
      ],
      "text/plain": [
       "[1] 6234"
      ]
     },
     "metadata": {},
     "output_type": "display_data"
    },
    {
     "data": {
      "text/html": [
       "0.02053"
      ],
      "text/latex": [
       "0.02053"
      ],
      "text/markdown": [
       "0.02053"
      ],
      "text/plain": [
       "[1] 0.02053"
      ]
     },
     "metadata": {},
     "output_type": "display_data"
    }
   ],
   "source": [
    "# reduce expression matrix to expressed regions\n",
    "\n",
    "leastNumSamples = floor(leastPercSamples*length(neededSamples)/100)\n",
    "leastNumSamples\n",
    "wh <- which(nbHiCovSamplesPerSlice >= leastNumSamples)\n",
    "length(wh); round(100*length(wh)/nrow(resultMat),5)\n",
    "# min 5 reads in min 20% cohort: 6402, 0.02%"
   ]
  },
  {
   "cell_type": "code",
   "execution_count": null,
   "id": "114577dd",
   "metadata": {},
   "outputs": [],
   "source": [
    "expressedTilesCounts5_20 = resultMat[wh,]\n",
    "dim(expressedTilesCounts5_20)"
   ]
  },
  {
   "cell_type": "code",
   "execution_count": 24,
   "id": "bacterial-complexity",
   "metadata": {},
   "outputs": [
    {
     "data": {
      "text/html": [
       "<table class=\"dataframe\">\n",
       "<caption>A matrix: 5 × 5 of type int</caption>\n",
       "<thead>\n",
       "\t<tr><th></th><th scope=col>SXR0002</th><th scope=col>SXR0004</th><th scope=col>SXR0006</th><th scope=col>SXR0010</th><th scope=col>SXR0014</th></tr>\n",
       "</thead>\n",
       "<tbody>\n",
       "\t<tr><th scope=row>chr1:1337301-1337400</th><td>0</td><td>0</td><td>3</td><td>3</td><td>10</td></tr>\n",
       "\t<tr><th scope=row>chr1:1477001-1477100</th><td>0</td><td>1</td><td>3</td><td>2</td><td> 7</td></tr>\n",
       "\t<tr><th scope=row>chr1:1477101-1477200</th><td>0</td><td>0</td><td>0</td><td>0</td><td> 2</td></tr>\n",
       "\t<tr><th scope=row>chr1:1716701-1716800</th><td>0</td><td>0</td><td>0</td><td>4</td><td> 6</td></tr>\n",
       "\t<tr><th scope=row>chr1:1716801-1716900</th><td>0</td><td>0</td><td>0</td><td>3</td><td> 5</td></tr>\n",
       "</tbody>\n",
       "</table>\n"
      ],
      "text/latex": [
       "A matrix: 5 × 5 of type int\n",
       "\\begin{tabular}{r|lllll}\n",
       "  & SXR0002 & SXR0004 & SXR0006 & SXR0010 & SXR0014\\\\\n",
       "\\hline\n",
       "\tchr1:1337301-1337400 & 0 & 0 & 3 & 3 & 10\\\\\n",
       "\tchr1:1477001-1477100 & 0 & 1 & 3 & 2 &  7\\\\\n",
       "\tchr1:1477101-1477200 & 0 & 0 & 0 & 0 &  2\\\\\n",
       "\tchr1:1716701-1716800 & 0 & 0 & 0 & 4 &  6\\\\\n",
       "\tchr1:1716801-1716900 & 0 & 0 & 0 & 3 &  5\\\\\n",
       "\\end{tabular}\n"
      ],
      "text/markdown": [
       "\n",
       "A matrix: 5 × 5 of type int\n",
       "\n",
       "| <!--/--> | SXR0002 | SXR0004 | SXR0006 | SXR0010 | SXR0014 |\n",
       "|---|---|---|---|---|---|\n",
       "| chr1:1337301-1337400 | 0 | 0 | 3 | 3 | 10 |\n",
       "| chr1:1477001-1477100 | 0 | 1 | 3 | 2 |  7 |\n",
       "| chr1:1477101-1477200 | 0 | 0 | 0 | 0 |  2 |\n",
       "| chr1:1716701-1716800 | 0 | 0 | 0 | 4 |  6 |\n",
       "| chr1:1716801-1716900 | 0 | 0 | 0 | 3 |  5 |\n",
       "\n"
      ],
      "text/plain": [
       "                     SXR0002 SXR0004 SXR0006 SXR0010 SXR0014\n",
       "chr1:1337301-1337400 0       0       3       3       10     \n",
       "chr1:1477001-1477100 0       1       3       2        7     \n",
       "chr1:1477101-1477200 0       0       0       0        2     \n",
       "chr1:1716701-1716800 0       0       0       4        6     \n",
       "chr1:1716801-1716900 0       0       0       3        5     "
      ]
     },
     "metadata": {},
     "output_type": "display_data"
    },
    {
     "data": {
      "text/html": [
       "<style>\n",
       ".dl-inline {width: auto; margin:0; padding: 0}\n",
       ".dl-inline>dt, .dl-inline>dd {float: none; width: auto; display: inline-block}\n",
       ".dl-inline>dt::after {content: \":\\0020\"; padding-right: .5ex}\n",
       ".dl-inline>dt:not(:first-of-type) {padding-left: .5ex}\n",
       "</style><dl class=dl-inline><dt>0%</dt><dd>294501</dd><dt>25%</dt><dd>29695726</dd><dt>50%</dt><dd>55898951</dd><dt>75%</dt><dd>100828326</dd><dt>100%</dt><dd>249168501</dd></dl>\n"
      ],
      "text/latex": [
       "\\begin{description*}\n",
       "\\item[0\\textbackslash{}\\%] 294501\n",
       "\\item[25\\textbackslash{}\\%] 29695726\n",
       "\\item[50\\textbackslash{}\\%] 55898951\n",
       "\\item[75\\textbackslash{}\\%] 100828326\n",
       "\\item[100\\textbackslash{}\\%] 249168501\n",
       "\\end{description*}\n"
      ],
      "text/markdown": [
       "0%\n",
       ":   29450125%\n",
       ":   2969572650%\n",
       ":   5589895175%\n",
       ":   100828326100%\n",
       ":   249168501\n",
       "\n"
      ],
      "text/plain": [
       "       0%       25%       50%       75%      100% \n",
       "   294501  29695726  55898951 100828326 249168501 "
      ]
     },
     "metadata": {},
     "output_type": "display_data"
    },
    {
     "data": {
      "text/html": [
       "<table class=\"dataframe\">\n",
       "<caption>A data.frame: 6 × 4</caption>\n",
       "<thead>\n",
       "\t<tr><th></th><th scope=col>GeneID</th><th scope=col>Chr</th><th scope=col>Start</th><th scope=col>Length</th></tr>\n",
       "\t<tr><th></th><th scope=col>&lt;chr&gt;</th><th scope=col>&lt;chr&gt;</th><th scope=col>&lt;dbl&gt;</th><th scope=col>&lt;dbl&gt;</th></tr>\n",
       "</thead>\n",
       "<tbody>\n",
       "\t<tr><th scope=row>1</th><td>chr1_1337301_1337400</td><td>chr1</td><td>1337301</td><td>100</td></tr>\n",
       "\t<tr><th scope=row>2</th><td>chr1_1477001_1477100</td><td>chr1</td><td>1477001</td><td>100</td></tr>\n",
       "\t<tr><th scope=row>3</th><td>chr1_1477101_1477200</td><td>chr1</td><td>1477101</td><td>100</td></tr>\n",
       "\t<tr><th scope=row>4</th><td>chr1_1716701_1716800</td><td>chr1</td><td>1716701</td><td>100</td></tr>\n",
       "\t<tr><th scope=row>5</th><td>chr1_1716801_1716900</td><td>chr1</td><td>1716801</td><td>100</td></tr>\n",
       "\t<tr><th scope=row>6</th><td>chr1_1717201_1717300</td><td>chr1</td><td>1717201</td><td>100</td></tr>\n",
       "</tbody>\n",
       "</table>\n"
      ],
      "text/latex": [
       "A data.frame: 6 × 4\n",
       "\\begin{tabular}{r|llll}\n",
       "  & GeneID & Chr & Start & Length\\\\\n",
       "  & <chr> & <chr> & <dbl> & <dbl>\\\\\n",
       "\\hline\n",
       "\t1 & chr1\\_1337301\\_1337400 & chr1 & 1337301 & 100\\\\\n",
       "\t2 & chr1\\_1477001\\_1477100 & chr1 & 1477001 & 100\\\\\n",
       "\t3 & chr1\\_1477101\\_1477200 & chr1 & 1477101 & 100\\\\\n",
       "\t4 & chr1\\_1716701\\_1716800 & chr1 & 1716701 & 100\\\\\n",
       "\t5 & chr1\\_1716801\\_1716900 & chr1 & 1716801 & 100\\\\\n",
       "\t6 & chr1\\_1717201\\_1717300 & chr1 & 1717201 & 100\\\\\n",
       "\\end{tabular}\n"
      ],
      "text/markdown": [
       "\n",
       "A data.frame: 6 × 4\n",
       "\n",
       "| <!--/--> | GeneID &lt;chr&gt; | Chr &lt;chr&gt; | Start &lt;dbl&gt; | Length &lt;dbl&gt; |\n",
       "|---|---|---|---|---|\n",
       "| 1 | chr1_1337301_1337400 | chr1 | 1337301 | 100 |\n",
       "| 2 | chr1_1477001_1477100 | chr1 | 1477001 | 100 |\n",
       "| 3 | chr1_1477101_1477200 | chr1 | 1477101 | 100 |\n",
       "| 4 | chr1_1716701_1716800 | chr1 | 1716701 | 100 |\n",
       "| 5 | chr1_1716801_1716900 | chr1 | 1716801 | 100 |\n",
       "| 6 | chr1_1717201_1717300 | chr1 | 1717201 | 100 |\n",
       "\n"
      ],
      "text/plain": [
       "  GeneID               Chr  Start   Length\n",
       "1 chr1_1337301_1337400 chr1 1337301 100   \n",
       "2 chr1_1477001_1477100 chr1 1477001 100   \n",
       "3 chr1_1477101_1477200 chr1 1477101 100   \n",
       "4 chr1_1716701_1716800 chr1 1716701 100   \n",
       "5 chr1_1716801_1716900 chr1 1716801 100   \n",
       "6 chr1_1717201_1717300 chr1 1717201 100   "
      ]
     },
     "metadata": {},
     "output_type": "display_data"
    }
   ],
   "source": [
    "fcountGenes = list()\n",
    "fcountGenes$counts <- expressedTilesCounts5_20\n",
    "fcountGenes$counts[1:5,1:5]\n",
    "rownames(fcountGenes$counts) = gsub(\":|-\",\"_\",rownames(fcountGenes$counts))\n",
    "fcountGenes$annotation =\n",
    "  data.frame(GeneID = rownames(expressedTilesCounts5_20), stringsAsFactors = F)\n",
    "fcountGenes$annotation$GeneID = gsub(\":|-\",\"_\",fcountGenes$annotation$GeneID)\n",
    "fcountGenes$annotation$Chr = gsub(\"(chr\\\\w+)_\\\\d+_\\\\d+\",\"\\\\1\",fcountGenes$annotation$GeneID)\n",
    "fcountGenes$annotation$Start = \n",
    "  as.numeric(gsub(\"chr\\\\w+_(\\\\d+)_.+\",\"\\\\1\",fcountGenes$annotation$GeneID))\n",
    "quantile(fcountGenes$annotation$Start)\n",
    "fcountGenes$annotation$Length = 100\n",
    "head(fcountGenes$annotation)\n",
    "totalReads = colSums(fcountGenes$counts)\n",
    "save(fcountGenes,totalReads,file = featureCountFile)"
   ]
  }
 ],
 "metadata": {
  "kernelspec": {
   "display_name": "R",
   "language": "R",
   "name": "ir"
  },
  "language_info": {
   "codemirror_mode": "r",
   "file_extension": ".r",
   "mimetype": "text/x-r-source",
   "name": "R",
   "pygments_lexer": "r",
   "version": "4.2.0"
  }
 },
 "nbformat": 4,
 "nbformat_minor": 5
}
