{
 "cells": [
  {
   "cell_type": "code",
   "execution_count": 2,
   "id": "662e85a3",
   "metadata": {},
   "outputs": [],
   "source": [
    "options(java.parameters = \"-Xmx8000m\") \n",
    "# more RAM for java, for writing xls. Done before loading the library"
   ]
  },
  {
   "cell_type": "code",
   "execution_count": 4,
   "id": "detailed-devon",
   "metadata": {
    "scrolled": true
   },
   "outputs": [],
   "source": [
    "# loading libraries:\n",
    "library(\"ggplot2\") # for volcano plot\n",
    "library(\"ggrepel\") # for text labels that don't overlap (volcano plot)\n",
    "library(\"xlsx\") # to save xls file\n",
    "library(\"DESeq2\") # for rlog data\n",
    "library(\"gridExtra\") # several ggplots in one pdf\n",
    "library(\"circlize\") # colorRamp2"
   ]
  },
  {
   "cell_type": "code",
   "execution_count": 5,
   "id": "aeb046e0",
   "metadata": {},
   "outputs": [],
   "source": [
    "setwd(\"..\") # change to main directory"
   ]
  },
  {
   "cell_type": "code",
   "execution_count": 6,
   "id": "alive-philosophy",
   "metadata": {},
   "outputs": [],
   "source": [
    "padjCutoff = 0.05\n",
    "outDir = \"Figures-and-Tables/\"\n",
    "geneAnnotFile = \"annotation/Homo_sapiens.GRCh37.75-chrRename-noHaplo.RData\"\n",
    "geneAnnotHandCuratedFile = \"annotation/signif-regions-hand-curated-annotation.txt\"\n",
    "sampleAnnotFile = \"annotation/annotation-63.csv\"\n",
    "featureCountFile= \"data/expressedTiles-featureCounts-25M10percIDS-min5reads20percent.RData\"\n",
    "deseqComparisons = list(group = c(\"urolithiasis\",\"ccRCC\"))\n",
    "deseqResFile =  paste0(outDir,\"DGE-results.RData\") # will bre produced\n",
    "resFile = paste0(outDir,\"SupplTable-S4-diff-genex-results.xlsx\") # will bre produced\n",
    "volcanoPlotFile = paste0(outDir,\"Figure-3-volcano-plot.png\") # will bre produced\n",
    "minReadCountSum = 0\n",
    "minReadCountPerSample = 0\n",
    "adjustVars <- c(\"gender\",\"age\")"
   ]
  },
  {
   "cell_type": "code",
   "execution_count": 7,
   "id": "2bf056ac",
   "metadata": {},
   "outputs": [
    {
     "data": {
      "text/html": [
       "<table class=\"dataframe\">\n",
       "<caption>A data.frame: 3 × 4</caption>\n",
       "<thead>\n",
       "\t<tr><th></th><th scope=col>ID</th><th scope=col>gender</th><th scope=col>age</th><th scope=col>group</th></tr>\n",
       "\t<tr><th></th><th scope=col>&lt;chr&gt;</th><th scope=col>&lt;chr&gt;</th><th scope=col>&lt;int&gt;</th><th scope=col>&lt;chr&gt;</th></tr>\n",
       "</thead>\n",
       "<tbody>\n",
       "\t<tr><th scope=row>SXR0002</th><td>SXR0002</td><td>female</td><td>80</td><td>ccRCC</td></tr>\n",
       "\t<tr><th scope=row>SXR0004</th><td>SXR0004</td><td>male  </td><td>50</td><td>ccRCC</td></tr>\n",
       "\t<tr><th scope=row>SXR0006</th><td>SXR0006</td><td>male  </td><td>68</td><td>ccRCC</td></tr>\n",
       "</tbody>\n",
       "</table>\n"
      ],
      "text/latex": [
       "A data.frame: 3 × 4\n",
       "\\begin{tabular}{r|llll}\n",
       "  & ID & gender & age & group\\\\\n",
       "  & <chr> & <chr> & <int> & <chr>\\\\\n",
       "\\hline\n",
       "\tSXR0002 & SXR0002 & female & 80 & ccRCC\\\\\n",
       "\tSXR0004 & SXR0004 & male   & 50 & ccRCC\\\\\n",
       "\tSXR0006 & SXR0006 & male   & 68 & ccRCC\\\\\n",
       "\\end{tabular}\n"
      ],
      "text/markdown": [
       "\n",
       "A data.frame: 3 × 4\n",
       "\n",
       "| <!--/--> | ID &lt;chr&gt; | gender &lt;chr&gt; | age &lt;int&gt; | group &lt;chr&gt; |\n",
       "|---|---|---|---|---|\n",
       "| SXR0002 | SXR0002 | female | 80 | ccRCC |\n",
       "| SXR0004 | SXR0004 | male   | 50 | ccRCC |\n",
       "| SXR0006 | SXR0006 | male   | 68 | ccRCC |\n",
       "\n"
      ],
      "text/plain": [
       "        ID      gender age group\n",
       "SXR0002 SXR0002 female 80  ccRCC\n",
       "SXR0004 SXR0004 male   50  ccRCC\n",
       "SXR0006 SXR0006 male   68  ccRCC"
      ]
     },
     "metadata": {},
     "output_type": "display_data"
    }
   ],
   "source": [
    "# load sample annotation:\n",
    "sampleAnnot = read.csv(file = sampleAnnotFile,sep = \"\\t\", dec=\".\", stringsAsFactors = F )\n",
    "sampleAnnot$gender = ifelse(sampleAnnot$gender==\"f\",\"female\",\"male\")\n",
    "rownames(sampleAnnot) = sampleAnnot$ID\n",
    "head(sampleAnnot,3)"
   ]
  },
  {
   "cell_type": "code",
   "execution_count": 8,
   "id": "empty-decade",
   "metadata": {
    "scrolled": true
   },
   "outputs": [
    {
     "data": {
      "text/html": [
       "<table class=\"dataframe\">\n",
       "<caption>A data.frame: 3 × 4</caption>\n",
       "<thead>\n",
       "\t<tr><th></th><th scope=col>ID</th><th scope=col>gender</th><th scope=col>age</th><th scope=col>group</th></tr>\n",
       "\t<tr><th></th><th scope=col>&lt;chr&gt;</th><th scope=col>&lt;chr&gt;</th><th scope=col>&lt;int&gt;</th><th scope=col>&lt;fct&gt;</th></tr>\n",
       "</thead>\n",
       "<tbody>\n",
       "\t<tr><th scope=row>SXR0002</th><td>SXR0002</td><td>female</td><td>80</td><td>ccRCC</td></tr>\n",
       "\t<tr><th scope=row>SXR0004</th><td>SXR0004</td><td>male  </td><td>50</td><td>ccRCC</td></tr>\n",
       "\t<tr><th scope=row>SXR0006</th><td>SXR0006</td><td>male  </td><td>68</td><td>ccRCC</td></tr>\n",
       "</tbody>\n",
       "</table>\n"
      ],
      "text/latex": [
       "A data.frame: 3 × 4\n",
       "\\begin{tabular}{r|llll}\n",
       "  & ID & gender & age & group\\\\\n",
       "  & <chr> & <chr> & <int> & <fct>\\\\\n",
       "\\hline\n",
       "\tSXR0002 & SXR0002 & female & 80 & ccRCC\\\\\n",
       "\tSXR0004 & SXR0004 & male   & 50 & ccRCC\\\\\n",
       "\tSXR0006 & SXR0006 & male   & 68 & ccRCC\\\\\n",
       "\\end{tabular}\n"
      ],
      "text/markdown": [
       "\n",
       "A data.frame: 3 × 4\n",
       "\n",
       "| <!--/--> | ID &lt;chr&gt; | gender &lt;chr&gt; | age &lt;int&gt; | group &lt;fct&gt; |\n",
       "|---|---|---|---|---|\n",
       "| SXR0002 | SXR0002 | female | 80 | ccRCC |\n",
       "| SXR0004 | SXR0004 | male   | 50 | ccRCC |\n",
       "| SXR0006 | SXR0006 | male   | 68 | ccRCC |\n",
       "\n"
      ],
      "text/plain": [
       "        ID      gender age group\n",
       "SXR0002 SXR0002 female 80  ccRCC\n",
       "SXR0004 SXR0004 male   50  ccRCC\n",
       "SXR0006 SXR0006 male   68  ccRCC"
      ]
     },
     "metadata": {},
     "output_type": "display_data"
    }
   ],
   "source": [
    "# convert string variables to factors:\n",
    "sampleAnnot$group = factor(sampleAnnot$group, levels = c(\"urolithiasis\",\"ccRCC\")) # uro is base level\n",
    "head(sampleAnnot,3)"
   ]
  },
  {
   "cell_type": "code",
   "execution_count": 9,
   "id": "familiar-austria",
   "metadata": {
    "scrolled": true
   },
   "outputs": [
    {
     "data": {
      "text/html": [
       "<table class=\"dataframe\">\n",
       "<caption>A matrix: 3 × 63 of type int</caption>\n",
       "<thead>\n",
       "\t<tr><th></th><th scope=col>SXR0002</th><th scope=col>SXR0004</th><th scope=col>SXR0006</th><th scope=col>SXR0010</th><th scope=col>SXR0014</th><th scope=col>SXR0016</th><th scope=col>SXR0018</th><th scope=col>SXR0028</th><th scope=col>SXR0029</th><th scope=col>SXR0030</th><th scope=col>⋯</th><th scope=col>SXR0105</th><th scope=col>SXR0111</th><th scope=col>SXR0112</th><th scope=col>SXR0113</th><th scope=col>SXR0114</th><th scope=col>SXR0115</th><th scope=col>SXR0117</th><th scope=col>SXR0118</th><th scope=col>SXR0121</th><th scope=col>SXR0122</th></tr>\n",
       "</thead>\n",
       "<tbody>\n",
       "\t<tr><th scope=row>chr1_1337301_1337400</th><td>0</td><td>0</td><td>3</td><td>3</td><td>10</td><td>1</td><td>6</td><td>14</td><td>7</td><td>6</td><td>⋯</td><td>9</td><td>19</td><td>23</td><td>9</td><td>0</td><td>0</td><td>5</td><td>0</td><td>8</td><td>19</td></tr>\n",
       "\t<tr><th scope=row>chr1_1477001_1477100</th><td>0</td><td>1</td><td>3</td><td>2</td><td> 7</td><td>2</td><td>4</td><td> 0</td><td>3</td><td>4</td><td>⋯</td><td>3</td><td> 5</td><td> 3</td><td>4</td><td>0</td><td>0</td><td>2</td><td>0</td><td>3</td><td> 3</td></tr>\n",
       "\t<tr><th scope=row>chr1_1477101_1477200</th><td>0</td><td>0</td><td>0</td><td>0</td><td> 2</td><td>0</td><td>7</td><td> 0</td><td>4</td><td>3</td><td>⋯</td><td>2</td><td>10</td><td> 5</td><td>3</td><td>3</td><td>0</td><td>3</td><td>0</td><td>2</td><td> 5</td></tr>\n",
       "</tbody>\n",
       "</table>\n"
      ],
      "text/latex": [
       "A matrix: 3 × 63 of type int\n",
       "\\begin{tabular}{r|lllllllllllllllllllll}\n",
       "  & SXR0002 & SXR0004 & SXR0006 & SXR0010 & SXR0014 & SXR0016 & SXR0018 & SXR0028 & SXR0029 & SXR0030 & ⋯ & SXR0105 & SXR0111 & SXR0112 & SXR0113 & SXR0114 & SXR0115 & SXR0117 & SXR0118 & SXR0121 & SXR0122\\\\\n",
       "\\hline\n",
       "\tchr1\\_1337301\\_1337400 & 0 & 0 & 3 & 3 & 10 & 1 & 6 & 14 & 7 & 6 & ⋯ & 9 & 19 & 23 & 9 & 0 & 0 & 5 & 0 & 8 & 19\\\\\n",
       "\tchr1\\_1477001\\_1477100 & 0 & 1 & 3 & 2 &  7 & 2 & 4 &  0 & 3 & 4 & ⋯ & 3 &  5 &  3 & 4 & 0 & 0 & 2 & 0 & 3 &  3\\\\\n",
       "\tchr1\\_1477101\\_1477200 & 0 & 0 & 0 & 0 &  2 & 0 & 7 &  0 & 4 & 3 & ⋯ & 2 & 10 &  5 & 3 & 3 & 0 & 3 & 0 & 2 &  5\\\\\n",
       "\\end{tabular}\n"
      ],
      "text/markdown": [
       "\n",
       "A matrix: 3 × 63 of type int\n",
       "\n",
       "| <!--/--> | SXR0002 | SXR0004 | SXR0006 | SXR0010 | SXR0014 | SXR0016 | SXR0018 | SXR0028 | SXR0029 | SXR0030 | ⋯ | SXR0105 | SXR0111 | SXR0112 | SXR0113 | SXR0114 | SXR0115 | SXR0117 | SXR0118 | SXR0121 | SXR0122 |\n",
       "|---|---|---|---|---|---|---|---|---|---|---|---|---|---|---|---|---|---|---|---|---|---|\n",
       "| chr1_1337301_1337400 | 0 | 0 | 3 | 3 | 10 | 1 | 6 | 14 | 7 | 6 | ⋯ | 9 | 19 | 23 | 9 | 0 | 0 | 5 | 0 | 8 | 19 |\n",
       "| chr1_1477001_1477100 | 0 | 1 | 3 | 2 |  7 | 2 | 4 |  0 | 3 | 4 | ⋯ | 3 |  5 |  3 | 4 | 0 | 0 | 2 | 0 | 3 |  3 |\n",
       "| chr1_1477101_1477200 | 0 | 0 | 0 | 0 |  2 | 0 | 7 |  0 | 4 | 3 | ⋯ | 2 | 10 |  5 | 3 | 3 | 0 | 3 | 0 | 2 |  5 |\n",
       "\n"
      ],
      "text/plain": [
       "                     SXR0002 SXR0004 SXR0006 SXR0010 SXR0014 SXR0016 SXR0018\n",
       "chr1_1337301_1337400 0       0       3       3       10      1       6      \n",
       "chr1_1477001_1477100 0       1       3       2        7      2       4      \n",
       "chr1_1477101_1477200 0       0       0       0        2      0       7      \n",
       "                     SXR0028 SXR0029 SXR0030 ⋯ SXR0105 SXR0111 SXR0112 SXR0113\n",
       "chr1_1337301_1337400 14      7       6       ⋯ 9       19      23      9      \n",
       "chr1_1477001_1477100  0      3       4       ⋯ 3        5       3      4      \n",
       "chr1_1477101_1477200  0      4       3       ⋯ 2       10       5      3      \n",
       "                     SXR0114 SXR0115 SXR0117 SXR0118 SXR0121 SXR0122\n",
       "chr1_1337301_1337400 0       0       5       0       8       19     \n",
       "chr1_1477001_1477100 0       0       2       0       3        3     \n",
       "chr1_1477101_1477200 3       0       3       0       2        5     "
      ]
     },
     "metadata": {},
     "output_type": "display_data"
    },
    {
     "data": {
      "text/html": [
       "<style>\n",
       ".list-inline {list-style: none; margin:0; padding: 0}\n",
       ".list-inline>li {display: inline-block}\n",
       ".list-inline>li:not(:last-child)::after {content: \"\\00b7\"; padding: 0 .5ex}\n",
       "</style>\n",
       "<ol class=list-inline><li>6242</li><li>63</li></ol>\n"
      ],
      "text/latex": [
       "\\begin{enumerate*}\n",
       "\\item 6242\n",
       "\\item 63\n",
       "\\end{enumerate*}\n"
      ],
      "text/markdown": [
       "1. 6242\n",
       "2. 63\n",
       "\n",
       "\n"
      ],
      "text/plain": [
       "[1] 6242   63"
      ]
     },
     "metadata": {},
     "output_type": "display_data"
    }
   ],
   "source": [
    "load(file = featureCountFile)\n",
    "counts <- as.matrix(fcountGenes$counts)\n",
    "head(counts,3)\n",
    "dim(counts)"
   ]
  },
  {
   "cell_type": "markdown",
   "id": "9cb99411",
   "metadata": {},
   "source": [
    "### map region coordinates to genes"
   ]
  },
  {
   "cell_type": "code",
   "execution_count": 11,
   "id": "46eb6ff6",
   "metadata": {},
   "outputs": [
    {
     "data": {
      "text/html": [
       "<table class=\"dataframe\">\n",
       "<caption>A data.frame: 3 × 3</caption>\n",
       "<thead>\n",
       "\t<tr><th></th><th scope=col>chr</th><th scope=col>start</th><th scope=col>end</th></tr>\n",
       "\t<tr><th></th><th scope=col>&lt;chr&gt;</th><th scope=col>&lt;dbl&gt;</th><th scope=col>&lt;dbl&gt;</th></tr>\n",
       "</thead>\n",
       "<tbody>\n",
       "\t<tr><th scope=row>1</th><td>chr1</td><td>1337301</td><td>1337400</td></tr>\n",
       "\t<tr><th scope=row>2</th><td>chr1</td><td>1477001</td><td>1477100</td></tr>\n",
       "\t<tr><th scope=row>3</th><td>chr1</td><td>1477101</td><td>1477200</td></tr>\n",
       "</tbody>\n",
       "</table>\n"
      ],
      "text/latex": [
       "A data.frame: 3 × 3\n",
       "\\begin{tabular}{r|lll}\n",
       "  & chr & start & end\\\\\n",
       "  & <chr> & <dbl> & <dbl>\\\\\n",
       "\\hline\n",
       "\t1 & chr1 & 1337301 & 1337400\\\\\n",
       "\t2 & chr1 & 1477001 & 1477100\\\\\n",
       "\t3 & chr1 & 1477101 & 1477200\\\\\n",
       "\\end{tabular}\n"
      ],
      "text/markdown": [
       "\n",
       "A data.frame: 3 × 3\n",
       "\n",
       "| <!--/--> | chr &lt;chr&gt; | start &lt;dbl&gt; | end &lt;dbl&gt; |\n",
       "|---|---|---|---|\n",
       "| 1 | chr1 | 1337301 | 1337400 |\n",
       "| 2 | chr1 | 1477001 | 1477100 |\n",
       "| 3 | chr1 | 1477101 | 1477200 |\n",
       "\n"
      ],
      "text/plain": [
       "  chr  start   end    \n",
       "1 chr1 1337301 1337400\n",
       "2 chr1 1477001 1477100\n",
       "3 chr1 1477101 1477200"
      ]
     },
     "metadata": {},
     "output_type": "display_data"
    }
   ],
   "source": [
    "rn = rownames(counts)\n",
    "regionsCoord <- data.frame(\n",
    "    chr = gsub(\"(chr[^_]+).+\",\"\\\\1\",rn),\n",
    "    start = as.numeric(gsub(\"chr[^_]+_([^_]+).+\",\"\\\\1\",rn)),\n",
    "    end = as.numeric(gsub(\"chr[^_]+_[^_]+_([^_]+)\",\"\\\\1\",rn))\n",
    ")\n",
    "head(regionsCoord,3)"
   ]
  },
  {
   "cell_type": "code",
   "execution_count": 12,
   "id": "a32a784f",
   "metadata": {},
   "outputs": [
    {
     "data": {
      "text/html": [
       "<style>\n",
       ".list-inline {list-style: none; margin:0; padding: 0}\n",
       ".list-inline>li {display: inline-block}\n",
       ".list-inline>li:not(:last-child)::after {content: \"\\00b7\"; padding: 0 .5ex}\n",
       "</style>\n",
       "<ol class=list-inline><li>'DDX11L1'</li><li>'WASH7P'</li><li>'MIR1302-10'</li><li>'FAM138A'</li><li>'OR4G4P'</li><li>'OR4G11P'</li></ol>\n"
      ],
      "text/latex": [
       "\\begin{enumerate*}\n",
       "\\item 'DDX11L1'\n",
       "\\item 'WASH7P'\n",
       "\\item 'MIR1302-10'\n",
       "\\item 'FAM138A'\n",
       "\\item 'OR4G4P'\n",
       "\\item 'OR4G11P'\n",
       "\\end{enumerate*}\n"
      ],
      "text/markdown": [
       "1. 'DDX11L1'\n",
       "2. 'WASH7P'\n",
       "3. 'MIR1302-10'\n",
       "4. 'FAM138A'\n",
       "5. 'OR4G4P'\n",
       "6. 'OR4G11P'\n",
       "\n",
       "\n"
      ],
      "text/plain": [
       "[1] \"DDX11L1\"    \"WASH7P\"     \"MIR1302-10\" \"FAM138A\"    \"OR4G4P\"    \n",
       "[6] \"OR4G11P\"   "
      ]
     },
     "metadata": {},
     "output_type": "display_data"
    }
   ],
   "source": [
    "# gene annotation:\n",
    "load(geneAnnotFile)\n",
    "geneAnnot = geneAnnot[which(geneAnnot$V3==\"gene\"),]\n",
    "geneAnnot$EnsID = gsub(\".*gene_id ([^;]+).*\",\"\\\\1\",geneAnnot$V9)\n",
    "geneAnnot$type = gsub(\".*gene_biotype ([^;]+).*\",\"\\\\1\",geneAnnot$V9)\n",
    "geneAnnot$symbol = gsub(\".*gene_name ([^;]+).*\",\"\\\\1\",geneAnnot$V9)\n",
    "head(geneAnnot$symbol)\n",
    "geneAnnotGR = GRanges(seqnames = geneAnnot$V1,\n",
    "                  ranges = IRanges(start = geneAnnot$V4,end = geneAnnot$V5))"
   ]
  },
  {
   "cell_type": "code",
   "execution_count": 13,
   "id": "123852be",
   "metadata": {},
   "outputs": [
    {
     "data": {
      "text/html": [
       "<table class=\"dataframe\">\n",
       "<caption>A data.frame: 3 × 4</caption>\n",
       "<thead>\n",
       "\t<tr><th></th><th scope=col>name</th><th scope=col>chr</th><th scope=col>start</th><th scope=col>end</th></tr>\n",
       "\t<tr><th></th><th scope=col>&lt;chr&gt;</th><th scope=col>&lt;chr&gt;</th><th scope=col>&lt;dbl&gt;</th><th scope=col>&lt;dbl&gt;</th></tr>\n",
       "</thead>\n",
       "<tbody>\n",
       "\t<tr><th scope=row>1</th><td>chr1_1337301_1337400</td><td>chr1</td><td>1337301</td><td>1337400</td></tr>\n",
       "\t<tr><th scope=row>2</th><td>chr1_1477001_1477100</td><td>chr1</td><td>1477001</td><td>1477100</td></tr>\n",
       "\t<tr><th scope=row>3</th><td>chr1_1477101_1477200</td><td>chr1</td><td>1477101</td><td>1477200</td></tr>\n",
       "</tbody>\n",
       "</table>\n"
      ],
      "text/latex": [
       "A data.frame: 3 × 4\n",
       "\\begin{tabular}{r|llll}\n",
       "  & name & chr & start & end\\\\\n",
       "  & <chr> & <chr> & <dbl> & <dbl>\\\\\n",
       "\\hline\n",
       "\t1 & chr1\\_1337301\\_1337400 & chr1 & 1337301 & 1337400\\\\\n",
       "\t2 & chr1\\_1477001\\_1477100 & chr1 & 1477001 & 1477100\\\\\n",
       "\t3 & chr1\\_1477101\\_1477200 & chr1 & 1477101 & 1477200\\\\\n",
       "\\end{tabular}\n"
      ],
      "text/markdown": [
       "\n",
       "A data.frame: 3 × 4\n",
       "\n",
       "| <!--/--> | name &lt;chr&gt; | chr &lt;chr&gt; | start &lt;dbl&gt; | end &lt;dbl&gt; |\n",
       "|---|---|---|---|---|\n",
       "| 1 | chr1_1337301_1337400 | chr1 | 1337301 | 1337400 |\n",
       "| 2 | chr1_1477001_1477100 | chr1 | 1477001 | 1477100 |\n",
       "| 3 | chr1_1477101_1477200 | chr1 | 1477101 | 1477200 |\n",
       "\n"
      ],
      "text/plain": [
       "  name                 chr  start   end    \n",
       "1 chr1_1337301_1337400 chr1 1337301 1337400\n",
       "2 chr1_1477001_1477100 chr1 1477001 1477100\n",
       "3 chr1_1477101_1477200 chr1 1477101 1477200"
      ]
     },
     "metadata": {},
     "output_type": "display_data"
    },
    {
     "data": {
      "text/html": [
       "<table class=\"dataframe\">\n",
       "<caption>A data.frame: 2 × 7</caption>\n",
       "<thead>\n",
       "\t<tr><th></th><th scope=col>name</th><th scope=col>chr</th><th scope=col>start</th><th scope=col>end</th><th scope=col>gene</th><th scope=col>EnsgID</th><th scope=col>geneType</th></tr>\n",
       "\t<tr><th></th><th scope=col>&lt;chr&gt;</th><th scope=col>&lt;chr&gt;</th><th scope=col>&lt;dbl&gt;</th><th scope=col>&lt;dbl&gt;</th><th scope=col>&lt;chr&gt;</th><th scope=col>&lt;chr&gt;</th><th scope=col>&lt;chr&gt;</th></tr>\n",
       "</thead>\n",
       "<tbody>\n",
       "\t<tr><th scope=row>chr1_1337301_1337400</th><td>chr1_1337301_1337400</td><td>chr1</td><td>1337301</td><td>1337400</td><td>RP4-758J18.2;MRPL20</td><td>ENSG00000224870;ENSG00000242485</td><td>protein_coding;protein_coding</td></tr>\n",
       "\t<tr><th scope=row>chr1_1477001_1477100</th><td>chr1_1477001_1477100</td><td>chr1</td><td>1477001</td><td>1477100</td><td>SSU72              </td><td>ENSG00000160075                </td><td>protein_coding               </td></tr>\n",
       "</tbody>\n",
       "</table>\n"
      ],
      "text/latex": [
       "A data.frame: 2 × 7\n",
       "\\begin{tabular}{r|lllllll}\n",
       "  & name & chr & start & end & gene & EnsgID & geneType\\\\\n",
       "  & <chr> & <chr> & <dbl> & <dbl> & <chr> & <chr> & <chr>\\\\\n",
       "\\hline\n",
       "\tchr1\\_1337301\\_1337400 & chr1\\_1337301\\_1337400 & chr1 & 1337301 & 1337400 & RP4-758J18.2;MRPL20 & ENSG00000224870;ENSG00000242485 & protein\\_coding;protein\\_coding\\\\\n",
       "\tchr1\\_1477001\\_1477100 & chr1\\_1477001\\_1477100 & chr1 & 1477001 & 1477100 & SSU72               & ENSG00000160075                 & protein\\_coding               \\\\\n",
       "\\end{tabular}\n"
      ],
      "text/markdown": [
       "\n",
       "A data.frame: 2 × 7\n",
       "\n",
       "| <!--/--> | name &lt;chr&gt; | chr &lt;chr&gt; | start &lt;dbl&gt; | end &lt;dbl&gt; | gene &lt;chr&gt; | EnsgID &lt;chr&gt; | geneType &lt;chr&gt; |\n",
       "|---|---|---|---|---|---|---|---|\n",
       "| chr1_1337301_1337400 | chr1_1337301_1337400 | chr1 | 1337301 | 1337400 | RP4-758J18.2;MRPL20 | ENSG00000224870;ENSG00000242485 | protein_coding;protein_coding |\n",
       "| chr1_1477001_1477100 | chr1_1477001_1477100 | chr1 | 1477001 | 1477100 | SSU72               | ENSG00000160075                 | protein_coding                |\n",
       "\n"
      ],
      "text/plain": [
       "                     name                 chr  start   end    \n",
       "chr1_1337301_1337400 chr1_1337301_1337400 chr1 1337301 1337400\n",
       "chr1_1477001_1477100 chr1_1477001_1477100 chr1 1477001 1477100\n",
       "                     gene                EnsgID                         \n",
       "chr1_1337301_1337400 RP4-758J18.2;MRPL20 ENSG00000224870;ENSG00000242485\n",
       "chr1_1477001_1477100 SSU72               ENSG00000160075                \n",
       "                     geneType                     \n",
       "chr1_1337301_1337400 protein_coding;protein_coding\n",
       "chr1_1477001_1477100 protein_coding               "
      ]
     },
     "metadata": {},
     "output_type": "display_data"
    }
   ],
   "source": [
    "# annotate regions:\n",
    "regionsGR = GRanges(seqnames = regionsCoord$chr, \n",
    "                ranges = IRanges(start = regionsCoord$start, end = regionsCoord$end) )\n",
    "# overlapping gene annot\n",
    "ovlp = as.data.frame(findOverlaps(query = geneAnnotGR,subject = regionsGR))\n",
    "\n",
    "regionAnnot = data.frame(name=rownames(counts),regionsCoord)\n",
    "head(regionAnnot,3)\n",
    "\n",
    "# add gene symbols and annot:\n",
    "regionIdx <- unique(ovlp$subjectHits)\n",
    "for(r in regionIdx) {\n",
    "  regionAnnot$gene[r] = paste0(\n",
    "      geneAnnot$symbol[ovlp$queryHits[ovlp$subjectHits == r]],collapse=\";\")\n",
    "  regionAnnot$EnsgID[r] = paste0(\n",
    "      geneAnnot$EnsID[ovlp$queryHits[ovlp$subjectHits == r]],collapse=\";\")\n",
    "  regionAnnot$geneType[r] = paste0(\n",
    "      geneAnnot$type[ovlp$queryHits[ovlp$subjectHits == r]],collapse=\";\")\n",
    "}\n",
    "rownames(regionAnnot) = regionAnnot$name\n",
    "head(regionAnnot,2)"
   ]
  },
  {
   "cell_type": "code",
   "execution_count": 14,
   "id": "willing-person",
   "metadata": {
    "scrolled": true
   },
   "outputs": [
    {
     "data": {
      "text/html": [
       "<table class=\"dataframe\">\n",
       "<caption>A matrix: 2 × 4 of type dbl</caption>\n",
       "<thead>\n",
       "\t<tr><th></th><th scope=col>SXR0002</th><th scope=col>SXR0004</th><th scope=col>SXR0006</th><th scope=col>SXR0010</th></tr>\n",
       "</thead>\n",
       "<tbody>\n",
       "\t<tr><th scope=row>chr1_1337301_1337400</th><td>0</td><td> 0</td><td>30</td><td>30</td></tr>\n",
       "\t<tr><th scope=row>chr1_1477001_1477100</th><td>0</td><td>10</td><td>30</td><td>20</td></tr>\n",
       "</tbody>\n",
       "</table>\n"
      ],
      "text/latex": [
       "A matrix: 2 × 4 of type dbl\n",
       "\\begin{tabular}{r|llll}\n",
       "  & SXR0002 & SXR0004 & SXR0006 & SXR0010\\\\\n",
       "\\hline\n",
       "\tchr1\\_1337301\\_1337400 & 0 &  0 & 30 & 30\\\\\n",
       "\tchr1\\_1477001\\_1477100 & 0 & 10 & 30 & 20\\\\\n",
       "\\end{tabular}\n"
      ],
      "text/markdown": [
       "\n",
       "A matrix: 2 × 4 of type dbl\n",
       "\n",
       "| <!--/--> | SXR0002 | SXR0004 | SXR0006 | SXR0010 |\n",
       "|---|---|---|---|---|\n",
       "| chr1_1337301_1337400 | 0 |  0 | 30 | 30 |\n",
       "| chr1_1477001_1477100 | 0 | 10 | 30 | 20 |\n",
       "\n"
      ],
      "text/plain": [
       "                     SXR0002 SXR0004 SXR0006 SXR0010\n",
       "chr1_1337301_1337400 0        0      30      30     \n",
       "chr1_1477001_1477100 0       10      30      20     "
      ]
     },
     "metadata": {},
     "output_type": "display_data"
    },
    {
     "data": {
      "text/html": [
       "<table class=\"dataframe\">\n",
       "<caption>A matrix: 2 × 4 of type int</caption>\n",
       "<thead>\n",
       "\t<tr><th></th><th scope=col>SXR0002</th><th scope=col>SXR0004</th><th scope=col>SXR0006</th><th scope=col>SXR0010</th></tr>\n",
       "</thead>\n",
       "<tbody>\n",
       "\t<tr><th scope=row>chr1_1337301_1337400</th><td>0</td><td>0</td><td>3</td><td>3</td></tr>\n",
       "\t<tr><th scope=row>chr1_1477001_1477100</th><td>0</td><td>1</td><td>3</td><td>2</td></tr>\n",
       "</tbody>\n",
       "</table>\n"
      ],
      "text/latex": [
       "A matrix: 2 × 4 of type int\n",
       "\\begin{tabular}{r|llll}\n",
       "  & SXR0002 & SXR0004 & SXR0006 & SXR0010\\\\\n",
       "\\hline\n",
       "\tchr1\\_1337301\\_1337400 & 0 & 0 & 3 & 3\\\\\n",
       "\tchr1\\_1477001\\_1477100 & 0 & 1 & 3 & 2\\\\\n",
       "\\end{tabular}\n"
      ],
      "text/markdown": [
       "\n",
       "A matrix: 2 × 4 of type int\n",
       "\n",
       "| <!--/--> | SXR0002 | SXR0004 | SXR0006 | SXR0010 |\n",
       "|---|---|---|---|---|\n",
       "| chr1_1337301_1337400 | 0 | 0 | 3 | 3 |\n",
       "| chr1_1477001_1477100 | 0 | 1 | 3 | 2 |\n",
       "\n"
      ],
      "text/plain": [
       "                     SXR0002 SXR0004 SXR0006 SXR0010\n",
       "chr1_1337301_1337400 0       0       3       3      \n",
       "chr1_1477001_1477100 0       1       3       2      "
      ]
     },
     "metadata": {},
     "output_type": "display_data"
    },
    {
     "data": {
      "text/html": [
       "<table class=\"dataframe\">\n",
       "<caption>A matrix: 2 × 4 of type dbl</caption>\n",
       "<thead>\n",
       "\t<tr><th></th><th scope=col>SXR0002</th><th scope=col>SXR0004</th><th scope=col>SXR0006</th><th scope=col>SXR0010</th></tr>\n",
       "</thead>\n",
       "<tbody>\n",
       "\t<tr><th scope=row>chr1_1337301_1337400</th><td>0</td><td>0.000000</td><td>43.5262</td><td>16.14683</td></tr>\n",
       "\t<tr><th scope=row>chr1_1477001_1477100</th><td>0</td><td>4.154791</td><td>43.5262</td><td>10.76455</td></tr>\n",
       "</tbody>\n",
       "</table>\n"
      ],
      "text/latex": [
       "A matrix: 2 × 4 of type dbl\n",
       "\\begin{tabular}{r|llll}\n",
       "  & SXR0002 & SXR0004 & SXR0006 & SXR0010\\\\\n",
       "\\hline\n",
       "\tchr1\\_1337301\\_1337400 & 0 & 0.000000 & 43.5262 & 16.14683\\\\\n",
       "\tchr1\\_1477001\\_1477100 & 0 & 4.154791 & 43.5262 & 10.76455\\\\\n",
       "\\end{tabular}\n"
      ],
      "text/markdown": [
       "\n",
       "A matrix: 2 × 4 of type dbl\n",
       "\n",
       "| <!--/--> | SXR0002 | SXR0004 | SXR0006 | SXR0010 |\n",
       "|---|---|---|---|---|\n",
       "| chr1_1337301_1337400 | 0 | 0.000000 | 43.5262 | 16.14683 |\n",
       "| chr1_1477001_1477100 | 0 | 4.154791 | 43.5262 | 10.76455 |\n",
       "\n"
      ],
      "text/plain": [
       "                     SXR0002 SXR0004  SXR0006 SXR0010 \n",
       "chr1_1337301_1337400 0       0.000000 43.5262 16.14683\n",
       "chr1_1477001_1477100 0       4.154791 43.5262 10.76455"
      ]
     },
     "metadata": {},
     "output_type": "display_data"
    }
   ],
   "source": [
    "geneLength = 100\n",
    "TPMs = counts\n",
    "TPMs[,names(totalReads)] <- sapply(names(totalReads),function(x) TPMs[,x]/(geneLength/10^3) )\n",
    "head(TPMs[,1:4],2)\n",
    "TPMsums <- colSums(TPMs)\n",
    "TPMs[,names(totalReads)] <- sapply(names(TPMsums),function(x) TPMs[,x]/(TPMsums[x]/10^6))\n",
    "head(counts[,1:4],2)\n",
    "head(TPMs[,1:4],2)"
   ]
  },
  {
   "cell_type": "markdown",
   "id": "137d9796",
   "metadata": {},
   "source": [
    "## DESeq2"
   ]
  },
  {
   "cell_type": "code",
   "execution_count": 15,
   "id": "d237fff8",
   "metadata": {},
   "outputs": [
    {
     "data": {
      "text/plain": [
       "~gender + age + group"
      ]
     },
     "metadata": {},
     "output_type": "display_data"
    },
    {
     "name": "stderr",
     "output_type": "stream",
     "text": [
      "Warning message in DESeqDataSet(se, design = design, ignoreRank):\n",
      "“some variables in design formula are characters, converting to factors”\n",
      "  the design formula contains one or more numeric variables with integer values,\n",
      "  specifying a model with increasing fold change for higher values.\n",
      "  did you mean for this to be a factor? if so, first convert\n",
      "  this variable to a factor using the factor() function\n",
      "\n",
      "  the design formula contains one or more numeric variables that have mean or\n",
      "  standard deviation larger than 5 (an arbitrary threshold to trigger this message).\n",
      "  Including numeric variables with large mean can induce collinearity with the intercept.\n",
      "  Users should center and scale numeric variables in the design to improve GLM convergence.\n",
      "\n"
     ]
    }
   ],
   "source": [
    "modelFormula <- as.formula(\"~ gender + age + group\")\n",
    "modelFormula\n",
    "dds = DESeqDataSetFromMatrix( \n",
    "    countData = counts,colData = sampleAnnot, design = modelFormula)"
   ]
  },
  {
   "cell_type": "code",
   "execution_count": 16,
   "id": "9210c703",
   "metadata": {},
   "outputs": [],
   "source": [
    "# remove genes with 0 or 1 counts for all samples:\n",
    "dds = dds[ rowSums( counts(dds) ) >= minReadCountSum , ]\n",
    "dds = dds[ which(rowMin(counts(dds)) >= minReadCountPerSample), ]"
   ]
  },
  {
   "cell_type": "code",
   "execution_count": 17,
   "id": "50a64fc5",
   "metadata": {},
   "outputs": [
    {
     "name": "stderr",
     "output_type": "stream",
     "text": [
      "estimating size factors\n",
      "\n",
      "estimating dispersions\n",
      "\n",
      "gene-wise dispersion estimates\n",
      "\n",
      "mean-dispersion relationship\n",
      "\n",
      "final dispersion estimates\n",
      "\n",
      "fitting model and testing\n",
      "\n"
     ]
    }
   ],
   "source": [
    "# differential gene expression:\n",
    "dds <- DESeq(dds)"
   ]
  },
  {
   "cell_type": "code",
   "execution_count": 18,
   "id": "41847a9a",
   "metadata": {
    "scrolled": true
   },
   "outputs": [
    {
     "data": {
      "text/html": [
       "<table class=\"dataframe\">\n",
       "<caption>A data.frame: 2 × 6</caption>\n",
       "<thead>\n",
       "\t<tr><th></th><th scope=col>baseMean</th><th scope=col>log2FoldChange</th><th scope=col>lfcSE</th><th scope=col>stat</th><th scope=col>pvalue</th><th scope=col>padj</th></tr>\n",
       "\t<tr><th></th><th scope=col>&lt;dbl&gt;</th><th scope=col>&lt;dbl&gt;</th><th scope=col>&lt;dbl&gt;</th><th scope=col>&lt;dbl&gt;</th><th scope=col>&lt;dbl&gt;</th><th scope=col>&lt;dbl&gt;</th></tr>\n",
       "</thead>\n",
       "<tbody>\n",
       "\t<tr><th scope=row>chr1_1337301_1337400</th><td>5.321137</td><td> 0.72024068</td><td>0.3769959</td><td> 1.9104736</td><td>0.05607226</td><td>0.3582932</td></tr>\n",
       "\t<tr><th scope=row>chr1_1477001_1477100</th><td>2.184467</td><td>-0.08014081</td><td>0.3619441</td><td>-0.2214176</td><td>0.82476727</td><td>       NA</td></tr>\n",
       "</tbody>\n",
       "</table>\n"
      ],
      "text/latex": [
       "A data.frame: 2 × 6\n",
       "\\begin{tabular}{r|llllll}\n",
       "  & baseMean & log2FoldChange & lfcSE & stat & pvalue & padj\\\\\n",
       "  & <dbl> & <dbl> & <dbl> & <dbl> & <dbl> & <dbl>\\\\\n",
       "\\hline\n",
       "\tchr1\\_1337301\\_1337400 & 5.321137 &  0.72024068 & 0.3769959 &  1.9104736 & 0.05607226 & 0.3582932\\\\\n",
       "\tchr1\\_1477001\\_1477100 & 2.184467 & -0.08014081 & 0.3619441 & -0.2214176 & 0.82476727 &        NA\\\\\n",
       "\\end{tabular}\n"
      ],
      "text/markdown": [
       "\n",
       "A data.frame: 2 × 6\n",
       "\n",
       "| <!--/--> | baseMean &lt;dbl&gt; | log2FoldChange &lt;dbl&gt; | lfcSE &lt;dbl&gt; | stat &lt;dbl&gt; | pvalue &lt;dbl&gt; | padj &lt;dbl&gt; |\n",
       "|---|---|---|---|---|---|---|\n",
       "| chr1_1337301_1337400 | 5.321137 |  0.72024068 | 0.3769959 |  1.9104736 | 0.05607226 | 0.3582932 |\n",
       "| chr1_1477001_1477100 | 2.184467 | -0.08014081 | 0.3619441 | -0.2214176 | 0.82476727 |        NA |\n",
       "\n"
      ],
      "text/plain": [
       "                     baseMean log2FoldChange lfcSE     stat       pvalue    \n",
       "chr1_1337301_1337400 5.321137  0.72024068    0.3769959  1.9104736 0.05607226\n",
       "chr1_1477001_1477100 2.184467 -0.08014081    0.3619441 -0.2214176 0.82476727\n",
       "                     padj     \n",
       "chr1_1337301_1337400 0.3582932\n",
       "chr1_1477001_1477100        NA"
      ]
     },
     "metadata": {},
     "output_type": "display_data"
    }
   ],
   "source": [
    "deseqRes <- as.data.frame(results(dds))\n",
    "head(deseqRes,2)"
   ]
  },
  {
   "cell_type": "code",
   "execution_count": 19,
   "id": "0413656b",
   "metadata": {
    "scrolled": true
   },
   "outputs": [],
   "source": [
    "# add regions' gene annotation and\n",
    "#  read counts sorted by group and then alphabetically by id:\n",
    "idSorted = sampleAnnot$ID[ order(-as.numeric(sampleAnnot$group), sampleAnnot$ID)]\n",
    "deseqRes = cbind(regionAnnot[ rownames(deseqRes),-1], \n",
    "                 deseqRes, \n",
    "                 as.data.frame(assay(dds))[rownames(deseqRes),idSorted])\n",
    "# remove chrY:\n",
    "deseqRes = deseqRes[ which(deseqRes$chr != \"chrY\"),]"
   ]
  },
  {
   "cell_type": "code",
   "execution_count": 20,
   "id": "514177b5",
   "metadata": {
    "scrolled": false
   },
   "outputs": [
    {
     "data": {
      "text/html": [
       "<style>\n",
       ".dl-inline {width: auto; margin:0; padding: 0}\n",
       ".dl-inline>dt, .dl-inline>dd {float: none; width: auto; display: inline-block}\n",
       ".dl-inline>dt::after {content: \":\\0020\"; padding-right: .5ex}\n",
       ".dl-inline>dt:not(:first-of-type) {padding-left: .5ex}\n",
       "</style><dl class=dl-inline><dt>chr1_28905201_28905300</dt><dd>'SNORD99'</dd><dt>chr1_153643701_153643800</dt><dd>'TRNA_Met'</dd><dt>chr1_153643801_153643900</dt><dd>''</dd><dt>chr3_186504601_186504700</dt><dd>'SNORA81'</dd><dt>chr6_86387301_86387400</dt><dd>'SNORD50B'</dd><dt>chr11_62609001_62609100</dt><dd>'RNU2-2P'</dd><dt>chr11_62609101_62609200</dt><dd>'RNU2-2P'</dd><dt>chr11_62620301_62620400</dt><dd>'SNORD22'</dd><dt>chr11_62620401_62620500</dt><dd>'SNORD22'</dd><dt>chr11_62622701_62622800</dt><dd>'SNORD26'</dd><dt>chr11_62622801_62622900</dt><dd>'SNORD26'</dd><dt>chr11_65267201_65267300</dt><dd>'mascRNA'</dd><dt>chr17_62223801_62223900</dt><dd>'SNORA76'</dd></dl>\n"
      ],
      "text/latex": [
       "\\begin{description*}\n",
       "\\item[chr1\\textbackslash{}\\_28905201\\textbackslash{}\\_28905300] 'SNORD99'\n",
       "\\item[chr1\\textbackslash{}\\_153643701\\textbackslash{}\\_153643800] 'TRNA\\_Met'\n",
       "\\item[chr1\\textbackslash{}\\_153643801\\textbackslash{}\\_153643900] ''\n",
       "\\item[chr3\\textbackslash{}\\_186504601\\textbackslash{}\\_186504700] 'SNORA81'\n",
       "\\item[chr6\\textbackslash{}\\_86387301\\textbackslash{}\\_86387400] 'SNORD50B'\n",
       "\\item[chr11\\textbackslash{}\\_62609001\\textbackslash{}\\_62609100] 'RNU2-2P'\n",
       "\\item[chr11\\textbackslash{}\\_62609101\\textbackslash{}\\_62609200] 'RNU2-2P'\n",
       "\\item[chr11\\textbackslash{}\\_62620301\\textbackslash{}\\_62620400] 'SNORD22'\n",
       "\\item[chr11\\textbackslash{}\\_62620401\\textbackslash{}\\_62620500] 'SNORD22'\n",
       "\\item[chr11\\textbackslash{}\\_62622701\\textbackslash{}\\_62622800] 'SNORD26'\n",
       "\\item[chr11\\textbackslash{}\\_62622801\\textbackslash{}\\_62622900] 'SNORD26'\n",
       "\\item[chr11\\textbackslash{}\\_65267201\\textbackslash{}\\_65267300] 'mascRNA'\n",
       "\\item[chr17\\textbackslash{}\\_62223801\\textbackslash{}\\_62223900] 'SNORA76'\n",
       "\\end{description*}\n"
      ],
      "text/markdown": [
       "chr1_28905201_28905300\n",
       ":   'SNORD99'chr1_153643701_153643800\n",
       ":   'TRNA_Met'chr1_153643801_153643900\n",
       ":   ''chr3_186504601_186504700\n",
       ":   'SNORA81'chr6_86387301_86387400\n",
       ":   'SNORD50B'chr11_62609001_62609100\n",
       ":   'RNU2-2P'chr11_62609101_62609200\n",
       ":   'RNU2-2P'chr11_62620301_62620400\n",
       ":   'SNORD22'chr11_62620401_62620500\n",
       ":   'SNORD22'chr11_62622701_62622800\n",
       ":   'SNORD26'chr11_62622801_62622900\n",
       ":   'SNORD26'chr11_65267201_65267300\n",
       ":   'mascRNA'chr17_62223801_62223900\n",
       ":   'SNORA76'\n",
       "\n"
      ],
      "text/plain": [
       "  chr1_28905201_28905300 chr1_153643701_153643800 chr1_153643801_153643900 \n",
       "               \"SNORD99\"               \"TRNA_Met\"                       \"\" \n",
       "chr3_186504601_186504700   chr6_86387301_86387400  chr11_62609001_62609100 \n",
       "               \"SNORA81\"               \"SNORD50B\"                \"RNU2-2P\" \n",
       " chr11_62609101_62609200  chr11_62620301_62620400  chr11_62620401_62620500 \n",
       "               \"RNU2-2P\"                \"SNORD22\"                \"SNORD22\" \n",
       " chr11_62622701_62622800  chr11_62622801_62622900  chr11_65267201_65267300 \n",
       "               \"SNORD26\"                \"SNORD26\"                \"mascRNA\" \n",
       " chr17_62223801_62223900 \n",
       "               \"SNORA76\" "
      ]
     },
     "metadata": {},
     "output_type": "display_data"
    }
   ],
   "source": [
    "# add hand curated gene annotation (from UCSC inspection)\n",
    "tmp = read.csv(file=geneAnnotHandCuratedFile, stringsAsFactors=F, sep=\"\\t\")\n",
    "geneAnnotCurated = tmp$hand_curated_annotation\n",
    "names(geneAnnotCurated) = tmp$coordinates\n",
    "geneAnnotCurated"
   ]
  },
  {
   "cell_type": "code",
   "execution_count": 21,
   "id": "fad42cb6",
   "metadata": {},
   "outputs": [
    {
     "data": {
      "text/html": [
       "<table class=\"dataframe\">\n",
       "<caption>A data.frame: 13 × 3</caption>\n",
       "<thead>\n",
       "\t<tr><th></th><th scope=col>gene</th><th scope=col>log2FoldChange</th><th scope=col>padj</th></tr>\n",
       "\t<tr><th></th><th scope=col>&lt;chr&gt;</th><th scope=col>&lt;dbl&gt;</th><th scope=col>&lt;dbl&gt;</th></tr>\n",
       "</thead>\n",
       "<tbody>\n",
       "\t<tr><th scope=row>chr1_28905201_28905300</th><td>SNORD99 </td><td>-3.450529</td><td>0.0008962246</td></tr>\n",
       "\t<tr><th scope=row>chr1_153643701_153643800</th><td>TRNA_Met</td><td>-1.632384</td><td>0.0118502833</td></tr>\n",
       "\t<tr><th scope=row>chr1_153643801_153643900</th><td>        </td><td>-2.187097</td><td>0.0255807835</td></tr>\n",
       "\t<tr><th scope=row>chr3_186504601_186504700</th><td>SNORA81 </td><td>-1.799555</td><td>0.0165430630</td></tr>\n",
       "\t<tr><th scope=row>chr6_86387301_86387400</th><td>SNORD50B</td><td>-2.178942</td><td>0.0439096075</td></tr>\n",
       "\t<tr><th scope=row>chr11_62609001_62609100</th><td>RNU2-2P </td><td>-2.188605</td><td>0.0439096075</td></tr>\n",
       "\t<tr><th scope=row>chr11_62609101_62609200</th><td>RNU2-2P </td><td>-1.734527</td><td>0.0255807835</td></tr>\n",
       "\t<tr><th scope=row>chr11_62620301_62620400</th><td>SNORD22 </td><td>-2.939119</td><td>0.0192698592</td></tr>\n",
       "\t<tr><th scope=row>chr11_62620401_62620500</th><td>SNORD22 </td><td>-2.269205</td><td>0.0033185135</td></tr>\n",
       "\t<tr><th scope=row>chr11_62622701_62622800</th><td>SNORD26 </td><td>-2.360276</td><td>0.0165430630</td></tr>\n",
       "\t<tr><th scope=row>chr11_62622801_62622900</th><td>SNORD26 </td><td>-2.313034</td><td>0.0192698592</td></tr>\n",
       "\t<tr><th scope=row>chr11_65267201_65267300</th><td>mascRNA </td><td>-1.799776</td><td>0.0439096075</td></tr>\n",
       "\t<tr><th scope=row>chr17_62223801_62223900</th><td>SNORA76 </td><td>-3.491636</td><td>0.0313902972</td></tr>\n",
       "</tbody>\n",
       "</table>\n"
      ],
      "text/latex": [
       "A data.frame: 13 × 3\n",
       "\\begin{tabular}{r|lll}\n",
       "  & gene & log2FoldChange & padj\\\\\n",
       "  & <chr> & <dbl> & <dbl>\\\\\n",
       "\\hline\n",
       "\tchr1\\_28905201\\_28905300 & SNORD99  & -3.450529 & 0.0008962246\\\\\n",
       "\tchr1\\_153643701\\_153643800 & TRNA\\_Met & -1.632384 & 0.0118502833\\\\\n",
       "\tchr1\\_153643801\\_153643900 &          & -2.187097 & 0.0255807835\\\\\n",
       "\tchr3\\_186504601\\_186504700 & SNORA81  & -1.799555 & 0.0165430630\\\\\n",
       "\tchr6\\_86387301\\_86387400 & SNORD50B & -2.178942 & 0.0439096075\\\\\n",
       "\tchr11\\_62609001\\_62609100 & RNU2-2P  & -2.188605 & 0.0439096075\\\\\n",
       "\tchr11\\_62609101\\_62609200 & RNU2-2P  & -1.734527 & 0.0255807835\\\\\n",
       "\tchr11\\_62620301\\_62620400 & SNORD22  & -2.939119 & 0.0192698592\\\\\n",
       "\tchr11\\_62620401\\_62620500 & SNORD22  & -2.269205 & 0.0033185135\\\\\n",
       "\tchr11\\_62622701\\_62622800 & SNORD26  & -2.360276 & 0.0165430630\\\\\n",
       "\tchr11\\_62622801\\_62622900 & SNORD26  & -2.313034 & 0.0192698592\\\\\n",
       "\tchr11\\_65267201\\_65267300 & mascRNA  & -1.799776 & 0.0439096075\\\\\n",
       "\tchr17\\_62223801\\_62223900 & SNORA76  & -3.491636 & 0.0313902972\\\\\n",
       "\\end{tabular}\n"
      ],
      "text/markdown": [
       "\n",
       "A data.frame: 13 × 3\n",
       "\n",
       "| <!--/--> | gene &lt;chr&gt; | log2FoldChange &lt;dbl&gt; | padj &lt;dbl&gt; |\n",
       "|---|---|---|---|\n",
       "| chr1_28905201_28905300 | SNORD99  | -3.450529 | 0.0008962246 |\n",
       "| chr1_153643701_153643800 | TRNA_Met | -1.632384 | 0.0118502833 |\n",
       "| chr1_153643801_153643900 | <!----> | -2.187097 | 0.0255807835 |\n",
       "| chr3_186504601_186504700 | SNORA81  | -1.799555 | 0.0165430630 |\n",
       "| chr6_86387301_86387400 | SNORD50B | -2.178942 | 0.0439096075 |\n",
       "| chr11_62609001_62609100 | RNU2-2P  | -2.188605 | 0.0439096075 |\n",
       "| chr11_62609101_62609200 | RNU2-2P  | -1.734527 | 0.0255807835 |\n",
       "| chr11_62620301_62620400 | SNORD22  | -2.939119 | 0.0192698592 |\n",
       "| chr11_62620401_62620500 | SNORD22  | -2.269205 | 0.0033185135 |\n",
       "| chr11_62622701_62622800 | SNORD26  | -2.360276 | 0.0165430630 |\n",
       "| chr11_62622801_62622900 | SNORD26  | -2.313034 | 0.0192698592 |\n",
       "| chr11_65267201_65267300 | mascRNA  | -1.799776 | 0.0439096075 |\n",
       "| chr17_62223801_62223900 | SNORA76  | -3.491636 | 0.0313902972 |\n",
       "\n"
      ],
      "text/plain": [
       "                         gene     log2FoldChange padj        \n",
       "chr1_28905201_28905300   SNORD99  -3.450529      0.0008962246\n",
       "chr1_153643701_153643800 TRNA_Met -1.632384      0.0118502833\n",
       "chr1_153643801_153643900          -2.187097      0.0255807835\n",
       "chr3_186504601_186504700 SNORA81  -1.799555      0.0165430630\n",
       "chr6_86387301_86387400   SNORD50B -2.178942      0.0439096075\n",
       "chr11_62609001_62609100  RNU2-2P  -2.188605      0.0439096075\n",
       "chr11_62609101_62609200  RNU2-2P  -1.734527      0.0255807835\n",
       "chr11_62620301_62620400  SNORD22  -2.939119      0.0192698592\n",
       "chr11_62620401_62620500  SNORD22  -2.269205      0.0033185135\n",
       "chr11_62622701_62622800  SNORD26  -2.360276      0.0165430630\n",
       "chr11_62622801_62622900  SNORD26  -2.313034      0.0192698592\n",
       "chr11_65267201_65267300  mascRNA  -1.799776      0.0439096075\n",
       "chr17_62223801_62223900  SNORA76  -3.491636      0.0313902972"
      ]
     },
     "metadata": {},
     "output_type": "display_data"
    }
   ],
   "source": [
    "deseqRes[ names(geneAnnotCurated), \"gene\" ] = unname(geneAnnotCurated)\n",
    "deseqRes[ which(deseqRes$padj < 0.05),c(\"gene\",\"log2FoldChange\",\"padj\")]"
   ]
  },
  {
   "cell_type": "code",
   "execution_count": 22,
   "id": "22d42bf2",
   "metadata": {},
   "outputs": [
    {
     "name": "stderr",
     "output_type": "stream",
     "text": [
      "rlog() may take a long time with 50 or more samples,\n",
      "vst() is a much faster transformation\n",
      "\n",
      "-- note: fitType='parametric', but the dispersion trend was not well captured by the\n",
      "   function: y = a/x + b, and a local regression fit was automatically substituted.\n",
      "   specify fitType='local' or 'mean' to avoid this message next time.\n",
      "\n"
     ]
    }
   ],
   "source": [
    "# TPMs\n",
    "deseqResTPM = deseqRes\n",
    "deseqResTPM[,sampleAnnot$ID] <- TPMs[rownames(deseqRes),sampleAnnot$ID,drop=F]\n",
    "\n",
    "# rlog TPMs:\n",
    "rld = assay(rlog(dds))\n",
    "deseqResTPMrlog = deseqRes\n",
    "deseqResTPMrlog[,sampleAnnot$ID] = rld[rownames(deseqRes),sampleAnnot$ID,drop=F]"
   ]
  },
  {
   "cell_type": "code",
   "execution_count": 23,
   "id": "f0c05f2c",
   "metadata": {},
   "outputs": [
    {
     "data": {
      "text/html": [
       "<table class=\"dataframe\">\n",
       "<caption>A data.frame: 2 × 75</caption>\n",
       "<thead>\n",
       "\t<tr><th></th><th scope=col>chr</th><th scope=col>start</th><th scope=col>end</th><th scope=col>gene</th><th scope=col>EnsgID</th><th scope=col>geneType</th><th scope=col>baseMean</th><th scope=col>log2FoldChange</th><th scope=col>lfcSE</th><th scope=col>stat</th><th scope=col>⋯</th><th scope=col>SXR0049</th><th scope=col>SXR0060</th><th scope=col>SXR0070</th><th scope=col>SXR0071</th><th scope=col>SXR0084</th><th scope=col>SXR0098</th><th scope=col>SXR0117</th><th scope=col>SXR0118</th><th scope=col>SXR0121</th><th scope=col>SXR0122</th></tr>\n",
       "\t<tr><th></th><th scope=col>&lt;chr&gt;</th><th scope=col>&lt;dbl&gt;</th><th scope=col>&lt;dbl&gt;</th><th scope=col>&lt;chr&gt;</th><th scope=col>&lt;chr&gt;</th><th scope=col>&lt;chr&gt;</th><th scope=col>&lt;dbl&gt;</th><th scope=col>&lt;dbl&gt;</th><th scope=col>&lt;dbl&gt;</th><th scope=col>&lt;dbl&gt;</th><th scope=col>⋯</th><th scope=col>&lt;dbl&gt;</th><th scope=col>&lt;dbl&gt;</th><th scope=col>&lt;dbl&gt;</th><th scope=col>&lt;dbl&gt;</th><th scope=col>&lt;dbl&gt;</th><th scope=col>&lt;dbl&gt;</th><th scope=col>&lt;dbl&gt;</th><th scope=col>&lt;dbl&gt;</th><th scope=col>&lt;dbl&gt;</th><th scope=col>&lt;dbl&gt;</th></tr>\n",
       "</thead>\n",
       "<tbody>\n",
       "\t<tr><th scope=row>chr1_1337301_1337400</th><td>chr1</td><td>1337301</td><td>1337400</td><td>RP4-758J18.2;MRPL20</td><td>ENSG00000224870;ENSG00000242485</td><td>protein_coding;protein_coding</td><td>5.321137</td><td> 0.72024068</td><td>0.3769959</td><td> 1.9104736</td><td>⋯</td><td>7.410353</td><td>2.935504</td><td>15.99107</td><td>13.74533</td><td>3.882281</td><td>32.013659</td><td>14.280532</td><td>0</td><td>22.132157</td><td>14.901552</td></tr>\n",
       "\t<tr><th scope=row>chr1_1477001_1477100</th><td>chr1</td><td>1477001</td><td>1477100</td><td>SSU72              </td><td>ENSG00000160075                </td><td>protein_coding               </td><td>2.184467</td><td>-0.08014081</td><td>0.3619441</td><td>-0.2214176</td><td>⋯</td><td>4.940236</td><td>2.935504</td><td>19.54465</td><td> 0.00000</td><td>3.882281</td><td> 8.536976</td><td> 5.712213</td><td>0</td><td> 8.299559</td><td> 2.352877</td></tr>\n",
       "</tbody>\n",
       "</table>\n"
      ],
      "text/latex": [
       "A data.frame: 2 × 75\n",
       "\\begin{tabular}{r|lllllllllllllllllllll}\n",
       "  & chr & start & end & gene & EnsgID & geneType & baseMean & log2FoldChange & lfcSE & stat & ⋯ & SXR0049 & SXR0060 & SXR0070 & SXR0071 & SXR0084 & SXR0098 & SXR0117 & SXR0118 & SXR0121 & SXR0122\\\\\n",
       "  & <chr> & <dbl> & <dbl> & <chr> & <chr> & <chr> & <dbl> & <dbl> & <dbl> & <dbl> & ⋯ & <dbl> & <dbl> & <dbl> & <dbl> & <dbl> & <dbl> & <dbl> & <dbl> & <dbl> & <dbl>\\\\\n",
       "\\hline\n",
       "\tchr1\\_1337301\\_1337400 & chr1 & 1337301 & 1337400 & RP4-758J18.2;MRPL20 & ENSG00000224870;ENSG00000242485 & protein\\_coding;protein\\_coding & 5.321137 &  0.72024068 & 0.3769959 &  1.9104736 & ⋯ & 7.410353 & 2.935504 & 15.99107 & 13.74533 & 3.882281 & 32.013659 & 14.280532 & 0 & 22.132157 & 14.901552\\\\\n",
       "\tchr1\\_1477001\\_1477100 & chr1 & 1477001 & 1477100 & SSU72               & ENSG00000160075                 & protein\\_coding                & 2.184467 & -0.08014081 & 0.3619441 & -0.2214176 & ⋯ & 4.940236 & 2.935504 & 19.54465 &  0.00000 & 3.882281 &  8.536976 &  5.712213 & 0 &  8.299559 &  2.352877\\\\\n",
       "\\end{tabular}\n"
      ],
      "text/markdown": [
       "\n",
       "A data.frame: 2 × 75\n",
       "\n",
       "| <!--/--> | chr &lt;chr&gt; | start &lt;dbl&gt; | end &lt;dbl&gt; | gene &lt;chr&gt; | EnsgID &lt;chr&gt; | geneType &lt;chr&gt; | baseMean &lt;dbl&gt; | log2FoldChange &lt;dbl&gt; | lfcSE &lt;dbl&gt; | stat &lt;dbl&gt; | ⋯ ⋯ | SXR0049 &lt;dbl&gt; | SXR0060 &lt;dbl&gt; | SXR0070 &lt;dbl&gt; | SXR0071 &lt;dbl&gt; | SXR0084 &lt;dbl&gt; | SXR0098 &lt;dbl&gt; | SXR0117 &lt;dbl&gt; | SXR0118 &lt;dbl&gt; | SXR0121 &lt;dbl&gt; | SXR0122 &lt;dbl&gt; |\n",
       "|---|---|---|---|---|---|---|---|---|---|---|---|---|---|---|---|---|---|---|---|---|---|\n",
       "| chr1_1337301_1337400 | chr1 | 1337301 | 1337400 | RP4-758J18.2;MRPL20 | ENSG00000224870;ENSG00000242485 | protein_coding;protein_coding | 5.321137 |  0.72024068 | 0.3769959 |  1.9104736 | ⋯ | 7.410353 | 2.935504 | 15.99107 | 13.74533 | 3.882281 | 32.013659 | 14.280532 | 0 | 22.132157 | 14.901552 |\n",
       "| chr1_1477001_1477100 | chr1 | 1477001 | 1477100 | SSU72               | ENSG00000160075                 | protein_coding                | 2.184467 | -0.08014081 | 0.3619441 | -0.2214176 | ⋯ | 4.940236 | 2.935504 | 19.54465 |  0.00000 | 3.882281 |  8.536976 |  5.712213 | 0 |  8.299559 |  2.352877 |\n",
       "\n"
      ],
      "text/plain": [
       "                     chr  start   end     gene               \n",
       "chr1_1337301_1337400 chr1 1337301 1337400 RP4-758J18.2;MRPL20\n",
       "chr1_1477001_1477100 chr1 1477001 1477100 SSU72              \n",
       "                     EnsgID                         \n",
       "chr1_1337301_1337400 ENSG00000224870;ENSG00000242485\n",
       "chr1_1477001_1477100 ENSG00000160075                \n",
       "                     geneType                      baseMean log2FoldChange\n",
       "chr1_1337301_1337400 protein_coding;protein_coding 5.321137  0.72024068   \n",
       "chr1_1477001_1477100 protein_coding                2.184467 -0.08014081   \n",
       "                     lfcSE     stat       ⋯ SXR0049  SXR0060  SXR0070  SXR0071 \n",
       "chr1_1337301_1337400 0.3769959  1.9104736 ⋯ 7.410353 2.935504 15.99107 13.74533\n",
       "chr1_1477001_1477100 0.3619441 -0.2214176 ⋯ 4.940236 2.935504 19.54465  0.00000\n",
       "                     SXR0084  SXR0098   SXR0117   SXR0118 SXR0121   SXR0122  \n",
       "chr1_1337301_1337400 3.882281 32.013659 14.280532 0       22.132157 14.901552\n",
       "chr1_1477001_1477100 3.882281  8.536976  5.712213 0        8.299559  2.352877"
      ]
     },
     "metadata": {},
     "output_type": "display_data"
    },
    {
     "data": {
      "text/html": [
       "<table class=\"dataframe\">\n",
       "<caption>A data.frame: 2 × 75</caption>\n",
       "<thead>\n",
       "\t<tr><th></th><th scope=col>chr</th><th scope=col>start</th><th scope=col>end</th><th scope=col>gene</th><th scope=col>EnsgID</th><th scope=col>geneType</th><th scope=col>baseMean</th><th scope=col>log2FoldChange</th><th scope=col>lfcSE</th><th scope=col>stat</th><th scope=col>⋯</th><th scope=col>SXR0049</th><th scope=col>SXR0060</th><th scope=col>SXR0070</th><th scope=col>SXR0071</th><th scope=col>SXR0084</th><th scope=col>SXR0098</th><th scope=col>SXR0117</th><th scope=col>SXR0118</th><th scope=col>SXR0121</th><th scope=col>SXR0122</th></tr>\n",
       "\t<tr><th></th><th scope=col>&lt;chr&gt;</th><th scope=col>&lt;dbl&gt;</th><th scope=col>&lt;dbl&gt;</th><th scope=col>&lt;chr&gt;</th><th scope=col>&lt;chr&gt;</th><th scope=col>&lt;chr&gt;</th><th scope=col>&lt;dbl&gt;</th><th scope=col>&lt;dbl&gt;</th><th scope=col>&lt;dbl&gt;</th><th scope=col>&lt;dbl&gt;</th><th scope=col>⋯</th><th scope=col>&lt;dbl&gt;</th><th scope=col>&lt;dbl&gt;</th><th scope=col>&lt;dbl&gt;</th><th scope=col>&lt;dbl&gt;</th><th scope=col>&lt;dbl&gt;</th><th scope=col>&lt;dbl&gt;</th><th scope=col>&lt;dbl&gt;</th><th scope=col>&lt;dbl&gt;</th><th scope=col>&lt;dbl&gt;</th><th scope=col>&lt;dbl&gt;</th></tr>\n",
       "</thead>\n",
       "<tbody>\n",
       "\t<tr><th scope=row>chr1_1337301_1337400</th><td>chr1</td><td>1337301</td><td>1337400</td><td>RP4-758J18.2;MRPL20</td><td>ENSG00000224870;ENSG00000242485</td><td>protein_coding;protein_coding</td><td>5.321137</td><td> 0.72024068</td><td>0.3769959</td><td> 1.9104736</td><td>⋯</td><td>1.3064298</td><td>0.7548236</td><td>1.904516</td><td>2.109244</td><td>1.070711</td><td>2.6399175</td><td>2.0350024</td><td>2.022047</td><td>2.2573249</td><td>2.15817906</td></tr>\n",
       "\t<tr><th scope=row>chr1_1477001_1477100</th><td>chr1</td><td>1477001</td><td>1477100</td><td>SSU72              </td><td>ENSG00000160075                </td><td>protein_coding               </td><td>2.184467</td><td>-0.08014081</td><td>0.3619441</td><td>-0.2214176</td><td>⋯</td><td>0.5282031</td><td>0.1839688</td><td>1.803015</td><td>0.498729</td><td>0.580836</td><td>0.9563862</td><td>0.7986319</td><td>1.310339</td><td>0.9357352</td><td>0.06520687</td></tr>\n",
       "</tbody>\n",
       "</table>\n"
      ],
      "text/latex": [
       "A data.frame: 2 × 75\n",
       "\\begin{tabular}{r|lllllllllllllllllllll}\n",
       "  & chr & start & end & gene & EnsgID & geneType & baseMean & log2FoldChange & lfcSE & stat & ⋯ & SXR0049 & SXR0060 & SXR0070 & SXR0071 & SXR0084 & SXR0098 & SXR0117 & SXR0118 & SXR0121 & SXR0122\\\\\n",
       "  & <chr> & <dbl> & <dbl> & <chr> & <chr> & <chr> & <dbl> & <dbl> & <dbl> & <dbl> & ⋯ & <dbl> & <dbl> & <dbl> & <dbl> & <dbl> & <dbl> & <dbl> & <dbl> & <dbl> & <dbl>\\\\\n",
       "\\hline\n",
       "\tchr1\\_1337301\\_1337400 & chr1 & 1337301 & 1337400 & RP4-758J18.2;MRPL20 & ENSG00000224870;ENSG00000242485 & protein\\_coding;protein\\_coding & 5.321137 &  0.72024068 & 0.3769959 &  1.9104736 & ⋯ & 1.3064298 & 0.7548236 & 1.904516 & 2.109244 & 1.070711 & 2.6399175 & 2.0350024 & 2.022047 & 2.2573249 & 2.15817906\\\\\n",
       "\tchr1\\_1477001\\_1477100 & chr1 & 1477001 & 1477100 & SSU72               & ENSG00000160075                 & protein\\_coding                & 2.184467 & -0.08014081 & 0.3619441 & -0.2214176 & ⋯ & 0.5282031 & 0.1839688 & 1.803015 & 0.498729 & 0.580836 & 0.9563862 & 0.7986319 & 1.310339 & 0.9357352 & 0.06520687\\\\\n",
       "\\end{tabular}\n"
      ],
      "text/markdown": [
       "\n",
       "A data.frame: 2 × 75\n",
       "\n",
       "| <!--/--> | chr &lt;chr&gt; | start &lt;dbl&gt; | end &lt;dbl&gt; | gene &lt;chr&gt; | EnsgID &lt;chr&gt; | geneType &lt;chr&gt; | baseMean &lt;dbl&gt; | log2FoldChange &lt;dbl&gt; | lfcSE &lt;dbl&gt; | stat &lt;dbl&gt; | ⋯ ⋯ | SXR0049 &lt;dbl&gt; | SXR0060 &lt;dbl&gt; | SXR0070 &lt;dbl&gt; | SXR0071 &lt;dbl&gt; | SXR0084 &lt;dbl&gt; | SXR0098 &lt;dbl&gt; | SXR0117 &lt;dbl&gt; | SXR0118 &lt;dbl&gt; | SXR0121 &lt;dbl&gt; | SXR0122 &lt;dbl&gt; |\n",
       "|---|---|---|---|---|---|---|---|---|---|---|---|---|---|---|---|---|---|---|---|---|---|\n",
       "| chr1_1337301_1337400 | chr1 | 1337301 | 1337400 | RP4-758J18.2;MRPL20 | ENSG00000224870;ENSG00000242485 | protein_coding;protein_coding | 5.321137 |  0.72024068 | 0.3769959 |  1.9104736 | ⋯ | 1.3064298 | 0.7548236 | 1.904516 | 2.109244 | 1.070711 | 2.6399175 | 2.0350024 | 2.022047 | 2.2573249 | 2.15817906 |\n",
       "| chr1_1477001_1477100 | chr1 | 1477001 | 1477100 | SSU72               | ENSG00000160075                 | protein_coding                | 2.184467 | -0.08014081 | 0.3619441 | -0.2214176 | ⋯ | 0.5282031 | 0.1839688 | 1.803015 | 0.498729 | 0.580836 | 0.9563862 | 0.7986319 | 1.310339 | 0.9357352 | 0.06520687 |\n",
       "\n"
      ],
      "text/plain": [
       "                     chr  start   end     gene               \n",
       "chr1_1337301_1337400 chr1 1337301 1337400 RP4-758J18.2;MRPL20\n",
       "chr1_1477001_1477100 chr1 1477001 1477100 SSU72              \n",
       "                     EnsgID                         \n",
       "chr1_1337301_1337400 ENSG00000224870;ENSG00000242485\n",
       "chr1_1477001_1477100 ENSG00000160075                \n",
       "                     geneType                      baseMean log2FoldChange\n",
       "chr1_1337301_1337400 protein_coding;protein_coding 5.321137  0.72024068   \n",
       "chr1_1477001_1477100 protein_coding                2.184467 -0.08014081   \n",
       "                     lfcSE     stat       ⋯ SXR0049   SXR0060   SXR0070 \n",
       "chr1_1337301_1337400 0.3769959  1.9104736 ⋯ 1.3064298 0.7548236 1.904516\n",
       "chr1_1477001_1477100 0.3619441 -0.2214176 ⋯ 0.5282031 0.1839688 1.803015\n",
       "                     SXR0071  SXR0084  SXR0098   SXR0117   SXR0118  SXR0121  \n",
       "chr1_1337301_1337400 2.109244 1.070711 2.6399175 2.0350024 2.022047 2.2573249\n",
       "chr1_1477001_1477100 0.498729 0.580836 0.9563862 0.7986319 1.310339 0.9357352\n",
       "                     SXR0122   \n",
       "chr1_1337301_1337400 2.15817906\n",
       "chr1_1477001_1477100 0.06520687"
      ]
     },
     "metadata": {},
     "output_type": "display_data"
    }
   ],
   "source": [
    "head(deseqResTPM,2)\n",
    "head(deseqResTPMrlog,2)"
   ]
  },
  {
   "cell_type": "code",
   "execution_count": 24,
   "id": "234c7a37",
   "metadata": {},
   "outputs": [],
   "source": [
    "# add mean, median, sd for all samples and for each group:\n",
    "for (groupName in c(\"ccRCC\",\"urolithiasis\")) {\n",
    "    samples = sampleAnnot$ID[ sampleAnnot$group == groupName]\n",
    "    deseqRes[,paste0(groupName,\"_mean\")] = rowMeans(deseqRes[,samples,drop=F])\n",
    "    deseqRes[,paste0(groupName,\"_median\")] = apply(deseqRes[,samples,drop=F],1,median)\n",
    "    deseqRes[,paste0(groupName,\"_sd\")] = apply(deseqRes[,samples,drop=F],1,sd)\n",
    "    deseqResTPM[,paste0(groupName,\"_mean\")] = rowMeans(deseqResTPM[,samples,drop=F])\n",
    "    deseqResTPM[,paste0(groupName,\"_median\")] = apply(deseqResTPM[,samples,drop=F],1,median)\n",
    "    deseqResTPM[,paste0(groupName,\"_sd\")] = apply(deseqResTPM[,samples,drop=F],1,sd)\n",
    "    deseqResTPMrlog[,paste0(groupName,\"_mean\")] = rowMeans(deseqResTPMrlog[,samples,drop=F])\n",
    "    deseqResTPMrlog[,paste0(groupName,\"_median\")] = apply(deseqResTPMrlog[,samples,drop=F],1,median)\n",
    "    deseqResTPMrlog[,paste0(groupName,\"_sd\")] = apply(deseqResTPMrlog[,samples,drop=F],1,sd)\n",
    "}\n",
    "deseqRes[,\"all_mean\"] = rowMeans(deseqRes[,sampleAnnot$ID,drop=F])\n",
    "deseqRes[,\"all_median\"] = apply(deseqRes[,sampleAnnot$ID,drop=F],1,median)\n",
    "deseqRes[,\"all_sd\"] = apply(deseqRes[,sampleAnnot$ID,drop=F],1,sd)\n",
    "deseqResTPM[,\"all_mean\"] = rowMeans(deseqResTPM[,sampleAnnot$ID,drop=F])\n",
    "deseqResTPM[,\"all_median\"] = apply(deseqResTPM[,sampleAnnot$ID,drop=F],1,median)\n",
    "deseqResTPM[,\"all_sd\"] = apply(deseqResTPM[,sampleAnnot$ID,drop=F],1,sd)\n",
    "deseqResTPMrlog[,\"all_mean\"] = rowMeans(deseqResTPMrlog[,sampleAnnot$ID,drop=F])\n",
    "deseqResTPMrlog[,\"all_median\"] = apply(deseqResTPMrlog[,sampleAnnot$ID,drop=F],1,median)\n",
    "deseqResTPMrlog[,\"all_sd\"] = apply(deseqResTPMrlog[,sampleAnnot$ID,drop=F],1,sd)"
   ]
  },
  {
   "cell_type": "code",
   "execution_count": 25,
   "id": "488c68d8",
   "metadata": {},
   "outputs": [],
   "source": [
    "# sort columns:\n",
    "whStats = grep(\"_mean|_median|_sd\",colnames(deseqRes))\n",
    "whExpr = which(colnames(deseqRes) %in% sampleAnnot$ID)\n",
    "whRest = setdiff(1:ncol(deseqRes),c(whStats,whExpr))\n",
    "cn = colnames(deseqRes[,c(whRest,whStats,whExpr)])\n",
    "deseqRes = deseqRes[,cn]\n",
    "deseqResTPM = deseqResTPM[,cn]\n",
    "deseqResTPMrlog = deseqResTPMrlog[,cn]"
   ]
  },
  {
   "cell_type": "code",
   "execution_count": 26,
   "id": "14bad32a",
   "metadata": {},
   "outputs": [],
   "source": [
    "# save results to file:\n",
    "\n",
    "# header for each sample column indicating the group (urolithiasis/ccRCC)\n",
    "header <- rep(\"\",ncol(deseqRes))\n",
    "wh <- which(colnames(deseqRes) %in% sampleAnnot$ID)\n",
    "header[wh] <-  as.character(sampleAnnot[colnames(deseqRes)[wh],\"group\"])"
   ]
  },
  {
   "cell_type": "code",
   "execution_count": 27,
   "id": "0c229488",
   "metadata": {},
   "outputs": [
    {
     "data": {
      "text/html": [
       "<table class=\"dataframe\">\n",
       "<caption>A data.frame: 3 × 84</caption>\n",
       "<thead>\n",
       "\t<tr><th></th><th scope=col>chr</th><th scope=col>start</th><th scope=col>end</th><th scope=col>gene</th><th scope=col>EnsgID</th><th scope=col>geneType</th><th scope=col>baseMean</th><th scope=col>log2FoldChange</th><th scope=col>lfcSE</th><th scope=col>stat</th><th scope=col>⋯</th><th scope=col>SXR0049</th><th scope=col>SXR0060</th><th scope=col>SXR0070</th><th scope=col>SXR0071</th><th scope=col>SXR0084</th><th scope=col>SXR0098</th><th scope=col>SXR0117</th><th scope=col>SXR0118</th><th scope=col>SXR0121</th><th scope=col>SXR0122</th></tr>\n",
       "\t<tr><th></th><th scope=col>&lt;chr&gt;</th><th scope=col>&lt;chr&gt;</th><th scope=col>&lt;chr&gt;</th><th scope=col>&lt;chr&gt;</th><th scope=col>&lt;chr&gt;</th><th scope=col>&lt;chr&gt;</th><th scope=col>&lt;chr&gt;</th><th scope=col>&lt;chr&gt;</th><th scope=col>&lt;chr&gt;</th><th scope=col>&lt;chr&gt;</th><th scope=col>⋯</th><th scope=col>&lt;chr&gt;</th><th scope=col>&lt;chr&gt;</th><th scope=col>&lt;chr&gt;</th><th scope=col>&lt;chr&gt;</th><th scope=col>&lt;chr&gt;</th><th scope=col>&lt;chr&gt;</th><th scope=col>&lt;chr&gt;</th><th scope=col>&lt;chr&gt;</th><th scope=col>&lt;chr&gt;</th><th scope=col>&lt;chr&gt;</th></tr>\n",
       "</thead>\n",
       "<tbody>\n",
       "\t<tr><th scope=row>1</th><td>    </td><td>       </td><td>       </td><td>                   </td><td>                               </td><td>                             </td><td>                </td><td>                   </td><td>                 </td><td>                  </td><td>⋯</td><td>urolithiasis</td><td>urolithiasis</td><td>urolithiasis</td><td>urolithiasis</td><td>urolithiasis</td><td>urolithiasis</td><td>urolithiasis</td><td>urolithiasis</td><td>urolithiasis</td><td>urolithiasis</td></tr>\n",
       "\t<tr><th scope=row>chr1_1337301_1337400</th><td>chr1</td><td>1337301</td><td>1337400</td><td>RP4-758J18.2;MRPL20</td><td>ENSG00000224870;ENSG00000242485</td><td>protein_coding;protein_coding</td><td>5.32113710504829</td><td>0.720240682741623  </td><td>0.376995880533365</td><td>1.91047361505023  </td><td>⋯</td><td>3           </td><td>1           </td><td>9           </td><td>1           </td><td>2           </td><td>15          </td><td>5           </td><td>0           </td><td>8           </td><td>19          </td></tr>\n",
       "\t<tr><th scope=row>chr1_1477001_1477100</th><td>chr1</td><td>1477001</td><td>1477100</td><td>SSU72              </td><td>ENSG00000160075                </td><td>protein_coding               </td><td>2.18446669827313</td><td>-0.0801408123860691</td><td>0.361944137081133</td><td>-0.221417628235003</td><td>⋯</td><td>2           </td><td>1           </td><td>11          </td><td>0           </td><td>2           </td><td>4           </td><td>2           </td><td>0           </td><td>3           </td><td>3           </td></tr>\n",
       "</tbody>\n",
       "</table>\n"
      ],
      "text/latex": [
       "A data.frame: 3 × 84\n",
       "\\begin{tabular}{r|lllllllllllllllllllll}\n",
       "  & chr & start & end & gene & EnsgID & geneType & baseMean & log2FoldChange & lfcSE & stat & ⋯ & SXR0049 & SXR0060 & SXR0070 & SXR0071 & SXR0084 & SXR0098 & SXR0117 & SXR0118 & SXR0121 & SXR0122\\\\\n",
       "  & <chr> & <chr> & <chr> & <chr> & <chr> & <chr> & <chr> & <chr> & <chr> & <chr> & ⋯ & <chr> & <chr> & <chr> & <chr> & <chr> & <chr> & <chr> & <chr> & <chr> & <chr>\\\\\n",
       "\\hline\n",
       "\t1 &      &         &         &                     &                                 &                               &                  &                     &                   &                    & ⋯ & urolithiasis & urolithiasis & urolithiasis & urolithiasis & urolithiasis & urolithiasis & urolithiasis & urolithiasis & urolithiasis & urolithiasis\\\\\n",
       "\tchr1\\_1337301\\_1337400 & chr1 & 1337301 & 1337400 & RP4-758J18.2;MRPL20 & ENSG00000224870;ENSG00000242485 & protein\\_coding;protein\\_coding & 5.32113710504829 & 0.720240682741623   & 0.376995880533365 & 1.91047361505023   & ⋯ & 3            & 1            & 9            & 1            & 2            & 15           & 5            & 0            & 8            & 19          \\\\\n",
       "\tchr1\\_1477001\\_1477100 & chr1 & 1477001 & 1477100 & SSU72               & ENSG00000160075                 & protein\\_coding                & 2.18446669827313 & -0.0801408123860691 & 0.361944137081133 & -0.221417628235003 & ⋯ & 2            & 1            & 11           & 0            & 2            & 4            & 2            & 0            & 3            & 3           \\\\\n",
       "\\end{tabular}\n"
      ],
      "text/markdown": [
       "\n",
       "A data.frame: 3 × 84\n",
       "\n",
       "| <!--/--> | chr &lt;chr&gt; | start &lt;chr&gt; | end &lt;chr&gt; | gene &lt;chr&gt; | EnsgID &lt;chr&gt; | geneType &lt;chr&gt; | baseMean &lt;chr&gt; | log2FoldChange &lt;chr&gt; | lfcSE &lt;chr&gt; | stat &lt;chr&gt; | ⋯ ⋯ | SXR0049 &lt;chr&gt; | SXR0060 &lt;chr&gt; | SXR0070 &lt;chr&gt; | SXR0071 &lt;chr&gt; | SXR0084 &lt;chr&gt; | SXR0098 &lt;chr&gt; | SXR0117 &lt;chr&gt; | SXR0118 &lt;chr&gt; | SXR0121 &lt;chr&gt; | SXR0122 &lt;chr&gt; |\n",
       "|---|---|---|---|---|---|---|---|---|---|---|---|---|---|---|---|---|---|---|---|---|---|\n",
       "| 1 | <!----> | <!----> | <!----> | <!----> | <!----> | <!----> | <!----> | <!----> | <!----> | <!----> | ⋯ | urolithiasis | urolithiasis | urolithiasis | urolithiasis | urolithiasis | urolithiasis | urolithiasis | urolithiasis | urolithiasis | urolithiasis |\n",
       "| chr1_1337301_1337400 | chr1 | 1337301 | 1337400 | RP4-758J18.2;MRPL20 | ENSG00000224870;ENSG00000242485 | protein_coding;protein_coding | 5.32113710504829 | 0.720240682741623   | 0.376995880533365 | 1.91047361505023   | ⋯ | 3            | 1            | 9            | 1            | 2            | 15           | 5            | 0            | 8            | 19           |\n",
       "| chr1_1477001_1477100 | chr1 | 1477001 | 1477100 | SSU72               | ENSG00000160075                 | protein_coding                | 2.18446669827313 | -0.0801408123860691 | 0.361944137081133 | -0.221417628235003 | ⋯ | 2            | 1            | 11           | 0            | 2            | 4            | 2            | 0            | 3            | 3            |\n",
       "\n"
      ],
      "text/plain": [
       "                     chr  start   end     gene               \n",
       "1                                                            \n",
       "chr1_1337301_1337400 chr1 1337301 1337400 RP4-758J18.2;MRPL20\n",
       "chr1_1477001_1477100 chr1 1477001 1477100 SSU72              \n",
       "                     EnsgID                         \n",
       "1                                                   \n",
       "chr1_1337301_1337400 ENSG00000224870;ENSG00000242485\n",
       "chr1_1477001_1477100 ENSG00000160075                \n",
       "                     geneType                      baseMean        \n",
       "1                                                                  \n",
       "chr1_1337301_1337400 protein_coding;protein_coding 5.32113710504829\n",
       "chr1_1477001_1477100 protein_coding                2.18446669827313\n",
       "                     log2FoldChange      lfcSE             stat               ⋯\n",
       "1                                                                             ⋯\n",
       "chr1_1337301_1337400 0.720240682741623   0.376995880533365 1.91047361505023   ⋯\n",
       "chr1_1477001_1477100 -0.0801408123860691 0.361944137081133 -0.221417628235003 ⋯\n",
       "                     SXR0049      SXR0060      SXR0070      SXR0071     \n",
       "1                    urolithiasis urolithiasis urolithiasis urolithiasis\n",
       "chr1_1337301_1337400 3            1            9            1           \n",
       "chr1_1477001_1477100 2            1            11           0           \n",
       "                     SXR0084      SXR0098      SXR0117      SXR0118     \n",
       "1                    urolithiasis urolithiasis urolithiasis urolithiasis\n",
       "chr1_1337301_1337400 2            15           5            0           \n",
       "chr1_1477001_1477100 2            4            2            0           \n",
       "                     SXR0121      SXR0122     \n",
       "1                    urolithiasis urolithiasis\n",
       "chr1_1337301_1337400 8            19          \n",
       "chr1_1477001_1477100 3            3           "
      ]
     },
     "metadata": {},
     "output_type": "display_data"
    }
   ],
   "source": [
    "head(rbind(header,deseqRes),3)"
   ]
  },
  {
   "cell_type": "code",
   "execution_count": 28,
   "id": "90128410",
   "metadata": {},
   "outputs": [],
   "source": [
    "whStats = grep(\"_mean|_median|_sd\",colnames(deseqRes))\n",
    "whExpr = which(colnames(deseqRes) %in% sampleAnnot$ID)"
   ]
  },
  {
   "cell_type": "code",
   "execution_count": 29,
   "id": "7ec70bec",
   "metadata": {},
   "outputs": [],
   "source": [
    "out = deseqRes\n",
    "out = apply(out,2,as.character)\n",
    "out = rbind(header,colnames(out),out) \n",
    "write.xlsx2(x = out, file = resFile, sheetName = \"DGE - counts\", \n",
    "            row.names = F, col.names = F, append = F )"
   ]
  },
  {
   "cell_type": "code",
   "execution_count": 30,
   "id": "52110175",
   "metadata": {},
   "outputs": [],
   "source": [
    "out = deseqResTPM\n",
    "out[,c(whStats,whExpr)] = round(out[,c(whStats,whExpr)],2)\n",
    "out = apply(out,2,as.character)\n",
    "out = rbind(header,colnames(out),out) \n",
    "write.xlsx2(x = out, file = resFile, sheetName = \"DGE - TPM\", \n",
    "            row.names = F, col.names = F, append = T )"
   ]
  },
  {
   "cell_type": "code",
   "execution_count": 31,
   "id": "f8ca839f",
   "metadata": {},
   "outputs": [],
   "source": [
    "out = deseqResTPMrlog\n",
    "out[,c(whStats,whExpr)] = round(out[,c(whStats,whExpr)],2)\n",
    "out = apply(out,2,as.character)\n",
    "out = rbind(header,colnames(out),out) \n",
    "write.xlsx2(x = out, file = resFile, sheetName = \"DGE - rlog(TPM)\", \n",
    "            row.names = F, col.names = F, append = T )"
   ]
  },
  {
   "cell_type": "code",
   "execution_count": 32,
   "id": "70b1c766",
   "metadata": {},
   "outputs": [],
   "source": [
    "deseqRes_signif = deseqRes[ which(deseqRes$padj < 0.05), ]"
   ]
  },
  {
   "cell_type": "code",
   "execution_count": 33,
   "id": "bbd3ed71",
   "metadata": {},
   "outputs": [],
   "source": [
    "# save as RData for later\n",
    "save(deseqRes_signif, file = deseqResFile)"
   ]
  },
  {
   "cell_type": "code",
   "execution_count": 34,
   "id": "returning-division",
   "metadata": {},
   "outputs": [
    {
     "name": "stderr",
     "output_type": "stream",
     "text": [
      "Warning message:\n",
      "“\u001b[1m\u001b[22mRemoved 10 rows containing missing values (`geom_point()`).”\n",
      "Warning message:\n",
      "“\u001b[1m\u001b[22mRemoved 3032 rows containing missing values (`geom_text_repel()`).”\n",
      "Warning message:\n",
      "“\u001b[1m\u001b[22mRemoved 10 rows containing missing values (`geom_point()`).”\n",
      "Warning message:\n",
      "“\u001b[1m\u001b[22mRemoved 3032 rows containing missing values (`geom_text_repel()`).”\n"
     ]
    },
    {
     "data": {
      "image/png": "[encoded data removed]",
      "text/plain": [
       "plot without title"
      ]
     },
     "metadata": {
      "image/png": {
       "height": 420,
       "width": 420
      }
     },
     "output_type": "display_data"
    }
   ],
   "source": [
    "# volcano plot\n",
    "\n",
    "exponents <- -log10(deseqRes$pvalue) \n",
    "maxEpo <- max(exponents[exponents!=Inf])\n",
    "deseqRes$threshold <- ifelse( is.na(deseqRes$padj) | deseqRes$padj > padjCutoff,\"nonsignificant\",\"FDR < 0.05\")\n",
    "cols <- c(\"FDR < 0.05\" = \"red2\", \"nonsignificant\" = \"#00994d\")\n",
    "\n",
    "g <- ggplot(data=deseqRes, aes(x=log2FoldChange, y=-log10(pvalue), colour=threshold)) +\n",
    "  geom_point(alpha=0.4, size=1.25) +\n",
    "  scale_color_manual(name=NULL, values=cols)+#, labels = c(\"FDR < 0.05\", \"nonsignificant\"))+\n",
    "  xlim(c(-4, 3)) + ylim(c(0, maxEpo)) +\n",
    "  xlab(\"log2 fold change\") + ylab(\"-log10 p-value\") +\n",
    "  geom_text_repel(data = deseqRes[ deseqRes$padj<0.05,],mapping = aes(label=gene), size=3,color=\"#444444\" )  + \n",
    "  theme(legend.position = c(0.8, 0.8))\n",
    "\n",
    "g\n",
    "ggsave(filename = volcanoPlotFile,width = 7, height=7,dpi = 150)"
   ]
  }
 ],
 "metadata": {
  "kernelspec": {
   "display_name": "R",
   "language": "R",
   "name": "ir"
  },
  "language_info": {
   "codemirror_mode": "r",
   "file_extension": ".r",
   "mimetype": "text/x-r-source",
   "name": "R",
   "pygments_lexer": "r",
   "version": "4.2.0"
  }
 },
 "nbformat": 4,
 "nbformat_minor": 5
}
