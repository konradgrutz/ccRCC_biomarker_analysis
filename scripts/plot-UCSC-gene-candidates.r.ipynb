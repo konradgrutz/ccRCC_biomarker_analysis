{
 "cells": [
  {
   "cell_type": "code",
   "execution_count": null,
   "id": "exterior-marble",
   "metadata": {},
   "outputs": [],
   "source": [
    "# plot per sample coverage along candidate genes\n",
    "# aggregate per group (tumor/healthy)"
   ]
  },
  {
   "cell_type": "code",
   "execution_count": 3,
   "id": "listed-photographer",
   "metadata": {
    "scrolled": true
   },
   "outputs": [],
   "source": [
    "library(ggplot2)\n",
    "library(gridExtra)\n",
    "library(GenomicRanges)"
   ]
  },
  {
   "cell_type": "code",
   "execution_count": 2,
   "id": "annual-burning",
   "metadata": {},
   "outputs": [],
   "source": [
    "setwd(\"..\")"
   ]
  },
  {
   "cell_type": "code",
   "execution_count": 4,
   "id": "3196b6d3",
   "metadata": {},
   "outputs": [],
   "source": [
    "outDir = \"Figures-and-Tables/\"\n",
    "figureOutFile = paste0(outDir,\"Figure-4-nucl-wise-coverage.png\")\n",
    "sampleAnnotFile = \"annotation/annotation-63.csv\"\n",
    "diffExprGeneAnnotFile = \"annotation/UCSC-genes-hg19-SNHG1-structure.gtf\" # exon intron structure in the region\n",
    "totalReadsFile = \"data/total-reads.RData\" # for normalization to RPM\n",
    "diffExprValuesFile =  paste0(outDir,\"DGE-results.RData\") # p-values and fold changes of SNORDs\n",
    "ntWiseCoverageFile = \"data/sam-depth-25MpercIDS-uniqMap-wFlags-SNHG1-extended.txt\" \n",
    "  #  -> what's the read coverage at each nucleotide for each sample, from samtools"
   ]
  },
  {
   "cell_type": "code",
   "execution_count": 5,
   "id": "840fd64c",
   "metadata": {
    "scrolled": true
   },
   "outputs": [
    {
     "data": {
      "text/html": [
       "<table class=\"dataframe\">\n",
       "<caption>A data.frame: 3 × 84</caption>\n",
       "<thead>\n",
       "\t<tr><th></th><th scope=col>chr</th><th scope=col>start</th><th scope=col>end</th><th scope=col>gene</th><th scope=col>EnsgID</th><th scope=col>geneType</th><th scope=col>baseMean</th><th scope=col>log2FoldChange</th><th scope=col>lfcSE</th><th scope=col>stat</th><th scope=col>⋯</th><th scope=col>SXR0049</th><th scope=col>SXR0060</th><th scope=col>SXR0070</th><th scope=col>SXR0071</th><th scope=col>SXR0084</th><th scope=col>SXR0098</th><th scope=col>SXR0117</th><th scope=col>SXR0118</th><th scope=col>SXR0121</th><th scope=col>SXR0122</th></tr>\n",
       "\t<tr><th></th><th scope=col>&lt;chr&gt;</th><th scope=col>&lt;dbl&gt;</th><th scope=col>&lt;dbl&gt;</th><th scope=col>&lt;chr&gt;</th><th scope=col>&lt;chr&gt;</th><th scope=col>&lt;chr&gt;</th><th scope=col>&lt;dbl&gt;</th><th scope=col>&lt;dbl&gt;</th><th scope=col>&lt;dbl&gt;</th><th scope=col>&lt;dbl&gt;</th><th scope=col>⋯</th><th scope=col>&lt;int&gt;</th><th scope=col>&lt;int&gt;</th><th scope=col>&lt;int&gt;</th><th scope=col>&lt;int&gt;</th><th scope=col>&lt;int&gt;</th><th scope=col>&lt;int&gt;</th><th scope=col>&lt;int&gt;</th><th scope=col>&lt;int&gt;</th><th scope=col>&lt;int&gt;</th><th scope=col>&lt;int&gt;</th></tr>\n",
       "</thead>\n",
       "<tbody>\n",
       "\t<tr><th scope=row>chr1_28905201_28905300</th><td>chr1</td><td> 28905201</td><td> 28905300</td><td>SNORD99 </td><td>ENSG00000197989;ENSG00000221539</td><td>antisense;snoRNA             </td><td> 3.886967</td><td>-3.450529</td><td>0.6894305</td><td>-5.004897</td><td>⋯</td><td> 0</td><td> 7</td><td>23</td><td>11</td><td> 2</td><td>0</td><td>23</td><td>1</td><td> 7</td><td> 5</td></tr>\n",
       "\t<tr><th scope=row>chr1_153643701_153643800</th><td>chr1</td><td>153643701</td><td>153643800</td><td>TRNA_Met</td><td>ENSG00000224870;ENSG00000242485</td><td>protein_coding;protein_coding</td><td>20.566221</td><td>-1.632384</td><td>0.3768256</td><td>-4.331934</td><td>⋯</td><td>25</td><td>58</td><td>33</td><td>76</td><td>34</td><td>8</td><td>42</td><td>0</td><td>24</td><td>34</td></tr>\n",
       "\t<tr><th scope=row>chr1_153643801_153643900</th><td>chr1</td><td>153643801</td><td>153643900</td><td>        </td><td>ENSG00000224870;ENSG00000242485</td><td>protein_coding;protein_coding</td><td>11.730551</td><td>-2.187097</td><td>0.5535580</td><td>-3.950981</td><td>⋯</td><td> 9</td><td>49</td><td>20</td><td>44</td><td>24</td><td>3</td><td>30</td><td>0</td><td>10</td><td>17</td></tr>\n",
       "</tbody>\n",
       "</table>\n"
      ],
      "text/latex": [
       "A data.frame: 3 × 84\n",
       "\\begin{tabular}{r|lllllllllllllllllllll}\n",
       "  & chr & start & end & gene & EnsgID & geneType & baseMean & log2FoldChange & lfcSE & stat & ⋯ & SXR0049 & SXR0060 & SXR0070 & SXR0071 & SXR0084 & SXR0098 & SXR0117 & SXR0118 & SXR0121 & SXR0122\\\\\n",
       "  & <chr> & <dbl> & <dbl> & <chr> & <chr> & <chr> & <dbl> & <dbl> & <dbl> & <dbl> & ⋯ & <int> & <int> & <int> & <int> & <int> & <int> & <int> & <int> & <int> & <int>\\\\\n",
       "\\hline\n",
       "\tchr1\\_28905201\\_28905300 & chr1 &  28905201 &  28905300 & SNORD99  & ENSG00000197989;ENSG00000221539 & antisense;snoRNA              &  3.886967 & -3.450529 & 0.6894305 & -5.004897 & ⋯ &  0 &  7 & 23 & 11 &  2 & 0 & 23 & 1 &  7 &  5\\\\\n",
       "\tchr1\\_153643701\\_153643800 & chr1 & 153643701 & 153643800 & TRNA\\_Met & ENSG00000224870;ENSG00000242485 & protein\\_coding;protein\\_coding & 20.566221 & -1.632384 & 0.3768256 & -4.331934 & ⋯ & 25 & 58 & 33 & 76 & 34 & 8 & 42 & 0 & 24 & 34\\\\\n",
       "\tchr1\\_153643801\\_153643900 & chr1 & 153643801 & 153643900 &          & ENSG00000224870;ENSG00000242485 & protein\\_coding;protein\\_coding & 11.730551 & -2.187097 & 0.5535580 & -3.950981 & ⋯ &  9 & 49 & 20 & 44 & 24 & 3 & 30 & 0 & 10 & 17\\\\\n",
       "\\end{tabular}\n"
      ],
      "text/markdown": [
       "\n",
       "A data.frame: 3 × 84\n",
       "\n",
       "| <!--/--> | chr &lt;chr&gt; | start &lt;dbl&gt; | end &lt;dbl&gt; | gene &lt;chr&gt; | EnsgID &lt;chr&gt; | geneType &lt;chr&gt; | baseMean &lt;dbl&gt; | log2FoldChange &lt;dbl&gt; | lfcSE &lt;dbl&gt; | stat &lt;dbl&gt; | ⋯ ⋯ | SXR0049 &lt;int&gt; | SXR0060 &lt;int&gt; | SXR0070 &lt;int&gt; | SXR0071 &lt;int&gt; | SXR0084 &lt;int&gt; | SXR0098 &lt;int&gt; | SXR0117 &lt;int&gt; | SXR0118 &lt;int&gt; | SXR0121 &lt;int&gt; | SXR0122 &lt;int&gt; |\n",
       "|---|---|---|---|---|---|---|---|---|---|---|---|---|---|---|---|---|---|---|---|---|---|\n",
       "| chr1_28905201_28905300 | chr1 |  28905201 |  28905300 | SNORD99  | ENSG00000197989;ENSG00000221539 | antisense;snoRNA              |  3.886967 | -3.450529 | 0.6894305 | -5.004897 | ⋯ |  0 |  7 | 23 | 11 |  2 | 0 | 23 | 1 |  7 |  5 |\n",
       "| chr1_153643701_153643800 | chr1 | 153643701 | 153643800 | TRNA_Met | ENSG00000224870;ENSG00000242485 | protein_coding;protein_coding | 20.566221 | -1.632384 | 0.3768256 | -4.331934 | ⋯ | 25 | 58 | 33 | 76 | 34 | 8 | 42 | 0 | 24 | 34 |\n",
       "| chr1_153643801_153643900 | chr1 | 153643801 | 153643900 | <!----> | ENSG00000224870;ENSG00000242485 | protein_coding;protein_coding | 11.730551 | -2.187097 | 0.5535580 | -3.950981 | ⋯ |  9 | 49 | 20 | 44 | 24 | 3 | 30 | 0 | 10 | 17 |\n",
       "\n"
      ],
      "text/plain": [
       "                         chr  start     end       gene    \n",
       "chr1_28905201_28905300   chr1  28905201  28905300 SNORD99 \n",
       "chr1_153643701_153643800 chr1 153643701 153643800 TRNA_Met\n",
       "chr1_153643801_153643900 chr1 153643801 153643900         \n",
       "                         EnsgID                         \n",
       "chr1_28905201_28905300   ENSG00000197989;ENSG00000221539\n",
       "chr1_153643701_153643800 ENSG00000224870;ENSG00000242485\n",
       "chr1_153643801_153643900 ENSG00000224870;ENSG00000242485\n",
       "                         geneType                      baseMean  log2FoldChange\n",
       "chr1_28905201_28905300   antisense;snoRNA               3.886967 -3.450529     \n",
       "chr1_153643701_153643800 protein_coding;protein_coding 20.566221 -1.632384     \n",
       "chr1_153643801_153643900 protein_coding;protein_coding 11.730551 -2.187097     \n",
       "                         lfcSE     stat      ⋯ SXR0049 SXR0060 SXR0070 SXR0071\n",
       "chr1_28905201_28905300   0.6894305 -5.004897 ⋯  0       7      23      11     \n",
       "chr1_153643701_153643800 0.3768256 -4.331934 ⋯ 25      58      33      76     \n",
       "chr1_153643801_153643900 0.5535580 -3.950981 ⋯  9      49      20      44     \n",
       "                         SXR0084 SXR0098 SXR0117 SXR0118 SXR0121 SXR0122\n",
       "chr1_28905201_28905300    2      0       23      1        7       5     \n",
       "chr1_153643701_153643800 34      8       42      0       24      34     \n",
       "chr1_153643801_153643900 24      3       30      0       10      17     "
      ]
     },
     "metadata": {},
     "output_type": "display_data"
    },
    {
     "data": {
      "text/html": [
       "<table class=\"dataframe\">\n",
       "<caption>A data.frame: 4 × 84</caption>\n",
       "<thead>\n",
       "\t<tr><th></th><th scope=col>chr</th><th scope=col>start</th><th scope=col>end</th><th scope=col>gene</th><th scope=col>EnsgID</th><th scope=col>geneType</th><th scope=col>baseMean</th><th scope=col>log2FoldChange</th><th scope=col>lfcSE</th><th scope=col>stat</th><th scope=col>⋯</th><th scope=col>SXR0049</th><th scope=col>SXR0060</th><th scope=col>SXR0070</th><th scope=col>SXR0071</th><th scope=col>SXR0084</th><th scope=col>SXR0098</th><th scope=col>SXR0117</th><th scope=col>SXR0118</th><th scope=col>SXR0121</th><th scope=col>SXR0122</th></tr>\n",
       "\t<tr><th></th><th scope=col>&lt;chr&gt;</th><th scope=col>&lt;dbl&gt;</th><th scope=col>&lt;dbl&gt;</th><th scope=col>&lt;chr&gt;</th><th scope=col>&lt;chr&gt;</th><th scope=col>&lt;chr&gt;</th><th scope=col>&lt;dbl&gt;</th><th scope=col>&lt;dbl&gt;</th><th scope=col>&lt;dbl&gt;</th><th scope=col>&lt;dbl&gt;</th><th scope=col>⋯</th><th scope=col>&lt;int&gt;</th><th scope=col>&lt;int&gt;</th><th scope=col>&lt;int&gt;</th><th scope=col>&lt;int&gt;</th><th scope=col>&lt;int&gt;</th><th scope=col>&lt;int&gt;</th><th scope=col>&lt;int&gt;</th><th scope=col>&lt;int&gt;</th><th scope=col>&lt;int&gt;</th><th scope=col>&lt;int&gt;</th></tr>\n",
       "</thead>\n",
       "<tbody>\n",
       "\t<tr><th scope=row>chr11_62620301_62620400</th><td>chr11</td><td>62620301</td><td>62620400</td><td>SNORD22</td><td>ENSG00000255717</td><td>processed_transcript</td><td> 6.347113</td><td>-2.939119</td><td>0.7230626</td><td>-4.064820</td><td>⋯</td><td> 2</td><td>  5</td><td> 2</td><td>26</td><td> 5</td><td> 0</td><td> 44</td><td>0</td><td> 4</td><td>0</td></tr>\n",
       "\t<tr><th scope=row>chr11_62620401_62620500</th><td>chr11</td><td>62620401</td><td>62620500</td><td>SNORD22</td><td>ENSG00000255717</td><td>processed_transcript</td><td> 8.765859</td><td>-2.269205</td><td>0.4865577</td><td>-4.663794</td><td>⋯</td><td> 3</td><td> 10</td><td> 3</td><td>26</td><td> 9</td><td> 3</td><td> 48</td><td>0</td><td> 7</td><td>4</td></tr>\n",
       "\t<tr><th scope=row>chr11_62622701_62622800</th><td>chr11</td><td>62622701</td><td>62622800</td><td>SNORD26</td><td>ENSG00000255717</td><td>processed_transcript</td><td>41.480016</td><td>-2.360276</td><td>0.5623117</td><td>-4.197452</td><td>⋯</td><td>26</td><td>123</td><td>40</td><td>33</td><td>28</td><td>22</td><td>408</td><td>0</td><td>87</td><td>8</td></tr>\n",
       "\t<tr><th scope=row>chr11_62622801_62622900</th><td>chr11</td><td>62622801</td><td>62622900</td><td>SNORD26</td><td>ENSG00000255717</td><td>processed_transcript</td><td>38.474406</td><td>-2.313034</td><td>0.5649412</td><td>-4.094291</td><td>⋯</td><td>24</td><td>110</td><td>40</td><td>30</td><td>25</td><td>21</td><td>401</td><td>0</td><td>83</td><td>8</td></tr>\n",
       "</tbody>\n",
       "</table>\n"
      ],
      "text/latex": [
       "A data.frame: 4 × 84\n",
       "\\begin{tabular}{r|lllllllllllllllllllll}\n",
       "  & chr & start & end & gene & EnsgID & geneType & baseMean & log2FoldChange & lfcSE & stat & ⋯ & SXR0049 & SXR0060 & SXR0070 & SXR0071 & SXR0084 & SXR0098 & SXR0117 & SXR0118 & SXR0121 & SXR0122\\\\\n",
       "  & <chr> & <dbl> & <dbl> & <chr> & <chr> & <chr> & <dbl> & <dbl> & <dbl> & <dbl> & ⋯ & <int> & <int> & <int> & <int> & <int> & <int> & <int> & <int> & <int> & <int>\\\\\n",
       "\\hline\n",
       "\tchr11\\_62620301\\_62620400 & chr11 & 62620301 & 62620400 & SNORD22 & ENSG00000255717 & processed\\_transcript &  6.347113 & -2.939119 & 0.7230626 & -4.064820 & ⋯ &  2 &   5 &  2 & 26 &  5 &  0 &  44 & 0 &  4 & 0\\\\\n",
       "\tchr11\\_62620401\\_62620500 & chr11 & 62620401 & 62620500 & SNORD22 & ENSG00000255717 & processed\\_transcript &  8.765859 & -2.269205 & 0.4865577 & -4.663794 & ⋯ &  3 &  10 &  3 & 26 &  9 &  3 &  48 & 0 &  7 & 4\\\\\n",
       "\tchr11\\_62622701\\_62622800 & chr11 & 62622701 & 62622800 & SNORD26 & ENSG00000255717 & processed\\_transcript & 41.480016 & -2.360276 & 0.5623117 & -4.197452 & ⋯ & 26 & 123 & 40 & 33 & 28 & 22 & 408 & 0 & 87 & 8\\\\\n",
       "\tchr11\\_62622801\\_62622900 & chr11 & 62622801 & 62622900 & SNORD26 & ENSG00000255717 & processed\\_transcript & 38.474406 & -2.313034 & 0.5649412 & -4.094291 & ⋯ & 24 & 110 & 40 & 30 & 25 & 21 & 401 & 0 & 83 & 8\\\\\n",
       "\\end{tabular}\n"
      ],
      "text/markdown": [
       "\n",
       "A data.frame: 4 × 84\n",
       "\n",
       "| <!--/--> | chr &lt;chr&gt; | start &lt;dbl&gt; | end &lt;dbl&gt; | gene &lt;chr&gt; | EnsgID &lt;chr&gt; | geneType &lt;chr&gt; | baseMean &lt;dbl&gt; | log2FoldChange &lt;dbl&gt; | lfcSE &lt;dbl&gt; | stat &lt;dbl&gt; | ⋯ ⋯ | SXR0049 &lt;int&gt; | SXR0060 &lt;int&gt; | SXR0070 &lt;int&gt; | SXR0071 &lt;int&gt; | SXR0084 &lt;int&gt; | SXR0098 &lt;int&gt; | SXR0117 &lt;int&gt; | SXR0118 &lt;int&gt; | SXR0121 &lt;int&gt; | SXR0122 &lt;int&gt; |\n",
       "|---|---|---|---|---|---|---|---|---|---|---|---|---|---|---|---|---|---|---|---|---|---|\n",
       "| chr11_62620301_62620400 | chr11 | 62620301 | 62620400 | SNORD22 | ENSG00000255717 | processed_transcript |  6.347113 | -2.939119 | 0.7230626 | -4.064820 | ⋯ |  2 |   5 |  2 | 26 |  5 |  0 |  44 | 0 |  4 | 0 |\n",
       "| chr11_62620401_62620500 | chr11 | 62620401 | 62620500 | SNORD22 | ENSG00000255717 | processed_transcript |  8.765859 | -2.269205 | 0.4865577 | -4.663794 | ⋯ |  3 |  10 |  3 | 26 |  9 |  3 |  48 | 0 |  7 | 4 |\n",
       "| chr11_62622701_62622800 | chr11 | 62622701 | 62622800 | SNORD26 | ENSG00000255717 | processed_transcript | 41.480016 | -2.360276 | 0.5623117 | -4.197452 | ⋯ | 26 | 123 | 40 | 33 | 28 | 22 | 408 | 0 | 87 | 8 |\n",
       "| chr11_62622801_62622900 | chr11 | 62622801 | 62622900 | SNORD26 | ENSG00000255717 | processed_transcript | 38.474406 | -2.313034 | 0.5649412 | -4.094291 | ⋯ | 24 | 110 | 40 | 30 | 25 | 21 | 401 | 0 | 83 | 8 |\n",
       "\n"
      ],
      "text/plain": [
       "                        chr   start    end      gene    EnsgID         \n",
       "chr11_62620301_62620400 chr11 62620301 62620400 SNORD22 ENSG00000255717\n",
       "chr11_62620401_62620500 chr11 62620401 62620500 SNORD22 ENSG00000255717\n",
       "chr11_62622701_62622800 chr11 62622701 62622800 SNORD26 ENSG00000255717\n",
       "chr11_62622801_62622900 chr11 62622801 62622900 SNORD26 ENSG00000255717\n",
       "                        geneType             baseMean  log2FoldChange lfcSE    \n",
       "chr11_62620301_62620400 processed_transcript  6.347113 -2.939119      0.7230626\n",
       "chr11_62620401_62620500 processed_transcript  8.765859 -2.269205      0.4865577\n",
       "chr11_62622701_62622800 processed_transcript 41.480016 -2.360276      0.5623117\n",
       "chr11_62622801_62622900 processed_transcript 38.474406 -2.313034      0.5649412\n",
       "                        stat      ⋯ SXR0049 SXR0060 SXR0070 SXR0071 SXR0084\n",
       "chr11_62620301_62620400 -4.064820 ⋯  2        5      2      26       5     \n",
       "chr11_62620401_62620500 -4.663794 ⋯  3       10      3      26       9     \n",
       "chr11_62622701_62622800 -4.197452 ⋯ 26      123     40      33      28     \n",
       "chr11_62622801_62622900 -4.094291 ⋯ 24      110     40      30      25     \n",
       "                        SXR0098 SXR0117 SXR0118 SXR0121 SXR0122\n",
       "chr11_62620301_62620400  0       44     0        4      0      \n",
       "chr11_62620401_62620500  3       48     0        7      4      \n",
       "chr11_62622701_62622800 22      408     0       87      8      \n",
       "chr11_62622801_62622900 21      401     0       83      8      "
      ]
     },
     "metadata": {},
     "output_type": "display_data"
    }
   ],
   "source": [
    "# diff. expression p-values and log-fold-changes\n",
    "load(diffExprValuesFile)\n",
    "head(deseqRes_signif,3)\n",
    "deseqRes_signifSNHG1 = deseqRes_signif[ deseqRes_signif$gene %in% c(\"SNORD22\",\"SNORD26\"),]\n",
    "deseqRes_signifSNHG1"
   ]
  },
  {
   "cell_type": "code",
   "execution_count": 6,
   "id": "satisfactory-nevada",
   "metadata": {},
   "outputs": [
    {
     "data": {
      "text/html": [
       "<table class=\"dataframe\">\n",
       "<caption>A data.frame: 3 × 4</caption>\n",
       "<thead>\n",
       "\t<tr><th></th><th scope=col>ID</th><th scope=col>gender</th><th scope=col>age</th><th scope=col>group</th></tr>\n",
       "\t<tr><th></th><th scope=col>&lt;chr&gt;</th><th scope=col>&lt;chr&gt;</th><th scope=col>&lt;int&gt;</th><th scope=col>&lt;chr&gt;</th></tr>\n",
       "</thead>\n",
       "<tbody>\n",
       "\t<tr><th scope=row>SXR0002</th><td>SXR0002</td><td>female</td><td>80</td><td>ccRCC</td></tr>\n",
       "\t<tr><th scope=row>SXR0004</th><td>SXR0004</td><td>male  </td><td>50</td><td>ccRCC</td></tr>\n",
       "\t<tr><th scope=row>SXR0006</th><td>SXR0006</td><td>male  </td><td>68</td><td>ccRCC</td></tr>\n",
       "</tbody>\n",
       "</table>\n"
      ],
      "text/latex": [
       "A data.frame: 3 × 4\n",
       "\\begin{tabular}{r|llll}\n",
       "  & ID & gender & age & group\\\\\n",
       "  & <chr> & <chr> & <int> & <chr>\\\\\n",
       "\\hline\n",
       "\tSXR0002 & SXR0002 & female & 80 & ccRCC\\\\\n",
       "\tSXR0004 & SXR0004 & male   & 50 & ccRCC\\\\\n",
       "\tSXR0006 & SXR0006 & male   & 68 & ccRCC\\\\\n",
       "\\end{tabular}\n"
      ],
      "text/markdown": [
       "\n",
       "A data.frame: 3 × 4\n",
       "\n",
       "| <!--/--> | ID &lt;chr&gt; | gender &lt;chr&gt; | age &lt;int&gt; | group &lt;chr&gt; |\n",
       "|---|---|---|---|---|\n",
       "| SXR0002 | SXR0002 | female | 80 | ccRCC |\n",
       "| SXR0004 | SXR0004 | male   | 50 | ccRCC |\n",
       "| SXR0006 | SXR0006 | male   | 68 | ccRCC |\n",
       "\n"
      ],
      "text/plain": [
       "        ID      gender age group\n",
       "SXR0002 SXR0002 female 80  ccRCC\n",
       "SXR0004 SXR0004 male   50  ccRCC\n",
       "SXR0006 SXR0006 male   68  ccRCC"
      ]
     },
     "metadata": {},
     "output_type": "display_data"
    }
   ],
   "source": [
    "# load sample annotation:\n",
    "sampleAnnot = read.csv(file = sampleAnnotFile,sep = \"\\t\", dec=\".\", stringsAsFactors = F )\n",
    "sampleAnnot$gender = ifelse(sampleAnnot$gender==\"f\",\"female\",\"male\")\n",
    "rownames(sampleAnnot) = sampleAnnot$ID\n",
    "head(sampleAnnot,3)"
   ]
  },
  {
   "cell_type": "code",
   "execution_count": 7,
   "id": "skilled-works",
   "metadata": {
    "scrolled": true
   },
   "outputs": [
    {
     "data": {
      "text/html": [
       "<table class=\"dataframe\">\n",
       "<caption>A data.frame: 13 × 7</caption>\n",
       "<thead>\n",
       "\t<tr><th scope=col>chr</th><th scope=col>strand</th><th scope=col>txStart</th><th scope=col>txEnd</th><th scope=col>exSt</th><th scope=col>exEnd</th><th scope=col>symbol</th></tr>\n",
       "\t<tr><th scope=col>&lt;chr&gt;</th><th scope=col>&lt;chr&gt;</th><th scope=col>&lt;int&gt;</th><th scope=col>&lt;int&gt;</th><th scope=col>&lt;chr&gt;</th><th scope=col>&lt;chr&gt;</th><th scope=col>&lt;chr&gt;</th></tr>\n",
       "</thead>\n",
       "<tbody>\n",
       "\t<tr><td>chr11</td><td>-</td><td>62619459</td><td>62623217</td><td>62619459,62620282,62620546,62621023,62621272,62621489,62621990,62622359,62622604,62622895,         </td><td>62620153,62620311,62620587,62621062,62621305,62621536,62622023,62622410,62622688,62623217,         </td><td>SNHG1  </td></tr>\n",
       "\t<tr><td>chr11</td><td>-</td><td>62619459</td><td>62623217</td><td>62619459,62620282,62620546,62621023,62621272,62621489,62621990,62622359,62622604,62622895,         </td><td>62620153,62620311,62620587,62621062,62621305,62621536,62622023,62622410,62622680,62623217,         </td><td>SNHG1  </td></tr>\n",
       "\t<tr><td>chr11</td><td>-</td><td>62619459</td><td>62623357</td><td>62619459,62620282,62621272,62621990,62622359,                                                      </td><td>62620153,62621062,62621536,62622023,62623357,                                                      </td><td>SNHG1  </td></tr>\n",
       "\t<tr><td>chr11</td><td>-</td><td>62619459</td><td>62623360</td><td>62619459,62620282,62620546,62621023,62621272,62621489,62621990,62622359,62622604,62622895,62623336,</td><td>62620153,62620311,62620587,62621062,62621305,62621536,62622023,62622410,62622688,62622938,62623360,</td><td>SNHG1  </td></tr>\n",
       "\t<tr><td>chr11</td><td>-</td><td>62620381</td><td>62620507</td><td>62620381,                                                                                          </td><td>62620507,                                                                                          </td><td>SNORD22</td></tr>\n",
       "\t<tr><td>chr11</td><td>-</td><td>62620797</td><td>62620865</td><td>62620797,                                                                                          </td><td>62620865,                                                                                          </td><td>SNORD31</td></tr>\n",
       "\t<tr><td>chr11</td><td>-</td><td>62621134</td><td>62621204</td><td>62621134,                                                                                          </td><td>62621204,                                                                                          </td><td>SNORD30</td></tr>\n",
       "\t<tr><td>chr11</td><td>-</td><td>62621375</td><td>62621440</td><td>62621375,                                                                                          </td><td>62621440,                                                                                          </td><td>SNORD29</td></tr>\n",
       "\t<tr><td>chr11</td><td>-</td><td>62621632</td><td>62621757</td><td>62621632,                                                                                          </td><td>62621757,                                                                                          </td><td>SNORD22</td></tr>\n",
       "\t<tr><td>chr11</td><td>-</td><td>62622092</td><td>62622167</td><td>62622092,                                                                                          </td><td>62622167,                                                                                          </td><td>SNORD28</td></tr>\n",
       "\t<tr><td>chr11</td><td>-</td><td>62622483</td><td>62622555</td><td>62622483,                                                                                          </td><td>62622555,                                                                                          </td><td>SNORD27</td></tr>\n",
       "\t<tr><td>chr11</td><td>-</td><td>62622763</td><td>62622838</td><td>62622763,                                                                                          </td><td>62622838,                                                                                          </td><td>SNORD26</td></tr>\n",
       "\t<tr><td>chr11</td><td>-</td><td>62623036</td><td>62623103</td><td>62623036,                                                                                          </td><td>62623103,                                                                                          </td><td>SNORD25</td></tr>\n",
       "</tbody>\n",
       "</table>\n"
      ],
      "text/latex": [
       "A data.frame: 13 × 7\n",
       "\\begin{tabular}{lllllll}\n",
       " chr & strand & txStart & txEnd & exSt & exEnd & symbol\\\\\n",
       " <chr> & <chr> & <int> & <int> & <chr> & <chr> & <chr>\\\\\n",
       "\\hline\n",
       "\t chr11 & - & 62619459 & 62623217 & 62619459,62620282,62620546,62621023,62621272,62621489,62621990,62622359,62622604,62622895,          & 62620153,62620311,62620587,62621062,62621305,62621536,62622023,62622410,62622688,62623217,          & SNHG1  \\\\\n",
       "\t chr11 & - & 62619459 & 62623217 & 62619459,62620282,62620546,62621023,62621272,62621489,62621990,62622359,62622604,62622895,          & 62620153,62620311,62620587,62621062,62621305,62621536,62622023,62622410,62622680,62623217,          & SNHG1  \\\\\n",
       "\t chr11 & - & 62619459 & 62623357 & 62619459,62620282,62621272,62621990,62622359,                                                       & 62620153,62621062,62621536,62622023,62623357,                                                       & SNHG1  \\\\\n",
       "\t chr11 & - & 62619459 & 62623360 & 62619459,62620282,62620546,62621023,62621272,62621489,62621990,62622359,62622604,62622895,62623336, & 62620153,62620311,62620587,62621062,62621305,62621536,62622023,62622410,62622688,62622938,62623360, & SNHG1  \\\\\n",
       "\t chr11 & - & 62620381 & 62620507 & 62620381,                                                                                           & 62620507,                                                                                           & SNORD22\\\\\n",
       "\t chr11 & - & 62620797 & 62620865 & 62620797,                                                                                           & 62620865,                                                                                           & SNORD31\\\\\n",
       "\t chr11 & - & 62621134 & 62621204 & 62621134,                                                                                           & 62621204,                                                                                           & SNORD30\\\\\n",
       "\t chr11 & - & 62621375 & 62621440 & 62621375,                                                                                           & 62621440,                                                                                           & SNORD29\\\\\n",
       "\t chr11 & - & 62621632 & 62621757 & 62621632,                                                                                           & 62621757,                                                                                           & SNORD22\\\\\n",
       "\t chr11 & - & 62622092 & 62622167 & 62622092,                                                                                           & 62622167,                                                                                           & SNORD28\\\\\n",
       "\t chr11 & - & 62622483 & 62622555 & 62622483,                                                                                           & 62622555,                                                                                           & SNORD27\\\\\n",
       "\t chr11 & - & 62622763 & 62622838 & 62622763,                                                                                           & 62622838,                                                                                           & SNORD26\\\\\n",
       "\t chr11 & - & 62623036 & 62623103 & 62623036,                                                                                           & 62623103,                                                                                           & SNORD25\\\\\n",
       "\\end{tabular}\n"
      ],
      "text/markdown": [
       "\n",
       "A data.frame: 13 × 7\n",
       "\n",
       "| chr &lt;chr&gt; | strand &lt;chr&gt; | txStart &lt;int&gt; | txEnd &lt;int&gt; | exSt &lt;chr&gt; | exEnd &lt;chr&gt; | symbol &lt;chr&gt; |\n",
       "|---|---|---|---|---|---|---|\n",
       "| chr11 | - | 62619459 | 62623217 | 62619459,62620282,62620546,62621023,62621272,62621489,62621990,62622359,62622604,62622895,          | 62620153,62620311,62620587,62621062,62621305,62621536,62622023,62622410,62622688,62623217,          | SNHG1   |\n",
       "| chr11 | - | 62619459 | 62623217 | 62619459,62620282,62620546,62621023,62621272,62621489,62621990,62622359,62622604,62622895,          | 62620153,62620311,62620587,62621062,62621305,62621536,62622023,62622410,62622680,62623217,          | SNHG1   |\n",
       "| chr11 | - | 62619459 | 62623357 | 62619459,62620282,62621272,62621990,62622359,                                                       | 62620153,62621062,62621536,62622023,62623357,                                                       | SNHG1   |\n",
       "| chr11 | - | 62619459 | 62623360 | 62619459,62620282,62620546,62621023,62621272,62621489,62621990,62622359,62622604,62622895,62623336, | 62620153,62620311,62620587,62621062,62621305,62621536,62622023,62622410,62622688,62622938,62623360, | SNHG1   |\n",
       "| chr11 | - | 62620381 | 62620507 | 62620381,                                                                                           | 62620507,                                                                                           | SNORD22 |\n",
       "| chr11 | - | 62620797 | 62620865 | 62620797,                                                                                           | 62620865,                                                                                           | SNORD31 |\n",
       "| chr11 | - | 62621134 | 62621204 | 62621134,                                                                                           | 62621204,                                                                                           | SNORD30 |\n",
       "| chr11 | - | 62621375 | 62621440 | 62621375,                                                                                           | 62621440,                                                                                           | SNORD29 |\n",
       "| chr11 | - | 62621632 | 62621757 | 62621632,                                                                                           | 62621757,                                                                                           | SNORD22 |\n",
       "| chr11 | - | 62622092 | 62622167 | 62622092,                                                                                           | 62622167,                                                                                           | SNORD28 |\n",
       "| chr11 | - | 62622483 | 62622555 | 62622483,                                                                                           | 62622555,                                                                                           | SNORD27 |\n",
       "| chr11 | - | 62622763 | 62622838 | 62622763,                                                                                           | 62622838,                                                                                           | SNORD26 |\n",
       "| chr11 | - | 62623036 | 62623103 | 62623036,                                                                                           | 62623103,                                                                                           | SNORD25 |\n",
       "\n"
      ],
      "text/plain": [
       "   chr   strand txStart  txEnd   \n",
       "1  chr11 -      62619459 62623217\n",
       "2  chr11 -      62619459 62623217\n",
       "3  chr11 -      62619459 62623357\n",
       "4  chr11 -      62619459 62623360\n",
       "5  chr11 -      62620381 62620507\n",
       "6  chr11 -      62620797 62620865\n",
       "7  chr11 -      62621134 62621204\n",
       "8  chr11 -      62621375 62621440\n",
       "9  chr11 -      62621632 62621757\n",
       "10 chr11 -      62622092 62622167\n",
       "11 chr11 -      62622483 62622555\n",
       "12 chr11 -      62622763 62622838\n",
       "13 chr11 -      62623036 62623103\n",
       "   exSt                                                                                               \n",
       "1  62619459,62620282,62620546,62621023,62621272,62621489,62621990,62622359,62622604,62622895,         \n",
       "2  62619459,62620282,62620546,62621023,62621272,62621489,62621990,62622359,62622604,62622895,         \n",
       "3  62619459,62620282,62621272,62621990,62622359,                                                      \n",
       "4  62619459,62620282,62620546,62621023,62621272,62621489,62621990,62622359,62622604,62622895,62623336,\n",
       "5  62620381,                                                                                          \n",
       "6  62620797,                                                                                          \n",
       "7  62621134,                                                                                          \n",
       "8  62621375,                                                                                          \n",
       "9  62621632,                                                                                          \n",
       "10 62622092,                                                                                          \n",
       "11 62622483,                                                                                          \n",
       "12 62622763,                                                                                          \n",
       "13 62623036,                                                                                          \n",
       "   exEnd                                                                                              \n",
       "1  62620153,62620311,62620587,62621062,62621305,62621536,62622023,62622410,62622688,62623217,         \n",
       "2  62620153,62620311,62620587,62621062,62621305,62621536,62622023,62622410,62622680,62623217,         \n",
       "3  62620153,62621062,62621536,62622023,62623357,                                                      \n",
       "4  62620153,62620311,62620587,62621062,62621305,62621536,62622023,62622410,62622688,62622938,62623360,\n",
       "5  62620507,                                                                                          \n",
       "6  62620865,                                                                                          \n",
       "7  62621204,                                                                                          \n",
       "8  62621440,                                                                                          \n",
       "9  62621757,                                                                                          \n",
       "10 62622167,                                                                                          \n",
       "11 62622555,                                                                                          \n",
       "12 62622838,                                                                                          \n",
       "13 62623103,                                                                                          \n",
       "   symbol \n",
       "1  SNHG1  \n",
       "2  SNHG1  \n",
       "3  SNHG1  \n",
       "4  SNHG1  \n",
       "5  SNORD22\n",
       "6  SNORD31\n",
       "7  SNORD30\n",
       "8  SNORD29\n",
       "9  SNORD22\n",
       "10 SNORD28\n",
       "11 SNORD27\n",
       "12 SNORD26\n",
       "13 SNORD25"
      ]
     },
     "metadata": {},
     "output_type": "display_data"
    }
   ],
   "source": [
    "# gene annotation from UCSC\n",
    "ucscAnnot = read.csv(file = diffExprGeneAnnotFile,header = T,sep = \"\\t\",stringsAsFactors = F)\n",
    "ucscAnnot = ucscAnnot[,c(2,3,4,5,7,8,13)]\n",
    "colnames(ucscAnnot) = c(\"chr\",\"strand\",\"txStart\",\"txEnd\",\"exSt\",\"exEnd\",\"symbol\")\n",
    "ucscAnnot"
   ]
  },
  {
   "cell_type": "code",
   "execution_count": 8,
   "id": "5746cb84",
   "metadata": {
    "scrolled": true
   },
   "outputs": [
    {
     "data": {
      "text/html": [
       "<table class=\"dataframe\">\n",
       "<caption>A data.frame: 13 × 6</caption>\n",
       "<thead>\n",
       "\t<tr><th scope=col>y</th><th scope=col>chr</th><th scope=col>txStart</th><th scope=col>txEnd</th><th scope=col>symbol</th><th scope=col>pos</th></tr>\n",
       "\t<tr><th scope=col>&lt;dbl&gt;</th><th scope=col>&lt;chr&gt;</th><th scope=col>&lt;int&gt;</th><th scope=col>&lt;int&gt;</th><th scope=col>&lt;chr&gt;</th><th scope=col>&lt;dbl&gt;</th></tr>\n",
       "</thead>\n",
       "<tbody>\n",
       "\t<tr><td>1</td><td>chr11</td><td>62619459</td><td>62623217</td><td>SNHG1  </td><td>-1</td></tr>\n",
       "\t<tr><td>2</td><td>chr11</td><td>62619459</td><td>62623217</td><td>SNHG1  </td><td>-2</td></tr>\n",
       "\t<tr><td>3</td><td>chr11</td><td>62619459</td><td>62623357</td><td>SNHG1  </td><td>-3</td></tr>\n",
       "\t<tr><td>4</td><td>chr11</td><td>62619459</td><td>62623360</td><td>SNHG1  </td><td>-4</td></tr>\n",
       "\t<tr><td>5</td><td>chr11</td><td>62620381</td><td>62620507</td><td>SNORD22</td><td>-5</td></tr>\n",
       "\t<tr><td>5</td><td>chr11</td><td>62620797</td><td>62620865</td><td>SNORD31</td><td>-5</td></tr>\n",
       "\t<tr><td>5</td><td>chr11</td><td>62621134</td><td>62621204</td><td>SNORD30</td><td>-5</td></tr>\n",
       "\t<tr><td>5</td><td>chr11</td><td>62621375</td><td>62621440</td><td>SNORD29</td><td>-5</td></tr>\n",
       "\t<tr><td>5</td><td>chr11</td><td>62621632</td><td>62621757</td><td>SNORD22</td><td>-5</td></tr>\n",
       "\t<tr><td>5</td><td>chr11</td><td>62622092</td><td>62622167</td><td>SNORD28</td><td>-5</td></tr>\n",
       "\t<tr><td>5</td><td>chr11</td><td>62622483</td><td>62622555</td><td>SNORD27</td><td>-5</td></tr>\n",
       "\t<tr><td>5</td><td>chr11</td><td>62622763</td><td>62622838</td><td>SNORD26</td><td>-5</td></tr>\n",
       "\t<tr><td>5</td><td>chr11</td><td>62623036</td><td>62623103</td><td>SNORD25</td><td>-5</td></tr>\n",
       "</tbody>\n",
       "</table>\n"
      ],
      "text/latex": [
       "A data.frame: 13 × 6\n",
       "\\begin{tabular}{llllll}\n",
       " y & chr & txStart & txEnd & symbol & pos\\\\\n",
       " <dbl> & <chr> & <int> & <int> & <chr> & <dbl>\\\\\n",
       "\\hline\n",
       "\t 1 & chr11 & 62619459 & 62623217 & SNHG1   & -1\\\\\n",
       "\t 2 & chr11 & 62619459 & 62623217 & SNHG1   & -2\\\\\n",
       "\t 3 & chr11 & 62619459 & 62623357 & SNHG1   & -3\\\\\n",
       "\t 4 & chr11 & 62619459 & 62623360 & SNHG1   & -4\\\\\n",
       "\t 5 & chr11 & 62620381 & 62620507 & SNORD22 & -5\\\\\n",
       "\t 5 & chr11 & 62620797 & 62620865 & SNORD31 & -5\\\\\n",
       "\t 5 & chr11 & 62621134 & 62621204 & SNORD30 & -5\\\\\n",
       "\t 5 & chr11 & 62621375 & 62621440 & SNORD29 & -5\\\\\n",
       "\t 5 & chr11 & 62621632 & 62621757 & SNORD22 & -5\\\\\n",
       "\t 5 & chr11 & 62622092 & 62622167 & SNORD28 & -5\\\\\n",
       "\t 5 & chr11 & 62622483 & 62622555 & SNORD27 & -5\\\\\n",
       "\t 5 & chr11 & 62622763 & 62622838 & SNORD26 & -5\\\\\n",
       "\t 5 & chr11 & 62623036 & 62623103 & SNORD25 & -5\\\\\n",
       "\\end{tabular}\n"
      ],
      "text/markdown": [
       "\n",
       "A data.frame: 13 × 6\n",
       "\n",
       "| y &lt;dbl&gt; | chr &lt;chr&gt; | txStart &lt;int&gt; | txEnd &lt;int&gt; | symbol &lt;chr&gt; | pos &lt;dbl&gt; |\n",
       "|---|---|---|---|---|---|\n",
       "| 1 | chr11 | 62619459 | 62623217 | SNHG1   | -1 |\n",
       "| 2 | chr11 | 62619459 | 62623217 | SNHG1   | -2 |\n",
       "| 3 | chr11 | 62619459 | 62623357 | SNHG1   | -3 |\n",
       "| 4 | chr11 | 62619459 | 62623360 | SNHG1   | -4 |\n",
       "| 5 | chr11 | 62620381 | 62620507 | SNORD22 | -5 |\n",
       "| 5 | chr11 | 62620797 | 62620865 | SNORD31 | -5 |\n",
       "| 5 | chr11 | 62621134 | 62621204 | SNORD30 | -5 |\n",
       "| 5 | chr11 | 62621375 | 62621440 | SNORD29 | -5 |\n",
       "| 5 | chr11 | 62621632 | 62621757 | SNORD22 | -5 |\n",
       "| 5 | chr11 | 62622092 | 62622167 | SNORD28 | -5 |\n",
       "| 5 | chr11 | 62622483 | 62622555 | SNORD27 | -5 |\n",
       "| 5 | chr11 | 62622763 | 62622838 | SNORD26 | -5 |\n",
       "| 5 | chr11 | 62623036 | 62623103 | SNORD25 | -5 |\n",
       "\n"
      ],
      "text/plain": [
       "   y chr   txStart  txEnd    symbol  pos\n",
       "1  1 chr11 62619459 62623217 SNHG1   -1 \n",
       "2  2 chr11 62619459 62623217 SNHG1   -2 \n",
       "3  3 chr11 62619459 62623357 SNHG1   -3 \n",
       "4  4 chr11 62619459 62623360 SNHG1   -4 \n",
       "5  5 chr11 62620381 62620507 SNORD22 -5 \n",
       "6  5 chr11 62620797 62620865 SNORD31 -5 \n",
       "7  5 chr11 62621134 62621204 SNORD30 -5 \n",
       "8  5 chr11 62621375 62621440 SNORD29 -5 \n",
       "9  5 chr11 62621632 62621757 SNORD22 -5 \n",
       "10 5 chr11 62622092 62622167 SNORD28 -5 \n",
       "11 5 chr11 62622483 62622555 SNORD27 -5 \n",
       "12 5 chr11 62622763 62622838 SNORD26 -5 \n",
       "13 5 chr11 62623036 62623103 SNORD25 -5 "
      ]
     },
     "metadata": {},
     "output_type": "display_data"
    }
   ],
   "source": [
    "# each SNHG1 transcript has own y position, all SNORDs inside same y position\n",
    "ucscAnnotTx = cbind(y=1:nrow(ucscAnnot),ucscAnnot[,c(1,3,4,7)])\n",
    "wh = which(ucscAnnotTx$symbol == \"SNHG1\")\n",
    "m = max(ucscAnnotTx$y[wh])\n",
    "ucscAnnotTx$y[-wh] = m + 1\n",
    "ucscAnnotTx$pos = -ucscAnnotTx$y\n",
    "ucscAnnotTx"
   ]
  },
  {
   "cell_type": "code",
   "execution_count": 9,
   "id": "1e5b14e9",
   "metadata": {
    "scrolled": true
   },
   "outputs": [],
   "source": [
    "# each transcr. split into exons, they have same y position:\n",
    "ucscAnnotEx = NULL\n",
    "i = 1\n",
    "for( r in 1:nrow(ucscAnnot)) {\n",
    "    ucscAnnotEx = rbind(ucscAnnotEx, \n",
    "        data.frame(chr=ucscAnnot[r,1],y=r,\n",
    "          start = as.numeric(unlist(strsplit(x = ucscAnnot[r,5],split = \",\"))),\n",
    "          end = as.numeric(unlist(strsplit(x = ucscAnnot[r,6],split = \",\"))),\n",
    "          symbol = ucscAnnot[r,\"symbol\"])\n",
    "    )\n",
    "}"
   ]
  },
  {
   "cell_type": "code",
   "execution_count": 10,
   "id": "ae961018",
   "metadata": {
    "scrolled": true
   },
   "outputs": [
    {
     "data": {
      "text/html": [
       "4"
      ],
      "text/latex": [
       "4"
      ],
      "text/markdown": [
       "4"
      ],
      "text/plain": [
       "[1] 4"
      ]
     },
     "metadata": {},
     "output_type": "display_data"
    },
    {
     "data": {
      "text/html": [
       "<table class=\"dataframe\">\n",
       "<caption>A data.frame: 45 × 6</caption>\n",
       "<thead>\n",
       "\t<tr><th scope=col>chr</th><th scope=col>y</th><th scope=col>start</th><th scope=col>end</th><th scope=col>symbol</th><th scope=col>pos</th></tr>\n",
       "\t<tr><th scope=col>&lt;chr&gt;</th><th scope=col>&lt;int&gt;</th><th scope=col>&lt;dbl&gt;</th><th scope=col>&lt;dbl&gt;</th><th scope=col>&lt;chr&gt;</th><th scope=col>&lt;dbl&gt;</th></tr>\n",
       "</thead>\n",
       "<tbody>\n",
       "\t<tr><td>chr11</td><td> 1</td><td>62619459</td><td>62620153</td><td>SNHG1  </td><td>-4</td></tr>\n",
       "\t<tr><td>chr11</td><td> 1</td><td>62620282</td><td>62620311</td><td>SNHG1  </td><td>-4</td></tr>\n",
       "\t<tr><td>chr11</td><td> 1</td><td>62620546</td><td>62620587</td><td>SNHG1  </td><td>-4</td></tr>\n",
       "\t<tr><td>chr11</td><td> 1</td><td>62621023</td><td>62621062</td><td>SNHG1  </td><td>-4</td></tr>\n",
       "\t<tr><td>chr11</td><td> 1</td><td>62621272</td><td>62621305</td><td>SNHG1  </td><td>-4</td></tr>\n",
       "\t<tr><td>chr11</td><td> 1</td><td>62621489</td><td>62621536</td><td>SNHG1  </td><td>-4</td></tr>\n",
       "\t<tr><td>chr11</td><td> 1</td><td>62621990</td><td>62622023</td><td>SNHG1  </td><td>-4</td></tr>\n",
       "\t<tr><td>chr11</td><td> 1</td><td>62622359</td><td>62622410</td><td>SNHG1  </td><td>-4</td></tr>\n",
       "\t<tr><td>chr11</td><td> 1</td><td>62622604</td><td>62622688</td><td>SNHG1  </td><td>-4</td></tr>\n",
       "\t<tr><td>chr11</td><td> 1</td><td>62622895</td><td>62623217</td><td>SNHG1  </td><td>-4</td></tr>\n",
       "\t<tr><td>chr11</td><td> 2</td><td>62619459</td><td>62620153</td><td>SNHG1  </td><td>-3</td></tr>\n",
       "\t<tr><td>chr11</td><td> 2</td><td>62620282</td><td>62620311</td><td>SNHG1  </td><td>-3</td></tr>\n",
       "\t<tr><td>chr11</td><td> 2</td><td>62620546</td><td>62620587</td><td>SNHG1  </td><td>-3</td></tr>\n",
       "\t<tr><td>chr11</td><td> 2</td><td>62621023</td><td>62621062</td><td>SNHG1  </td><td>-3</td></tr>\n",
       "\t<tr><td>chr11</td><td> 2</td><td>62621272</td><td>62621305</td><td>SNHG1  </td><td>-3</td></tr>\n",
       "\t<tr><td>chr11</td><td> 2</td><td>62621489</td><td>62621536</td><td>SNHG1  </td><td>-3</td></tr>\n",
       "\t<tr><td>chr11</td><td> 2</td><td>62621990</td><td>62622023</td><td>SNHG1  </td><td>-3</td></tr>\n",
       "\t<tr><td>chr11</td><td> 2</td><td>62622359</td><td>62622410</td><td>SNHG1  </td><td>-3</td></tr>\n",
       "\t<tr><td>chr11</td><td> 2</td><td>62622604</td><td>62622680</td><td>SNHG1  </td><td>-3</td></tr>\n",
       "\t<tr><td>chr11</td><td> 2</td><td>62622895</td><td>62623217</td><td>SNHG1  </td><td>-3</td></tr>\n",
       "\t<tr><td>chr11</td><td> 3</td><td>62619459</td><td>62620153</td><td>SNHG1  </td><td>-2</td></tr>\n",
       "\t<tr><td>chr11</td><td> 3</td><td>62620282</td><td>62621062</td><td>SNHG1  </td><td>-2</td></tr>\n",
       "\t<tr><td>chr11</td><td> 3</td><td>62621272</td><td>62621536</td><td>SNHG1  </td><td>-2</td></tr>\n",
       "\t<tr><td>chr11</td><td> 3</td><td>62621990</td><td>62622023</td><td>SNHG1  </td><td>-2</td></tr>\n",
       "\t<tr><td>chr11</td><td> 3</td><td>62622359</td><td>62623357</td><td>SNHG1  </td><td>-2</td></tr>\n",
       "\t<tr><td>chr11</td><td> 4</td><td>62619459</td><td>62620153</td><td>SNHG1  </td><td>-1</td></tr>\n",
       "\t<tr><td>chr11</td><td> 4</td><td>62620282</td><td>62620311</td><td>SNHG1  </td><td>-1</td></tr>\n",
       "\t<tr><td>chr11</td><td> 4</td><td>62620546</td><td>62620587</td><td>SNHG1  </td><td>-1</td></tr>\n",
       "\t<tr><td>chr11</td><td> 4</td><td>62621023</td><td>62621062</td><td>SNHG1  </td><td>-1</td></tr>\n",
       "\t<tr><td>chr11</td><td> 4</td><td>62621272</td><td>62621305</td><td>SNHG1  </td><td>-1</td></tr>\n",
       "\t<tr><td>chr11</td><td> 4</td><td>62621489</td><td>62621536</td><td>SNHG1  </td><td>-1</td></tr>\n",
       "\t<tr><td>chr11</td><td> 4</td><td>62621990</td><td>62622023</td><td>SNHG1  </td><td>-1</td></tr>\n",
       "\t<tr><td>chr11</td><td> 4</td><td>62622359</td><td>62622410</td><td>SNHG1  </td><td>-1</td></tr>\n",
       "\t<tr><td>chr11</td><td> 4</td><td>62622604</td><td>62622688</td><td>SNHG1  </td><td>-1</td></tr>\n",
       "\t<tr><td>chr11</td><td> 4</td><td>62622895</td><td>62622938</td><td>SNHG1  </td><td>-1</td></tr>\n",
       "\t<tr><td>chr11</td><td> 4</td><td>62623336</td><td>62623360</td><td>SNHG1  </td><td>-1</td></tr>\n",
       "\t<tr><td>chr11</td><td> 5</td><td>62620381</td><td>62620507</td><td>SNORD22</td><td>-5</td></tr>\n",
       "\t<tr><td>chr11</td><td> 6</td><td>62620797</td><td>62620865</td><td>SNORD31</td><td>-5</td></tr>\n",
       "\t<tr><td>chr11</td><td> 7</td><td>62621134</td><td>62621204</td><td>SNORD30</td><td>-5</td></tr>\n",
       "\t<tr><td>chr11</td><td> 8</td><td>62621375</td><td>62621440</td><td>SNORD29</td><td>-5</td></tr>\n",
       "\t<tr><td>chr11</td><td> 9</td><td>62621632</td><td>62621757</td><td>SNORD22</td><td>-5</td></tr>\n",
       "\t<tr><td>chr11</td><td>10</td><td>62622092</td><td>62622167</td><td>SNORD28</td><td>-5</td></tr>\n",
       "\t<tr><td>chr11</td><td>11</td><td>62622483</td><td>62622555</td><td>SNORD27</td><td>-5</td></tr>\n",
       "\t<tr><td>chr11</td><td>12</td><td>62622763</td><td>62622838</td><td>SNORD26</td><td>-5</td></tr>\n",
       "\t<tr><td>chr11</td><td>13</td><td>62623036</td><td>62623103</td><td>SNORD25</td><td>-5</td></tr>\n",
       "</tbody>\n",
       "</table>\n"
      ],
      "text/latex": [
       "A data.frame: 45 × 6\n",
       "\\begin{tabular}{llllll}\n",
       " chr & y & start & end & symbol & pos\\\\\n",
       " <chr> & <int> & <dbl> & <dbl> & <chr> & <dbl>\\\\\n",
       "\\hline\n",
       "\t chr11 &  1 & 62619459 & 62620153 & SNHG1   & -4\\\\\n",
       "\t chr11 &  1 & 62620282 & 62620311 & SNHG1   & -4\\\\\n",
       "\t chr11 &  1 & 62620546 & 62620587 & SNHG1   & -4\\\\\n",
       "\t chr11 &  1 & 62621023 & 62621062 & SNHG1   & -4\\\\\n",
       "\t chr11 &  1 & 62621272 & 62621305 & SNHG1   & -4\\\\\n",
       "\t chr11 &  1 & 62621489 & 62621536 & SNHG1   & -4\\\\\n",
       "\t chr11 &  1 & 62621990 & 62622023 & SNHG1   & -4\\\\\n",
       "\t chr11 &  1 & 62622359 & 62622410 & SNHG1   & -4\\\\\n",
       "\t chr11 &  1 & 62622604 & 62622688 & SNHG1   & -4\\\\\n",
       "\t chr11 &  1 & 62622895 & 62623217 & SNHG1   & -4\\\\\n",
       "\t chr11 &  2 & 62619459 & 62620153 & SNHG1   & -3\\\\\n",
       "\t chr11 &  2 & 62620282 & 62620311 & SNHG1   & -3\\\\\n",
       "\t chr11 &  2 & 62620546 & 62620587 & SNHG1   & -3\\\\\n",
       "\t chr11 &  2 & 62621023 & 62621062 & SNHG1   & -3\\\\\n",
       "\t chr11 &  2 & 62621272 & 62621305 & SNHG1   & -3\\\\\n",
       "\t chr11 &  2 & 62621489 & 62621536 & SNHG1   & -3\\\\\n",
       "\t chr11 &  2 & 62621990 & 62622023 & SNHG1   & -3\\\\\n",
       "\t chr11 &  2 & 62622359 & 62622410 & SNHG1   & -3\\\\\n",
       "\t chr11 &  2 & 62622604 & 62622680 & SNHG1   & -3\\\\\n",
       "\t chr11 &  2 & 62622895 & 62623217 & SNHG1   & -3\\\\\n",
       "\t chr11 &  3 & 62619459 & 62620153 & SNHG1   & -2\\\\\n",
       "\t chr11 &  3 & 62620282 & 62621062 & SNHG1   & -2\\\\\n",
       "\t chr11 &  3 & 62621272 & 62621536 & SNHG1   & -2\\\\\n",
       "\t chr11 &  3 & 62621990 & 62622023 & SNHG1   & -2\\\\\n",
       "\t chr11 &  3 & 62622359 & 62623357 & SNHG1   & -2\\\\\n",
       "\t chr11 &  4 & 62619459 & 62620153 & SNHG1   & -1\\\\\n",
       "\t chr11 &  4 & 62620282 & 62620311 & SNHG1   & -1\\\\\n",
       "\t chr11 &  4 & 62620546 & 62620587 & SNHG1   & -1\\\\\n",
       "\t chr11 &  4 & 62621023 & 62621062 & SNHG1   & -1\\\\\n",
       "\t chr11 &  4 & 62621272 & 62621305 & SNHG1   & -1\\\\\n",
       "\t chr11 &  4 & 62621489 & 62621536 & SNHG1   & -1\\\\\n",
       "\t chr11 &  4 & 62621990 & 62622023 & SNHG1   & -1\\\\\n",
       "\t chr11 &  4 & 62622359 & 62622410 & SNHG1   & -1\\\\\n",
       "\t chr11 &  4 & 62622604 & 62622688 & SNHG1   & -1\\\\\n",
       "\t chr11 &  4 & 62622895 & 62622938 & SNHG1   & -1\\\\\n",
       "\t chr11 &  4 & 62623336 & 62623360 & SNHG1   & -1\\\\\n",
       "\t chr11 &  5 & 62620381 & 62620507 & SNORD22 & -5\\\\\n",
       "\t chr11 &  6 & 62620797 & 62620865 & SNORD31 & -5\\\\\n",
       "\t chr11 &  7 & 62621134 & 62621204 & SNORD30 & -5\\\\\n",
       "\t chr11 &  8 & 62621375 & 62621440 & SNORD29 & -5\\\\\n",
       "\t chr11 &  9 & 62621632 & 62621757 & SNORD22 & -5\\\\\n",
       "\t chr11 & 10 & 62622092 & 62622167 & SNORD28 & -5\\\\\n",
       "\t chr11 & 11 & 62622483 & 62622555 & SNORD27 & -5\\\\\n",
       "\t chr11 & 12 & 62622763 & 62622838 & SNORD26 & -5\\\\\n",
       "\t chr11 & 13 & 62623036 & 62623103 & SNORD25 & -5\\\\\n",
       "\\end{tabular}\n"
      ],
      "text/markdown": [
       "\n",
       "A data.frame: 45 × 6\n",
       "\n",
       "| chr &lt;chr&gt; | y &lt;int&gt; | start &lt;dbl&gt; | end &lt;dbl&gt; | symbol &lt;chr&gt; | pos &lt;dbl&gt; |\n",
       "|---|---|---|---|---|---|\n",
       "| chr11 |  1 | 62619459 | 62620153 | SNHG1   | -4 |\n",
       "| chr11 |  1 | 62620282 | 62620311 | SNHG1   | -4 |\n",
       "| chr11 |  1 | 62620546 | 62620587 | SNHG1   | -4 |\n",
       "| chr11 |  1 | 62621023 | 62621062 | SNHG1   | -4 |\n",
       "| chr11 |  1 | 62621272 | 62621305 | SNHG1   | -4 |\n",
       "| chr11 |  1 | 62621489 | 62621536 | SNHG1   | -4 |\n",
       "| chr11 |  1 | 62621990 | 62622023 | SNHG1   | -4 |\n",
       "| chr11 |  1 | 62622359 | 62622410 | SNHG1   | -4 |\n",
       "| chr11 |  1 | 62622604 | 62622688 | SNHG1   | -4 |\n",
       "| chr11 |  1 | 62622895 | 62623217 | SNHG1   | -4 |\n",
       "| chr11 |  2 | 62619459 | 62620153 | SNHG1   | -3 |\n",
       "| chr11 |  2 | 62620282 | 62620311 | SNHG1   | -3 |\n",
       "| chr11 |  2 | 62620546 | 62620587 | SNHG1   | -3 |\n",
       "| chr11 |  2 | 62621023 | 62621062 | SNHG1   | -3 |\n",
       "| chr11 |  2 | 62621272 | 62621305 | SNHG1   | -3 |\n",
       "| chr11 |  2 | 62621489 | 62621536 | SNHG1   | -3 |\n",
       "| chr11 |  2 | 62621990 | 62622023 | SNHG1   | -3 |\n",
       "| chr11 |  2 | 62622359 | 62622410 | SNHG1   | -3 |\n",
       "| chr11 |  2 | 62622604 | 62622680 | SNHG1   | -3 |\n",
       "| chr11 |  2 | 62622895 | 62623217 | SNHG1   | -3 |\n",
       "| chr11 |  3 | 62619459 | 62620153 | SNHG1   | -2 |\n",
       "| chr11 |  3 | 62620282 | 62621062 | SNHG1   | -2 |\n",
       "| chr11 |  3 | 62621272 | 62621536 | SNHG1   | -2 |\n",
       "| chr11 |  3 | 62621990 | 62622023 | SNHG1   | -2 |\n",
       "| chr11 |  3 | 62622359 | 62623357 | SNHG1   | -2 |\n",
       "| chr11 |  4 | 62619459 | 62620153 | SNHG1   | -1 |\n",
       "| chr11 |  4 | 62620282 | 62620311 | SNHG1   | -1 |\n",
       "| chr11 |  4 | 62620546 | 62620587 | SNHG1   | -1 |\n",
       "| chr11 |  4 | 62621023 | 62621062 | SNHG1   | -1 |\n",
       "| chr11 |  4 | 62621272 | 62621305 | SNHG1   | -1 |\n",
       "| chr11 |  4 | 62621489 | 62621536 | SNHG1   | -1 |\n",
       "| chr11 |  4 | 62621990 | 62622023 | SNHG1   | -1 |\n",
       "| chr11 |  4 | 62622359 | 62622410 | SNHG1   | -1 |\n",
       "| chr11 |  4 | 62622604 | 62622688 | SNHG1   | -1 |\n",
       "| chr11 |  4 | 62622895 | 62622938 | SNHG1   | -1 |\n",
       "| chr11 |  4 | 62623336 | 62623360 | SNHG1   | -1 |\n",
       "| chr11 |  5 | 62620381 | 62620507 | SNORD22 | -5 |\n",
       "| chr11 |  6 | 62620797 | 62620865 | SNORD31 | -5 |\n",
       "| chr11 |  7 | 62621134 | 62621204 | SNORD30 | -5 |\n",
       "| chr11 |  8 | 62621375 | 62621440 | SNORD29 | -5 |\n",
       "| chr11 |  9 | 62621632 | 62621757 | SNORD22 | -5 |\n",
       "| chr11 | 10 | 62622092 | 62622167 | SNORD28 | -5 |\n",
       "| chr11 | 11 | 62622483 | 62622555 | SNORD27 | -5 |\n",
       "| chr11 | 12 | 62622763 | 62622838 | SNORD26 | -5 |\n",
       "| chr11 | 13 | 62623036 | 62623103 | SNORD25 | -5 |\n",
       "\n"
      ],
      "text/plain": [
       "   chr   y  start    end      symbol  pos\n",
       "1  chr11  1 62619459 62620153 SNHG1   -4 \n",
       "2  chr11  1 62620282 62620311 SNHG1   -4 \n",
       "3  chr11  1 62620546 62620587 SNHG1   -4 \n",
       "4  chr11  1 62621023 62621062 SNHG1   -4 \n",
       "5  chr11  1 62621272 62621305 SNHG1   -4 \n",
       "6  chr11  1 62621489 62621536 SNHG1   -4 \n",
       "7  chr11  1 62621990 62622023 SNHG1   -4 \n",
       "8  chr11  1 62622359 62622410 SNHG1   -4 \n",
       "9  chr11  1 62622604 62622688 SNHG1   -4 \n",
       "10 chr11  1 62622895 62623217 SNHG1   -4 \n",
       "11 chr11  2 62619459 62620153 SNHG1   -3 \n",
       "12 chr11  2 62620282 62620311 SNHG1   -3 \n",
       "13 chr11  2 62620546 62620587 SNHG1   -3 \n",
       "14 chr11  2 62621023 62621062 SNHG1   -3 \n",
       "15 chr11  2 62621272 62621305 SNHG1   -3 \n",
       "16 chr11  2 62621489 62621536 SNHG1   -3 \n",
       "17 chr11  2 62621990 62622023 SNHG1   -3 \n",
       "18 chr11  2 62622359 62622410 SNHG1   -3 \n",
       "19 chr11  2 62622604 62622680 SNHG1   -3 \n",
       "20 chr11  2 62622895 62623217 SNHG1   -3 \n",
       "21 chr11  3 62619459 62620153 SNHG1   -2 \n",
       "22 chr11  3 62620282 62621062 SNHG1   -2 \n",
       "23 chr11  3 62621272 62621536 SNHG1   -2 \n",
       "24 chr11  3 62621990 62622023 SNHG1   -2 \n",
       "25 chr11  3 62622359 62623357 SNHG1   -2 \n",
       "26 chr11  4 62619459 62620153 SNHG1   -1 \n",
       "27 chr11  4 62620282 62620311 SNHG1   -1 \n",
       "28 chr11  4 62620546 62620587 SNHG1   -1 \n",
       "29 chr11  4 62621023 62621062 SNHG1   -1 \n",
       "30 chr11  4 62621272 62621305 SNHG1   -1 \n",
       "31 chr11  4 62621489 62621536 SNHG1   -1 \n",
       "32 chr11  4 62621990 62622023 SNHG1   -1 \n",
       "33 chr11  4 62622359 62622410 SNHG1   -1 \n",
       "34 chr11  4 62622604 62622688 SNHG1   -1 \n",
       "35 chr11  4 62622895 62622938 SNHG1   -1 \n",
       "36 chr11  4 62623336 62623360 SNHG1   -1 \n",
       "37 chr11  5 62620381 62620507 SNORD22 -5 \n",
       "38 chr11  6 62620797 62620865 SNORD31 -5 \n",
       "39 chr11  7 62621134 62621204 SNORD30 -5 \n",
       "40 chr11  8 62621375 62621440 SNORD29 -5 \n",
       "41 chr11  9 62621632 62621757 SNORD22 -5 \n",
       "42 chr11 10 62622092 62622167 SNORD28 -5 \n",
       "43 chr11 11 62622483 62622555 SNORD27 -5 \n",
       "44 chr11 12 62622763 62622838 SNORD26 -5 \n",
       "45 chr11 13 62623036 62623103 SNORD25 -5 "
      ]
     },
     "metadata": {},
     "output_type": "display_data"
    }
   ],
   "source": [
    "# all SNORDS into same position (to spare space)\n",
    "# all SNHG1 transcripts into first positions\n",
    "\n",
    "ucscAnnotEx$pos=0\n",
    "wh = which(ucscAnnotEx$symbol == \"SNHG1\")\n",
    "m = max(ucscAnnotEx$y[wh])\n",
    "m\n",
    "ucscAnnotEx$pos[wh] = m + 1 - ucscAnnotEx$y[wh] \n",
    "ucscAnnotEx$pos[-wh] = max(ucscAnnotEx$pos) + 1\n",
    "ucscAnnotEx$pos = - ucscAnnotEx$pos\n",
    "ucscAnnotEx"
   ]
  },
  {
   "cell_type": "markdown",
   "id": "4575f794",
   "metadata": {},
   "source": [
    "### nucleotide-wise coverage:"
   ]
  },
  {
   "cell_type": "code",
   "execution_count": 11,
   "id": "4fe72e2f",
   "metadata": {},
   "outputs": [
    {
     "data": {
      "text/html": [
       "<table class=\"dataframe\">\n",
       "<caption>A data.frame: 6 × 65</caption>\n",
       "<thead>\n",
       "\t<tr><th></th><th scope=col>chr</th><th scope=col>pos</th><th scope=col>SXR0002</th><th scope=col>SXR0004</th><th scope=col>SXR0006</th><th scope=col>SXR0010</th><th scope=col>SXR0014</th><th scope=col>SXR0016</th><th scope=col>SXR0018</th><th scope=col>SXR0028</th><th scope=col>⋯</th><th scope=col>SXR0105</th><th scope=col>SXR0111</th><th scope=col>SXR0112</th><th scope=col>SXR0113</th><th scope=col>SXR0114</th><th scope=col>SXR0115</th><th scope=col>SXR0117</th><th scope=col>SXR0118</th><th scope=col>SXR0121</th><th scope=col>SXR0122</th></tr>\n",
       "\t<tr><th></th><th scope=col>&lt;chr&gt;</th><th scope=col>&lt;int&gt;</th><th scope=col>&lt;int&gt;</th><th scope=col>&lt;int&gt;</th><th scope=col>&lt;int&gt;</th><th scope=col>&lt;int&gt;</th><th scope=col>&lt;int&gt;</th><th scope=col>&lt;int&gt;</th><th scope=col>&lt;int&gt;</th><th scope=col>&lt;int&gt;</th><th scope=col>⋯</th><th scope=col>&lt;int&gt;</th><th scope=col>&lt;int&gt;</th><th scope=col>&lt;int&gt;</th><th scope=col>&lt;int&gt;</th><th scope=col>&lt;int&gt;</th><th scope=col>&lt;int&gt;</th><th scope=col>&lt;int&gt;</th><th scope=col>&lt;int&gt;</th><th scope=col>&lt;int&gt;</th><th scope=col>&lt;int&gt;</th></tr>\n",
       "</thead>\n",
       "<tbody>\n",
       "\t<tr><th scope=row>1</th><td>chr11</td><td>62619427</td><td>0</td><td>0</td><td>0</td><td>0</td><td>0</td><td>0</td><td>0</td><td>0</td><td>⋯</td><td>0</td><td>0</td><td>0</td><td>0</td><td>0</td><td>0</td><td>0</td><td>0</td><td>0</td><td>0</td></tr>\n",
       "\t<tr><th scope=row>2</th><td>chr11</td><td>62619428</td><td>0</td><td>0</td><td>0</td><td>0</td><td>0</td><td>0</td><td>0</td><td>0</td><td>⋯</td><td>0</td><td>0</td><td>0</td><td>0</td><td>0</td><td>0</td><td>0</td><td>0</td><td>0</td><td>0</td></tr>\n",
       "\t<tr><th scope=row>3</th><td>chr11</td><td>62619429</td><td>0</td><td>0</td><td>0</td><td>0</td><td>0</td><td>0</td><td>0</td><td>0</td><td>⋯</td><td>0</td><td>0</td><td>0</td><td>0</td><td>0</td><td>0</td><td>0</td><td>0</td><td>0</td><td>0</td></tr>\n",
       "\t<tr><th scope=row>4</th><td>chr11</td><td>62619430</td><td>0</td><td>0</td><td>0</td><td>0</td><td>0</td><td>0</td><td>0</td><td>0</td><td>⋯</td><td>0</td><td>0</td><td>0</td><td>0</td><td>0</td><td>0</td><td>0</td><td>0</td><td>0</td><td>0</td></tr>\n",
       "\t<tr><th scope=row>5</th><td>chr11</td><td>62619431</td><td>0</td><td>0</td><td>0</td><td>0</td><td>0</td><td>0</td><td>0</td><td>0</td><td>⋯</td><td>0</td><td>0</td><td>0</td><td>0</td><td>0</td><td>0</td><td>0</td><td>0</td><td>0</td><td>0</td></tr>\n",
       "\t<tr><th scope=row>6</th><td>chr11</td><td>62619432</td><td>0</td><td>0</td><td>0</td><td>0</td><td>0</td><td>0</td><td>0</td><td>0</td><td>⋯</td><td>0</td><td>0</td><td>0</td><td>0</td><td>0</td><td>0</td><td>0</td><td>0</td><td>0</td><td>0</td></tr>\n",
       "</tbody>\n",
       "</table>\n"
      ],
      "text/latex": [
       "A data.frame: 6 × 65\n",
       "\\begin{tabular}{r|lllllllllllllllllllll}\n",
       "  & chr & pos & SXR0002 & SXR0004 & SXR0006 & SXR0010 & SXR0014 & SXR0016 & SXR0018 & SXR0028 & ⋯ & SXR0105 & SXR0111 & SXR0112 & SXR0113 & SXR0114 & SXR0115 & SXR0117 & SXR0118 & SXR0121 & SXR0122\\\\\n",
       "  & <chr> & <int> & <int> & <int> & <int> & <int> & <int> & <int> & <int> & <int> & ⋯ & <int> & <int> & <int> & <int> & <int> & <int> & <int> & <int> & <int> & <int>\\\\\n",
       "\\hline\n",
       "\t1 & chr11 & 62619427 & 0 & 0 & 0 & 0 & 0 & 0 & 0 & 0 & ⋯ & 0 & 0 & 0 & 0 & 0 & 0 & 0 & 0 & 0 & 0\\\\\n",
       "\t2 & chr11 & 62619428 & 0 & 0 & 0 & 0 & 0 & 0 & 0 & 0 & ⋯ & 0 & 0 & 0 & 0 & 0 & 0 & 0 & 0 & 0 & 0\\\\\n",
       "\t3 & chr11 & 62619429 & 0 & 0 & 0 & 0 & 0 & 0 & 0 & 0 & ⋯ & 0 & 0 & 0 & 0 & 0 & 0 & 0 & 0 & 0 & 0\\\\\n",
       "\t4 & chr11 & 62619430 & 0 & 0 & 0 & 0 & 0 & 0 & 0 & 0 & ⋯ & 0 & 0 & 0 & 0 & 0 & 0 & 0 & 0 & 0 & 0\\\\\n",
       "\t5 & chr11 & 62619431 & 0 & 0 & 0 & 0 & 0 & 0 & 0 & 0 & ⋯ & 0 & 0 & 0 & 0 & 0 & 0 & 0 & 0 & 0 & 0\\\\\n",
       "\t6 & chr11 & 62619432 & 0 & 0 & 0 & 0 & 0 & 0 & 0 & 0 & ⋯ & 0 & 0 & 0 & 0 & 0 & 0 & 0 & 0 & 0 & 0\\\\\n",
       "\\end{tabular}\n"
      ],
      "text/markdown": [
       "\n",
       "A data.frame: 6 × 65\n",
       "\n",
       "| <!--/--> | chr &lt;chr&gt; | pos &lt;int&gt; | SXR0002 &lt;int&gt; | SXR0004 &lt;int&gt; | SXR0006 &lt;int&gt; | SXR0010 &lt;int&gt; | SXR0014 &lt;int&gt; | SXR0016 &lt;int&gt; | SXR0018 &lt;int&gt; | SXR0028 &lt;int&gt; | ⋯ ⋯ | SXR0105 &lt;int&gt; | SXR0111 &lt;int&gt; | SXR0112 &lt;int&gt; | SXR0113 &lt;int&gt; | SXR0114 &lt;int&gt; | SXR0115 &lt;int&gt; | SXR0117 &lt;int&gt; | SXR0118 &lt;int&gt; | SXR0121 &lt;int&gt; | SXR0122 &lt;int&gt; |\n",
       "|---|---|---|---|---|---|---|---|---|---|---|---|---|---|---|---|---|---|---|---|---|---|\n",
       "| 1 | chr11 | 62619427 | 0 | 0 | 0 | 0 | 0 | 0 | 0 | 0 | ⋯ | 0 | 0 | 0 | 0 | 0 | 0 | 0 | 0 | 0 | 0 |\n",
       "| 2 | chr11 | 62619428 | 0 | 0 | 0 | 0 | 0 | 0 | 0 | 0 | ⋯ | 0 | 0 | 0 | 0 | 0 | 0 | 0 | 0 | 0 | 0 |\n",
       "| 3 | chr11 | 62619429 | 0 | 0 | 0 | 0 | 0 | 0 | 0 | 0 | ⋯ | 0 | 0 | 0 | 0 | 0 | 0 | 0 | 0 | 0 | 0 |\n",
       "| 4 | chr11 | 62619430 | 0 | 0 | 0 | 0 | 0 | 0 | 0 | 0 | ⋯ | 0 | 0 | 0 | 0 | 0 | 0 | 0 | 0 | 0 | 0 |\n",
       "| 5 | chr11 | 62619431 | 0 | 0 | 0 | 0 | 0 | 0 | 0 | 0 | ⋯ | 0 | 0 | 0 | 0 | 0 | 0 | 0 | 0 | 0 | 0 |\n",
       "| 6 | chr11 | 62619432 | 0 | 0 | 0 | 0 | 0 | 0 | 0 | 0 | ⋯ | 0 | 0 | 0 | 0 | 0 | 0 | 0 | 0 | 0 | 0 |\n",
       "\n"
      ],
      "text/plain": [
       "  chr   pos      SXR0002 SXR0004 SXR0006 SXR0010 SXR0014 SXR0016 SXR0018\n",
       "1 chr11 62619427 0       0       0       0       0       0       0      \n",
       "2 chr11 62619428 0       0       0       0       0       0       0      \n",
       "3 chr11 62619429 0       0       0       0       0       0       0      \n",
       "4 chr11 62619430 0       0       0       0       0       0       0      \n",
       "5 chr11 62619431 0       0       0       0       0       0       0      \n",
       "6 chr11 62619432 0       0       0       0       0       0       0      \n",
       "  SXR0028 ⋯ SXR0105 SXR0111 SXR0112 SXR0113 SXR0114 SXR0115 SXR0117 SXR0118\n",
       "1 0       ⋯ 0       0       0       0       0       0       0       0      \n",
       "2 0       ⋯ 0       0       0       0       0       0       0       0      \n",
       "3 0       ⋯ 0       0       0       0       0       0       0       0      \n",
       "4 0       ⋯ 0       0       0       0       0       0       0       0      \n",
       "5 0       ⋯ 0       0       0       0       0       0       0       0      \n",
       "6 0       ⋯ 0       0       0       0       0       0       0       0      \n",
       "  SXR0121 SXR0122\n",
       "1 0       0      \n",
       "2 0       0      \n",
       "3 0       0      \n",
       "4 0       0      \n",
       "5 0       0      \n",
       "6 0       0      "
      ]
     },
     "metadata": {},
     "output_type": "display_data"
    }
   ],
   "source": [
    "allReadCountsPerBase = \n",
    "    read.csv(file = ntWiseCoverageFile,\n",
    "             header=T,sep=\"\\t\",stringsAsFactors = F)\n",
    "colnames(allReadCountsPerBase)[1:2] = c(\"chr\",\"pos\");\n",
    "colnames(allReadCountsPerBase) = gsub(\".*(SXR\\\\d+).*\",\"\\\\1\",colnames(allReadCountsPerBase))\n",
    "head(allReadCountsPerBase)"
   ]
  },
  {
   "cell_type": "markdown",
   "id": "a1a137f3",
   "metadata": {},
   "source": [
    "### convert to RPM:"
   ]
  },
  {
   "cell_type": "code",
   "execution_count": 12,
   "id": "nasty-principal",
   "metadata": {},
   "outputs": [
    {
     "data": {
      "text/html": [
       "63"
      ],
      "text/latex": [
       "63"
      ],
      "text/markdown": [
       "63"
      ],
      "text/plain": [
       "[1] 63"
      ]
     },
     "metadata": {},
     "output_type": "display_data"
    },
    {
     "data": {
      "text/html": [
       "<style>\n",
       ".dl-inline {width: auto; margin:0; padding: 0}\n",
       ".dl-inline>dt, .dl-inline>dd {float: none; width: auto; display: inline-block}\n",
       ".dl-inline>dt::after {content: \":\\0020\"; padding-right: .5ex}\n",
       ".dl-inline>dt:not(:first-of-type) {padding-left: .5ex}\n",
       "</style><dl class=dl-inline><dt>SXR0002</dt><dd>150716</dd><dt>SXR0004</dt><dd>459267</dd><dt>SXR0006</dt><dd>218173</dd><dt>SXR0010</dt><dd>222724</dd><dt>SXR0014</dt><dd>327702</dd><dt>SXR0016</dt><dd>407296</dd></dl>\n"
      ],
      "text/latex": [
       "\\begin{description*}\n",
       "\\item[SXR0002] 150716\n",
       "\\item[SXR0004] 459267\n",
       "\\item[SXR0006] 218173\n",
       "\\item[SXR0010] 222724\n",
       "\\item[SXR0014] 327702\n",
       "\\item[SXR0016] 407296\n",
       "\\end{description*}\n"
      ],
      "text/markdown": [
       "SXR0002\n",
       ":   150716SXR0004\n",
       ":   459267SXR0006\n",
       ":   218173SXR0010\n",
       ":   222724SXR0014\n",
       ":   327702SXR0016\n",
       ":   407296\n",
       "\n"
      ],
      "text/plain": [
       "SXR0002 SXR0004 SXR0006 SXR0010 SXR0014 SXR0016 \n",
       " 150716  459267  218173  222724  327702  407296 "
      ]
     },
     "metadata": {},
     "output_type": "display_data"
    },
    {
     "data": {
      "text/html": [
       "<table class=\"dataframe\">\n",
       "<caption>A matrix: 1 × 63 of type dbl</caption>\n",
       "<thead>\n",
       "\t<tr><th scope=col>SXR0002</th><th scope=col>SXR0004</th><th scope=col>SXR0006</th><th scope=col>SXR0010</th><th scope=col>SXR0014</th><th scope=col>SXR0016</th><th scope=col>SXR0018</th><th scope=col>SXR0028</th><th scope=col>SXR0029</th><th scope=col>SXR0030</th><th scope=col>⋯</th><th scope=col>SXR0105</th><th scope=col>SXR0111</th><th scope=col>SXR0112</th><th scope=col>SXR0113</th><th scope=col>SXR0114</th><th scope=col>SXR0115</th><th scope=col>SXR0117</th><th scope=col>SXR0118</th><th scope=col>SXR0121</th><th scope=col>SXR0122</th></tr>\n",
       "</thead>\n",
       "<tbody>\n",
       "\t<tr><td>0.150716</td><td>0.459267</td><td>0.218173</td><td>0.222724</td><td>0.327702</td><td>0.407296</td><td>0.839699</td><td>0.288512</td><td>0.205165</td><td>0.492739</td><td>⋯</td><td>0.203779</td><td>1.347172</td><td>0.364964</td><td>0.222689</td><td>0.471147</td><td>0.684463</td><td>1.062148</td><td>0.300634</td><td>1.041849</td><td>1.128926</td></tr>\n",
       "</tbody>\n",
       "</table>\n"
      ],
      "text/latex": [
       "A matrix: 1 × 63 of type dbl\n",
       "\\begin{tabular}{lllllllllllllllllllll}\n",
       " SXR0002 & SXR0004 & SXR0006 & SXR0010 & SXR0014 & SXR0016 & SXR0018 & SXR0028 & SXR0029 & SXR0030 & ⋯ & SXR0105 & SXR0111 & SXR0112 & SXR0113 & SXR0114 & SXR0115 & SXR0117 & SXR0118 & SXR0121 & SXR0122\\\\\n",
       "\\hline\n",
       "\t 0.150716 & 0.459267 & 0.218173 & 0.222724 & 0.327702 & 0.407296 & 0.839699 & 0.288512 & 0.205165 & 0.492739 & ⋯ & 0.203779 & 1.347172 & 0.364964 & 0.222689 & 0.471147 & 0.684463 & 1.062148 & 0.300634 & 1.041849 & 1.128926\\\\\n",
       "\\end{tabular}\n"
      ],
      "text/markdown": [
       "\n",
       "A matrix: 1 × 63 of type dbl\n",
       "\n",
       "| SXR0002 | SXR0004 | SXR0006 | SXR0010 | SXR0014 | SXR0016 | SXR0018 | SXR0028 | SXR0029 | SXR0030 | ⋯ | SXR0105 | SXR0111 | SXR0112 | SXR0113 | SXR0114 | SXR0115 | SXR0117 | SXR0118 | SXR0121 | SXR0122 |\n",
       "|---|---|---|---|---|---|---|---|---|---|---|---|---|---|---|---|---|---|---|---|---|\n",
       "| 0.150716 | 0.459267 | 0.218173 | 0.222724 | 0.327702 | 0.407296 | 0.839699 | 0.288512 | 0.205165 | 0.492739 | ⋯ | 0.203779 | 1.347172 | 0.364964 | 0.222689 | 0.471147 | 0.684463 | 1.062148 | 0.300634 | 1.041849 | 1.128926 |\n",
       "\n"
      ],
      "text/plain": [
       "     SXR0002  SXR0004  SXR0006  SXR0010  SXR0014  SXR0016  SXR0018  SXR0028 \n",
       "[1,] 0.150716 0.459267 0.218173 0.222724 0.327702 0.407296 0.839699 0.288512\n",
       "     SXR0029  SXR0030  ⋯ SXR0105  SXR0111  SXR0112  SXR0113  SXR0114  SXR0115 \n",
       "[1,] 0.205165 0.492739 ⋯ 0.203779 1.347172 0.364964 0.222689 0.471147 0.684463\n",
       "     SXR0117  SXR0118  SXR0121  SXR0122 \n",
       "[1,] 1.062148 0.300634 1.041849 1.128926"
      ]
     },
     "metadata": {},
     "output_type": "display_data"
    }
   ],
   "source": [
    "# load total reads:\n",
    "load(totalReadsFile)\n",
    "length(totalReads)\n",
    "head(totalReads)\n",
    "rpmFactors = totalReads/1e+6\n",
    "head(t(rpmFactors))"
   ]
  },
  {
   "cell_type": "code",
   "execution_count": 13,
   "id": "relative-plasma",
   "metadata": {},
   "outputs": [],
   "source": [
    "commonSamples = intersect(names(rpmFactors),colnames(allReadCountsPerBase))\n",
    "allReadCountsPerBase = allReadCountsPerBase[,c(\"chr\",\"pos\",commonSamples)]\n",
    "rpmFactors = rpmFactors[commonSamples]"
   ]
  },
  {
   "cell_type": "code",
   "execution_count": 14,
   "id": "da8cbb7a",
   "metadata": {},
   "outputs": [
    {
     "data": {
      "text/html": [
       "<table class=\"dataframe\">\n",
       "<caption>A data.frame: 3 × 65</caption>\n",
       "<thead>\n",
       "\t<tr><th></th><th scope=col>chr</th><th scope=col>pos</th><th scope=col>SXR0002</th><th scope=col>SXR0004</th><th scope=col>SXR0006</th><th scope=col>SXR0010</th><th scope=col>SXR0014</th><th scope=col>SXR0016</th><th scope=col>SXR0018</th><th scope=col>SXR0028</th><th scope=col>⋯</th><th scope=col>SXR0105</th><th scope=col>SXR0111</th><th scope=col>SXR0112</th><th scope=col>SXR0113</th><th scope=col>SXR0114</th><th scope=col>SXR0115</th><th scope=col>SXR0117</th><th scope=col>SXR0118</th><th scope=col>SXR0121</th><th scope=col>SXR0122</th></tr>\n",
       "\t<tr><th></th><th scope=col>&lt;chr&gt;</th><th scope=col>&lt;int&gt;</th><th scope=col>&lt;dbl&gt;</th><th scope=col>&lt;dbl&gt;</th><th scope=col>&lt;dbl&gt;</th><th scope=col>&lt;dbl&gt;</th><th scope=col>&lt;dbl&gt;</th><th scope=col>&lt;dbl&gt;</th><th scope=col>&lt;dbl&gt;</th><th scope=col>&lt;dbl&gt;</th><th scope=col>⋯</th><th scope=col>&lt;dbl&gt;</th><th scope=col>&lt;dbl&gt;</th><th scope=col>&lt;dbl&gt;</th><th scope=col>&lt;dbl&gt;</th><th scope=col>&lt;dbl&gt;</th><th scope=col>&lt;dbl&gt;</th><th scope=col>&lt;dbl&gt;</th><th scope=col>&lt;dbl&gt;</th><th scope=col>&lt;dbl&gt;</th><th scope=col>&lt;dbl&gt;</th></tr>\n",
       "</thead>\n",
       "<tbody>\n",
       "\t<tr><th scope=row>1</th><td>chr11</td><td>62619427</td><td>0</td><td>0</td><td>0</td><td>0</td><td>0</td><td>0</td><td>0</td><td>0</td><td>⋯</td><td>0</td><td>0</td><td>0</td><td>0</td><td>0</td><td>0</td><td>0</td><td>0</td><td>0</td><td>0</td></tr>\n",
       "\t<tr><th scope=row>2</th><td>chr11</td><td>62619428</td><td>0</td><td>0</td><td>0</td><td>0</td><td>0</td><td>0</td><td>0</td><td>0</td><td>⋯</td><td>0</td><td>0</td><td>0</td><td>0</td><td>0</td><td>0</td><td>0</td><td>0</td><td>0</td><td>0</td></tr>\n",
       "\t<tr><th scope=row>3</th><td>chr11</td><td>62619429</td><td>0</td><td>0</td><td>0</td><td>0</td><td>0</td><td>0</td><td>0</td><td>0</td><td>⋯</td><td>0</td><td>0</td><td>0</td><td>0</td><td>0</td><td>0</td><td>0</td><td>0</td><td>0</td><td>0</td></tr>\n",
       "</tbody>\n",
       "</table>\n"
      ],
      "text/latex": [
       "A data.frame: 3 × 65\n",
       "\\begin{tabular}{r|lllllllllllllllllllll}\n",
       "  & chr & pos & SXR0002 & SXR0004 & SXR0006 & SXR0010 & SXR0014 & SXR0016 & SXR0018 & SXR0028 & ⋯ & SXR0105 & SXR0111 & SXR0112 & SXR0113 & SXR0114 & SXR0115 & SXR0117 & SXR0118 & SXR0121 & SXR0122\\\\\n",
       "  & <chr> & <int> & <dbl> & <dbl> & <dbl> & <dbl> & <dbl> & <dbl> & <dbl> & <dbl> & ⋯ & <dbl> & <dbl> & <dbl> & <dbl> & <dbl> & <dbl> & <dbl> & <dbl> & <dbl> & <dbl>\\\\\n",
       "\\hline\n",
       "\t1 & chr11 & 62619427 & 0 & 0 & 0 & 0 & 0 & 0 & 0 & 0 & ⋯ & 0 & 0 & 0 & 0 & 0 & 0 & 0 & 0 & 0 & 0\\\\\n",
       "\t2 & chr11 & 62619428 & 0 & 0 & 0 & 0 & 0 & 0 & 0 & 0 & ⋯ & 0 & 0 & 0 & 0 & 0 & 0 & 0 & 0 & 0 & 0\\\\\n",
       "\t3 & chr11 & 62619429 & 0 & 0 & 0 & 0 & 0 & 0 & 0 & 0 & ⋯ & 0 & 0 & 0 & 0 & 0 & 0 & 0 & 0 & 0 & 0\\\\\n",
       "\\end{tabular}\n"
      ],
      "text/markdown": [
       "\n",
       "A data.frame: 3 × 65\n",
       "\n",
       "| <!--/--> | chr &lt;chr&gt; | pos &lt;int&gt; | SXR0002 &lt;dbl&gt; | SXR0004 &lt;dbl&gt; | SXR0006 &lt;dbl&gt; | SXR0010 &lt;dbl&gt; | SXR0014 &lt;dbl&gt; | SXR0016 &lt;dbl&gt; | SXR0018 &lt;dbl&gt; | SXR0028 &lt;dbl&gt; | ⋯ ⋯ | SXR0105 &lt;dbl&gt; | SXR0111 &lt;dbl&gt; | SXR0112 &lt;dbl&gt; | SXR0113 &lt;dbl&gt; | SXR0114 &lt;dbl&gt; | SXR0115 &lt;dbl&gt; | SXR0117 &lt;dbl&gt; | SXR0118 &lt;dbl&gt; | SXR0121 &lt;dbl&gt; | SXR0122 &lt;dbl&gt; |\n",
       "|---|---|---|---|---|---|---|---|---|---|---|---|---|---|---|---|---|---|---|---|---|---|\n",
       "| 1 | chr11 | 62619427 | 0 | 0 | 0 | 0 | 0 | 0 | 0 | 0 | ⋯ | 0 | 0 | 0 | 0 | 0 | 0 | 0 | 0 | 0 | 0 |\n",
       "| 2 | chr11 | 62619428 | 0 | 0 | 0 | 0 | 0 | 0 | 0 | 0 | ⋯ | 0 | 0 | 0 | 0 | 0 | 0 | 0 | 0 | 0 | 0 |\n",
       "| 3 | chr11 | 62619429 | 0 | 0 | 0 | 0 | 0 | 0 | 0 | 0 | ⋯ | 0 | 0 | 0 | 0 | 0 | 0 | 0 | 0 | 0 | 0 |\n",
       "\n"
      ],
      "text/plain": [
       "  chr   pos      SXR0002 SXR0004 SXR0006 SXR0010 SXR0014 SXR0016 SXR0018\n",
       "1 chr11 62619427 0       0       0       0       0       0       0      \n",
       "2 chr11 62619428 0       0       0       0       0       0       0      \n",
       "3 chr11 62619429 0       0       0       0       0       0       0      \n",
       "  SXR0028 ⋯ SXR0105 SXR0111 SXR0112 SXR0113 SXR0114 SXR0115 SXR0117 SXR0118\n",
       "1 0       ⋯ 0       0       0       0       0       0       0       0      \n",
       "2 0       ⋯ 0       0       0       0       0       0       0       0      \n",
       "3 0       ⋯ 0       0       0       0       0       0       0       0      \n",
       "  SXR0121 SXR0122\n",
       "1 0       0      \n",
       "2 0       0      \n",
       "3 0       0      "
      ]
     },
     "metadata": {},
     "output_type": "display_data"
    }
   ],
   "source": [
    "# scale by RPM factor by matrix vector multiplication: \n",
    "allRPMsPerBase = \n",
    "    cbind(allReadCountsPerBase[,c(1:2)],\n",
    "          t(t(allReadCountsPerBase[,commonSamples])*rpmFactors)) \n",
    "head(allRPMsPerBase,3)"
   ]
  },
  {
   "cell_type": "code",
   "execution_count": 15,
   "id": "appropriate-confirmation",
   "metadata": {},
   "outputs": [
    {
     "data": {
      "text/html": [
       "<style>\n",
       ".list-inline {list-style: none; margin:0; padding: 0}\n",
       ".list-inline>li {display: inline-block}\n",
       ".list-inline>li:not(:last-child)::after {content: \"\\00b7\"; padding: 0 .5ex}\n",
       "</style>\n",
       "<ol class=list-inline><li>'SXR0002'</li><li>'SXR0004'</li><li>'SXR0006'</li><li>'SXR0014'</li><li>'SXR0016'</li><li>'SXR0028'</li></ol>\n"
      ],
      "text/latex": [
       "\\begin{enumerate*}\n",
       "\\item 'SXR0002'\n",
       "\\item 'SXR0004'\n",
       "\\item 'SXR0006'\n",
       "\\item 'SXR0014'\n",
       "\\item 'SXR0016'\n",
       "\\item 'SXR0028'\n",
       "\\end{enumerate*}\n"
      ],
      "text/markdown": [
       "1. 'SXR0002'\n",
       "2. 'SXR0004'\n",
       "3. 'SXR0006'\n",
       "4. 'SXR0014'\n",
       "5. 'SXR0016'\n",
       "6. 'SXR0028'\n",
       "\n",
       "\n"
      ],
      "text/plain": [
       "[1] \"SXR0002\" \"SXR0004\" \"SXR0006\" \"SXR0014\" \"SXR0016\" \"SXR0028\""
      ]
     },
     "metadata": {},
     "output_type": "display_data"
    },
    {
     "data": {
      "text/html": [
       "<style>\n",
       ".list-inline {list-style: none; margin:0; padding: 0}\n",
       ".list-inline>li {display: inline-block}\n",
       ".list-inline>li:not(:last-child)::after {content: \"\\00b7\"; padding: 0 .5ex}\n",
       "</style>\n",
       "<ol class=list-inline><li>'SXR0010'</li><li>'SXR0018'</li><li>'SXR0035'</li><li>'SXR0038'</li><li>'SXR0047'</li><li>'SXR0048'</li></ol>\n"
      ],
      "text/latex": [
       "\\begin{enumerate*}\n",
       "\\item 'SXR0010'\n",
       "\\item 'SXR0018'\n",
       "\\item 'SXR0035'\n",
       "\\item 'SXR0038'\n",
       "\\item 'SXR0047'\n",
       "\\item 'SXR0048'\n",
       "\\end{enumerate*}\n"
      ],
      "text/markdown": [
       "1. 'SXR0010'\n",
       "2. 'SXR0018'\n",
       "3. 'SXR0035'\n",
       "4. 'SXR0038'\n",
       "5. 'SXR0047'\n",
       "6. 'SXR0048'\n",
       "\n",
       "\n"
      ],
      "text/plain": [
       "[1] \"SXR0010\" \"SXR0018\" \"SXR0035\" \"SXR0038\" \"SXR0047\" \"SXR0048\""
      ]
     },
     "metadata": {},
     "output_type": "display_data"
    },
    {
     "data": {
      "text/html": [
       "47"
      ],
      "text/latex": [
       "47"
      ],
      "text/markdown": [
       "47"
      ],
      "text/plain": [
       "[1] 47"
      ]
     },
     "metadata": {},
     "output_type": "display_data"
    },
    {
     "data": {
      "text/html": [
       "16"
      ],
      "text/latex": [
       "16"
      ],
      "text/markdown": [
       "16"
      ],
      "text/plain": [
       "[1] 16"
      ]
     },
     "metadata": {},
     "output_type": "display_data"
    },
    {
     "data": {
      "text/html": [
       "63"
      ],
      "text/latex": [
       "63"
      ],
      "text/markdown": [
       "63"
      ],
      "text/plain": [
       "[1] 63"
      ]
     },
     "metadata": {},
     "output_type": "display_data"
    },
    {
     "data": {
      "text/plain": [
       "\n",
       "ccRCC \n",
       "   47 "
      ]
     },
     "metadata": {},
     "output_type": "display_data"
    },
    {
     "data": {
      "text/plain": [
       "\n",
       "urolithiasis \n",
       "          16 "
      ]
     },
     "metadata": {},
     "output_type": "display_data"
    }
   ],
   "source": [
    "# now calc quantile RPM over sample groups (tumor/normal)\n",
    "tumorIDs = intersect(colnames(allRPMsPerBase),sampleAnnot[ sampleAnnot$group==\"ccRCC\",\"ID\"])\n",
    "normalIDs = intersect(colnames(allRPMsPerBase),sampleAnnot[ sampleAnnot$group==\"urolithiasis\",\"ID\"])\n",
    "head(tumorIDs); head(normalIDs)\n",
    "length(tumorIDs); length(normalIDs); length(tumorIDs) + length(normalIDs)\n",
    "table( sampleAnnot[ tumorIDs,\"group\"])\n",
    "table( sampleAnnot[ normalIDs,\"group\"])"
   ]
  },
  {
   "cell_type": "code",
   "execution_count": 16,
   "id": "raised-lyric",
   "metadata": {},
   "outputs": [],
   "source": [
    "# add mean and sd:\n",
    "rpmMeanSDTumor = t(apply(allRPMsPerBase[,tumorIDs],1,function(rpm) cbind(mean(rpm),sd(rpm)) ))\n",
    "rpmMeanSDNormal = t(apply(allRPMsPerBase[,normalIDs],1,function(rpm) cbind(mean(rpm),sd(rpm)) ))"
   ]
  },
  {
   "cell_type": "code",
   "execution_count": 17,
   "id": "766f1096",
   "metadata": {},
   "outputs": [],
   "source": [
    "allMeanSd = cbind(allRPMsPerBase[,1:3],group=\"tumor\",rpmMeanSDTumor)\n",
    "allMeanSd = rbind(allMeanSd = cbind(allRPMsPerBase[,1:3],group=\"tumor\",rpmMeanSDTumor),\n",
    "                  cbind(allRPMsPerBase[,1:3],group=\"normal\",rpmMeanSDNormal))\n",
    "n = ncol(allMeanSd)\n",
    "colnames(allMeanSd)[c(n-1,n)] = c(\"mean\",\"sd\")\n",
    "allMeanSd$mean_plus_1 = allMeanSd$mean + 1"
   ]
  },
  {
   "cell_type": "markdown",
   "id": "e4b4dd8d",
   "metadata": {
    "scrolled": true
   },
   "source": [
    "### transcript plots below coverage plot:"
   ]
  },
  {
   "cell_type": "code",
   "execution_count": 18,
   "id": "communist-westminster",
   "metadata": {
    "scrolled": true
   },
   "outputs": [
    {
     "data": {
      "image/png": "[encoded data removed]",
      "text/plain": [
       "plot without title"
      ]
     },
     "metadata": {
      "image/png": {
       "height": 420,
       "width": 420
      }
     },
     "output_type": "display_data"
    }
   ],
   "source": [
    "pTxSNHG1 = ggplot() + \n",
    "    geom_rect(data = deseqRes_signifSNHG1,mapping = aes(xmin=start, xmax=end,ymin=-Inf,ymax=Inf),\n",
    "              fill=\"#AAAAAA\", alpha=0.4) + \n",
    "    geom_rect(data = ucscAnnotTx, mapping=aes(xmin=txStart, xmax=txEnd,\n",
    "                                  ymin=pos-0.05,ymax=pos+0.05),col=\"#3cb57e\",fill=\"#3cb57e\") + \n",
    "    geom_rect(data = ucscAnnotEx, mapping=aes(xmin=start, xmax=end,\n",
    "                                  ymin=pos+0.4,ymax=pos-0.4),col=\"#3cb57e\",fill=\"#3cb57e\") + \n",
    "    # SNHG annotation within exons:\n",
    "    geom_text(data = ucscAnnotTx[ ucscAnnotTx$symbol==\"SNHG1\",], hjust=\"left\", size=2.5, \n",
    "              mapping=aes(x = txStart, y=pos, label=symbol), fontface=3) +\n",
    "    # SNORD annotation below exons\n",
    "    geom_text(data = ucscAnnotTx[ ucscAnnotTx$symbol!=\"SNHG1\",], hjust=\"left\", vjust=2.1, size=2.5, \n",
    "              mapping=aes(x = txStart, y=pos, label=symbol), fontface=3) +\n",
    "     scale_y_continuous(breaks = 1:5, limits = c(-6,0)) + \n",
    "    #xlim(62619427, 62623380) + \n",
    "    scale_x_continuous(breaks = seq(62619500,62623300,100), limits = c(62619400,62623400),expand = c(0, 0)) + \n",
    "    xlab(\"position on chr11\") + ylab(\"\")+\n",
    "    theme_minimal() + # theme_minimal()#theme_classic() theme_void\n",
    "    theme(axis.text.x = element_text(angle = 45, vjust = 1.0, hjust=1),\n",
    "         plot.margin=margin(-1,7,7,7), \n",
    "         panel.grid.major.y = element_blank(), panel.grid.minor.y = element_blank()) \n",
    "pTxSNHG1 "
   ]
  },
  {
   "cell_type": "markdown",
   "id": "4a36f8f8",
   "metadata": {
    "scrolled": false
   },
   "source": [
    "### plot"
   ]
  },
  {
   "cell_type": "code",
   "execution_count": 19,
   "id": "deeb0745",
   "metadata": {
    "scrolled": true
   },
   "outputs": [
    {
     "name": "stderr",
     "output_type": "stream",
     "text": [
      "Warning message:\n",
      "“\u001b[1m\u001b[22mUsing `size` aesthetic for lines was deprecated in ggplot2 3.4.0.\n",
      "\u001b[36mℹ\u001b[39m Please use `linewidth` instead.”\n",
      "Warning message in trans$transform(limits):\n",
      "“NaNs produced”\n"
     ]
    },
    {
     "data": {
      "image/png": "[encoded data removed]",
      "text/plain": [
       "plot without title"
      ]
     },
     "metadata": {
      "image/png": {
       "height": 420,
       "width": 420
      }
     },
     "output_type": "display_data"
    },
    {
     "data": {
      "text/html": [
       "<strong>png:</strong> 2"
      ],
      "text/latex": [
       "\\textbf{png:} 2"
      ],
      "text/markdown": [
       "**png:** 2"
      ],
      "text/plain": [
       "png \n",
       "  2 "
      ]
     },
     "metadata": {},
     "output_type": "display_data"
    },
    {
     "data": {
      "image/png": "[encoded data removed]",
      "text/plain": [
       "plot without title"
      ]
     },
     "metadata": {
      "image/png": {
       "height": 420,
       "width": 420
      }
     },
     "output_type": "display_data"
    }
   ],
   "source": [
    "p1 = ggplot(data = allMeanSd) + \n",
    "    # grey filled rect around signif regions:\n",
    "    geom_rect(data = deseqRes_signifSNHG1,mapping = aes(xmin=start, xmax=end,ymin=0,ymax=Inf),\n",
    "              fill=\"#AAAAAA\", alpha=0.4) +\n",
    "    # mean expression:\n",
    "    geom_line(aes(x = pos,y=mean_plus_1, linetype = group,col=group), alpha=1, size=0.5) + labs(y=\"RPM mean\") + \n",
    "    # significant regions segments:\n",
    "    geom_segment(data = deseqRes_signifSNHG1,mapping = aes(x = start+5,xend=end-5,y=75,yend=75), \n",
    "                 arrow=arrow(angle = 90, ends = \"both\",length = unit(0.05,\"inches\" )),color=\"#222222\")+\n",
    "    # signif regions p-adjusted and log2FC:\n",
    "    annotate(geom=\"text\", x=deseqRes_signifSNHG1$start[1]+50, y=68,hjust=.8, angle=0,\n",
    "             label=round(deseqRes_signifSNHG1$padj[1],4), size=2.8,color=\"#222222\") + \n",
    "    annotate(geom=\"text\", x=deseqRes_signifSNHG1$start[2]+50, y=68,hjust=.2,angle=0,\n",
    "             label=round(deseqRes_signifSNHG1$padj[2],4), size=2.8,color=\"#222222\") + \n",
    "    annotate(geom=\"text\", x=deseqRes_signifSNHG1$start[3]+50, y=68,hjust=.8,angle=0,\n",
    "             label=round(deseqRes_signifSNHG1$padj[3],4), size=2.8,color=\"#222222\") + \n",
    "    annotate(geom=\"text\", x=deseqRes_signifSNHG1$start[4]+50, y=68,hjust=.2,angle=0,\n",
    "             label=round(deseqRes_signifSNHG1$padj[4],4), size=2.8,color=\"#222222\") + \n",
    "    annotate(geom=\"text\", x=deseqRes_signifSNHG1$start[1]+50, y=83,hjust=.8,angle=0,\n",
    "             label=round(deseqRes_signifSNHG1$log2FoldChange[1],2), size=2.8,color=\"#222222\") + \n",
    "    annotate(geom=\"text\", x=deseqRes_signifSNHG1$start[2]+50, y=83,hjust=0.2,angle=0,\n",
    "             label=round(deseqRes_signifSNHG1$log2FoldChange[2],2), size=2.8,color=\"#222222\") + \n",
    "    annotate(geom=\"text\", x=deseqRes_signifSNHG1$start[3]+50, y=83,hjust=.8,angle=0,\n",
    "             label=round(deseqRes_signifSNHG1$log2FoldChange[3],2), size=2.8,color=\"#222222\") + \n",
    "    annotate(geom=\"text\", x=deseqRes_signifSNHG1$start[4]+50, y=83,hjust=.2,angle=0,\n",
    "             label=round(deseqRes_signifSNHG1$log2FoldChange[4],2), size=2.8,color=\"#222222\") + \n",
    "    annotate(geom=\"text\", x=62619450, y=83,label=\"log2 fold-change\", size=2.8,color=\"#222222\",hjust=0) + \n",
    "    annotate(geom=\"text\", x=62619450, y=68,label=\"p-adjusted\", size=2.8,color=\"#222222\",hjust=0) + \n",
    "\n",
    "    scale_y_sqrt(breaks = c(1,4,11,21,31,41,51,61), labels=c(0,3,10,20,30,40,50,60), limits=c(-2,83)) + \n",
    "    scale_x_continuous(breaks = seq(62619400,62623400,100), limits = c(62619400,62623400)\n",
    "                      ,expand = c(0, 0)) + \n",
    "    scale_linetype_manual(values = c(\"longdash\",\"solid\"),breaks=c(\"tumor\",\"normal\")) + \n",
    "    scale_color_manual(values=c(\"#d65900\", \"blue\"), breaks=c(\"tumor\",\"normal\")) + \n",
    "    theme_minimal() + # theme_classic()#theme_classic() theme_void()\n",
    "    theme(legend.position = \"top\", axis.text.x=element_blank(), axis.title.x=element_blank(),\n",
    "         plot.margin=margin(4,7,-10,7))# ,\n",
    "\n",
    "p1\n",
    "pTxSNHG1 \n",
    "\n",
    "png(filename = figureOutFile,width = 3600,height = 1800, res=380)\n",
    " gA <- ggplotGrob(p1)\n",
    " gB <- ggplotGrob(pTxSNHG1)\n",
    " maxWidth = grid::unit.pmax(gA$widths[2:5], gB$widths[2:5])\n",
    " gA$widths[2:5] <- as.list(maxWidth)\n",
    " gB$widths[2:5] <- as.list(maxWidth)\n",
    " grid.arrange(gA, gB, ncol=1,heights=c(5,2.8))\n",
    "\n",
    "dev.off()"
   ]
  },
  {
   "cell_type": "code",
   "execution_count": null,
   "id": "bb585d23",
   "metadata": {},
   "outputs": [],
   "source": []
  },
  {
   "cell_type": "code",
   "execution_count": null,
   "id": "de84f496",
   "metadata": {},
   "outputs": [],
   "source": []
  }
 ],
 "metadata": {
  "kernelspec": {
   "display_name": "R",
   "language": "R",
   "name": "ir"
  },
  "language_info": {
   "codemirror_mode": "r",
   "file_extension": ".r",
   "mimetype": "text/x-r-source",
   "name": "R",
   "pygments_lexer": "r",
   "version": "4.2.0"
  }
 },
 "nbformat": 4,
 "nbformat_minor": 5
}
