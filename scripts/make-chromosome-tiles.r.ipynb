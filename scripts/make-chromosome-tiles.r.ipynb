{
 "cells": [
  {
   "cell_type": "code",
   "execution_count": 1,
   "id": "581bb7ab",
   "metadata": {
    "scrolled": true
   },
   "outputs": [
    {
     "name": "stderr",
     "output_type": "stream",
     "text": [
      "Warning message:\n",
      "“package ‘Rsamtools’ was built under R version 4.2.3”\n",
      "Loading required package: GenomeInfoDb\n",
      "\n",
      "Warning message:\n",
      "“package ‘GenomeInfoDb’ was built under R version 4.2.3”\n",
      "Loading required package: BiocGenerics\n",
      "\n",
      "Warning message:\n",
      "“package ‘BiocGenerics’ was built under R version 4.2.1”\n",
      "\n",
      "Attaching package: ‘BiocGenerics’\n",
      "\n",
      "\n",
      "The following objects are masked from ‘package:stats’:\n",
      "\n",
      "    IQR, mad, sd, var, xtabs\n",
      "\n",
      "\n",
      "The following objects are masked from ‘package:base’:\n",
      "\n",
      "    anyDuplicated, aperm, append, as.data.frame, basename, cbind,\n",
      "    colnames, dirname, do.call, duplicated, eval, evalq, Filter, Find,\n",
      "    get, grep, grepl, intersect, is.unsorted, lapply, Map, mapply,\n",
      "    match, mget, order, paste, pmax, pmax.int, pmin, pmin.int,\n",
      "    Position, rank, rbind, Reduce, rownames, sapply, setdiff, sort,\n",
      "    table, tapply, union, unique, unsplit, which.max, which.min\n",
      "\n",
      "\n",
      "Loading required package: S4Vectors\n",
      "\n",
      "Warning message:\n",
      "“package ‘S4Vectors’ was built under R version 4.2.3”\n",
      "Loading required package: stats4\n",
      "\n",
      "\n",
      "Attaching package: ‘S4Vectors’\n",
      "\n",
      "\n",
      "The following objects are masked from ‘package:base’:\n",
      "\n",
      "    expand.grid, I, unname\n",
      "\n",
      "\n",
      "Loading required package: IRanges\n",
      "\n",
      "Warning message:\n",
      "“package ‘IRanges’ was built under R version 4.2.3”\n",
      "Loading required package: GenomicRanges\n",
      "\n",
      "Warning message:\n",
      "“package ‘GenomicRanges’ was built under R version 4.2.3”\n",
      "Loading required package: Biostrings\n",
      "\n",
      "Warning message:\n",
      "“package ‘Biostrings’ was built under R version 4.2.3”\n",
      "Loading required package: XVector\n",
      "\n",
      "Warning message:\n",
      "“package ‘XVector’ was built under R version 4.2.3”\n",
      "\n",
      "Attaching package: ‘Biostrings’\n",
      "\n",
      "\n",
      "The following object is masked from ‘package:base’:\n",
      "\n",
      "    strsplit\n",
      "\n",
      "\n"
     ]
    }
   ],
   "source": [
    "library(Rsamtools)\n",
    "library(GenomicRanges)"
   ]
  },
  {
   "cell_type": "code",
   "execution_count": 2,
   "id": "ab7c2d19",
   "metadata": {},
   "outputs": [],
   "source": [
    "chrTileSize = 100 # how big the slices of chr should be"
   ]
  },
  {
   "cell_type": "code",
   "execution_count": 5,
   "id": "61908753",
   "metadata": {},
   "outputs": [
    {
     "data": {
      "text/html": [
       "<style>\n",
       ".list-inline {list-style: none; margin:0; padding: 0}\n",
       ".list-inline>li {display: inline-block}\n",
       ".list-inline>li:not(:last-child)::after {content: \"\\00b7\"; padding: 0 .5ex}\n",
       "</style>\n",
       "<ol class=list-inline><li>'chr1'</li><li>'chr2'</li><li>'chr3'</li><li>'chr4'</li><li>'chr5'</li><li>'chr6'</li><li>'chr7'</li><li>'chr8'</li><li>'chr9'</li><li>'chr10'</li><li>'chr11'</li><li>'chr12'</li><li>'chr13'</li><li>'chr14'</li><li>'chr15'</li><li>'chr16'</li><li>'chr17'</li><li>'chr18'</li><li>'chr19'</li><li>'chr20'</li><li>'chr21'</li><li>'chr22'</li><li>'chrX'</li><li>'chrY'</li></ol>\n"
      ],
      "text/latex": [
       "\\begin{enumerate*}\n",
       "\\item 'chr1'\n",
       "\\item 'chr2'\n",
       "\\item 'chr3'\n",
       "\\item 'chr4'\n",
       "\\item 'chr5'\n",
       "\\item 'chr6'\n",
       "\\item 'chr7'\n",
       "\\item 'chr8'\n",
       "\\item 'chr9'\n",
       "\\item 'chr10'\n",
       "\\item 'chr11'\n",
       "\\item 'chr12'\n",
       "\\item 'chr13'\n",
       "\\item 'chr14'\n",
       "\\item 'chr15'\n",
       "\\item 'chr16'\n",
       "\\item 'chr17'\n",
       "\\item 'chr18'\n",
       "\\item 'chr19'\n",
       "\\item 'chr20'\n",
       "\\item 'chr21'\n",
       "\\item 'chr22'\n",
       "\\item 'chrX'\n",
       "\\item 'chrY'\n",
       "\\end{enumerate*}\n"
      ],
      "text/markdown": [
       "1. 'chr1'\n",
       "2. 'chr2'\n",
       "3. 'chr3'\n",
       "4. 'chr4'\n",
       "5. 'chr5'\n",
       "6. 'chr6'\n",
       "7. 'chr7'\n",
       "8. 'chr8'\n",
       "9. 'chr9'\n",
       "10. 'chr10'\n",
       "11. 'chr11'\n",
       "12. 'chr12'\n",
       "13. 'chr13'\n",
       "14. 'chr14'\n",
       "15. 'chr15'\n",
       "16. 'chr16'\n",
       "17. 'chr17'\n",
       "18. 'chr18'\n",
       "19. 'chr19'\n",
       "20. 'chr20'\n",
       "21. 'chr21'\n",
       "22. 'chr22'\n",
       "23. 'chrX'\n",
       "24. 'chrY'\n",
       "\n",
       "\n"
      ],
      "text/plain": [
       " [1] \"chr1\"  \"chr2\"  \"chr3\"  \"chr4\"  \"chr5\"  \"chr6\"  \"chr7\"  \"chr8\"  \"chr9\" \n",
       "[10] \"chr10\" \"chr11\" \"chr12\" \"chr13\" \"chr14\" \"chr15\" \"chr16\" \"chr17\" \"chr18\"\n",
       "[19] \"chr19\" \"chr20\" \"chr21\" \"chr22\" \"chrX\"  \"chrY\" "
      ]
     },
     "metadata": {},
     "output_type": "display_data"
    }
   ],
   "source": [
    "usedChr = paste0(\"chr\",c(as.character(1:22),\"X\",\"Y\"))\n",
    "usedChr"
   ]
  },
  {
   "cell_type": "code",
   "execution_count": 6,
   "id": "7e140ecc",
   "metadata": {},
   "outputs": [],
   "source": [
    "chrSizes = read.csv(file = \"../annotation/hg19.chrom.sizes\",header = F,sep = \"\\t\",\n",
    "                     stringsAsFactors = F, col.names = c(\"chr\",\"size\"))"
   ]
  },
  {
   "cell_type": "code",
   "execution_count": 7,
   "id": "e7d513be",
   "metadata": {
    "scrolled": true
   },
   "outputs": [
    {
     "data": {
      "text/html": [
       "<style>\n",
       ".list-inline {list-style: none; margin:0; padding: 0}\n",
       ".list-inline>li {display: inline-block}\n",
       ".list-inline>li:not(:last-child)::after {content: \"\\00b7\"; padding: 0 .5ex}\n",
       "</style>\n",
       "<ol class=list-inline><li>'chr1'</li><li>'chr2'</li><li>'chr3'</li><li>'chr4'</li><li>'chr5'</li><li>'chr6'</li><li>'chr7'</li><li>'chr8'</li><li>'chr9'</li><li>'chr10'</li><li>'chr11'</li><li>'chr12'</li><li>'chr13'</li><li>'chr14'</li><li>'chr15'</li><li>'chr16'</li><li>'chr17'</li><li>'chr18'</li><li>'chr19'</li><li>'chr20'</li><li>'chr21'</li><li>'chr22'</li><li>'chrX'</li><li>'chrY'</li></ol>\n"
      ],
      "text/latex": [
       "\\begin{enumerate*}\n",
       "\\item 'chr1'\n",
       "\\item 'chr2'\n",
       "\\item 'chr3'\n",
       "\\item 'chr4'\n",
       "\\item 'chr5'\n",
       "\\item 'chr6'\n",
       "\\item 'chr7'\n",
       "\\item 'chr8'\n",
       "\\item 'chr9'\n",
       "\\item 'chr10'\n",
       "\\item 'chr11'\n",
       "\\item 'chr12'\n",
       "\\item 'chr13'\n",
       "\\item 'chr14'\n",
       "\\item 'chr15'\n",
       "\\item 'chr16'\n",
       "\\item 'chr17'\n",
       "\\item 'chr18'\n",
       "\\item 'chr19'\n",
       "\\item 'chr20'\n",
       "\\item 'chr21'\n",
       "\\item 'chr22'\n",
       "\\item 'chrX'\n",
       "\\item 'chrY'\n",
       "\\end{enumerate*}\n"
      ],
      "text/markdown": [
       "1. 'chr1'\n",
       "2. 'chr2'\n",
       "3. 'chr3'\n",
       "4. 'chr4'\n",
       "5. 'chr5'\n",
       "6. 'chr6'\n",
       "7. 'chr7'\n",
       "8. 'chr8'\n",
       "9. 'chr9'\n",
       "10. 'chr10'\n",
       "11. 'chr11'\n",
       "12. 'chr12'\n",
       "13. 'chr13'\n",
       "14. 'chr14'\n",
       "15. 'chr15'\n",
       "16. 'chr16'\n",
       "17. 'chr17'\n",
       "18. 'chr18'\n",
       "19. 'chr19'\n",
       "20. 'chr20'\n",
       "21. 'chr21'\n",
       "22. 'chr22'\n",
       "23. 'chrX'\n",
       "24. 'chrY'\n",
       "\n",
       "\n"
      ],
      "text/plain": [
       " [1] \"chr1\"  \"chr2\"  \"chr3\"  \"chr4\"  \"chr5\"  \"chr6\"  \"chr7\"  \"chr8\"  \"chr9\" \n",
       "[10] \"chr10\" \"chr11\" \"chr12\" \"chr13\" \"chr14\" \"chr15\" \"chr16\" \"chr17\" \"chr18\"\n",
       "[19] \"chr19\" \"chr20\" \"chr21\" \"chr22\" \"chrX\"  \"chrY\" "
      ]
     },
     "metadata": {},
     "output_type": "display_data"
    },
    {
     "name": "stderr",
     "output_type": "stream",
     "text": [
      "Warning message in eval(quote(list(...)), env):\n",
      "“NAs introduced by coercion”\n"
     ]
    },
    {
     "data": {
      "text/html": [
       "<table class=\"dataframe\">\n",
       "<caption>A data.frame: 24 × 2</caption>\n",
       "<thead>\n",
       "\t<tr><th></th><th scope=col>chr</th><th scope=col>size</th></tr>\n",
       "\t<tr><th></th><th scope=col>&lt;chr&gt;</th><th scope=col>&lt;int&gt;</th></tr>\n",
       "</thead>\n",
       "<tbody>\n",
       "\t<tr><th scope=row>1</th><td>chr1 </td><td>249250621</td></tr>\n",
       "\t<tr><th scope=row>2</th><td>chr2 </td><td>243199373</td></tr>\n",
       "\t<tr><th scope=row>3</th><td>chr3 </td><td>198022430</td></tr>\n",
       "\t<tr><th scope=row>4</th><td>chr4 </td><td>191154276</td></tr>\n",
       "\t<tr><th scope=row>5</th><td>chr5 </td><td>180915260</td></tr>\n",
       "\t<tr><th scope=row>6</th><td>chr6 </td><td>171115067</td></tr>\n",
       "\t<tr><th scope=row>7</th><td>chr7 </td><td>159138663</td></tr>\n",
       "\t<tr><th scope=row>9</th><td>chr8 </td><td>146364022</td></tr>\n",
       "\t<tr><th scope=row>10</th><td>chr9 </td><td>141213431</td></tr>\n",
       "\t<tr><th scope=row>11</th><td>chr10</td><td>135534747</td></tr>\n",
       "\t<tr><th scope=row>12</th><td>chr11</td><td>135006516</td></tr>\n",
       "\t<tr><th scope=row>13</th><td>chr12</td><td>133851895</td></tr>\n",
       "\t<tr><th scope=row>14</th><td>chr13</td><td>115169878</td></tr>\n",
       "\t<tr><th scope=row>15</th><td>chr14</td><td>107349540</td></tr>\n",
       "\t<tr><th scope=row>16</th><td>chr15</td><td>102531392</td></tr>\n",
       "\t<tr><th scope=row>17</th><td>chr16</td><td> 90354753</td></tr>\n",
       "\t<tr><th scope=row>18</th><td>chr17</td><td> 81195210</td></tr>\n",
       "\t<tr><th scope=row>19</th><td>chr18</td><td> 78077248</td></tr>\n",
       "\t<tr><th scope=row>22</th><td>chr19</td><td> 59128983</td></tr>\n",
       "\t<tr><th scope=row>20</th><td>chr20</td><td> 63025520</td></tr>\n",
       "\t<tr><th scope=row>24</th><td>chr21</td><td> 48129895</td></tr>\n",
       "\t<tr><th scope=row>23</th><td>chr22</td><td> 51304566</td></tr>\n",
       "\t<tr><th scope=row>8</th><td>chrX </td><td>155270560</td></tr>\n",
       "\t<tr><th scope=row>21</th><td>chrY </td><td> 59373566</td></tr>\n",
       "</tbody>\n",
       "</table>\n"
      ],
      "text/latex": [
       "A data.frame: 24 × 2\n",
       "\\begin{tabular}{r|ll}\n",
       "  & chr & size\\\\\n",
       "  & <chr> & <int>\\\\\n",
       "\\hline\n",
       "\t1 & chr1  & 249250621\\\\\n",
       "\t2 & chr2  & 243199373\\\\\n",
       "\t3 & chr3  & 198022430\\\\\n",
       "\t4 & chr4  & 191154276\\\\\n",
       "\t5 & chr5  & 180915260\\\\\n",
       "\t6 & chr6  & 171115067\\\\\n",
       "\t7 & chr7  & 159138663\\\\\n",
       "\t9 & chr8  & 146364022\\\\\n",
       "\t10 & chr9  & 141213431\\\\\n",
       "\t11 & chr10 & 135534747\\\\\n",
       "\t12 & chr11 & 135006516\\\\\n",
       "\t13 & chr12 & 133851895\\\\\n",
       "\t14 & chr13 & 115169878\\\\\n",
       "\t15 & chr14 & 107349540\\\\\n",
       "\t16 & chr15 & 102531392\\\\\n",
       "\t17 & chr16 &  90354753\\\\\n",
       "\t18 & chr17 &  81195210\\\\\n",
       "\t19 & chr18 &  78077248\\\\\n",
       "\t22 & chr19 &  59128983\\\\\n",
       "\t20 & chr20 &  63025520\\\\\n",
       "\t24 & chr21 &  48129895\\\\\n",
       "\t23 & chr22 &  51304566\\\\\n",
       "\t8 & chrX  & 155270560\\\\\n",
       "\t21 & chrY  &  59373566\\\\\n",
       "\\end{tabular}\n"
      ],
      "text/markdown": [
       "\n",
       "A data.frame: 24 × 2\n",
       "\n",
       "| <!--/--> | chr &lt;chr&gt; | size &lt;int&gt; |\n",
       "|---|---|---|\n",
       "| 1 | chr1  | 249250621 |\n",
       "| 2 | chr2  | 243199373 |\n",
       "| 3 | chr3  | 198022430 |\n",
       "| 4 | chr4  | 191154276 |\n",
       "| 5 | chr5  | 180915260 |\n",
       "| 6 | chr6  | 171115067 |\n",
       "| 7 | chr7  | 159138663 |\n",
       "| 9 | chr8  | 146364022 |\n",
       "| 10 | chr9  | 141213431 |\n",
       "| 11 | chr10 | 135534747 |\n",
       "| 12 | chr11 | 135006516 |\n",
       "| 13 | chr12 | 133851895 |\n",
       "| 14 | chr13 | 115169878 |\n",
       "| 15 | chr14 | 107349540 |\n",
       "| 16 | chr15 | 102531392 |\n",
       "| 17 | chr16 |  90354753 |\n",
       "| 18 | chr17 |  81195210 |\n",
       "| 19 | chr18 |  78077248 |\n",
       "| 22 | chr19 |  59128983 |\n",
       "| 20 | chr20 |  63025520 |\n",
       "| 24 | chr21 |  48129895 |\n",
       "| 23 | chr22 |  51304566 |\n",
       "| 8 | chrX  | 155270560 |\n",
       "| 21 | chrY  |  59373566 |\n",
       "\n"
      ],
      "text/plain": [
       "   chr   size     \n",
       "1  chr1  249250621\n",
       "2  chr2  243199373\n",
       "3  chr3  198022430\n",
       "4  chr4  191154276\n",
       "5  chr5  180915260\n",
       "6  chr6  171115067\n",
       "7  chr7  159138663\n",
       "9  chr8  146364022\n",
       "10 chr9  141213431\n",
       "11 chr10 135534747\n",
       "12 chr11 135006516\n",
       "13 chr12 133851895\n",
       "14 chr13 115169878\n",
       "15 chr14 107349540\n",
       "16 chr15 102531392\n",
       "17 chr16  90354753\n",
       "18 chr17  81195210\n",
       "19 chr18  78077248\n",
       "22 chr19  59128983\n",
       "20 chr20  63025520\n",
       "24 chr21  48129895\n",
       "23 chr22  51304566\n",
       "8  chrX  155270560\n",
       "21 chrY   59373566"
      ]
     },
     "metadata": {},
     "output_type": "display_data"
    }
   ],
   "source": [
    "usedChr = intersect(usedChr, chrSizes$chr)\n",
    "usedChr\n",
    "chrSizes = chrSizes[chrSizes$chr %in% usedChr,]\n",
    "o = order(as.numeric(substr(chrSizes$chr,start = 4,5)))\n",
    "chrSizes = chrSizes[o,]\n",
    "chrSizes"
   ]
  },
  {
   "cell_type": "code",
   "execution_count": 8,
   "id": "88ff5ed0",
   "metadata": {},
   "outputs": [
    {
     "data": {
      "text/plain": [
       "GRanges object with 30956785 ranges and 0 metadata columns:\n",
       "             seqnames            ranges strand\n",
       "                <Rle>         <IRanges>  <Rle>\n",
       "         [1]     chr1             1-100      *\n",
       "         [2]     chr1           101-200      *\n",
       "         [3]     chr1           201-300      *\n",
       "         [4]     chr1           301-400      *\n",
       "         [5]     chr1           401-500      *\n",
       "         ...      ...               ...    ...\n",
       "  [30956781]     chrY 59373101-59373200      *\n",
       "  [30956782]     chrY 59373201-59373300      *\n",
       "  [30956783]     chrY 59373301-59373400      *\n",
       "  [30956784]     chrY 59373401-59373500      *\n",
       "  [30956785]     chrY 59373501-59373566      *\n",
       "  -------\n",
       "  seqinfo: 24 sequences from an unspecified genome"
      ]
     },
     "metadata": {},
     "output_type": "display_data"
    },
    {
     "data": {
      "text/html": [
       "30956785"
      ],
      "text/latex": [
       "30956785"
      ],
      "text/markdown": [
       "30956785"
      ],
      "text/plain": [
       "[1] 30956785"
      ]
     },
     "metadata": {},
     "output_type": "display_data"
    },
    {
     "data": {
      "text/html": [
       "<table class=\"dataframe\">\n",
       "<caption>A data.frame: 6 × 5</caption>\n",
       "<thead>\n",
       "\t<tr><th></th><th scope=col>seqnames</th><th scope=col>start</th><th scope=col>end</th><th scope=col>width</th><th scope=col>strand</th></tr>\n",
       "\t<tr><th></th><th scope=col>&lt;fct&gt;</th><th scope=col>&lt;int&gt;</th><th scope=col>&lt;int&gt;</th><th scope=col>&lt;int&gt;</th><th scope=col>&lt;fct&gt;</th></tr>\n",
       "</thead>\n",
       "<tbody>\n",
       "\t<tr><th scope=row>1</th><td>chr1</td><td>  1</td><td>100</td><td>100</td><td>*</td></tr>\n",
       "\t<tr><th scope=row>2</th><td>chr1</td><td>101</td><td>200</td><td>100</td><td>*</td></tr>\n",
       "\t<tr><th scope=row>3</th><td>chr1</td><td>201</td><td>300</td><td>100</td><td>*</td></tr>\n",
       "\t<tr><th scope=row>4</th><td>chr1</td><td>301</td><td>400</td><td>100</td><td>*</td></tr>\n",
       "\t<tr><th scope=row>5</th><td>chr1</td><td>401</td><td>500</td><td>100</td><td>*</td></tr>\n",
       "\t<tr><th scope=row>6</th><td>chr1</td><td>501</td><td>600</td><td>100</td><td>*</td></tr>\n",
       "</tbody>\n",
       "</table>\n"
      ],
      "text/latex": [
       "A data.frame: 6 × 5\n",
       "\\begin{tabular}{r|lllll}\n",
       "  & seqnames & start & end & width & strand\\\\\n",
       "  & <fct> & <int> & <int> & <int> & <fct>\\\\\n",
       "\\hline\n",
       "\t1 & chr1 &   1 & 100 & 100 & *\\\\\n",
       "\t2 & chr1 & 101 & 200 & 100 & *\\\\\n",
       "\t3 & chr1 & 201 & 300 & 100 & *\\\\\n",
       "\t4 & chr1 & 301 & 400 & 100 & *\\\\\n",
       "\t5 & chr1 & 401 & 500 & 100 & *\\\\\n",
       "\t6 & chr1 & 501 & 600 & 100 & *\\\\\n",
       "\\end{tabular}\n"
      ],
      "text/markdown": [
       "\n",
       "A data.frame: 6 × 5\n",
       "\n",
       "| <!--/--> | seqnames &lt;fct&gt; | start &lt;int&gt; | end &lt;int&gt; | width &lt;int&gt; | strand &lt;fct&gt; |\n",
       "|---|---|---|---|---|---|\n",
       "| 1 | chr1 |   1 | 100 | 100 | * |\n",
       "| 2 | chr1 | 101 | 200 | 100 | * |\n",
       "| 3 | chr1 | 201 | 300 | 100 | * |\n",
       "| 4 | chr1 | 301 | 400 | 100 | * |\n",
       "| 5 | chr1 | 401 | 500 | 100 | * |\n",
       "| 6 | chr1 | 501 | 600 | 100 | * |\n",
       "\n"
      ],
      "text/plain": [
       "  seqnames start end width strand\n",
       "1 chr1       1   100 100   *     \n",
       "2 chr1     101   200 100   *     \n",
       "3 chr1     201   300 100   *     \n",
       "4 chr1     301   400 100   *     \n",
       "5 chr1     401   500 100   *     \n",
       "6 chr1     501   600 100   *     "
      ]
     },
     "metadata": {},
     "output_type": "display_data"
    }
   ],
   "source": [
    "tmp = chrSizes$chr\n",
    "chrSizes = chrSizes$size\n",
    "names(chrSizes) = tmp\n",
    "chrTilesGR = tileGenome(chrSizes, tilewidth = chrTileSize, cut.last.tile.in.chrom = T)\n",
    "chrTilesGR\n",
    "length(chrTilesGR) # ca. 31 Mio slices, 31000 if slices are 100000 long\n",
    "chrTilesDF = as.data.frame(chrTilesGR)\n",
    "head(chrTilesDF)"
   ]
  },
  {
   "cell_type": "code",
   "execution_count": 9,
   "id": "4847046c",
   "metadata": {},
   "outputs": [],
   "source": [
    "write.table(x = chrTilesDF[,1:3],file = \"../annotation/chromosome-tiles.bed\",\n",
    "            quote = F,sep = \"\\t\",row.names = F,col.names = F)"
   ]
  }
 ],
 "metadata": {
  "kernelspec": {
   "display_name": "R",
   "language": "R",
   "name": "ir"
  },
  "language_info": {
   "codemirror_mode": "r",
   "file_extension": ".r",
   "mimetype": "text/x-r-source",
   "name": "R",
   "pygments_lexer": "r",
   "version": "4.2.0"
  }
 },
 "nbformat": 4,
 "nbformat_minor": 5
}
